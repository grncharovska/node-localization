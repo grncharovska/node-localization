{
 "cells": [
  {
   "cell_type": "markdown",
   "id": "ab3aa04b",
   "metadata": {},
   "source": [
    "## СЕНЗОРСКИ СИСТЕМИ\n",
    "\n",
    "*Лабораториска вежба бр. 1*\n",
    "\n",
    "### 2Д трилатерација\n",
    "\n",
    "Изработка на програма за локализација на јазли кај безжична сензорска мрежа (во 2Д), со употреба на техниката на трилатерација.\n",
    "\n",
    "Влезни аргументи на програмата:\n",
    "\n",
    "* N - број на јазли во мрежата\n",
    "\n",
    "* L – должина на областа каде е дистрибуирана мрежата\n",
    "\n",
    "* R - радио опсег\n",
    "\n",
    "* r – зашумување на сигналот\n",
    "\n",
    "* f – фракција (процент) на anchor јазли"
   ]
  },
  {
   "cell_type": "code",
   "execution_count": 1,
   "id": "9e33ebd0",
   "metadata": {},
   "outputs": [
    {
     "data": {
      "text/html": [
       "        <script type=\"text/javascript\">\n",
       "        window.PlotlyConfig = {MathJaxConfig: 'local'};\n",
       "        if (window.MathJax) {MathJax.Hub.Config({SVG: {font: \"STIX-Web\"}});}\n",
       "        if (typeof require !== 'undefined') {\n",
       "        require.undef(\"plotly\");\n",
       "        requirejs.config({\n",
       "            paths: {\n",
       "                'plotly': ['https://cdn.plot.ly/plotly-latest.min']\n",
       "            }\n",
       "        });\n",
       "        require(['plotly'], function(Plotly) {\n",
       "            window._Plotly = Plotly;\n",
       "        });\n",
       "        }\n",
       "        </script>\n",
       "        "
      ]
     },
     "metadata": {},
     "output_type": "display_data"
    }
   ],
   "source": [
    "import random\n",
    "import math\n",
    "from math import cos, sin, pi\n",
    "import numpy as np\n",
    "import chart_studio.plotly as py\n",
    "import plotly.graph_objs as go\n",
    "from plotly.offline import download_plotlyjs, init_notebook_mode, plot, iplot\n",
    "init_notebook_mode(connected=True)\n",
    "from matplotlib.pyplot import *\n",
    "import matplotlib.cm as cm\n",
    "import matplotlib.pyplot as plt\n",
    "%matplotlib inline"
   ]
  },
  {
   "cell_type": "markdown",
   "id": "6aceeb77",
   "metadata": {},
   "source": [
    "# Трилатерација\n",
    "\n",
    "*Искористениот код за алгоритмот е преземен од https://github.com/rkcosmos/Location_Trilateration/blob/master/map.ipynb*"
   ]
  },
  {
   "cell_type": "code",
   "execution_count": 2,
   "id": "00a5675d",
   "metadata": {},
   "outputs": [],
   "source": [
    "def distance(p1,p2):\n",
    "    dx = p1[0]-p2[0]\n",
    "    dy = p1[1]-p2[1]\n",
    "    distance = np.sqrt(dx*dx+dy*dy)\n",
    "    return distance\n",
    "\n",
    "def circle_intersection(circle1, circle2):\n",
    "    '''\n",
    "    Find 2 intersection points from 2 circles.\n",
    "    if circles are non overlap, return middle point between 2 perimeters\n",
    "    '''  \n",
    "    x1,y1,r1 = circle1\n",
    "    x2,y2,r2 = circle2\n",
    "    dx,dy = x2-x1,y2-y1\n",
    "    d = np.sqrt(dx*dx+dy*dy)\n",
    "    #d = distance([x1,y1],[x2,y2])\n",
    "    \n",
    "    # non-overlapping circles\n",
    "    if d >= r1+r2:\n",
    "        return (( (d+r1-r2)/(2*d)*(x2-x1)+x1, (d+r1-r2)/(2*d)*(y2-y1)+y1 ),) \n",
    "\n",
    "    # one circle inside another\n",
    "    elif r1 > (d+r2) or r2 > (d+r1):\n",
    "        if dx == 0: angle = pi/2\n",
    "        else: angle = np.arctan(dy/dx)\n",
    "        p11 = [ x1+r1*cos(angle), y1+r1*sin(angle) ]\n",
    "        p12 = [ x1-r1*cos(angle), y1-r1*sin(angle) ]\n",
    "        p21 = [ x2+r2*cos(angle), y2+r2*sin(angle) ]\n",
    "        p22 = [ x2-r2*cos(angle), y2-r2*sin(angle) ]\n",
    "        \n",
    "        point_set = [[p11,p21],[p11,p22],[p12,p21],[p12,p22]]\n",
    "        \n",
    "        dist_set = [distance(item[0],item[1]) for item in point_set]\n",
    "        points = point_set[np.argmin(dist_set)]\n",
    "        points = np.array(points)\n",
    "        points = sum(points)/len(points)\n",
    "\n",
    "        return (points,)\n",
    "    \n",
    "    # overlapping circles\n",
    "    else:\n",
    "        a = (r1*r1-r2*r2+d*d)/(2*d)\n",
    "        h = np.sqrt(r1*r1-a*a)\n",
    "        xm = x1 + a*dx/d\n",
    "        ym = y1 + a*dy/d\n",
    "        xs1 = xm + h*dy/d\n",
    "        xs2 = xm - h*dy/d\n",
    "        ys1 = ym - h*dx/d\n",
    "        ys2 = ym + h*dx/d\n",
    "\n",
    "        return (xs1,ys1),(xs2,ys2)\n",
    "\n",
    "def plot_t(cs):\n",
    "   \n",
    "    cmap = cm.plasma\n",
    "    \n",
    "    fig, ax = plt.subplots() \n",
    "    ax.set(xlim=[-10, 10], ylim=[-10, 10], aspect=1)\n",
    "    \n",
    "    for i,c in enumerate(cs):\n",
    "        ax.add_artist(plt.Circle(c[:2], c[2], color=cmap(i/len(cs)), alpha=0.5))\n",
    "        ax.plot(c[0], c[1], 'or')\n",
    "\n",
    "    return fig, ax\n",
    "\n",
    "def choose_point(points, circle, order):\n",
    "    '''\n",
    "    1. choose point nearest to perimeter of given circle\n",
    "    2. between choosen point and perimeter of circle, calculate location from weight average \n",
    "    \n",
    "    Args:\n",
    "        points: [[x1,y1],[x2,x2],...]\n",
    "        circle: [center_x, center_y, radius]\n",
    "        order = number of circle in this calculation\n",
    "    Returns:\n",
    "        result: [x,y]\n",
    "    ''' \n",
    "    distance = ()\n",
    "    for point in points:\n",
    "        dx = point[0]-circle[0]\n",
    "        dy = point[1]-circle[1]\n",
    "        dist = np.sqrt(dx*dx+dy*dy) - circle[2] \n",
    "        distance = distance + (dist,)\n",
    "    \n",
    "    arg = np.argmin([abs(i) for i in distance])\n",
    "    choosen_point = points[arg]\n",
    "    # ref_point = point on c3 perimeter closest to choosen_point\n",
    "    ref_point = [circle[0]+(choosen_point[0]-circle[0])*circle[2]/(circle[2]+distance[arg]), \n",
    "                 circle[1]+(choosen_point[1]-circle[1])*circle[2]/(circle[2]+distance[arg])]\n",
    "    result = [((order-1)*choosen_point[0]+ref_point[0])/order, ((order-1)*choosen_point[1]+ref_point[1])/order]\n",
    "        \n",
    "    return result\n",
    "\n",
    "\n",
    "def trilateration(c1, c2, c3):\n",
    "    \n",
    "    points = circle_intersection(c1, c2)\n",
    "    result = choose_point(points, c3, 3)\n",
    "    \n",
    "    #fig, ax = plot_t([c1, c2, c3])\n",
    "    #ax.plot(result[0], result[1], \"*\")\n",
    "    return result"
   ]
  },
  {
   "cell_type": "code",
   "execution_count": 3,
   "id": "25bb9ac3",
   "metadata": {},
   "outputs": [
    {
     "data": {
      "application/vnd.plotly.v1+json": {
       "config": {
        "linkText": "Export to plot.ly",
        "plotlyServerURL": "https://plot.ly",
        "showLink": false
       },
       "data": [
        {
         "marker": {
          "color": "red",
          "size": 8
         },
         "mode": "markers",
         "name": "Anchor Nodes",
         "type": "scatter",
         "x": [
          1.1033114001862465,
          53.73515180576008,
          7.956533257134657,
          31.896395302965864,
          62.37807020427357,
          35.40681047286844,
          10.283530280647657,
          68.12308842868515,
          8.965863530448726,
          65.54027748631725,
          51.94104228844344,
          67.12351304760101,
          15.553580711224635,
          52.78878830060717,
          41.3744045051183,
          3.2646591299182237,
          61.12658706356218,
          57.62058781828948,
          10.885863659199558,
          95.15610662188291
         ],
         "y": [
          12.764386105457548,
          53.12400348748757,
          90.70789843181825,
          42.11200670204679,
          56.48900890522205,
          32.502943485358756,
          70.95402682820668,
          81.8998916621817,
          63.52423536388958,
          56.79354879752508,
          12.799844227710667,
          20.54241960150449,
          51.382570196177554,
          19.203697622048622,
          46.71293021292833,
          74.37012749766797,
          61.88800861285975,
          10.08447002302323,
          78.89703396373861,
          72.65073743126342
         ]
        },
        {
         "marker": {
          "color": "blue",
          "size": 5
         },
         "mode": "markers",
         "name": "Other Nodes",
         "type": "scatter",
         "x": [
          96.43794837738594,
          9.517717210769439,
          11.176805406772939,
          60.26577110566493,
          31.952455210876018,
          17.65910167924406,
          66.67465076096761,
          25.803536958280738,
          35.08822141819077,
          56.09308366949776,
          35.91196456819274,
          34.50198152851406,
          21.5881909119085,
          35.29948412464302,
          62.564721600411524,
          44.78654912710856,
          65.5124421843927,
          91.78783905012648,
          22.261414940774927,
          94.0206206660389,
          73.17850540617373,
          65.46683746097503,
          16.113071834833683,
          70.02803443476908,
          9.231001419808937,
          75.89238854700795,
          8.088376883926596,
          25.627214187647198,
          94.07705542501607,
          76.04557522085929,
          52.097220709732724,
          54.05773469711287,
          69.0194696017173,
          30.729279303479363,
          1.337695917696058,
          71.9742418068621,
          34.592605680499375,
          12.356313590683554,
          13.657884365410489,
          34.70585847374132,
          22.000416504989097,
          21.81049082047015,
          60.92635847676631,
          20.505884713437727,
          93.13985002295708,
          81.4596881287695,
          60.204687078255404,
          78.23495477590514,
          31.884750581909106,
          84.5311269451653,
          80.43436692601897,
          18.07448724202665,
          6.788041147175239,
          39.05470410474082,
          0.9130746811926826,
          32.6869681264944,
          24.170502313368292,
          78.78240161142085,
          5.1681875733570415,
          67.31028355521386,
          65.4281388561508,
          58.95243047182771,
          79.6826199954019,
          5.464500816061468,
          30.23898513762746,
          12.23051171154561,
          47.36304399974271,
          34.97263212500612,
          27.93291143831187,
          11.023359387031373,
          80.48395815608924,
          88.93791591121139,
          90.48942579881918,
          57.208272435341,
          97.22194676304771,
          1.8761699741689286,
          40.310805326490026,
          19.816279396445445,
          93.3804619334093
         ],
         "y": [
          66.59835517820845,
          91.42210919743201,
          3.2159170216683686,
          97.78476239396983,
          9.080510072952775,
          43.79013075691842,
          42.52478295092283,
          37.00213654857476,
          64.16927631115003,
          81.41925725179452,
          49.7465007099434,
          68.3181809786862,
          13.564135531720378,
          2.124956647784093,
          7.995880661127797,
          77.46064314952872,
          65.01450139481912,
          64.253641603972,
          78.90447885594985,
          16.96254731344685,
          40.50371238536381,
          79.9949331548928,
          8.67744134294357,
          62.41383398103238,
          78.73678347010153,
          23.088460718947402,
          34.73576554465565,
          82.67433897055686,
          66.06814487389565,
          25.8553685778787,
          38.235549088870435,
          77.98467115921733,
          42.360772384137,
          8.246282367375057,
          10.08620113152735,
          74.0325397093963,
          22.65861985630884,
          97.76961342368939,
          30.681563492166298,
          34.51430714616528,
          50.989299221773834,
          25.97963612301487,
          67.93249463069164,
          83.79343055629818,
          85.92686357712279,
          96.51544503258702,
          1.12471927377632,
          17.120471714813878,
          54.16704055133319,
          38.95650045113916,
          95.36913937211415,
          20.100539959374753,
          64.67549892374454,
          21.48500013874073,
          77.11691783829485,
          60.4003683609994,
          57.29577889236977,
          29.25479947077051,
          84.64062433112363,
          48.632420597983504,
          65.51790931201398,
          25.68820202147557,
          61.626955061128186,
          52.33458975286604,
          79.53650973952819,
          98.27761520597407,
          15.54504426398725,
          24.849516234704584,
          56.3069590066293,
          64.44092914109432,
          73.72736661516569,
          80.26250188161033,
          75.07769005527103,
          75.25658895307376,
          79.03558173254929,
          72.7197454666149,
          45.498036128748744,
          2.171303655684076,
          57.098185052686205
         ]
        }
       ],
       "layout": {
        "template": {
         "data": {
          "bar": [
           {
            "error_x": {
             "color": "#2a3f5f"
            },
            "error_y": {
             "color": "#2a3f5f"
            },
            "marker": {
             "line": {
              "color": "#E5ECF6",
              "width": 0.5
             }
            },
            "type": "bar"
           }
          ],
          "barpolar": [
           {
            "marker": {
             "line": {
              "color": "#E5ECF6",
              "width": 0.5
             }
            },
            "type": "barpolar"
           }
          ],
          "carpet": [
           {
            "aaxis": {
             "endlinecolor": "#2a3f5f",
             "gridcolor": "white",
             "linecolor": "white",
             "minorgridcolor": "white",
             "startlinecolor": "#2a3f5f"
            },
            "baxis": {
             "endlinecolor": "#2a3f5f",
             "gridcolor": "white",
             "linecolor": "white",
             "minorgridcolor": "white",
             "startlinecolor": "#2a3f5f"
            },
            "type": "carpet"
           }
          ],
          "choropleth": [
           {
            "colorbar": {
             "outlinewidth": 0,
             "ticks": ""
            },
            "type": "choropleth"
           }
          ],
          "contour": [
           {
            "colorbar": {
             "outlinewidth": 0,
             "ticks": ""
            },
            "colorscale": [
             [
              0,
              "#0d0887"
             ],
             [
              0.1111111111111111,
              "#46039f"
             ],
             [
              0.2222222222222222,
              "#7201a8"
             ],
             [
              0.3333333333333333,
              "#9c179e"
             ],
             [
              0.4444444444444444,
              "#bd3786"
             ],
             [
              0.5555555555555556,
              "#d8576b"
             ],
             [
              0.6666666666666666,
              "#ed7953"
             ],
             [
              0.7777777777777778,
              "#fb9f3a"
             ],
             [
              0.8888888888888888,
              "#fdca26"
             ],
             [
              1,
              "#f0f921"
             ]
            ],
            "type": "contour"
           }
          ],
          "contourcarpet": [
           {
            "colorbar": {
             "outlinewidth": 0,
             "ticks": ""
            },
            "type": "contourcarpet"
           }
          ],
          "heatmap": [
           {
            "colorbar": {
             "outlinewidth": 0,
             "ticks": ""
            },
            "colorscale": [
             [
              0,
              "#0d0887"
             ],
             [
              0.1111111111111111,
              "#46039f"
             ],
             [
              0.2222222222222222,
              "#7201a8"
             ],
             [
              0.3333333333333333,
              "#9c179e"
             ],
             [
              0.4444444444444444,
              "#bd3786"
             ],
             [
              0.5555555555555556,
              "#d8576b"
             ],
             [
              0.6666666666666666,
              "#ed7953"
             ],
             [
              0.7777777777777778,
              "#fb9f3a"
             ],
             [
              0.8888888888888888,
              "#fdca26"
             ],
             [
              1,
              "#f0f921"
             ]
            ],
            "type": "heatmap"
           }
          ],
          "heatmapgl": [
           {
            "colorbar": {
             "outlinewidth": 0,
             "ticks": ""
            },
            "colorscale": [
             [
              0,
              "#0d0887"
             ],
             [
              0.1111111111111111,
              "#46039f"
             ],
             [
              0.2222222222222222,
              "#7201a8"
             ],
             [
              0.3333333333333333,
              "#9c179e"
             ],
             [
              0.4444444444444444,
              "#bd3786"
             ],
             [
              0.5555555555555556,
              "#d8576b"
             ],
             [
              0.6666666666666666,
              "#ed7953"
             ],
             [
              0.7777777777777778,
              "#fb9f3a"
             ],
             [
              0.8888888888888888,
              "#fdca26"
             ],
             [
              1,
              "#f0f921"
             ]
            ],
            "type": "heatmapgl"
           }
          ],
          "histogram": [
           {
            "marker": {
             "colorbar": {
              "outlinewidth": 0,
              "ticks": ""
             }
            },
            "type": "histogram"
           }
          ],
          "histogram2d": [
           {
            "colorbar": {
             "outlinewidth": 0,
             "ticks": ""
            },
            "colorscale": [
             [
              0,
              "#0d0887"
             ],
             [
              0.1111111111111111,
              "#46039f"
             ],
             [
              0.2222222222222222,
              "#7201a8"
             ],
             [
              0.3333333333333333,
              "#9c179e"
             ],
             [
              0.4444444444444444,
              "#bd3786"
             ],
             [
              0.5555555555555556,
              "#d8576b"
             ],
             [
              0.6666666666666666,
              "#ed7953"
             ],
             [
              0.7777777777777778,
              "#fb9f3a"
             ],
             [
              0.8888888888888888,
              "#fdca26"
             ],
             [
              1,
              "#f0f921"
             ]
            ],
            "type": "histogram2d"
           }
          ],
          "histogram2dcontour": [
           {
            "colorbar": {
             "outlinewidth": 0,
             "ticks": ""
            },
            "colorscale": [
             [
              0,
              "#0d0887"
             ],
             [
              0.1111111111111111,
              "#46039f"
             ],
             [
              0.2222222222222222,
              "#7201a8"
             ],
             [
              0.3333333333333333,
              "#9c179e"
             ],
             [
              0.4444444444444444,
              "#bd3786"
             ],
             [
              0.5555555555555556,
              "#d8576b"
             ],
             [
              0.6666666666666666,
              "#ed7953"
             ],
             [
              0.7777777777777778,
              "#fb9f3a"
             ],
             [
              0.8888888888888888,
              "#fdca26"
             ],
             [
              1,
              "#f0f921"
             ]
            ],
            "type": "histogram2dcontour"
           }
          ],
          "mesh3d": [
           {
            "colorbar": {
             "outlinewidth": 0,
             "ticks": ""
            },
            "type": "mesh3d"
           }
          ],
          "parcoords": [
           {
            "line": {
             "colorbar": {
              "outlinewidth": 0,
              "ticks": ""
             }
            },
            "type": "parcoords"
           }
          ],
          "pie": [
           {
            "automargin": true,
            "type": "pie"
           }
          ],
          "scatter": [
           {
            "marker": {
             "colorbar": {
              "outlinewidth": 0,
              "ticks": ""
             }
            },
            "type": "scatter"
           }
          ],
          "scatter3d": [
           {
            "line": {
             "colorbar": {
              "outlinewidth": 0,
              "ticks": ""
             }
            },
            "marker": {
             "colorbar": {
              "outlinewidth": 0,
              "ticks": ""
             }
            },
            "type": "scatter3d"
           }
          ],
          "scattercarpet": [
           {
            "marker": {
             "colorbar": {
              "outlinewidth": 0,
              "ticks": ""
             }
            },
            "type": "scattercarpet"
           }
          ],
          "scattergeo": [
           {
            "marker": {
             "colorbar": {
              "outlinewidth": 0,
              "ticks": ""
             }
            },
            "type": "scattergeo"
           }
          ],
          "scattergl": [
           {
            "marker": {
             "colorbar": {
              "outlinewidth": 0,
              "ticks": ""
             }
            },
            "type": "scattergl"
           }
          ],
          "scattermapbox": [
           {
            "marker": {
             "colorbar": {
              "outlinewidth": 0,
              "ticks": ""
             }
            },
            "type": "scattermapbox"
           }
          ],
          "scatterpolar": [
           {
            "marker": {
             "colorbar": {
              "outlinewidth": 0,
              "ticks": ""
             }
            },
            "type": "scatterpolar"
           }
          ],
          "scatterpolargl": [
           {
            "marker": {
             "colorbar": {
              "outlinewidth": 0,
              "ticks": ""
             }
            },
            "type": "scatterpolargl"
           }
          ],
          "scatterternary": [
           {
            "marker": {
             "colorbar": {
              "outlinewidth": 0,
              "ticks": ""
             }
            },
            "type": "scatterternary"
           }
          ],
          "surface": [
           {
            "colorbar": {
             "outlinewidth": 0,
             "ticks": ""
            },
            "colorscale": [
             [
              0,
              "#0d0887"
             ],
             [
              0.1111111111111111,
              "#46039f"
             ],
             [
              0.2222222222222222,
              "#7201a8"
             ],
             [
              0.3333333333333333,
              "#9c179e"
             ],
             [
              0.4444444444444444,
              "#bd3786"
             ],
             [
              0.5555555555555556,
              "#d8576b"
             ],
             [
              0.6666666666666666,
              "#ed7953"
             ],
             [
              0.7777777777777778,
              "#fb9f3a"
             ],
             [
              0.8888888888888888,
              "#fdca26"
             ],
             [
              1,
              "#f0f921"
             ]
            ],
            "type": "surface"
           }
          ],
          "table": [
           {
            "cells": {
             "fill": {
              "color": "#EBF0F8"
             },
             "line": {
              "color": "white"
             }
            },
            "header": {
             "fill": {
              "color": "#C8D4E3"
             },
             "line": {
              "color": "white"
             }
            },
            "type": "table"
           }
          ]
         },
         "layout": {
          "annotationdefaults": {
           "arrowcolor": "#2a3f5f",
           "arrowhead": 0,
           "arrowwidth": 1
          },
          "autotypenumbers": "strict",
          "coloraxis": {
           "colorbar": {
            "outlinewidth": 0,
            "ticks": ""
           }
          },
          "colorscale": {
           "diverging": [
            [
             0,
             "#8e0152"
            ],
            [
             0.1,
             "#c51b7d"
            ],
            [
             0.2,
             "#de77ae"
            ],
            [
             0.3,
             "#f1b6da"
            ],
            [
             0.4,
             "#fde0ef"
            ],
            [
             0.5,
             "#f7f7f7"
            ],
            [
             0.6,
             "#e6f5d0"
            ],
            [
             0.7,
             "#b8e186"
            ],
            [
             0.8,
             "#7fbc41"
            ],
            [
             0.9,
             "#4d9221"
            ],
            [
             1,
             "#276419"
            ]
           ],
           "sequential": [
            [
             0,
             "#0d0887"
            ],
            [
             0.1111111111111111,
             "#46039f"
            ],
            [
             0.2222222222222222,
             "#7201a8"
            ],
            [
             0.3333333333333333,
             "#9c179e"
            ],
            [
             0.4444444444444444,
             "#bd3786"
            ],
            [
             0.5555555555555556,
             "#d8576b"
            ],
            [
             0.6666666666666666,
             "#ed7953"
            ],
            [
             0.7777777777777778,
             "#fb9f3a"
            ],
            [
             0.8888888888888888,
             "#fdca26"
            ],
            [
             1,
             "#f0f921"
            ]
           ],
           "sequentialminus": [
            [
             0,
             "#0d0887"
            ],
            [
             0.1111111111111111,
             "#46039f"
            ],
            [
             0.2222222222222222,
             "#7201a8"
            ],
            [
             0.3333333333333333,
             "#9c179e"
            ],
            [
             0.4444444444444444,
             "#bd3786"
            ],
            [
             0.5555555555555556,
             "#d8576b"
            ],
            [
             0.6666666666666666,
             "#ed7953"
            ],
            [
             0.7777777777777778,
             "#fb9f3a"
            ],
            [
             0.8888888888888888,
             "#fdca26"
            ],
            [
             1,
             "#f0f921"
            ]
           ]
          },
          "colorway": [
           "#636efa",
           "#EF553B",
           "#00cc96",
           "#ab63fa",
           "#FFA15A",
           "#19d3f3",
           "#FF6692",
           "#B6E880",
           "#FF97FF",
           "#FECB52"
          ],
          "font": {
           "color": "#2a3f5f"
          },
          "geo": {
           "bgcolor": "white",
           "lakecolor": "white",
           "landcolor": "#E5ECF6",
           "showlakes": true,
           "showland": true,
           "subunitcolor": "white"
          },
          "hoverlabel": {
           "align": "left"
          },
          "hovermode": "closest",
          "mapbox": {
           "style": "light"
          },
          "paper_bgcolor": "white",
          "plot_bgcolor": "#E5ECF6",
          "polar": {
           "angularaxis": {
            "gridcolor": "white",
            "linecolor": "white",
            "ticks": ""
           },
           "bgcolor": "#E5ECF6",
           "radialaxis": {
            "gridcolor": "white",
            "linecolor": "white",
            "ticks": ""
           }
          },
          "scene": {
           "xaxis": {
            "backgroundcolor": "#E5ECF6",
            "gridcolor": "white",
            "gridwidth": 2,
            "linecolor": "white",
            "showbackground": true,
            "ticks": "",
            "zerolinecolor": "white"
           },
           "yaxis": {
            "backgroundcolor": "#E5ECF6",
            "gridcolor": "white",
            "gridwidth": 2,
            "linecolor": "white",
            "showbackground": true,
            "ticks": "",
            "zerolinecolor": "white"
           },
           "zaxis": {
            "backgroundcolor": "#E5ECF6",
            "gridcolor": "white",
            "gridwidth": 2,
            "linecolor": "white",
            "showbackground": true,
            "ticks": "",
            "zerolinecolor": "white"
           }
          },
          "shapedefaults": {
           "line": {
            "color": "#2a3f5f"
           }
          },
          "ternary": {
           "aaxis": {
            "gridcolor": "white",
            "linecolor": "white",
            "ticks": ""
           },
           "baxis": {
            "gridcolor": "white",
            "linecolor": "white",
            "ticks": ""
           },
           "bgcolor": "#E5ECF6",
           "caxis": {
            "gridcolor": "white",
            "linecolor": "white",
            "ticks": ""
           }
          },
          "title": {
           "x": 0.05
          },
          "xaxis": {
           "automargin": true,
           "gridcolor": "white",
           "linecolor": "white",
           "ticks": "",
           "title": {
            "standoff": 15
           },
           "zerolinecolor": "white",
           "zerolinewidth": 2
          },
          "yaxis": {
           "automargin": true,
           "gridcolor": "white",
           "linecolor": "white",
           "ticks": "",
           "title": {
            "standoff": 15
           },
           "zerolinecolor": "white",
           "zerolinewidth": 2
          }
         }
        }
       }
      },
      "text/html": [
       "<div>                            <div id=\"e16a5ee9-d684-4e74-be8a-11b62592f7cb\" class=\"plotly-graph-div\" style=\"height:525px; width:100%;\"></div>            <script type=\"text/javascript\">                require([\"plotly\"], function(Plotly) {                    window.PLOTLYENV=window.PLOTLYENV || {};                                    if (document.getElementById(\"e16a5ee9-d684-4e74-be8a-11b62592f7cb\")) {                    Plotly.newPlot(                        \"e16a5ee9-d684-4e74-be8a-11b62592f7cb\",                        [{\"marker\": {\"color\": \"red\", \"size\": 8}, \"mode\": \"markers\", \"name\": \"Anchor Nodes\", \"type\": \"scatter\", \"x\": [1.1033114001862465, 53.73515180576008, 7.956533257134657, 31.896395302965864, 62.37807020427357, 35.40681047286844, 10.283530280647657, 68.12308842868515, 8.965863530448726, 65.54027748631725, 51.94104228844344, 67.12351304760101, 15.553580711224635, 52.78878830060717, 41.3744045051183, 3.2646591299182237, 61.12658706356218, 57.62058781828948, 10.885863659199558, 95.15610662188291], \"y\": [12.764386105457548, 53.12400348748757, 90.70789843181825, 42.11200670204679, 56.48900890522205, 32.502943485358756, 70.95402682820668, 81.8998916621817, 63.52423536388958, 56.79354879752508, 12.799844227710667, 20.54241960150449, 51.382570196177554, 19.203697622048622, 46.71293021292833, 74.37012749766797, 61.88800861285975, 10.08447002302323, 78.89703396373861, 72.65073743126342]}, {\"marker\": {\"color\": \"blue\", \"size\": 5}, \"mode\": \"markers\", \"name\": \"Other Nodes\", \"type\": \"scatter\", \"x\": [96.43794837738594, 9.517717210769439, 11.176805406772939, 60.26577110566493, 31.952455210876018, 17.65910167924406, 66.67465076096761, 25.803536958280738, 35.08822141819077, 56.09308366949776, 35.91196456819274, 34.50198152851406, 21.5881909119085, 35.29948412464302, 62.564721600411524, 44.78654912710856, 65.5124421843927, 91.78783905012648, 22.261414940774927, 94.0206206660389, 73.17850540617373, 65.46683746097503, 16.113071834833683, 70.02803443476908, 9.231001419808937, 75.89238854700795, 8.088376883926596, 25.627214187647198, 94.07705542501607, 76.04557522085929, 52.097220709732724, 54.05773469711287, 69.0194696017173, 30.729279303479363, 1.337695917696058, 71.9742418068621, 34.592605680499375, 12.356313590683554, 13.657884365410489, 34.70585847374132, 22.000416504989097, 21.81049082047015, 60.92635847676631, 20.505884713437727, 93.13985002295708, 81.4596881287695, 60.204687078255404, 78.23495477590514, 31.884750581909106, 84.5311269451653, 80.43436692601897, 18.07448724202665, 6.788041147175239, 39.05470410474082, 0.9130746811926826, 32.6869681264944, 24.170502313368292, 78.78240161142085, 5.1681875733570415, 67.31028355521386, 65.4281388561508, 58.95243047182771, 79.6826199954019, 5.464500816061468, 30.23898513762746, 12.23051171154561, 47.36304399974271, 34.97263212500612, 27.93291143831187, 11.023359387031373, 80.48395815608924, 88.93791591121139, 90.48942579881918, 57.208272435341, 97.22194676304771, 1.8761699741689286, 40.310805326490026, 19.816279396445445, 93.3804619334093], \"y\": [66.59835517820845, 91.42210919743201, 3.2159170216683686, 97.78476239396983, 9.080510072952775, 43.79013075691842, 42.52478295092283, 37.00213654857476, 64.16927631115003, 81.41925725179452, 49.7465007099434, 68.3181809786862, 13.564135531720378, 2.124956647784093, 7.995880661127797, 77.46064314952872, 65.01450139481912, 64.253641603972, 78.90447885594985, 16.96254731344685, 40.50371238536381, 79.9949331548928, 8.67744134294357, 62.41383398103238, 78.73678347010153, 23.088460718947402, 34.73576554465565, 82.67433897055686, 66.06814487389565, 25.8553685778787, 38.235549088870435, 77.98467115921733, 42.360772384137, 8.246282367375057, 10.08620113152735, 74.0325397093963, 22.65861985630884, 97.76961342368939, 30.681563492166298, 34.51430714616528, 50.989299221773834, 25.97963612301487, 67.93249463069164, 83.79343055629818, 85.92686357712279, 96.51544503258702, 1.12471927377632, 17.120471714813878, 54.16704055133319, 38.95650045113916, 95.36913937211415, 20.100539959374753, 64.67549892374454, 21.48500013874073, 77.11691783829485, 60.4003683609994, 57.29577889236977, 29.25479947077051, 84.64062433112363, 48.632420597983504, 65.51790931201398, 25.68820202147557, 61.626955061128186, 52.33458975286604, 79.53650973952819, 98.27761520597407, 15.54504426398725, 24.849516234704584, 56.3069590066293, 64.44092914109432, 73.72736661516569, 80.26250188161033, 75.07769005527103, 75.25658895307376, 79.03558173254929, 72.7197454666149, 45.498036128748744, 2.171303655684076, 57.098185052686205]}],                        {\"template\": {\"data\": {\"bar\": [{\"error_x\": {\"color\": \"#2a3f5f\"}, \"error_y\": {\"color\": \"#2a3f5f\"}, \"marker\": {\"line\": {\"color\": \"#E5ECF6\", \"width\": 0.5}}, \"type\": \"bar\"}], \"barpolar\": [{\"marker\": {\"line\": {\"color\": \"#E5ECF6\", \"width\": 0.5}}, \"type\": \"barpolar\"}], \"carpet\": [{\"aaxis\": {\"endlinecolor\": \"#2a3f5f\", \"gridcolor\": \"white\", \"linecolor\": \"white\", \"minorgridcolor\": \"white\", \"startlinecolor\": \"#2a3f5f\"}, \"baxis\": {\"endlinecolor\": \"#2a3f5f\", \"gridcolor\": \"white\", \"linecolor\": \"white\", \"minorgridcolor\": \"white\", \"startlinecolor\": \"#2a3f5f\"}, \"type\": \"carpet\"}], \"choropleth\": [{\"colorbar\": {\"outlinewidth\": 0, \"ticks\": \"\"}, \"type\": \"choropleth\"}], \"contour\": [{\"colorbar\": {\"outlinewidth\": 0, \"ticks\": \"\"}, \"colorscale\": [[0.0, \"#0d0887\"], [0.1111111111111111, \"#46039f\"], [0.2222222222222222, \"#7201a8\"], [0.3333333333333333, \"#9c179e\"], [0.4444444444444444, \"#bd3786\"], [0.5555555555555556, \"#d8576b\"], [0.6666666666666666, \"#ed7953\"], [0.7777777777777778, \"#fb9f3a\"], [0.8888888888888888, \"#fdca26\"], [1.0, \"#f0f921\"]], \"type\": \"contour\"}], \"contourcarpet\": [{\"colorbar\": {\"outlinewidth\": 0, \"ticks\": \"\"}, \"type\": \"contourcarpet\"}], \"heatmap\": [{\"colorbar\": {\"outlinewidth\": 0, \"ticks\": \"\"}, \"colorscale\": [[0.0, \"#0d0887\"], [0.1111111111111111, \"#46039f\"], [0.2222222222222222, \"#7201a8\"], [0.3333333333333333, \"#9c179e\"], [0.4444444444444444, \"#bd3786\"], [0.5555555555555556, \"#d8576b\"], [0.6666666666666666, \"#ed7953\"], [0.7777777777777778, \"#fb9f3a\"], [0.8888888888888888, \"#fdca26\"], [1.0, \"#f0f921\"]], \"type\": \"heatmap\"}], \"heatmapgl\": [{\"colorbar\": {\"outlinewidth\": 0, \"ticks\": \"\"}, \"colorscale\": [[0.0, \"#0d0887\"], [0.1111111111111111, \"#46039f\"], [0.2222222222222222, \"#7201a8\"], [0.3333333333333333, \"#9c179e\"], [0.4444444444444444, \"#bd3786\"], [0.5555555555555556, \"#d8576b\"], [0.6666666666666666, \"#ed7953\"], [0.7777777777777778, \"#fb9f3a\"], [0.8888888888888888, \"#fdca26\"], [1.0, \"#f0f921\"]], \"type\": \"heatmapgl\"}], \"histogram\": [{\"marker\": {\"colorbar\": {\"outlinewidth\": 0, \"ticks\": \"\"}}, \"type\": \"histogram\"}], \"histogram2d\": [{\"colorbar\": {\"outlinewidth\": 0, \"ticks\": \"\"}, \"colorscale\": [[0.0, \"#0d0887\"], [0.1111111111111111, \"#46039f\"], [0.2222222222222222, \"#7201a8\"], [0.3333333333333333, \"#9c179e\"], [0.4444444444444444, \"#bd3786\"], [0.5555555555555556, \"#d8576b\"], [0.6666666666666666, \"#ed7953\"], [0.7777777777777778, \"#fb9f3a\"], [0.8888888888888888, \"#fdca26\"], [1.0, \"#f0f921\"]], \"type\": \"histogram2d\"}], \"histogram2dcontour\": [{\"colorbar\": {\"outlinewidth\": 0, \"ticks\": \"\"}, \"colorscale\": [[0.0, \"#0d0887\"], [0.1111111111111111, \"#46039f\"], [0.2222222222222222, \"#7201a8\"], [0.3333333333333333, \"#9c179e\"], [0.4444444444444444, \"#bd3786\"], [0.5555555555555556, \"#d8576b\"], [0.6666666666666666, \"#ed7953\"], [0.7777777777777778, \"#fb9f3a\"], [0.8888888888888888, \"#fdca26\"], [1.0, \"#f0f921\"]], \"type\": \"histogram2dcontour\"}], \"mesh3d\": [{\"colorbar\": {\"outlinewidth\": 0, \"ticks\": \"\"}, \"type\": \"mesh3d\"}], \"parcoords\": [{\"line\": {\"colorbar\": {\"outlinewidth\": 0, \"ticks\": \"\"}}, \"type\": \"parcoords\"}], \"pie\": [{\"automargin\": true, \"type\": \"pie\"}], \"scatter\": [{\"marker\": {\"colorbar\": {\"outlinewidth\": 0, \"ticks\": \"\"}}, \"type\": \"scatter\"}], \"scatter3d\": [{\"line\": {\"colorbar\": {\"outlinewidth\": 0, \"ticks\": \"\"}}, \"marker\": {\"colorbar\": {\"outlinewidth\": 0, \"ticks\": \"\"}}, \"type\": \"scatter3d\"}], \"scattercarpet\": [{\"marker\": {\"colorbar\": {\"outlinewidth\": 0, \"ticks\": \"\"}}, \"type\": \"scattercarpet\"}], \"scattergeo\": [{\"marker\": {\"colorbar\": {\"outlinewidth\": 0, \"ticks\": \"\"}}, \"type\": \"scattergeo\"}], \"scattergl\": [{\"marker\": {\"colorbar\": {\"outlinewidth\": 0, \"ticks\": \"\"}}, \"type\": \"scattergl\"}], \"scattermapbox\": [{\"marker\": {\"colorbar\": {\"outlinewidth\": 0, \"ticks\": \"\"}}, \"type\": \"scattermapbox\"}], \"scatterpolar\": [{\"marker\": {\"colorbar\": {\"outlinewidth\": 0, \"ticks\": \"\"}}, \"type\": \"scatterpolar\"}], \"scatterpolargl\": [{\"marker\": {\"colorbar\": {\"outlinewidth\": 0, \"ticks\": \"\"}}, \"type\": \"scatterpolargl\"}], \"scatterternary\": [{\"marker\": {\"colorbar\": {\"outlinewidth\": 0, \"ticks\": \"\"}}, \"type\": \"scatterternary\"}], \"surface\": [{\"colorbar\": {\"outlinewidth\": 0, \"ticks\": \"\"}, \"colorscale\": [[0.0, \"#0d0887\"], [0.1111111111111111, \"#46039f\"], [0.2222222222222222, \"#7201a8\"], [0.3333333333333333, \"#9c179e\"], [0.4444444444444444, \"#bd3786\"], [0.5555555555555556, \"#d8576b\"], [0.6666666666666666, \"#ed7953\"], [0.7777777777777778, \"#fb9f3a\"], [0.8888888888888888, \"#fdca26\"], [1.0, \"#f0f921\"]], \"type\": \"surface\"}], \"table\": [{\"cells\": {\"fill\": {\"color\": \"#EBF0F8\"}, \"line\": {\"color\": \"white\"}}, \"header\": {\"fill\": {\"color\": \"#C8D4E3\"}, \"line\": {\"color\": \"white\"}}, \"type\": \"table\"}]}, \"layout\": {\"annotationdefaults\": {\"arrowcolor\": \"#2a3f5f\", \"arrowhead\": 0, \"arrowwidth\": 1}, \"autotypenumbers\": \"strict\", \"coloraxis\": {\"colorbar\": {\"outlinewidth\": 0, \"ticks\": \"\"}}, \"colorscale\": {\"diverging\": [[0, \"#8e0152\"], [0.1, \"#c51b7d\"], [0.2, \"#de77ae\"], [0.3, \"#f1b6da\"], [0.4, \"#fde0ef\"], [0.5, \"#f7f7f7\"], [0.6, \"#e6f5d0\"], [0.7, \"#b8e186\"], [0.8, \"#7fbc41\"], [0.9, \"#4d9221\"], [1, \"#276419\"]], \"sequential\": [[0.0, \"#0d0887\"], [0.1111111111111111, \"#46039f\"], [0.2222222222222222, \"#7201a8\"], [0.3333333333333333, \"#9c179e\"], [0.4444444444444444, \"#bd3786\"], [0.5555555555555556, \"#d8576b\"], [0.6666666666666666, \"#ed7953\"], [0.7777777777777778, \"#fb9f3a\"], [0.8888888888888888, \"#fdca26\"], [1.0, \"#f0f921\"]], \"sequentialminus\": [[0.0, \"#0d0887\"], [0.1111111111111111, \"#46039f\"], [0.2222222222222222, \"#7201a8\"], [0.3333333333333333, \"#9c179e\"], [0.4444444444444444, \"#bd3786\"], [0.5555555555555556, \"#d8576b\"], [0.6666666666666666, \"#ed7953\"], [0.7777777777777778, \"#fb9f3a\"], [0.8888888888888888, \"#fdca26\"], [1.0, \"#f0f921\"]]}, \"colorway\": [\"#636efa\", \"#EF553B\", \"#00cc96\", \"#ab63fa\", \"#FFA15A\", \"#19d3f3\", \"#FF6692\", \"#B6E880\", \"#FF97FF\", \"#FECB52\"], \"font\": {\"color\": \"#2a3f5f\"}, \"geo\": {\"bgcolor\": \"white\", \"lakecolor\": \"white\", \"landcolor\": \"#E5ECF6\", \"showlakes\": true, \"showland\": true, \"subunitcolor\": \"white\"}, \"hoverlabel\": {\"align\": \"left\"}, \"hovermode\": \"closest\", \"mapbox\": {\"style\": \"light\"}, \"paper_bgcolor\": \"white\", \"plot_bgcolor\": \"#E5ECF6\", \"polar\": {\"angularaxis\": {\"gridcolor\": \"white\", \"linecolor\": \"white\", \"ticks\": \"\"}, \"bgcolor\": \"#E5ECF6\", \"radialaxis\": {\"gridcolor\": \"white\", \"linecolor\": \"white\", \"ticks\": \"\"}}, \"scene\": {\"xaxis\": {\"backgroundcolor\": \"#E5ECF6\", \"gridcolor\": \"white\", \"gridwidth\": 2, \"linecolor\": \"white\", \"showbackground\": true, \"ticks\": \"\", \"zerolinecolor\": \"white\"}, \"yaxis\": {\"backgroundcolor\": \"#E5ECF6\", \"gridcolor\": \"white\", \"gridwidth\": 2, \"linecolor\": \"white\", \"showbackground\": true, \"ticks\": \"\", \"zerolinecolor\": \"white\"}, \"zaxis\": {\"backgroundcolor\": \"#E5ECF6\", \"gridcolor\": \"white\", \"gridwidth\": 2, \"linecolor\": \"white\", \"showbackground\": true, \"ticks\": \"\", \"zerolinecolor\": \"white\"}}, \"shapedefaults\": {\"line\": {\"color\": \"#2a3f5f\"}}, \"ternary\": {\"aaxis\": {\"gridcolor\": \"white\", \"linecolor\": \"white\", \"ticks\": \"\"}, \"baxis\": {\"gridcolor\": \"white\", \"linecolor\": \"white\", \"ticks\": \"\"}, \"bgcolor\": \"#E5ECF6\", \"caxis\": {\"gridcolor\": \"white\", \"linecolor\": \"white\", \"ticks\": \"\"}}, \"title\": {\"x\": 0.05}, \"xaxis\": {\"automargin\": true, \"gridcolor\": \"white\", \"linecolor\": \"white\", \"ticks\": \"\", \"title\": {\"standoff\": 15}, \"zerolinecolor\": \"white\", \"zerolinewidth\": 2}, \"yaxis\": {\"automargin\": true, \"gridcolor\": \"white\", \"linecolor\": \"white\", \"ticks\": \"\", \"title\": {\"standoff\": 15}, \"zerolinecolor\": \"white\", \"zerolinewidth\": 2}}}},                        {\"responsive\": true}                    ).then(function(){\n",
       "                            \n",
       "var gd = document.getElementById('e16a5ee9-d684-4e74-be8a-11b62592f7cb');\n",
       "var x = new MutationObserver(function (mutations, observer) {{\n",
       "        var display = window.getComputedStyle(gd).display;\n",
       "        if (!display || display === 'none') {{\n",
       "            console.log([gd, 'removed!']);\n",
       "            Plotly.purge(gd);\n",
       "            observer.disconnect();\n",
       "        }}\n",
       "}});\n",
       "\n",
       "// Listen for the removal of the full notebook cells\n",
       "var notebookContainer = gd.closest('#notebook-container');\n",
       "if (notebookContainer) {{\n",
       "    x.observe(notebookContainer, {childList: true});\n",
       "}}\n",
       "\n",
       "// Listen for the clearing of the current output cell\n",
       "var outputEl = gd.closest('.output');\n",
       "if (outputEl) {{\n",
       "    x.observe(outputEl, {childList: true});\n",
       "}}\n",
       "\n",
       "                        })                };                });            </script>        </div>"
      ]
     },
     "metadata": {},
     "output_type": "display_data"
    }
   ],
   "source": [
    "class Node:\n",
    "    \"\"\"\n",
    "        \n",
    "    \"\"\"\n",
    "\n",
    "    def __init__(self):\n",
    "        self.id = None\n",
    "        self.x_coord = None\n",
    "        self.y_coord = None\n",
    "        self.isAnchor = 0\n",
    "        self.unreliability = math.inf\n",
    "        self.x_estimated = None\n",
    "        self.y_estimated = None\n",
    "        self.neighbours = []\n",
    "        self.distances = []\n",
    "        self.estimated = False\n",
    "\n",
    "    def euclideanDistance(self, node):\n",
    "        x1 = self.x_coord\n",
    "        y1 = self.y_coord\n",
    "        x2 = node.x_coord\n",
    "        y2 = node.y_coord\n",
    "        result = math.sqrt(math.pow(x2 - x1, 2) + math.pow(y2 - y1, 2))\n",
    "        return result\n",
    "    \n",
    "    def minUnreliability(self, node):\n",
    "        if self.unreliability <= node.unreliability:\n",
    "            return -1\n",
    "        else:\n",
    "            return 0\n",
    "\n",
    "    def getAnchorNeighbours(self):\n",
    "        anchors = []\n",
    "        for neighbour in self.neighbours:\n",
    "            if neighbour.isAnchor > 0:\n",
    "                anchors.append(neighbour)\n",
    "        return anchors\n",
    "    \n",
    "    def getErrorOfEstimation(self):\n",
    "        x_diff = math.pow(self.x_estimated - self.x_coord, 2)\n",
    "        y_diff = math.pow(self.y_estimated - self.y_coord, 2)\n",
    "        error = math.sqrt( x_diff + y_diff)\n",
    "        return error\n",
    "\n",
    "    def estimateLocation(self, cycles, heuristic=1, r=10):\n",
    "        if self.estimated == True:\n",
    "            return False\n",
    "        if heuristic == 1:\n",
    "            #print(\"Heuristic 1\")\n",
    "            return self.estimateLocation1(cycles, r)\n",
    "        elif heuristic == 2:\n",
    "            #print(\"Heuristic 2\")\n",
    "            return self.estimateLocation2(cycles, r)\n",
    "        else:\n",
    "            pass\n",
    "            \n",
    "    def __str__(self):\n",
    "        return \"id = \" + str(self.id) + \"\\n\" + \\\n",
    "               \"\\tx = \" + str(self.x_coord) + \", y = \" + str(self.y_coord) + \"\\n\" + \\\n",
    "               \"\\tisAnchor = \" + str(self.isAnchor) + \"\\n\" + \\\n",
    "               \"\\tunreliability = \" + str(self.unreliability) + \"\\n\" + \\\n",
    "               \"\\tx_estimated = \" + str(self.x_estimated) + \", y = \" + str(self.y_estimated) + \"\\n\" + \\\n",
    "               \"\\tNeighbours: \" + str([n.id for n in self.neighbours]) + \"\\n\"\n",
    "\n",
    "    \n",
    "    def estimateLocation1(self, cycles, r):\n",
    "        self.neighbours.sort(key=lambda neighbour: self.euclideanDistance(neighbour))\n",
    "        anchors = self.getAnchorNeighbours()\n",
    "        if len(anchors) < 3:\n",
    "            return False\n",
    "        else:\n",
    "            neighbour1 = anchors[0]\n",
    "            neighbour2 = anchors[1]\n",
    "            neighbour3 = anchors[2]\n",
    "\n",
    "            rand = np.random.randint(0, 10)  # to simulate the incorrect distance measured\n",
    "            noise = None\n",
    "            if (rand < 5):\n",
    "                noise = 1 - r / 100.0\n",
    "            else:\n",
    "                noise = 1 + r / 100.0\n",
    "\n",
    "            r1 = self.euclideanDistance(neighbour1) * noise\n",
    "            r2 = self.euclideanDistance(neighbour2) * noise\n",
    "            r3 = self.euclideanDistance(neighbour3) * noise\n",
    "\n",
    "            pt_a = [neighbour1.x_coord, neighbour1.y_coord, r1]\n",
    "            pt_b = [neighbour2.x_coord, neighbour2.y_coord, r2]\n",
    "            pt_c = [neighbour3.x_coord, neighbour3.y_coord, r3]\n",
    "\n",
    "            result = trilateration(pt_a, pt_b, pt_c)\n",
    "\n",
    "            self.estimated = True\n",
    "            self.x_estimated = result[0]\n",
    "            self.y_estimated = result[1]\n",
    "            self.isAnchor = cycles + 1\n",
    "            self.unreliability = neighbour1.unreliability + neighbour2.unreliability + neighbour3.unreliability + 1\n",
    "            return True\n",
    "    \n",
    "    def estimateLocation2(self, cycles, r):\n",
    "        self.neighbours.sort(key=lambda neighbour: self.minUnreliability(neighbour))\n",
    "        anchors = self.getAnchorNeighbours()\n",
    "        if len(anchors) < 3:\n",
    "            return False\n",
    "        else:\n",
    "            neighbour1 = anchors[0]\n",
    "            neighbour2 = anchors[1]\n",
    "            neighbour3 = anchors[2]\n",
    "\n",
    "            rand = np.random.randint(0, 10)  # to simulate the incorrect distance measured\n",
    "            noise = None\n",
    "            if (rand < 5):\n",
    "                noise = 1 - r / 100.0\n",
    "            else:\n",
    "                noise = 1 + r / 100.0\n",
    "\n",
    "            r1 = self.euclideanDistance(neighbour1) * noise\n",
    "            r2 = self.euclideanDistance(neighbour2) * noise\n",
    "            r3 = self.euclideanDistance(neighbour3) * noise\n",
    "\n",
    "            pt_a = [neighbour1.x_coord, neighbour1.y_coord, r1]\n",
    "            pt_b = [neighbour2.x_coord, neighbour2.y_coord, r2]\n",
    "            pt_c = [neighbour3.x_coord, neighbour3.y_coord, r3]\n",
    "\n",
    "            result = trilateration(pt_a, pt_b, pt_c)\n",
    "\n",
    "            self.estimated = True\n",
    "            self.x_estimated = result[0]\n",
    "            self.y_estimated = result[1]\n",
    "            self.isAnchor = cycles + 1\n",
    "            self.unreliability = neighbour1.unreliability + neighbour2.unreliability + neighbour3.unreliability + 1\n",
    "            return True\n",
    "    \n",
    "    \n",
    "def generateNodes(N, L, R, r, f):\n",
    "    nodes = dict()\n",
    "    coordinates = [(float(x) * L, float(y) * L) for x, y in np.random.rand(N, 2)]\n",
    "    # print(coordinates)\n",
    "    anchorNodesNumber = int(f / 100 * N)\n",
    "    for id in range(N):\n",
    "        node = Node()\n",
    "        node.id = id\n",
    "        x = coordinates[id][0]\n",
    "        y = coordinates[id][1]\n",
    "        node.x_coord = x\n",
    "        node.y_coord = y\n",
    "        if id < anchorNodesNumber:\n",
    "            node.isAnchor = 1\n",
    "            node.unreliability = 0\n",
    "            node.x_estimated = node.x_coord\n",
    "            node.y_estimated = node.y_coord\n",
    "            node.estimated = True\n",
    "        nodes[id] = node\n",
    "    return nodes\n",
    "\n",
    "\n",
    "def plot(nodes, N, L, f):\n",
    "    anchorNodesNumber = int(f / 100 * N)\n",
    "    x_anchorNodes = [nodes[i].x_coord for i in range(anchorNodesNumber)]\n",
    "    y_anchorNodes = [nodes[i].y_coord for i in range(anchorNodesNumber)]\n",
    "\n",
    "    x_other = [nodes[i].x_coord for i in range(anchorNodesNumber + 1, len(nodes))]\n",
    "    y_other = [nodes[i].y_coord for i in range(anchorNodesNumber + 1, len(nodes))]\n",
    "\n",
    "    anchorNodes = {\"x\": x_anchorNodes,\n",
    "                   \"y\": y_anchorNodes,\n",
    "                   \"mode\": \"markers\",\n",
    "                   \"marker\": {\"color\": \"red\", \"size\": 8},\n",
    "                   \"name\": \"Anchor Nodes\"\n",
    "                   }\n",
    "    otherNodes = {\"x\": x_other,\n",
    "                  \"y\": y_other,\n",
    "                  \"mode\": \"markers\",\n",
    "                  \"marker\": {\"color\": \"blue\", \"size\": 5},\n",
    "                  \"name\": \"Other Nodes\"\n",
    "                  }\n",
    "    data = [anchorNodes, otherNodes]\n",
    "\n",
    "    iplot(data)\n",
    "\n",
    "\n",
    "def findNeighbours(nodes, R):\n",
    "    for id in range(len(nodes.keys())):\n",
    "        neighbours = []\n",
    "        distances = []\n",
    "        for id2 in range(len(nodes.keys())):\n",
    "            if (id == id2):\n",
    "                continue\n",
    "            distance = nodes[id].euclideanDistance(nodes[id2])\n",
    "            if (distance < R):\n",
    "                neighbours.append(nodes[id2])\n",
    "                distances.append(distance)\n",
    "        nodes[id].neighbours = neighbours\n",
    "        nodes[id].distances = distances\n",
    "    return nodes\n",
    "\n",
    "\n",
    "\n",
    "\"\"\"\n",
    "    generateNodes(N, L, R, r, f=20)\n",
    "    plot(nodes, N, L, f)\n",
    "    \n",
    "\"\"\"\n",
    "nodes = generateNodes(100, 100, 0, 0, 20)\n",
    "plot(nodes, 100, 100, 20)\n",
    "\n",
    "\n",
    "\"\"\"\n",
    "    findNeighbours(nodes, R=20)\n",
    "\"\"\"\n",
    "nodes = findNeighbours(nodes, 20)"
   ]
  },
  {
   "cell_type": "code",
   "execution_count": 4,
   "id": "7facb1a3",
   "metadata": {},
   "outputs": [
    {
     "name": "stdout",
     "output_type": "stream",
     "text": [
      "Total of Black Nodes: 0\n",
      "Total of Anchor Nodes: 20\n",
      "Total of Estimated Nodes: 80\n",
      "Cycles needed to estimate as much as possible nodes:  5\n"
     ]
    }
   ],
   "source": [
    "def estimateLocations(nodes, heuristic, r = 10, iterative= False):\n",
    "    global cycles \n",
    "    cycles = 0\n",
    "    if iterative:\n",
    "        while (True):\n",
    "            cycles = cycles + 1\n",
    "            estimatedSmth = False\n",
    "            for idx in range(len(nodes)):\n",
    "                # print(nodes[idx].estimateLocation())\n",
    "                est = nodes[idx].estimateLocation(cycles, heuristic, r)\n",
    "                if est:\n",
    "                    # print(nodes[idx])\n",
    "                    estimatedSmth = True\n",
    "                    nodes[idx].estimated = True\n",
    "            if not estimatedSmth:\n",
    "                break\n",
    "    else:\n",
    "        cycles = cycles + 1\n",
    "        for idx in range(len(nodes)):\n",
    "            est = nodes[idx].estimateLocation(cycles, heuristic, r)\n",
    "            \n",
    "    return nodes\n",
    "\n",
    "nodes = estimateLocations(nodes, 1)\n",
    "            \n",
    "black_nodes = []\n",
    "anchor_nodes = []\n",
    "estimated_nodes = []\n",
    "\n",
    "\n",
    "for idx in range(len(nodes)):\n",
    "    if nodes[idx].isAnchor == 1:\n",
    "        anchor_nodes.append(nodes[idx])\n",
    "    elif nodes[idx].estimated:\n",
    "        estimated_nodes.append(nodes[idx])\n",
    "    else:\n",
    "        black_nodes.append(nodes[idx])\n",
    "\n",
    "print(\"Total of Black Nodes:\", len(black_nodes))\n",
    "print(\"Total of Anchor Nodes:\", len(anchor_nodes))\n",
    "print(\"Total of Estimated Nodes:\", len(estimated_nodes))\n",
    "#print(\"Cycles needed to estimate as much as possible nodes: \", cycles)"
   ]
  },
  {
   "cell_type": "code",
   "execution_count": 5,
   "id": "3ebb2c68",
   "metadata": {},
   "outputs": [],
   "source": [
    "\"\"\"\n",
    "    This is a function that plots the Anchor Nodes (RED), Nodes that could have been estimated (YELLOW)\n",
    "    and nodes that couldn't have been estimated (BLACK)\n",
    "\n",
    "\"\"\"\n",
    "\n",
    "def plot2(black_nodes, anchor_nodes, estimated_nodes, cycles):\n",
    "    x_black_nodes = [black_nodes[i].x_coord for i in range(len(black_nodes))]\n",
    "    y_black_nodes = [black_nodes[i].y_coord for i in range(len(black_nodes))]\n",
    "\n",
    "    x_anchor_nodes = [anchor_nodes[i].x_coord for i in range(len(anchor_nodes))]\n",
    "    y_anchor_nodes = [anchor_nodes[i].y_coord for i in range(len(anchor_nodes))]\n",
    "    \n",
    "    x_estimated_nodes = [estimated_nodes[i].x_coord for i in range(len(estimated_nodes))]\n",
    "    y_estimated_nodes = [estimated_nodes[i].y_coord for i in range(len(estimated_nodes))]\n",
    "    \n",
    "    name_black = \"Black Nodes (\" + str(len(black_nodes)) + \")\"\n",
    "    black_nodes = {\"x\" : x_black_nodes,\n",
    "                   \"y\" : y_black_nodes,\n",
    "                   \"mode\" : \"markers\",\n",
    "                   \"marker\" : {\"color\" : \"black\", \"size\":5},\n",
    "                   \"name\" : name_black\n",
    "                  }\n",
    "    \n",
    "    name_anchor = \"Anchor Nodes (\" + str(len(anchor_nodes)) + \")\"\n",
    "    anchor_nodes = {\"x\" : x_anchor_nodes,\n",
    "                  \"y\" : y_anchor_nodes,\n",
    "                  \"mode\" : \"markers\",\n",
    "                  \"marker\" : {\"color\" : \"red\", \"size\" : 8},\n",
    "                  \"name\" : name_anchor\n",
    "                 }\n",
    "    \n",
    "    name_estimated = \"Estimated Nodes (\" + str(len(estimated_nodes)) + \")\"\n",
    "    estimated_nodes = {\"x\" : x_estimated_nodes,\n",
    "                  \"y\" : y_estimated_nodes,\n",
    "                  \"mode\" : \"markers\",\n",
    "                  \"marker\" : {\"color\" : \"yellow\", \"size\" : 5},\n",
    "                  \"name\" : name_estimated\n",
    "                 }\n",
    "    \n",
    "    data = [black_nodes, anchor_nodes, estimated_nodes]\n",
    "\n",
    "    iplot(data)\n",
    "    \n",
    "\n",
    "    \n",
    "\"\"\"\n",
    "    This is a function that plots the correct location of a node (red) and the estimated location of the\n",
    "    node by trilateration (blue)\n",
    "\"\"\"\n",
    "def plot3(original_node, estimated_node):\n",
    "    x_original_node = [original_node[i][0] for i in range(len(original_node))]\n",
    "    y_original_node = [original_node[i][1] for i in range(len(original_node))]\n",
    "\n",
    "    x_estimated_node = [estimated_node[i][0] for i in range(len(estimated_node))]\n",
    "    y_estimated_node = [estimated_node[i][1] for i in range(len(estimated_node))]\n",
    "    \n",
    "    original_node_name = \"Correct Location\"\n",
    "    original_nodes = {\"x\" : x_original_node,\n",
    "                   \"y\" : y_original_node,\n",
    "                   \"mode\" : \"markers\",\n",
    "                   \"marker\" : {\"color\" : \"red\", \"size\":5},\n",
    "                   \"name\" : original_node_name\n",
    "                  }\n",
    "    \n",
    "    estimated_node_name = \"Estimated Node\"\n",
    "    estimated_nodes = {\"x\" : x_estimated_node,\n",
    "                  \"y\" : y_estimated_node,\n",
    "                  \"mode\" : \"markers\",\n",
    "                  \"marker\" : {\"color\" : \"blue\", \"size\" : 5},\n",
    "                  \"name\" : estimated_node_name\n",
    "                 }\n",
    "    \n",
    "    \n",
    "    data = [original_nodes, estimated_nodes]\n",
    "\n",
    "    iplot(data)\n",
    "    \n",
    "\n",
    "original_node = []\n",
    "estimated_node = []\n",
    "\n",
    "\n",
    "for node in estimated_nodes:\n",
    "    node_original = node.x_coord, node.y_coord\n",
    "    node_estimated = node.x_estimated, node.y_estimated\n",
    "    \n",
    "    original_node.append(node_original)\n",
    "    estimated_node.append(node_estimated)\n",
    "    \n",
    "\n",
    "# for id in range(len(original_node)):\n",
    "#     print(original_node[id])\n",
    "#     print(estimated_node[id])\n",
    "#     print()\n",
    "\n",
    "x_original_node = [original_node[i][0] for i in range(len(original_node))]\n",
    "y_original_node = [original_node[i][1] for i in range(len(original_node))]\n",
    "\n",
    "x_estimated_node = [estimated_node[i][0] for i in range(len(estimated_node))]\n",
    "y_estimated_node = [estimated_node[i][1] for i in range(len(estimated_node))]"
   ]
  },
  {
   "cell_type": "code",
   "execution_count": 6,
   "id": "23d8c13d",
   "metadata": {
    "scrolled": false
   },
   "outputs": [
    {
     "data": {
      "application/vnd.plotly.v1+json": {
       "config": {
        "linkText": "Export to plot.ly",
        "plotlyServerURL": "https://plot.ly",
        "showLink": false
       },
       "data": [
        {
         "marker": {
          "color": "black",
          "size": 5
         },
         "mode": "markers",
         "name": "Black Nodes (0)",
         "type": "scatter",
         "x": [],
         "y": []
        },
        {
         "marker": {
          "color": "red",
          "size": 8
         },
         "mode": "markers",
         "name": "Anchor Nodes (20)",
         "type": "scatter",
         "x": [
          1.1033114001862465,
          53.73515180576008,
          7.956533257134657,
          31.896395302965864,
          62.37807020427357,
          35.40681047286844,
          10.283530280647657,
          68.12308842868515,
          8.965863530448726,
          65.54027748631725,
          51.94104228844344,
          67.12351304760101,
          15.553580711224635,
          52.78878830060717,
          41.3744045051183,
          3.2646591299182237,
          61.12658706356218,
          57.62058781828948,
          10.885863659199558,
          95.15610662188291
         ],
         "y": [
          12.764386105457548,
          53.12400348748757,
          90.70789843181825,
          42.11200670204679,
          56.48900890522205,
          32.502943485358756,
          70.95402682820668,
          81.8998916621817,
          63.52423536388958,
          56.79354879752508,
          12.799844227710667,
          20.54241960150449,
          51.382570196177554,
          19.203697622048622,
          46.71293021292833,
          74.37012749766797,
          61.88800861285975,
          10.08447002302323,
          78.89703396373861,
          72.65073743126342
         ]
        },
        {
         "marker": {
          "color": "yellow",
          "size": 5
         },
         "mode": "markers",
         "name": "Estimated Nodes (80)",
         "type": "scatter",
         "x": [
          42.88064026763772,
          96.43794837738594,
          9.517717210769439,
          11.176805406772939,
          60.26577110566493,
          31.952455210876018,
          17.65910167924406,
          66.67465076096761,
          25.803536958280738,
          35.08822141819077,
          56.09308366949776,
          35.91196456819274,
          34.50198152851406,
          21.5881909119085,
          35.29948412464302,
          62.564721600411524,
          44.78654912710856,
          65.5124421843927,
          91.78783905012648,
          22.261414940774927,
          94.0206206660389,
          73.17850540617373,
          65.46683746097503,
          16.113071834833683,
          70.02803443476908,
          9.231001419808937,
          75.89238854700795,
          8.088376883926596,
          25.627214187647198,
          94.07705542501607,
          76.04557522085929,
          52.097220709732724,
          54.05773469711287,
          69.0194696017173,
          30.729279303479363,
          1.337695917696058,
          71.9742418068621,
          34.592605680499375,
          12.356313590683554,
          13.657884365410489,
          34.70585847374132,
          22.000416504989097,
          21.81049082047015,
          60.92635847676631,
          20.505884713437727,
          93.13985002295708,
          81.4596881287695,
          60.204687078255404,
          78.23495477590514,
          31.884750581909106,
          84.5311269451653,
          80.43436692601897,
          18.07448724202665,
          6.788041147175239,
          39.05470410474082,
          0.9130746811926826,
          32.6869681264944,
          24.170502313368292,
          78.78240161142085,
          5.1681875733570415,
          67.31028355521386,
          65.4281388561508,
          58.95243047182771,
          79.6826199954019,
          5.464500816061468,
          30.23898513762746,
          12.23051171154561,
          47.36304399974271,
          34.97263212500612,
          27.93291143831187,
          11.023359387031373,
          80.48395815608924,
          88.93791591121139,
          90.48942579881918,
          57.208272435341,
          97.22194676304771,
          1.8761699741689286,
          40.310805326490026,
          19.816279396445445,
          93.3804619334093
         ],
         "y": [
          95.64807718217244,
          66.59835517820845,
          91.42210919743201,
          3.2159170216683686,
          97.78476239396983,
          9.080510072952775,
          43.79013075691842,
          42.52478295092283,
          37.00213654857476,
          64.16927631115003,
          81.41925725179452,
          49.7465007099434,
          68.3181809786862,
          13.564135531720378,
          2.124956647784093,
          7.995880661127797,
          77.46064314952872,
          65.01450139481912,
          64.253641603972,
          78.90447885594985,
          16.96254731344685,
          40.50371238536381,
          79.9949331548928,
          8.67744134294357,
          62.41383398103238,
          78.73678347010153,
          23.088460718947402,
          34.73576554465565,
          82.67433897055686,
          66.06814487389565,
          25.8553685778787,
          38.235549088870435,
          77.98467115921733,
          42.360772384137,
          8.246282367375057,
          10.08620113152735,
          74.0325397093963,
          22.65861985630884,
          97.76961342368939,
          30.681563492166298,
          34.51430714616528,
          50.989299221773834,
          25.97963612301487,
          67.93249463069164,
          83.79343055629818,
          85.92686357712279,
          96.51544503258702,
          1.12471927377632,
          17.120471714813878,
          54.16704055133319,
          38.95650045113916,
          95.36913937211415,
          20.100539959374753,
          64.67549892374454,
          21.48500013874073,
          77.11691783829485,
          60.4003683609994,
          57.29577889236977,
          29.25479947077051,
          84.64062433112363,
          48.632420597983504,
          65.51790931201398,
          25.68820202147557,
          61.626955061128186,
          52.33458975286604,
          79.53650973952819,
          98.27761520597407,
          15.54504426398725,
          24.849516234704584,
          56.3069590066293,
          64.44092914109432,
          73.72736661516569,
          80.26250188161033,
          75.07769005527103,
          75.25658895307376,
          79.03558173254929,
          72.7197454666149,
          45.498036128748744,
          2.171303655684076,
          57.098185052686205
         ]
        }
       ],
       "layout": {
        "template": {
         "data": {
          "bar": [
           {
            "error_x": {
             "color": "#2a3f5f"
            },
            "error_y": {
             "color": "#2a3f5f"
            },
            "marker": {
             "line": {
              "color": "#E5ECF6",
              "width": 0.5
             }
            },
            "type": "bar"
           }
          ],
          "barpolar": [
           {
            "marker": {
             "line": {
              "color": "#E5ECF6",
              "width": 0.5
             }
            },
            "type": "barpolar"
           }
          ],
          "carpet": [
           {
            "aaxis": {
             "endlinecolor": "#2a3f5f",
             "gridcolor": "white",
             "linecolor": "white",
             "minorgridcolor": "white",
             "startlinecolor": "#2a3f5f"
            },
            "baxis": {
             "endlinecolor": "#2a3f5f",
             "gridcolor": "white",
             "linecolor": "white",
             "minorgridcolor": "white",
             "startlinecolor": "#2a3f5f"
            },
            "type": "carpet"
           }
          ],
          "choropleth": [
           {
            "colorbar": {
             "outlinewidth": 0,
             "ticks": ""
            },
            "type": "choropleth"
           }
          ],
          "contour": [
           {
            "colorbar": {
             "outlinewidth": 0,
             "ticks": ""
            },
            "colorscale": [
             [
              0,
              "#0d0887"
             ],
             [
              0.1111111111111111,
              "#46039f"
             ],
             [
              0.2222222222222222,
              "#7201a8"
             ],
             [
              0.3333333333333333,
              "#9c179e"
             ],
             [
              0.4444444444444444,
              "#bd3786"
             ],
             [
              0.5555555555555556,
              "#d8576b"
             ],
             [
              0.6666666666666666,
              "#ed7953"
             ],
             [
              0.7777777777777778,
              "#fb9f3a"
             ],
             [
              0.8888888888888888,
              "#fdca26"
             ],
             [
              1,
              "#f0f921"
             ]
            ],
            "type": "contour"
           }
          ],
          "contourcarpet": [
           {
            "colorbar": {
             "outlinewidth": 0,
             "ticks": ""
            },
            "type": "contourcarpet"
           }
          ],
          "heatmap": [
           {
            "colorbar": {
             "outlinewidth": 0,
             "ticks": ""
            },
            "colorscale": [
             [
              0,
              "#0d0887"
             ],
             [
              0.1111111111111111,
              "#46039f"
             ],
             [
              0.2222222222222222,
              "#7201a8"
             ],
             [
              0.3333333333333333,
              "#9c179e"
             ],
             [
              0.4444444444444444,
              "#bd3786"
             ],
             [
              0.5555555555555556,
              "#d8576b"
             ],
             [
              0.6666666666666666,
              "#ed7953"
             ],
             [
              0.7777777777777778,
              "#fb9f3a"
             ],
             [
              0.8888888888888888,
              "#fdca26"
             ],
             [
              1,
              "#f0f921"
             ]
            ],
            "type": "heatmap"
           }
          ],
          "heatmapgl": [
           {
            "colorbar": {
             "outlinewidth": 0,
             "ticks": ""
            },
            "colorscale": [
             [
              0,
              "#0d0887"
             ],
             [
              0.1111111111111111,
              "#46039f"
             ],
             [
              0.2222222222222222,
              "#7201a8"
             ],
             [
              0.3333333333333333,
              "#9c179e"
             ],
             [
              0.4444444444444444,
              "#bd3786"
             ],
             [
              0.5555555555555556,
              "#d8576b"
             ],
             [
              0.6666666666666666,
              "#ed7953"
             ],
             [
              0.7777777777777778,
              "#fb9f3a"
             ],
             [
              0.8888888888888888,
              "#fdca26"
             ],
             [
              1,
              "#f0f921"
             ]
            ],
            "type": "heatmapgl"
           }
          ],
          "histogram": [
           {
            "marker": {
             "colorbar": {
              "outlinewidth": 0,
              "ticks": ""
             }
            },
            "type": "histogram"
           }
          ],
          "histogram2d": [
           {
            "colorbar": {
             "outlinewidth": 0,
             "ticks": ""
            },
            "colorscale": [
             [
              0,
              "#0d0887"
             ],
             [
              0.1111111111111111,
              "#46039f"
             ],
             [
              0.2222222222222222,
              "#7201a8"
             ],
             [
              0.3333333333333333,
              "#9c179e"
             ],
             [
              0.4444444444444444,
              "#bd3786"
             ],
             [
              0.5555555555555556,
              "#d8576b"
             ],
             [
              0.6666666666666666,
              "#ed7953"
             ],
             [
              0.7777777777777778,
              "#fb9f3a"
             ],
             [
              0.8888888888888888,
              "#fdca26"
             ],
             [
              1,
              "#f0f921"
             ]
            ],
            "type": "histogram2d"
           }
          ],
          "histogram2dcontour": [
           {
            "colorbar": {
             "outlinewidth": 0,
             "ticks": ""
            },
            "colorscale": [
             [
              0,
              "#0d0887"
             ],
             [
              0.1111111111111111,
              "#46039f"
             ],
             [
              0.2222222222222222,
              "#7201a8"
             ],
             [
              0.3333333333333333,
              "#9c179e"
             ],
             [
              0.4444444444444444,
              "#bd3786"
             ],
             [
              0.5555555555555556,
              "#d8576b"
             ],
             [
              0.6666666666666666,
              "#ed7953"
             ],
             [
              0.7777777777777778,
              "#fb9f3a"
             ],
             [
              0.8888888888888888,
              "#fdca26"
             ],
             [
              1,
              "#f0f921"
             ]
            ],
            "type": "histogram2dcontour"
           }
          ],
          "mesh3d": [
           {
            "colorbar": {
             "outlinewidth": 0,
             "ticks": ""
            },
            "type": "mesh3d"
           }
          ],
          "parcoords": [
           {
            "line": {
             "colorbar": {
              "outlinewidth": 0,
              "ticks": ""
             }
            },
            "type": "parcoords"
           }
          ],
          "pie": [
           {
            "automargin": true,
            "type": "pie"
           }
          ],
          "scatter": [
           {
            "marker": {
             "colorbar": {
              "outlinewidth": 0,
              "ticks": ""
             }
            },
            "type": "scatter"
           }
          ],
          "scatter3d": [
           {
            "line": {
             "colorbar": {
              "outlinewidth": 0,
              "ticks": ""
             }
            },
            "marker": {
             "colorbar": {
              "outlinewidth": 0,
              "ticks": ""
             }
            },
            "type": "scatter3d"
           }
          ],
          "scattercarpet": [
           {
            "marker": {
             "colorbar": {
              "outlinewidth": 0,
              "ticks": ""
             }
            },
            "type": "scattercarpet"
           }
          ],
          "scattergeo": [
           {
            "marker": {
             "colorbar": {
              "outlinewidth": 0,
              "ticks": ""
             }
            },
            "type": "scattergeo"
           }
          ],
          "scattergl": [
           {
            "marker": {
             "colorbar": {
              "outlinewidth": 0,
              "ticks": ""
             }
            },
            "type": "scattergl"
           }
          ],
          "scattermapbox": [
           {
            "marker": {
             "colorbar": {
              "outlinewidth": 0,
              "ticks": ""
             }
            },
            "type": "scattermapbox"
           }
          ],
          "scatterpolar": [
           {
            "marker": {
             "colorbar": {
              "outlinewidth": 0,
              "ticks": ""
             }
            },
            "type": "scatterpolar"
           }
          ],
          "scatterpolargl": [
           {
            "marker": {
             "colorbar": {
              "outlinewidth": 0,
              "ticks": ""
             }
            },
            "type": "scatterpolargl"
           }
          ],
          "scatterternary": [
           {
            "marker": {
             "colorbar": {
              "outlinewidth": 0,
              "ticks": ""
             }
            },
            "type": "scatterternary"
           }
          ],
          "surface": [
           {
            "colorbar": {
             "outlinewidth": 0,
             "ticks": ""
            },
            "colorscale": [
             [
              0,
              "#0d0887"
             ],
             [
              0.1111111111111111,
              "#46039f"
             ],
             [
              0.2222222222222222,
              "#7201a8"
             ],
             [
              0.3333333333333333,
              "#9c179e"
             ],
             [
              0.4444444444444444,
              "#bd3786"
             ],
             [
              0.5555555555555556,
              "#d8576b"
             ],
             [
              0.6666666666666666,
              "#ed7953"
             ],
             [
              0.7777777777777778,
              "#fb9f3a"
             ],
             [
              0.8888888888888888,
              "#fdca26"
             ],
             [
              1,
              "#f0f921"
             ]
            ],
            "type": "surface"
           }
          ],
          "table": [
           {
            "cells": {
             "fill": {
              "color": "#EBF0F8"
             },
             "line": {
              "color": "white"
             }
            },
            "header": {
             "fill": {
              "color": "#C8D4E3"
             },
             "line": {
              "color": "white"
             }
            },
            "type": "table"
           }
          ]
         },
         "layout": {
          "annotationdefaults": {
           "arrowcolor": "#2a3f5f",
           "arrowhead": 0,
           "arrowwidth": 1
          },
          "autotypenumbers": "strict",
          "coloraxis": {
           "colorbar": {
            "outlinewidth": 0,
            "ticks": ""
           }
          },
          "colorscale": {
           "diverging": [
            [
             0,
             "#8e0152"
            ],
            [
             0.1,
             "#c51b7d"
            ],
            [
             0.2,
             "#de77ae"
            ],
            [
             0.3,
             "#f1b6da"
            ],
            [
             0.4,
             "#fde0ef"
            ],
            [
             0.5,
             "#f7f7f7"
            ],
            [
             0.6,
             "#e6f5d0"
            ],
            [
             0.7,
             "#b8e186"
            ],
            [
             0.8,
             "#7fbc41"
            ],
            [
             0.9,
             "#4d9221"
            ],
            [
             1,
             "#276419"
            ]
           ],
           "sequential": [
            [
             0,
             "#0d0887"
            ],
            [
             0.1111111111111111,
             "#46039f"
            ],
            [
             0.2222222222222222,
             "#7201a8"
            ],
            [
             0.3333333333333333,
             "#9c179e"
            ],
            [
             0.4444444444444444,
             "#bd3786"
            ],
            [
             0.5555555555555556,
             "#d8576b"
            ],
            [
             0.6666666666666666,
             "#ed7953"
            ],
            [
             0.7777777777777778,
             "#fb9f3a"
            ],
            [
             0.8888888888888888,
             "#fdca26"
            ],
            [
             1,
             "#f0f921"
            ]
           ],
           "sequentialminus": [
            [
             0,
             "#0d0887"
            ],
            [
             0.1111111111111111,
             "#46039f"
            ],
            [
             0.2222222222222222,
             "#7201a8"
            ],
            [
             0.3333333333333333,
             "#9c179e"
            ],
            [
             0.4444444444444444,
             "#bd3786"
            ],
            [
             0.5555555555555556,
             "#d8576b"
            ],
            [
             0.6666666666666666,
             "#ed7953"
            ],
            [
             0.7777777777777778,
             "#fb9f3a"
            ],
            [
             0.8888888888888888,
             "#fdca26"
            ],
            [
             1,
             "#f0f921"
            ]
           ]
          },
          "colorway": [
           "#636efa",
           "#EF553B",
           "#00cc96",
           "#ab63fa",
           "#FFA15A",
           "#19d3f3",
           "#FF6692",
           "#B6E880",
           "#FF97FF",
           "#FECB52"
          ],
          "font": {
           "color": "#2a3f5f"
          },
          "geo": {
           "bgcolor": "white",
           "lakecolor": "white",
           "landcolor": "#E5ECF6",
           "showlakes": true,
           "showland": true,
           "subunitcolor": "white"
          },
          "hoverlabel": {
           "align": "left"
          },
          "hovermode": "closest",
          "mapbox": {
           "style": "light"
          },
          "paper_bgcolor": "white",
          "plot_bgcolor": "#E5ECF6",
          "polar": {
           "angularaxis": {
            "gridcolor": "white",
            "linecolor": "white",
            "ticks": ""
           },
           "bgcolor": "#E5ECF6",
           "radialaxis": {
            "gridcolor": "white",
            "linecolor": "white",
            "ticks": ""
           }
          },
          "scene": {
           "xaxis": {
            "backgroundcolor": "#E5ECF6",
            "gridcolor": "white",
            "gridwidth": 2,
            "linecolor": "white",
            "showbackground": true,
            "ticks": "",
            "zerolinecolor": "white"
           },
           "yaxis": {
            "backgroundcolor": "#E5ECF6",
            "gridcolor": "white",
            "gridwidth": 2,
            "linecolor": "white",
            "showbackground": true,
            "ticks": "",
            "zerolinecolor": "white"
           },
           "zaxis": {
            "backgroundcolor": "#E5ECF6",
            "gridcolor": "white",
            "gridwidth": 2,
            "linecolor": "white",
            "showbackground": true,
            "ticks": "",
            "zerolinecolor": "white"
           }
          },
          "shapedefaults": {
           "line": {
            "color": "#2a3f5f"
           }
          },
          "ternary": {
           "aaxis": {
            "gridcolor": "white",
            "linecolor": "white",
            "ticks": ""
           },
           "baxis": {
            "gridcolor": "white",
            "linecolor": "white",
            "ticks": ""
           },
           "bgcolor": "#E5ECF6",
           "caxis": {
            "gridcolor": "white",
            "linecolor": "white",
            "ticks": ""
           }
          },
          "title": {
           "x": 0.05
          },
          "xaxis": {
           "automargin": true,
           "gridcolor": "white",
           "linecolor": "white",
           "ticks": "",
           "title": {
            "standoff": 15
           },
           "zerolinecolor": "white",
           "zerolinewidth": 2
          },
          "yaxis": {
           "automargin": true,
           "gridcolor": "white",
           "linecolor": "white",
           "ticks": "",
           "title": {
            "standoff": 15
           },
           "zerolinecolor": "white",
           "zerolinewidth": 2
          }
         }
        }
       }
      },
      "text/html": [
       "<div>                            <div id=\"22ac3a7c-0e40-4669-8a2e-f51bd3711941\" class=\"plotly-graph-div\" style=\"height:525px; width:100%;\"></div>            <script type=\"text/javascript\">                require([\"plotly\"], function(Plotly) {                    window.PLOTLYENV=window.PLOTLYENV || {};                                    if (document.getElementById(\"22ac3a7c-0e40-4669-8a2e-f51bd3711941\")) {                    Plotly.newPlot(                        \"22ac3a7c-0e40-4669-8a2e-f51bd3711941\",                        [{\"marker\": {\"color\": \"black\", \"size\": 5}, \"mode\": \"markers\", \"name\": \"Black Nodes (0)\", \"type\": \"scatter\", \"x\": [], \"y\": []}, {\"marker\": {\"color\": \"red\", \"size\": 8}, \"mode\": \"markers\", \"name\": \"Anchor Nodes (20)\", \"type\": \"scatter\", \"x\": [1.1033114001862465, 53.73515180576008, 7.956533257134657, 31.896395302965864, 62.37807020427357, 35.40681047286844, 10.283530280647657, 68.12308842868515, 8.965863530448726, 65.54027748631725, 51.94104228844344, 67.12351304760101, 15.553580711224635, 52.78878830060717, 41.3744045051183, 3.2646591299182237, 61.12658706356218, 57.62058781828948, 10.885863659199558, 95.15610662188291], \"y\": [12.764386105457548, 53.12400348748757, 90.70789843181825, 42.11200670204679, 56.48900890522205, 32.502943485358756, 70.95402682820668, 81.8998916621817, 63.52423536388958, 56.79354879752508, 12.799844227710667, 20.54241960150449, 51.382570196177554, 19.203697622048622, 46.71293021292833, 74.37012749766797, 61.88800861285975, 10.08447002302323, 78.89703396373861, 72.65073743126342]}, {\"marker\": {\"color\": \"yellow\", \"size\": 5}, \"mode\": \"markers\", \"name\": \"Estimated Nodes (80)\", \"type\": \"scatter\", \"x\": [42.88064026763772, 96.43794837738594, 9.517717210769439, 11.176805406772939, 60.26577110566493, 31.952455210876018, 17.65910167924406, 66.67465076096761, 25.803536958280738, 35.08822141819077, 56.09308366949776, 35.91196456819274, 34.50198152851406, 21.5881909119085, 35.29948412464302, 62.564721600411524, 44.78654912710856, 65.5124421843927, 91.78783905012648, 22.261414940774927, 94.0206206660389, 73.17850540617373, 65.46683746097503, 16.113071834833683, 70.02803443476908, 9.231001419808937, 75.89238854700795, 8.088376883926596, 25.627214187647198, 94.07705542501607, 76.04557522085929, 52.097220709732724, 54.05773469711287, 69.0194696017173, 30.729279303479363, 1.337695917696058, 71.9742418068621, 34.592605680499375, 12.356313590683554, 13.657884365410489, 34.70585847374132, 22.000416504989097, 21.81049082047015, 60.92635847676631, 20.505884713437727, 93.13985002295708, 81.4596881287695, 60.204687078255404, 78.23495477590514, 31.884750581909106, 84.5311269451653, 80.43436692601897, 18.07448724202665, 6.788041147175239, 39.05470410474082, 0.9130746811926826, 32.6869681264944, 24.170502313368292, 78.78240161142085, 5.1681875733570415, 67.31028355521386, 65.4281388561508, 58.95243047182771, 79.6826199954019, 5.464500816061468, 30.23898513762746, 12.23051171154561, 47.36304399974271, 34.97263212500612, 27.93291143831187, 11.023359387031373, 80.48395815608924, 88.93791591121139, 90.48942579881918, 57.208272435341, 97.22194676304771, 1.8761699741689286, 40.310805326490026, 19.816279396445445, 93.3804619334093], \"y\": [95.64807718217244, 66.59835517820845, 91.42210919743201, 3.2159170216683686, 97.78476239396983, 9.080510072952775, 43.79013075691842, 42.52478295092283, 37.00213654857476, 64.16927631115003, 81.41925725179452, 49.7465007099434, 68.3181809786862, 13.564135531720378, 2.124956647784093, 7.995880661127797, 77.46064314952872, 65.01450139481912, 64.253641603972, 78.90447885594985, 16.96254731344685, 40.50371238536381, 79.9949331548928, 8.67744134294357, 62.41383398103238, 78.73678347010153, 23.088460718947402, 34.73576554465565, 82.67433897055686, 66.06814487389565, 25.8553685778787, 38.235549088870435, 77.98467115921733, 42.360772384137, 8.246282367375057, 10.08620113152735, 74.0325397093963, 22.65861985630884, 97.76961342368939, 30.681563492166298, 34.51430714616528, 50.989299221773834, 25.97963612301487, 67.93249463069164, 83.79343055629818, 85.92686357712279, 96.51544503258702, 1.12471927377632, 17.120471714813878, 54.16704055133319, 38.95650045113916, 95.36913937211415, 20.100539959374753, 64.67549892374454, 21.48500013874073, 77.11691783829485, 60.4003683609994, 57.29577889236977, 29.25479947077051, 84.64062433112363, 48.632420597983504, 65.51790931201398, 25.68820202147557, 61.626955061128186, 52.33458975286604, 79.53650973952819, 98.27761520597407, 15.54504426398725, 24.849516234704584, 56.3069590066293, 64.44092914109432, 73.72736661516569, 80.26250188161033, 75.07769005527103, 75.25658895307376, 79.03558173254929, 72.7197454666149, 45.498036128748744, 2.171303655684076, 57.098185052686205]}],                        {\"template\": {\"data\": {\"bar\": [{\"error_x\": {\"color\": \"#2a3f5f\"}, \"error_y\": {\"color\": \"#2a3f5f\"}, \"marker\": {\"line\": {\"color\": \"#E5ECF6\", \"width\": 0.5}}, \"type\": \"bar\"}], \"barpolar\": [{\"marker\": {\"line\": {\"color\": \"#E5ECF6\", \"width\": 0.5}}, \"type\": \"barpolar\"}], \"carpet\": [{\"aaxis\": {\"endlinecolor\": \"#2a3f5f\", \"gridcolor\": \"white\", \"linecolor\": \"white\", \"minorgridcolor\": \"white\", \"startlinecolor\": \"#2a3f5f\"}, \"baxis\": {\"endlinecolor\": \"#2a3f5f\", \"gridcolor\": \"white\", \"linecolor\": \"white\", \"minorgridcolor\": \"white\", \"startlinecolor\": \"#2a3f5f\"}, \"type\": \"carpet\"}], \"choropleth\": [{\"colorbar\": {\"outlinewidth\": 0, \"ticks\": \"\"}, \"type\": \"choropleth\"}], \"contour\": [{\"colorbar\": {\"outlinewidth\": 0, \"ticks\": \"\"}, \"colorscale\": [[0.0, \"#0d0887\"], [0.1111111111111111, \"#46039f\"], [0.2222222222222222, \"#7201a8\"], [0.3333333333333333, \"#9c179e\"], [0.4444444444444444, \"#bd3786\"], [0.5555555555555556, \"#d8576b\"], [0.6666666666666666, \"#ed7953\"], [0.7777777777777778, \"#fb9f3a\"], [0.8888888888888888, \"#fdca26\"], [1.0, \"#f0f921\"]], \"type\": \"contour\"}], \"contourcarpet\": [{\"colorbar\": {\"outlinewidth\": 0, \"ticks\": \"\"}, \"type\": \"contourcarpet\"}], \"heatmap\": [{\"colorbar\": {\"outlinewidth\": 0, \"ticks\": \"\"}, \"colorscale\": [[0.0, \"#0d0887\"], [0.1111111111111111, \"#46039f\"], [0.2222222222222222, \"#7201a8\"], [0.3333333333333333, \"#9c179e\"], [0.4444444444444444, \"#bd3786\"], [0.5555555555555556, \"#d8576b\"], [0.6666666666666666, \"#ed7953\"], [0.7777777777777778, \"#fb9f3a\"], [0.8888888888888888, \"#fdca26\"], [1.0, \"#f0f921\"]], \"type\": \"heatmap\"}], \"heatmapgl\": [{\"colorbar\": {\"outlinewidth\": 0, \"ticks\": \"\"}, \"colorscale\": [[0.0, \"#0d0887\"], [0.1111111111111111, \"#46039f\"], [0.2222222222222222, \"#7201a8\"], [0.3333333333333333, \"#9c179e\"], [0.4444444444444444, \"#bd3786\"], [0.5555555555555556, \"#d8576b\"], [0.6666666666666666, \"#ed7953\"], [0.7777777777777778, \"#fb9f3a\"], [0.8888888888888888, \"#fdca26\"], [1.0, \"#f0f921\"]], \"type\": \"heatmapgl\"}], \"histogram\": [{\"marker\": {\"colorbar\": {\"outlinewidth\": 0, \"ticks\": \"\"}}, \"type\": \"histogram\"}], \"histogram2d\": [{\"colorbar\": {\"outlinewidth\": 0, \"ticks\": \"\"}, \"colorscale\": [[0.0, \"#0d0887\"], [0.1111111111111111, \"#46039f\"], [0.2222222222222222, \"#7201a8\"], [0.3333333333333333, \"#9c179e\"], [0.4444444444444444, \"#bd3786\"], [0.5555555555555556, \"#d8576b\"], [0.6666666666666666, \"#ed7953\"], [0.7777777777777778, \"#fb9f3a\"], [0.8888888888888888, \"#fdca26\"], [1.0, \"#f0f921\"]], \"type\": \"histogram2d\"}], \"histogram2dcontour\": [{\"colorbar\": {\"outlinewidth\": 0, \"ticks\": \"\"}, \"colorscale\": [[0.0, \"#0d0887\"], [0.1111111111111111, \"#46039f\"], [0.2222222222222222, \"#7201a8\"], [0.3333333333333333, \"#9c179e\"], [0.4444444444444444, \"#bd3786\"], [0.5555555555555556, \"#d8576b\"], [0.6666666666666666, \"#ed7953\"], [0.7777777777777778, \"#fb9f3a\"], [0.8888888888888888, \"#fdca26\"], [1.0, \"#f0f921\"]], \"type\": \"histogram2dcontour\"}], \"mesh3d\": [{\"colorbar\": {\"outlinewidth\": 0, \"ticks\": \"\"}, \"type\": \"mesh3d\"}], \"parcoords\": [{\"line\": {\"colorbar\": {\"outlinewidth\": 0, \"ticks\": \"\"}}, \"type\": \"parcoords\"}], \"pie\": [{\"automargin\": true, \"type\": \"pie\"}], \"scatter\": [{\"marker\": {\"colorbar\": {\"outlinewidth\": 0, \"ticks\": \"\"}}, \"type\": \"scatter\"}], \"scatter3d\": [{\"line\": {\"colorbar\": {\"outlinewidth\": 0, \"ticks\": \"\"}}, \"marker\": {\"colorbar\": {\"outlinewidth\": 0, \"ticks\": \"\"}}, \"type\": \"scatter3d\"}], \"scattercarpet\": [{\"marker\": {\"colorbar\": {\"outlinewidth\": 0, \"ticks\": \"\"}}, \"type\": \"scattercarpet\"}], \"scattergeo\": [{\"marker\": {\"colorbar\": {\"outlinewidth\": 0, \"ticks\": \"\"}}, \"type\": \"scattergeo\"}], \"scattergl\": [{\"marker\": {\"colorbar\": {\"outlinewidth\": 0, \"ticks\": \"\"}}, \"type\": \"scattergl\"}], \"scattermapbox\": [{\"marker\": {\"colorbar\": {\"outlinewidth\": 0, \"ticks\": \"\"}}, \"type\": \"scattermapbox\"}], \"scatterpolar\": [{\"marker\": {\"colorbar\": {\"outlinewidth\": 0, \"ticks\": \"\"}}, \"type\": \"scatterpolar\"}], \"scatterpolargl\": [{\"marker\": {\"colorbar\": {\"outlinewidth\": 0, \"ticks\": \"\"}}, \"type\": \"scatterpolargl\"}], \"scatterternary\": [{\"marker\": {\"colorbar\": {\"outlinewidth\": 0, \"ticks\": \"\"}}, \"type\": \"scatterternary\"}], \"surface\": [{\"colorbar\": {\"outlinewidth\": 0, \"ticks\": \"\"}, \"colorscale\": [[0.0, \"#0d0887\"], [0.1111111111111111, \"#46039f\"], [0.2222222222222222, \"#7201a8\"], [0.3333333333333333, \"#9c179e\"], [0.4444444444444444, \"#bd3786\"], [0.5555555555555556, \"#d8576b\"], [0.6666666666666666, \"#ed7953\"], [0.7777777777777778, \"#fb9f3a\"], [0.8888888888888888, \"#fdca26\"], [1.0, \"#f0f921\"]], \"type\": \"surface\"}], \"table\": [{\"cells\": {\"fill\": {\"color\": \"#EBF0F8\"}, \"line\": {\"color\": \"white\"}}, \"header\": {\"fill\": {\"color\": \"#C8D4E3\"}, \"line\": {\"color\": \"white\"}}, \"type\": \"table\"}]}, \"layout\": {\"annotationdefaults\": {\"arrowcolor\": \"#2a3f5f\", \"arrowhead\": 0, \"arrowwidth\": 1}, \"autotypenumbers\": \"strict\", \"coloraxis\": {\"colorbar\": {\"outlinewidth\": 0, \"ticks\": \"\"}}, \"colorscale\": {\"diverging\": [[0, \"#8e0152\"], [0.1, \"#c51b7d\"], [0.2, \"#de77ae\"], [0.3, \"#f1b6da\"], [0.4, \"#fde0ef\"], [0.5, \"#f7f7f7\"], [0.6, \"#e6f5d0\"], [0.7, \"#b8e186\"], [0.8, \"#7fbc41\"], [0.9, \"#4d9221\"], [1, \"#276419\"]], \"sequential\": [[0.0, \"#0d0887\"], [0.1111111111111111, \"#46039f\"], [0.2222222222222222, \"#7201a8\"], [0.3333333333333333, \"#9c179e\"], [0.4444444444444444, \"#bd3786\"], [0.5555555555555556, \"#d8576b\"], [0.6666666666666666, \"#ed7953\"], [0.7777777777777778, \"#fb9f3a\"], [0.8888888888888888, \"#fdca26\"], [1.0, \"#f0f921\"]], \"sequentialminus\": [[0.0, \"#0d0887\"], [0.1111111111111111, \"#46039f\"], [0.2222222222222222, \"#7201a8\"], [0.3333333333333333, \"#9c179e\"], [0.4444444444444444, \"#bd3786\"], [0.5555555555555556, \"#d8576b\"], [0.6666666666666666, \"#ed7953\"], [0.7777777777777778, \"#fb9f3a\"], [0.8888888888888888, \"#fdca26\"], [1.0, \"#f0f921\"]]}, \"colorway\": [\"#636efa\", \"#EF553B\", \"#00cc96\", \"#ab63fa\", \"#FFA15A\", \"#19d3f3\", \"#FF6692\", \"#B6E880\", \"#FF97FF\", \"#FECB52\"], \"font\": {\"color\": \"#2a3f5f\"}, \"geo\": {\"bgcolor\": \"white\", \"lakecolor\": \"white\", \"landcolor\": \"#E5ECF6\", \"showlakes\": true, \"showland\": true, \"subunitcolor\": \"white\"}, \"hoverlabel\": {\"align\": \"left\"}, \"hovermode\": \"closest\", \"mapbox\": {\"style\": \"light\"}, \"paper_bgcolor\": \"white\", \"plot_bgcolor\": \"#E5ECF6\", \"polar\": {\"angularaxis\": {\"gridcolor\": \"white\", \"linecolor\": \"white\", \"ticks\": \"\"}, \"bgcolor\": \"#E5ECF6\", \"radialaxis\": {\"gridcolor\": \"white\", \"linecolor\": \"white\", \"ticks\": \"\"}}, \"scene\": {\"xaxis\": {\"backgroundcolor\": \"#E5ECF6\", \"gridcolor\": \"white\", \"gridwidth\": 2, \"linecolor\": \"white\", \"showbackground\": true, \"ticks\": \"\", \"zerolinecolor\": \"white\"}, \"yaxis\": {\"backgroundcolor\": \"#E5ECF6\", \"gridcolor\": \"white\", \"gridwidth\": 2, \"linecolor\": \"white\", \"showbackground\": true, \"ticks\": \"\", \"zerolinecolor\": \"white\"}, \"zaxis\": {\"backgroundcolor\": \"#E5ECF6\", \"gridcolor\": \"white\", \"gridwidth\": 2, \"linecolor\": \"white\", \"showbackground\": true, \"ticks\": \"\", \"zerolinecolor\": \"white\"}}, \"shapedefaults\": {\"line\": {\"color\": \"#2a3f5f\"}}, \"ternary\": {\"aaxis\": {\"gridcolor\": \"white\", \"linecolor\": \"white\", \"ticks\": \"\"}, \"baxis\": {\"gridcolor\": \"white\", \"linecolor\": \"white\", \"ticks\": \"\"}, \"bgcolor\": \"#E5ECF6\", \"caxis\": {\"gridcolor\": \"white\", \"linecolor\": \"white\", \"ticks\": \"\"}}, \"title\": {\"x\": 0.05}, \"xaxis\": {\"automargin\": true, \"gridcolor\": \"white\", \"linecolor\": \"white\", \"ticks\": \"\", \"title\": {\"standoff\": 15}, \"zerolinecolor\": \"white\", \"zerolinewidth\": 2}, \"yaxis\": {\"automargin\": true, \"gridcolor\": \"white\", \"linecolor\": \"white\", \"ticks\": \"\", \"title\": {\"standoff\": 15}, \"zerolinecolor\": \"white\", \"zerolinewidth\": 2}}}},                        {\"responsive\": true}                    ).then(function(){\n",
       "                            \n",
       "var gd = document.getElementById('22ac3a7c-0e40-4669-8a2e-f51bd3711941');\n",
       "var x = new MutationObserver(function (mutations, observer) {{\n",
       "        var display = window.getComputedStyle(gd).display;\n",
       "        if (!display || display === 'none') {{\n",
       "            console.log([gd, 'removed!']);\n",
       "            Plotly.purge(gd);\n",
       "            observer.disconnect();\n",
       "        }}\n",
       "}});\n",
       "\n",
       "// Listen for the removal of the full notebook cells\n",
       "var notebookContainer = gd.closest('#notebook-container');\n",
       "if (notebookContainer) {{\n",
       "    x.observe(notebookContainer, {childList: true});\n",
       "}}\n",
       "\n",
       "// Listen for the clearing of the current output cell\n",
       "var outputEl = gd.closest('.output');\n",
       "if (outputEl) {{\n",
       "    x.observe(outputEl, {childList: true});\n",
       "}}\n",
       "\n",
       "                        })                };                });            </script>        </div>"
      ]
     },
     "metadata": {},
     "output_type": "display_data"
    }
   ],
   "source": [
    "plot2(black_nodes, anchor_nodes, estimated_nodes, cycles)"
   ]
  },
  {
   "cell_type": "code",
   "execution_count": 7,
   "id": "1065d418",
   "metadata": {},
   "outputs": [
    {
     "data": {
      "application/vnd.plotly.v1+json": {
       "config": {
        "linkText": "Export to plot.ly",
        "plotlyServerURL": "https://plot.ly",
        "showLink": false
       },
       "data": [
        {
         "marker": {
          "color": "red",
          "size": 5
         },
         "mode": "markers",
         "name": "Correct Location",
         "type": "scatter",
         "x": [
          42.88064026763772,
          96.43794837738594,
          9.517717210769439,
          11.176805406772939,
          60.26577110566493,
          31.952455210876018,
          17.65910167924406,
          66.67465076096761,
          25.803536958280738,
          35.08822141819077,
          56.09308366949776,
          35.91196456819274,
          34.50198152851406,
          21.5881909119085,
          35.29948412464302,
          62.564721600411524,
          44.78654912710856,
          65.5124421843927,
          91.78783905012648,
          22.261414940774927,
          94.0206206660389,
          73.17850540617373,
          65.46683746097503,
          16.113071834833683,
          70.02803443476908,
          9.231001419808937,
          75.89238854700795,
          8.088376883926596,
          25.627214187647198,
          94.07705542501607,
          76.04557522085929,
          52.097220709732724,
          54.05773469711287,
          69.0194696017173,
          30.729279303479363,
          1.337695917696058,
          71.9742418068621,
          34.592605680499375,
          12.356313590683554,
          13.657884365410489,
          34.70585847374132,
          22.000416504989097,
          21.81049082047015,
          60.92635847676631,
          20.505884713437727,
          93.13985002295708,
          81.4596881287695,
          60.204687078255404,
          78.23495477590514,
          31.884750581909106,
          84.5311269451653,
          80.43436692601897,
          18.07448724202665,
          6.788041147175239,
          39.05470410474082,
          0.9130746811926826,
          32.6869681264944,
          24.170502313368292,
          78.78240161142085,
          5.1681875733570415,
          67.31028355521386,
          65.4281388561508,
          58.95243047182771,
          79.6826199954019,
          5.464500816061468,
          30.23898513762746,
          12.23051171154561,
          47.36304399974271,
          34.97263212500612,
          27.93291143831187,
          11.023359387031373,
          80.48395815608924,
          88.93791591121139,
          90.48942579881918,
          57.208272435341,
          97.22194676304771,
          1.8761699741689286,
          40.310805326490026,
          19.816279396445445,
          93.3804619334093
         ],
         "y": [
          95.64807718217244,
          66.59835517820845,
          91.42210919743201,
          3.2159170216683686,
          97.78476239396983,
          9.080510072952775,
          43.79013075691842,
          42.52478295092283,
          37.00213654857476,
          64.16927631115003,
          81.41925725179452,
          49.7465007099434,
          68.3181809786862,
          13.564135531720378,
          2.124956647784093,
          7.995880661127797,
          77.46064314952872,
          65.01450139481912,
          64.253641603972,
          78.90447885594985,
          16.96254731344685,
          40.50371238536381,
          79.9949331548928,
          8.67744134294357,
          62.41383398103238,
          78.73678347010153,
          23.088460718947402,
          34.73576554465565,
          82.67433897055686,
          66.06814487389565,
          25.8553685778787,
          38.235549088870435,
          77.98467115921733,
          42.360772384137,
          8.246282367375057,
          10.08620113152735,
          74.0325397093963,
          22.65861985630884,
          97.76961342368939,
          30.681563492166298,
          34.51430714616528,
          50.989299221773834,
          25.97963612301487,
          67.93249463069164,
          83.79343055629818,
          85.92686357712279,
          96.51544503258702,
          1.12471927377632,
          17.120471714813878,
          54.16704055133319,
          38.95650045113916,
          95.36913937211415,
          20.100539959374753,
          64.67549892374454,
          21.48500013874073,
          77.11691783829485,
          60.4003683609994,
          57.29577889236977,
          29.25479947077051,
          84.64062433112363,
          48.632420597983504,
          65.51790931201398,
          25.68820202147557,
          61.626955061128186,
          52.33458975286604,
          79.53650973952819,
          98.27761520597407,
          15.54504426398725,
          24.849516234704584,
          56.3069590066293,
          64.44092914109432,
          73.72736661516569,
          80.26250188161033,
          75.07769005527103,
          75.25658895307376,
          79.03558173254929,
          72.7197454666149,
          45.498036128748744,
          2.171303655684076,
          57.098185052686205
         ]
        },
        {
         "marker": {
          "color": "blue",
          "size": 5
         },
         "mode": "markers",
         "name": "Estimated Node",
         "type": "scatter",
         "x": [
          44.816334309983056,
          98.53054531039572,
          8.526849696249823,
          11.560872514457552,
          60.56742625080515,
          32.58138839201343,
          17.077209247203402,
          66.14723426878497,
          25.151046750259628,
          33.51885217857019,
          56.503557021881825,
          39.670578810005,
          33.49262445870759,
          19.928993621204466,
          37.64114560430457,
          63.13669721853879,
          43.79152255211013,
          65.5568428895908,
          90.83135630167142,
          0.40814356970576365,
          95.48918682456834,
          72.75600479317323,
          64.58876266748159,
          15.698993251491489,
          70.8124598623275,
          9.314970918266619,
          76.78144005091696,
          10.156993650715625,
          27.578929893485082,
          95.00536516542591,
          73.82660242831523,
          52.13126847476272,
          53.424861128274614,
          68.82925495289193,
          32.98834886314665,
          2.982819984854128,
          72.81020427924796,
          44.35736627273831,
          11.22749734055663,
          15.754181509840011,
          36.29104664101656,
          21.83425453367059,
          23.34292575151156,
          61.35534866727516,
          20.562238115564426,
          93.147949154645,
          81.79692055060414,
          60.66160593130419,
          79.61537499386557,
          31.22465143166276,
          83.00409551838571,
          82.65906569550435,
          17.266964323005862,
          7.331848658719328,
          38.7219203129058,
          1.804621394242597,
          33.261015759181326,
          23.427563991551935,
          75.38739210848145,
          3.922209350566161,
          67.25422629754257,
          65.21419680713551,
          59.191613558217064,
          78.80620631595356,
          4.393298184432894,
          31.153605192257714,
          12.776067006806983,
          47.062898932062204,
          35.373339789222264,
          27.316474097623,
          10.599498444478284,
          80.59465945020168,
          89.49311707521304,
          90.27134177344017,
          57.630732141616306,
          96.51102155052767,
          1.714703879583813,
          39.77392769618323,
          19.235105009012425,
          92.36651018767843
         ],
         "y": [
          94.10535732191283,
          66.8164638196255,
          92.88709631424082,
          3.742362139468767,
          95.94431110794896,
          10.448198869917368,
          43.206283695292264,
          44.03080455079771,
          36.43740900477418,
          65.75851338874601,
          80.79403504470578,
          41.38340304348356,
          68.15003203604302,
          12.247445089525868,
          2.5058416825025502,
          7.089808224812394,
          76.1874211198435,
          65.87536046646044,
          64.4866889763809,
          79.26349485133763,
          15.523487036461665,
          42.38093732842855,
          81.66443430429348,
          9.935647020953018,
          62.73394173291471,
          79.7244705925243,
          23.196221289752135,
          34.492934042426704,
          80.68245772673545,
          64.67749195555056,
          27.021906929438657,
          36.50207354789885,
          73.76036322482189,
          42.46257698420042,
          10.267872305196375,
          11.258745391023446,
          73.66695701312908,
          38.53764546297188,
          96.93644033405205,
          33.71274482572023,
          34.59749284520668,
          48.34318223231304,
          26.68425177005429,
          67.24574911172184,
          83.21650371335518,
          84.9243604201135,
          94.55943615997403,
          0.11735295469781566,
          16.66802990927955,
          52.58717006207346,
          38.01397130550027,
          95.24444550639161,
          21.128871870491803,
          65.39897329405643,
          22.67238575446412,
          77.26046234136233,
          59.1916948329586,
          58.089425623661334,
          30.466866881147187,
          84.56362723398152,
          48.7786797149102,
          65.21767184902626,
          26.269023569298742,
          63.729902343709625,
          51.3862749027688,
          79.70334309371076,
          98.66960336176429,
          15.092728928605363,
          24.869268602824974,
          54.44999872544201,
          64.83176460947108,
          74.98117038525217,
          81.79618780282567,
          74.39307292532878,
          76.23148077381795,
          78.53508386674889,
          72.3701103581533,
          45.981324975141376,
          1.0418163365889246,
          58.82671303472481
         ]
        }
       ],
       "layout": {
        "template": {
         "data": {
          "bar": [
           {
            "error_x": {
             "color": "#2a3f5f"
            },
            "error_y": {
             "color": "#2a3f5f"
            },
            "marker": {
             "line": {
              "color": "#E5ECF6",
              "width": 0.5
             }
            },
            "type": "bar"
           }
          ],
          "barpolar": [
           {
            "marker": {
             "line": {
              "color": "#E5ECF6",
              "width": 0.5
             }
            },
            "type": "barpolar"
           }
          ],
          "carpet": [
           {
            "aaxis": {
             "endlinecolor": "#2a3f5f",
             "gridcolor": "white",
             "linecolor": "white",
             "minorgridcolor": "white",
             "startlinecolor": "#2a3f5f"
            },
            "baxis": {
             "endlinecolor": "#2a3f5f",
             "gridcolor": "white",
             "linecolor": "white",
             "minorgridcolor": "white",
             "startlinecolor": "#2a3f5f"
            },
            "type": "carpet"
           }
          ],
          "choropleth": [
           {
            "colorbar": {
             "outlinewidth": 0,
             "ticks": ""
            },
            "type": "choropleth"
           }
          ],
          "contour": [
           {
            "colorbar": {
             "outlinewidth": 0,
             "ticks": ""
            },
            "colorscale": [
             [
              0,
              "#0d0887"
             ],
             [
              0.1111111111111111,
              "#46039f"
             ],
             [
              0.2222222222222222,
              "#7201a8"
             ],
             [
              0.3333333333333333,
              "#9c179e"
             ],
             [
              0.4444444444444444,
              "#bd3786"
             ],
             [
              0.5555555555555556,
              "#d8576b"
             ],
             [
              0.6666666666666666,
              "#ed7953"
             ],
             [
              0.7777777777777778,
              "#fb9f3a"
             ],
             [
              0.8888888888888888,
              "#fdca26"
             ],
             [
              1,
              "#f0f921"
             ]
            ],
            "type": "contour"
           }
          ],
          "contourcarpet": [
           {
            "colorbar": {
             "outlinewidth": 0,
             "ticks": ""
            },
            "type": "contourcarpet"
           }
          ],
          "heatmap": [
           {
            "colorbar": {
             "outlinewidth": 0,
             "ticks": ""
            },
            "colorscale": [
             [
              0,
              "#0d0887"
             ],
             [
              0.1111111111111111,
              "#46039f"
             ],
             [
              0.2222222222222222,
              "#7201a8"
             ],
             [
              0.3333333333333333,
              "#9c179e"
             ],
             [
              0.4444444444444444,
              "#bd3786"
             ],
             [
              0.5555555555555556,
              "#d8576b"
             ],
             [
              0.6666666666666666,
              "#ed7953"
             ],
             [
              0.7777777777777778,
              "#fb9f3a"
             ],
             [
              0.8888888888888888,
              "#fdca26"
             ],
             [
              1,
              "#f0f921"
             ]
            ],
            "type": "heatmap"
           }
          ],
          "heatmapgl": [
           {
            "colorbar": {
             "outlinewidth": 0,
             "ticks": ""
            },
            "colorscale": [
             [
              0,
              "#0d0887"
             ],
             [
              0.1111111111111111,
              "#46039f"
             ],
             [
              0.2222222222222222,
              "#7201a8"
             ],
             [
              0.3333333333333333,
              "#9c179e"
             ],
             [
              0.4444444444444444,
              "#bd3786"
             ],
             [
              0.5555555555555556,
              "#d8576b"
             ],
             [
              0.6666666666666666,
              "#ed7953"
             ],
             [
              0.7777777777777778,
              "#fb9f3a"
             ],
             [
              0.8888888888888888,
              "#fdca26"
             ],
             [
              1,
              "#f0f921"
             ]
            ],
            "type": "heatmapgl"
           }
          ],
          "histogram": [
           {
            "marker": {
             "colorbar": {
              "outlinewidth": 0,
              "ticks": ""
             }
            },
            "type": "histogram"
           }
          ],
          "histogram2d": [
           {
            "colorbar": {
             "outlinewidth": 0,
             "ticks": ""
            },
            "colorscale": [
             [
              0,
              "#0d0887"
             ],
             [
              0.1111111111111111,
              "#46039f"
             ],
             [
              0.2222222222222222,
              "#7201a8"
             ],
             [
              0.3333333333333333,
              "#9c179e"
             ],
             [
              0.4444444444444444,
              "#bd3786"
             ],
             [
              0.5555555555555556,
              "#d8576b"
             ],
             [
              0.6666666666666666,
              "#ed7953"
             ],
             [
              0.7777777777777778,
              "#fb9f3a"
             ],
             [
              0.8888888888888888,
              "#fdca26"
             ],
             [
              1,
              "#f0f921"
             ]
            ],
            "type": "histogram2d"
           }
          ],
          "histogram2dcontour": [
           {
            "colorbar": {
             "outlinewidth": 0,
             "ticks": ""
            },
            "colorscale": [
             [
              0,
              "#0d0887"
             ],
             [
              0.1111111111111111,
              "#46039f"
             ],
             [
              0.2222222222222222,
              "#7201a8"
             ],
             [
              0.3333333333333333,
              "#9c179e"
             ],
             [
              0.4444444444444444,
              "#bd3786"
             ],
             [
              0.5555555555555556,
              "#d8576b"
             ],
             [
              0.6666666666666666,
              "#ed7953"
             ],
             [
              0.7777777777777778,
              "#fb9f3a"
             ],
             [
              0.8888888888888888,
              "#fdca26"
             ],
             [
              1,
              "#f0f921"
             ]
            ],
            "type": "histogram2dcontour"
           }
          ],
          "mesh3d": [
           {
            "colorbar": {
             "outlinewidth": 0,
             "ticks": ""
            },
            "type": "mesh3d"
           }
          ],
          "parcoords": [
           {
            "line": {
             "colorbar": {
              "outlinewidth": 0,
              "ticks": ""
             }
            },
            "type": "parcoords"
           }
          ],
          "pie": [
           {
            "automargin": true,
            "type": "pie"
           }
          ],
          "scatter": [
           {
            "marker": {
             "colorbar": {
              "outlinewidth": 0,
              "ticks": ""
             }
            },
            "type": "scatter"
           }
          ],
          "scatter3d": [
           {
            "line": {
             "colorbar": {
              "outlinewidth": 0,
              "ticks": ""
             }
            },
            "marker": {
             "colorbar": {
              "outlinewidth": 0,
              "ticks": ""
             }
            },
            "type": "scatter3d"
           }
          ],
          "scattercarpet": [
           {
            "marker": {
             "colorbar": {
              "outlinewidth": 0,
              "ticks": ""
             }
            },
            "type": "scattercarpet"
           }
          ],
          "scattergeo": [
           {
            "marker": {
             "colorbar": {
              "outlinewidth": 0,
              "ticks": ""
             }
            },
            "type": "scattergeo"
           }
          ],
          "scattergl": [
           {
            "marker": {
             "colorbar": {
              "outlinewidth": 0,
              "ticks": ""
             }
            },
            "type": "scattergl"
           }
          ],
          "scattermapbox": [
           {
            "marker": {
             "colorbar": {
              "outlinewidth": 0,
              "ticks": ""
             }
            },
            "type": "scattermapbox"
           }
          ],
          "scatterpolar": [
           {
            "marker": {
             "colorbar": {
              "outlinewidth": 0,
              "ticks": ""
             }
            },
            "type": "scatterpolar"
           }
          ],
          "scatterpolargl": [
           {
            "marker": {
             "colorbar": {
              "outlinewidth": 0,
              "ticks": ""
             }
            },
            "type": "scatterpolargl"
           }
          ],
          "scatterternary": [
           {
            "marker": {
             "colorbar": {
              "outlinewidth": 0,
              "ticks": ""
             }
            },
            "type": "scatterternary"
           }
          ],
          "surface": [
           {
            "colorbar": {
             "outlinewidth": 0,
             "ticks": ""
            },
            "colorscale": [
             [
              0,
              "#0d0887"
             ],
             [
              0.1111111111111111,
              "#46039f"
             ],
             [
              0.2222222222222222,
              "#7201a8"
             ],
             [
              0.3333333333333333,
              "#9c179e"
             ],
             [
              0.4444444444444444,
              "#bd3786"
             ],
             [
              0.5555555555555556,
              "#d8576b"
             ],
             [
              0.6666666666666666,
              "#ed7953"
             ],
             [
              0.7777777777777778,
              "#fb9f3a"
             ],
             [
              0.8888888888888888,
              "#fdca26"
             ],
             [
              1,
              "#f0f921"
             ]
            ],
            "type": "surface"
           }
          ],
          "table": [
           {
            "cells": {
             "fill": {
              "color": "#EBF0F8"
             },
             "line": {
              "color": "white"
             }
            },
            "header": {
             "fill": {
              "color": "#C8D4E3"
             },
             "line": {
              "color": "white"
             }
            },
            "type": "table"
           }
          ]
         },
         "layout": {
          "annotationdefaults": {
           "arrowcolor": "#2a3f5f",
           "arrowhead": 0,
           "arrowwidth": 1
          },
          "autotypenumbers": "strict",
          "coloraxis": {
           "colorbar": {
            "outlinewidth": 0,
            "ticks": ""
           }
          },
          "colorscale": {
           "diverging": [
            [
             0,
             "#8e0152"
            ],
            [
             0.1,
             "#c51b7d"
            ],
            [
             0.2,
             "#de77ae"
            ],
            [
             0.3,
             "#f1b6da"
            ],
            [
             0.4,
             "#fde0ef"
            ],
            [
             0.5,
             "#f7f7f7"
            ],
            [
             0.6,
             "#e6f5d0"
            ],
            [
             0.7,
             "#b8e186"
            ],
            [
             0.8,
             "#7fbc41"
            ],
            [
             0.9,
             "#4d9221"
            ],
            [
             1,
             "#276419"
            ]
           ],
           "sequential": [
            [
             0,
             "#0d0887"
            ],
            [
             0.1111111111111111,
             "#46039f"
            ],
            [
             0.2222222222222222,
             "#7201a8"
            ],
            [
             0.3333333333333333,
             "#9c179e"
            ],
            [
             0.4444444444444444,
             "#bd3786"
            ],
            [
             0.5555555555555556,
             "#d8576b"
            ],
            [
             0.6666666666666666,
             "#ed7953"
            ],
            [
             0.7777777777777778,
             "#fb9f3a"
            ],
            [
             0.8888888888888888,
             "#fdca26"
            ],
            [
             1,
             "#f0f921"
            ]
           ],
           "sequentialminus": [
            [
             0,
             "#0d0887"
            ],
            [
             0.1111111111111111,
             "#46039f"
            ],
            [
             0.2222222222222222,
             "#7201a8"
            ],
            [
             0.3333333333333333,
             "#9c179e"
            ],
            [
             0.4444444444444444,
             "#bd3786"
            ],
            [
             0.5555555555555556,
             "#d8576b"
            ],
            [
             0.6666666666666666,
             "#ed7953"
            ],
            [
             0.7777777777777778,
             "#fb9f3a"
            ],
            [
             0.8888888888888888,
             "#fdca26"
            ],
            [
             1,
             "#f0f921"
            ]
           ]
          },
          "colorway": [
           "#636efa",
           "#EF553B",
           "#00cc96",
           "#ab63fa",
           "#FFA15A",
           "#19d3f3",
           "#FF6692",
           "#B6E880",
           "#FF97FF",
           "#FECB52"
          ],
          "font": {
           "color": "#2a3f5f"
          },
          "geo": {
           "bgcolor": "white",
           "lakecolor": "white",
           "landcolor": "#E5ECF6",
           "showlakes": true,
           "showland": true,
           "subunitcolor": "white"
          },
          "hoverlabel": {
           "align": "left"
          },
          "hovermode": "closest",
          "mapbox": {
           "style": "light"
          },
          "paper_bgcolor": "white",
          "plot_bgcolor": "#E5ECF6",
          "polar": {
           "angularaxis": {
            "gridcolor": "white",
            "linecolor": "white",
            "ticks": ""
           },
           "bgcolor": "#E5ECF6",
           "radialaxis": {
            "gridcolor": "white",
            "linecolor": "white",
            "ticks": ""
           }
          },
          "scene": {
           "xaxis": {
            "backgroundcolor": "#E5ECF6",
            "gridcolor": "white",
            "gridwidth": 2,
            "linecolor": "white",
            "showbackground": true,
            "ticks": "",
            "zerolinecolor": "white"
           },
           "yaxis": {
            "backgroundcolor": "#E5ECF6",
            "gridcolor": "white",
            "gridwidth": 2,
            "linecolor": "white",
            "showbackground": true,
            "ticks": "",
            "zerolinecolor": "white"
           },
           "zaxis": {
            "backgroundcolor": "#E5ECF6",
            "gridcolor": "white",
            "gridwidth": 2,
            "linecolor": "white",
            "showbackground": true,
            "ticks": "",
            "zerolinecolor": "white"
           }
          },
          "shapedefaults": {
           "line": {
            "color": "#2a3f5f"
           }
          },
          "ternary": {
           "aaxis": {
            "gridcolor": "white",
            "linecolor": "white",
            "ticks": ""
           },
           "baxis": {
            "gridcolor": "white",
            "linecolor": "white",
            "ticks": ""
           },
           "bgcolor": "#E5ECF6",
           "caxis": {
            "gridcolor": "white",
            "linecolor": "white",
            "ticks": ""
           }
          },
          "title": {
           "x": 0.05
          },
          "xaxis": {
           "automargin": true,
           "gridcolor": "white",
           "linecolor": "white",
           "ticks": "",
           "title": {
            "standoff": 15
           },
           "zerolinecolor": "white",
           "zerolinewidth": 2
          },
          "yaxis": {
           "automargin": true,
           "gridcolor": "white",
           "linecolor": "white",
           "ticks": "",
           "title": {
            "standoff": 15
           },
           "zerolinecolor": "white",
           "zerolinewidth": 2
          }
         }
        }
       }
      },
      "text/html": [
       "<div>                            <div id=\"ad2b4b5c-5a8f-4aeb-a96c-661705c071c6\" class=\"plotly-graph-div\" style=\"height:525px; width:100%;\"></div>            <script type=\"text/javascript\">                require([\"plotly\"], function(Plotly) {                    window.PLOTLYENV=window.PLOTLYENV || {};                                    if (document.getElementById(\"ad2b4b5c-5a8f-4aeb-a96c-661705c071c6\")) {                    Plotly.newPlot(                        \"ad2b4b5c-5a8f-4aeb-a96c-661705c071c6\",                        [{\"marker\": {\"color\": \"red\", \"size\": 5}, \"mode\": \"markers\", \"name\": \"Correct Location\", \"type\": \"scatter\", \"x\": [42.88064026763772, 96.43794837738594, 9.517717210769439, 11.176805406772939, 60.26577110566493, 31.952455210876018, 17.65910167924406, 66.67465076096761, 25.803536958280738, 35.08822141819077, 56.09308366949776, 35.91196456819274, 34.50198152851406, 21.5881909119085, 35.29948412464302, 62.564721600411524, 44.78654912710856, 65.5124421843927, 91.78783905012648, 22.261414940774927, 94.0206206660389, 73.17850540617373, 65.46683746097503, 16.113071834833683, 70.02803443476908, 9.231001419808937, 75.89238854700795, 8.088376883926596, 25.627214187647198, 94.07705542501607, 76.04557522085929, 52.097220709732724, 54.05773469711287, 69.0194696017173, 30.729279303479363, 1.337695917696058, 71.9742418068621, 34.592605680499375, 12.356313590683554, 13.657884365410489, 34.70585847374132, 22.000416504989097, 21.81049082047015, 60.92635847676631, 20.505884713437727, 93.13985002295708, 81.4596881287695, 60.204687078255404, 78.23495477590514, 31.884750581909106, 84.5311269451653, 80.43436692601897, 18.07448724202665, 6.788041147175239, 39.05470410474082, 0.9130746811926826, 32.6869681264944, 24.170502313368292, 78.78240161142085, 5.1681875733570415, 67.31028355521386, 65.4281388561508, 58.95243047182771, 79.6826199954019, 5.464500816061468, 30.23898513762746, 12.23051171154561, 47.36304399974271, 34.97263212500612, 27.93291143831187, 11.023359387031373, 80.48395815608924, 88.93791591121139, 90.48942579881918, 57.208272435341, 97.22194676304771, 1.8761699741689286, 40.310805326490026, 19.816279396445445, 93.3804619334093], \"y\": [95.64807718217244, 66.59835517820845, 91.42210919743201, 3.2159170216683686, 97.78476239396983, 9.080510072952775, 43.79013075691842, 42.52478295092283, 37.00213654857476, 64.16927631115003, 81.41925725179452, 49.7465007099434, 68.3181809786862, 13.564135531720378, 2.124956647784093, 7.995880661127797, 77.46064314952872, 65.01450139481912, 64.253641603972, 78.90447885594985, 16.96254731344685, 40.50371238536381, 79.9949331548928, 8.67744134294357, 62.41383398103238, 78.73678347010153, 23.088460718947402, 34.73576554465565, 82.67433897055686, 66.06814487389565, 25.8553685778787, 38.235549088870435, 77.98467115921733, 42.360772384137, 8.246282367375057, 10.08620113152735, 74.0325397093963, 22.65861985630884, 97.76961342368939, 30.681563492166298, 34.51430714616528, 50.989299221773834, 25.97963612301487, 67.93249463069164, 83.79343055629818, 85.92686357712279, 96.51544503258702, 1.12471927377632, 17.120471714813878, 54.16704055133319, 38.95650045113916, 95.36913937211415, 20.100539959374753, 64.67549892374454, 21.48500013874073, 77.11691783829485, 60.4003683609994, 57.29577889236977, 29.25479947077051, 84.64062433112363, 48.632420597983504, 65.51790931201398, 25.68820202147557, 61.626955061128186, 52.33458975286604, 79.53650973952819, 98.27761520597407, 15.54504426398725, 24.849516234704584, 56.3069590066293, 64.44092914109432, 73.72736661516569, 80.26250188161033, 75.07769005527103, 75.25658895307376, 79.03558173254929, 72.7197454666149, 45.498036128748744, 2.171303655684076, 57.098185052686205]}, {\"marker\": {\"color\": \"blue\", \"size\": 5}, \"mode\": \"markers\", \"name\": \"Estimated Node\", \"type\": \"scatter\", \"x\": [44.816334309983056, 98.53054531039572, 8.526849696249823, 11.560872514457552, 60.56742625080515, 32.58138839201343, 17.077209247203402, 66.14723426878497, 25.151046750259628, 33.51885217857019, 56.503557021881825, 39.670578810005, 33.49262445870759, 19.928993621204466, 37.64114560430457, 63.13669721853879, 43.79152255211013, 65.5568428895908, 90.83135630167142, 0.40814356970576365, 95.48918682456834, 72.75600479317323, 64.58876266748159, 15.698993251491489, 70.8124598623275, 9.314970918266619, 76.78144005091696, 10.156993650715625, 27.578929893485082, 95.00536516542591, 73.82660242831523, 52.13126847476272, 53.424861128274614, 68.82925495289193, 32.98834886314665, 2.982819984854128, 72.81020427924796, 44.35736627273831, 11.22749734055663, 15.754181509840011, 36.29104664101656, 21.83425453367059, 23.34292575151156, 61.35534866727516, 20.562238115564426, 93.147949154645, 81.79692055060414, 60.66160593130419, 79.61537499386557, 31.22465143166276, 83.00409551838571, 82.65906569550435, 17.266964323005862, 7.331848658719328, 38.7219203129058, 1.804621394242597, 33.261015759181326, 23.427563991551935, 75.38739210848145, 3.922209350566161, 67.25422629754257, 65.21419680713551, 59.191613558217064, 78.80620631595356, 4.393298184432894, 31.153605192257714, 12.776067006806983, 47.062898932062204, 35.373339789222264, 27.316474097623, 10.599498444478284, 80.59465945020168, 89.49311707521304, 90.27134177344017, 57.630732141616306, 96.51102155052767, 1.714703879583813, 39.77392769618323, 19.235105009012425, 92.36651018767843], \"y\": [94.10535732191283, 66.8164638196255, 92.88709631424082, 3.742362139468767, 95.94431110794896, 10.448198869917368, 43.206283695292264, 44.03080455079771, 36.43740900477418, 65.75851338874601, 80.79403504470578, 41.38340304348356, 68.15003203604302, 12.247445089525868, 2.5058416825025502, 7.089808224812394, 76.1874211198435, 65.87536046646044, 64.4866889763809, 79.26349485133763, 15.523487036461665, 42.38093732842855, 81.66443430429348, 9.935647020953018, 62.73394173291471, 79.7244705925243, 23.196221289752135, 34.492934042426704, 80.68245772673545, 64.67749195555056, 27.021906929438657, 36.50207354789885, 73.76036322482189, 42.46257698420042, 10.267872305196375, 11.258745391023446, 73.66695701312908, 38.53764546297188, 96.93644033405205, 33.71274482572023, 34.59749284520668, 48.34318223231304, 26.68425177005429, 67.24574911172184, 83.21650371335518, 84.9243604201135, 94.55943615997403, 0.11735295469781566, 16.66802990927955, 52.58717006207346, 38.01397130550027, 95.24444550639161, 21.128871870491803, 65.39897329405643, 22.67238575446412, 77.26046234136233, 59.1916948329586, 58.089425623661334, 30.466866881147187, 84.56362723398152, 48.7786797149102, 65.21767184902626, 26.269023569298742, 63.729902343709625, 51.3862749027688, 79.70334309371076, 98.66960336176429, 15.092728928605363, 24.869268602824974, 54.44999872544201, 64.83176460947108, 74.98117038525217, 81.79618780282567, 74.39307292532878, 76.23148077381795, 78.53508386674889, 72.3701103581533, 45.981324975141376, 1.0418163365889246, 58.82671303472481]}],                        {\"template\": {\"data\": {\"bar\": [{\"error_x\": {\"color\": \"#2a3f5f\"}, \"error_y\": {\"color\": \"#2a3f5f\"}, \"marker\": {\"line\": {\"color\": \"#E5ECF6\", \"width\": 0.5}}, \"type\": \"bar\"}], \"barpolar\": [{\"marker\": {\"line\": {\"color\": \"#E5ECF6\", \"width\": 0.5}}, \"type\": \"barpolar\"}], \"carpet\": [{\"aaxis\": {\"endlinecolor\": \"#2a3f5f\", \"gridcolor\": \"white\", \"linecolor\": \"white\", \"minorgridcolor\": \"white\", \"startlinecolor\": \"#2a3f5f\"}, \"baxis\": {\"endlinecolor\": \"#2a3f5f\", \"gridcolor\": \"white\", \"linecolor\": \"white\", \"minorgridcolor\": \"white\", \"startlinecolor\": \"#2a3f5f\"}, \"type\": \"carpet\"}], \"choropleth\": [{\"colorbar\": {\"outlinewidth\": 0, \"ticks\": \"\"}, \"type\": \"choropleth\"}], \"contour\": [{\"colorbar\": {\"outlinewidth\": 0, \"ticks\": \"\"}, \"colorscale\": [[0.0, \"#0d0887\"], [0.1111111111111111, \"#46039f\"], [0.2222222222222222, \"#7201a8\"], [0.3333333333333333, \"#9c179e\"], [0.4444444444444444, \"#bd3786\"], [0.5555555555555556, \"#d8576b\"], [0.6666666666666666, \"#ed7953\"], [0.7777777777777778, \"#fb9f3a\"], [0.8888888888888888, \"#fdca26\"], [1.0, \"#f0f921\"]], \"type\": \"contour\"}], \"contourcarpet\": [{\"colorbar\": {\"outlinewidth\": 0, \"ticks\": \"\"}, \"type\": \"contourcarpet\"}], \"heatmap\": [{\"colorbar\": {\"outlinewidth\": 0, \"ticks\": \"\"}, \"colorscale\": [[0.0, \"#0d0887\"], [0.1111111111111111, \"#46039f\"], [0.2222222222222222, \"#7201a8\"], [0.3333333333333333, \"#9c179e\"], [0.4444444444444444, \"#bd3786\"], [0.5555555555555556, \"#d8576b\"], [0.6666666666666666, \"#ed7953\"], [0.7777777777777778, \"#fb9f3a\"], [0.8888888888888888, \"#fdca26\"], [1.0, \"#f0f921\"]], \"type\": \"heatmap\"}], \"heatmapgl\": [{\"colorbar\": {\"outlinewidth\": 0, \"ticks\": \"\"}, \"colorscale\": [[0.0, \"#0d0887\"], [0.1111111111111111, \"#46039f\"], [0.2222222222222222, \"#7201a8\"], [0.3333333333333333, \"#9c179e\"], [0.4444444444444444, \"#bd3786\"], [0.5555555555555556, \"#d8576b\"], [0.6666666666666666, \"#ed7953\"], [0.7777777777777778, \"#fb9f3a\"], [0.8888888888888888, \"#fdca26\"], [1.0, \"#f0f921\"]], \"type\": \"heatmapgl\"}], \"histogram\": [{\"marker\": {\"colorbar\": {\"outlinewidth\": 0, \"ticks\": \"\"}}, \"type\": \"histogram\"}], \"histogram2d\": [{\"colorbar\": {\"outlinewidth\": 0, \"ticks\": \"\"}, \"colorscale\": [[0.0, \"#0d0887\"], [0.1111111111111111, \"#46039f\"], [0.2222222222222222, \"#7201a8\"], [0.3333333333333333, \"#9c179e\"], [0.4444444444444444, \"#bd3786\"], [0.5555555555555556, \"#d8576b\"], [0.6666666666666666, \"#ed7953\"], [0.7777777777777778, \"#fb9f3a\"], [0.8888888888888888, \"#fdca26\"], [1.0, \"#f0f921\"]], \"type\": \"histogram2d\"}], \"histogram2dcontour\": [{\"colorbar\": {\"outlinewidth\": 0, \"ticks\": \"\"}, \"colorscale\": [[0.0, \"#0d0887\"], [0.1111111111111111, \"#46039f\"], [0.2222222222222222, \"#7201a8\"], [0.3333333333333333, \"#9c179e\"], [0.4444444444444444, \"#bd3786\"], [0.5555555555555556, \"#d8576b\"], [0.6666666666666666, \"#ed7953\"], [0.7777777777777778, \"#fb9f3a\"], [0.8888888888888888, \"#fdca26\"], [1.0, \"#f0f921\"]], \"type\": \"histogram2dcontour\"}], \"mesh3d\": [{\"colorbar\": {\"outlinewidth\": 0, \"ticks\": \"\"}, \"type\": \"mesh3d\"}], \"parcoords\": [{\"line\": {\"colorbar\": {\"outlinewidth\": 0, \"ticks\": \"\"}}, \"type\": \"parcoords\"}], \"pie\": [{\"automargin\": true, \"type\": \"pie\"}], \"scatter\": [{\"marker\": {\"colorbar\": {\"outlinewidth\": 0, \"ticks\": \"\"}}, \"type\": \"scatter\"}], \"scatter3d\": [{\"line\": {\"colorbar\": {\"outlinewidth\": 0, \"ticks\": \"\"}}, \"marker\": {\"colorbar\": {\"outlinewidth\": 0, \"ticks\": \"\"}}, \"type\": \"scatter3d\"}], \"scattercarpet\": [{\"marker\": {\"colorbar\": {\"outlinewidth\": 0, \"ticks\": \"\"}}, \"type\": \"scattercarpet\"}], \"scattergeo\": [{\"marker\": {\"colorbar\": {\"outlinewidth\": 0, \"ticks\": \"\"}}, \"type\": \"scattergeo\"}], \"scattergl\": [{\"marker\": {\"colorbar\": {\"outlinewidth\": 0, \"ticks\": \"\"}}, \"type\": \"scattergl\"}], \"scattermapbox\": [{\"marker\": {\"colorbar\": {\"outlinewidth\": 0, \"ticks\": \"\"}}, \"type\": \"scattermapbox\"}], \"scatterpolar\": [{\"marker\": {\"colorbar\": {\"outlinewidth\": 0, \"ticks\": \"\"}}, \"type\": \"scatterpolar\"}], \"scatterpolargl\": [{\"marker\": {\"colorbar\": {\"outlinewidth\": 0, \"ticks\": \"\"}}, \"type\": \"scatterpolargl\"}], \"scatterternary\": [{\"marker\": {\"colorbar\": {\"outlinewidth\": 0, \"ticks\": \"\"}}, \"type\": \"scatterternary\"}], \"surface\": [{\"colorbar\": {\"outlinewidth\": 0, \"ticks\": \"\"}, \"colorscale\": [[0.0, \"#0d0887\"], [0.1111111111111111, \"#46039f\"], [0.2222222222222222, \"#7201a8\"], [0.3333333333333333, \"#9c179e\"], [0.4444444444444444, \"#bd3786\"], [0.5555555555555556, \"#d8576b\"], [0.6666666666666666, \"#ed7953\"], [0.7777777777777778, \"#fb9f3a\"], [0.8888888888888888, \"#fdca26\"], [1.0, \"#f0f921\"]], \"type\": \"surface\"}], \"table\": [{\"cells\": {\"fill\": {\"color\": \"#EBF0F8\"}, \"line\": {\"color\": \"white\"}}, \"header\": {\"fill\": {\"color\": \"#C8D4E3\"}, \"line\": {\"color\": \"white\"}}, \"type\": \"table\"}]}, \"layout\": {\"annotationdefaults\": {\"arrowcolor\": \"#2a3f5f\", \"arrowhead\": 0, \"arrowwidth\": 1}, \"autotypenumbers\": \"strict\", \"coloraxis\": {\"colorbar\": {\"outlinewidth\": 0, \"ticks\": \"\"}}, \"colorscale\": {\"diverging\": [[0, \"#8e0152\"], [0.1, \"#c51b7d\"], [0.2, \"#de77ae\"], [0.3, \"#f1b6da\"], [0.4, \"#fde0ef\"], [0.5, \"#f7f7f7\"], [0.6, \"#e6f5d0\"], [0.7, \"#b8e186\"], [0.8, \"#7fbc41\"], [0.9, \"#4d9221\"], [1, \"#276419\"]], \"sequential\": [[0.0, \"#0d0887\"], [0.1111111111111111, \"#46039f\"], [0.2222222222222222, \"#7201a8\"], [0.3333333333333333, \"#9c179e\"], [0.4444444444444444, \"#bd3786\"], [0.5555555555555556, \"#d8576b\"], [0.6666666666666666, \"#ed7953\"], [0.7777777777777778, \"#fb9f3a\"], [0.8888888888888888, \"#fdca26\"], [1.0, \"#f0f921\"]], \"sequentialminus\": [[0.0, \"#0d0887\"], [0.1111111111111111, \"#46039f\"], [0.2222222222222222, \"#7201a8\"], [0.3333333333333333, \"#9c179e\"], [0.4444444444444444, \"#bd3786\"], [0.5555555555555556, \"#d8576b\"], [0.6666666666666666, \"#ed7953\"], [0.7777777777777778, \"#fb9f3a\"], [0.8888888888888888, \"#fdca26\"], [1.0, \"#f0f921\"]]}, \"colorway\": [\"#636efa\", \"#EF553B\", \"#00cc96\", \"#ab63fa\", \"#FFA15A\", \"#19d3f3\", \"#FF6692\", \"#B6E880\", \"#FF97FF\", \"#FECB52\"], \"font\": {\"color\": \"#2a3f5f\"}, \"geo\": {\"bgcolor\": \"white\", \"lakecolor\": \"white\", \"landcolor\": \"#E5ECF6\", \"showlakes\": true, \"showland\": true, \"subunitcolor\": \"white\"}, \"hoverlabel\": {\"align\": \"left\"}, \"hovermode\": \"closest\", \"mapbox\": {\"style\": \"light\"}, \"paper_bgcolor\": \"white\", \"plot_bgcolor\": \"#E5ECF6\", \"polar\": {\"angularaxis\": {\"gridcolor\": \"white\", \"linecolor\": \"white\", \"ticks\": \"\"}, \"bgcolor\": \"#E5ECF6\", \"radialaxis\": {\"gridcolor\": \"white\", \"linecolor\": \"white\", \"ticks\": \"\"}}, \"scene\": {\"xaxis\": {\"backgroundcolor\": \"#E5ECF6\", \"gridcolor\": \"white\", \"gridwidth\": 2, \"linecolor\": \"white\", \"showbackground\": true, \"ticks\": \"\", \"zerolinecolor\": \"white\"}, \"yaxis\": {\"backgroundcolor\": \"#E5ECF6\", \"gridcolor\": \"white\", \"gridwidth\": 2, \"linecolor\": \"white\", \"showbackground\": true, \"ticks\": \"\", \"zerolinecolor\": \"white\"}, \"zaxis\": {\"backgroundcolor\": \"#E5ECF6\", \"gridcolor\": \"white\", \"gridwidth\": 2, \"linecolor\": \"white\", \"showbackground\": true, \"ticks\": \"\", \"zerolinecolor\": \"white\"}}, \"shapedefaults\": {\"line\": {\"color\": \"#2a3f5f\"}}, \"ternary\": {\"aaxis\": {\"gridcolor\": \"white\", \"linecolor\": \"white\", \"ticks\": \"\"}, \"baxis\": {\"gridcolor\": \"white\", \"linecolor\": \"white\", \"ticks\": \"\"}, \"bgcolor\": \"#E5ECF6\", \"caxis\": {\"gridcolor\": \"white\", \"linecolor\": \"white\", \"ticks\": \"\"}}, \"title\": {\"x\": 0.05}, \"xaxis\": {\"automargin\": true, \"gridcolor\": \"white\", \"linecolor\": \"white\", \"ticks\": \"\", \"title\": {\"standoff\": 15}, \"zerolinecolor\": \"white\", \"zerolinewidth\": 2}, \"yaxis\": {\"automargin\": true, \"gridcolor\": \"white\", \"linecolor\": \"white\", \"ticks\": \"\", \"title\": {\"standoff\": 15}, \"zerolinecolor\": \"white\", \"zerolinewidth\": 2}}}},                        {\"responsive\": true}                    ).then(function(){\n",
       "                            \n",
       "var gd = document.getElementById('ad2b4b5c-5a8f-4aeb-a96c-661705c071c6');\n",
       "var x = new MutationObserver(function (mutations, observer) {{\n",
       "        var display = window.getComputedStyle(gd).display;\n",
       "        if (!display || display === 'none') {{\n",
       "            console.log([gd, 'removed!']);\n",
       "            Plotly.purge(gd);\n",
       "            observer.disconnect();\n",
       "        }}\n",
       "}});\n",
       "\n",
       "// Listen for the removal of the full notebook cells\n",
       "var notebookContainer = gd.closest('#notebook-container');\n",
       "if (notebookContainer) {{\n",
       "    x.observe(notebookContainer, {childList: true});\n",
       "}}\n",
       "\n",
       "// Listen for the clearing of the current output cell\n",
       "var outputEl = gd.closest('.output');\n",
       "if (outputEl) {{\n",
       "    x.observe(outputEl, {childList: true});\n",
       "}}\n",
       "\n",
       "                        })                };                });            </script>        </div>"
      ]
     },
     "metadata": {},
     "output_type": "display_data"
    }
   ],
   "source": [
    "plot3(original_node, estimated_node)"
   ]
  },
  {
   "cell_type": "code",
   "execution_count": 8,
   "id": "77ea653a",
   "metadata": {},
   "outputs": [],
   "source": [
    "data = []\n",
    "\n",
    "original_node_name = \"Correct Location\"\n",
    "original_nodes = {\"x\" : x_original_node,\n",
    "               \"y\" : y_original_node,\n",
    "               \"mode\" : \"markers\",\n",
    "               \"marker\" : {\"color\" : \"red\", \"size\":5},\n",
    "               \"name\" : original_node_name\n",
    "              }\n",
    "\n",
    "estimated_node_name = \"Estimated Nodes\"\n",
    "estimated_nodes1 = {\"x\" : x_estimated_node,\n",
    "              \"y\" : y_estimated_node,\n",
    "              \"mode\" : \"markers\",\n",
    "              \"marker\" : {\"color\" : \"blue\", \"size\" : 5},\n",
    "              \"name\" : estimated_node_name\n",
    "             }    \n",
    "\n",
    "x_black_nodes = [black_nodes[i].x_coord for i in range(len(black_nodes))]\n",
    "y_black_nodes = [black_nodes[i].y_coord for i in range(len(black_nodes))]\n",
    "\n",
    "name_black = \"Black Nodes (\" + str(len(black_nodes)) + \")\"\n",
    "black_nodes = {\"x\" : x_black_nodes,\n",
    "               \"y\" : y_black_nodes,\n",
    "               \"mode\" : \"markers\",\n",
    "               \"marker\" : {\"color\" : \"black\", \"size\":5},\n",
    "               \"name\" : name_black\n",
    "              }\n",
    "\n",
    "data.append(original_nodes)\n",
    "data.append(estimated_nodes1)\n",
    "data.append(black_nodes)\n",
    "\n",
    "for node in estimated_nodes:\n",
    "    trace = go.Scatter(\n",
    "        x = [node.x_coord, node.x_estimated],\n",
    "        y = [node.y_coord, node.y_estimated],\n",
    "        mode = 'lines',\n",
    "        name = 'Node ' + str(node.id),\n",
    "        marker = dict(\n",
    "            size = 10,\n",
    "            color = 'black',\n",
    "            line = dict(\n",
    "                width = 1,\n",
    "                color = 'black'\n",
    "            )\n",
    "        )\n",
    "    )\n",
    "    data.append(trace)"
   ]
  },
  {
   "cell_type": "code",
   "execution_count": 9,
   "id": "f3149da3",
   "metadata": {},
   "outputs": [
    {
     "data": {
      "application/vnd.plotly.v1+json": {
       "config": {
        "linkText": "Export to plot.ly",
        "plotlyServerURL": "https://plot.ly",
        "showLink": false
       },
       "data": [
        {
         "marker": {
          "color": "red",
          "size": 5
         },
         "mode": "markers",
         "name": "Correct Location",
         "type": "scatter",
         "x": [
          42.88064026763772,
          96.43794837738594,
          9.517717210769439,
          11.176805406772939,
          60.26577110566493,
          31.952455210876018,
          17.65910167924406,
          66.67465076096761,
          25.803536958280738,
          35.08822141819077,
          56.09308366949776,
          35.91196456819274,
          34.50198152851406,
          21.5881909119085,
          35.29948412464302,
          62.564721600411524,
          44.78654912710856,
          65.5124421843927,
          91.78783905012648,
          22.261414940774927,
          94.0206206660389,
          73.17850540617373,
          65.46683746097503,
          16.113071834833683,
          70.02803443476908,
          9.231001419808937,
          75.89238854700795,
          8.088376883926596,
          25.627214187647198,
          94.07705542501607,
          76.04557522085929,
          52.097220709732724,
          54.05773469711287,
          69.0194696017173,
          30.729279303479363,
          1.337695917696058,
          71.9742418068621,
          34.592605680499375,
          12.356313590683554,
          13.657884365410489,
          34.70585847374132,
          22.000416504989097,
          21.81049082047015,
          60.92635847676631,
          20.505884713437727,
          93.13985002295708,
          81.4596881287695,
          60.204687078255404,
          78.23495477590514,
          31.884750581909106,
          84.5311269451653,
          80.43436692601897,
          18.07448724202665,
          6.788041147175239,
          39.05470410474082,
          0.9130746811926826,
          32.6869681264944,
          24.170502313368292,
          78.78240161142085,
          5.1681875733570415,
          67.31028355521386,
          65.4281388561508,
          58.95243047182771,
          79.6826199954019,
          5.464500816061468,
          30.23898513762746,
          12.23051171154561,
          47.36304399974271,
          34.97263212500612,
          27.93291143831187,
          11.023359387031373,
          80.48395815608924,
          88.93791591121139,
          90.48942579881918,
          57.208272435341,
          97.22194676304771,
          1.8761699741689286,
          40.310805326490026,
          19.816279396445445,
          93.3804619334093
         ],
         "y": [
          95.64807718217244,
          66.59835517820845,
          91.42210919743201,
          3.2159170216683686,
          97.78476239396983,
          9.080510072952775,
          43.79013075691842,
          42.52478295092283,
          37.00213654857476,
          64.16927631115003,
          81.41925725179452,
          49.7465007099434,
          68.3181809786862,
          13.564135531720378,
          2.124956647784093,
          7.995880661127797,
          77.46064314952872,
          65.01450139481912,
          64.253641603972,
          78.90447885594985,
          16.96254731344685,
          40.50371238536381,
          79.9949331548928,
          8.67744134294357,
          62.41383398103238,
          78.73678347010153,
          23.088460718947402,
          34.73576554465565,
          82.67433897055686,
          66.06814487389565,
          25.8553685778787,
          38.235549088870435,
          77.98467115921733,
          42.360772384137,
          8.246282367375057,
          10.08620113152735,
          74.0325397093963,
          22.65861985630884,
          97.76961342368939,
          30.681563492166298,
          34.51430714616528,
          50.989299221773834,
          25.97963612301487,
          67.93249463069164,
          83.79343055629818,
          85.92686357712279,
          96.51544503258702,
          1.12471927377632,
          17.120471714813878,
          54.16704055133319,
          38.95650045113916,
          95.36913937211415,
          20.100539959374753,
          64.67549892374454,
          21.48500013874073,
          77.11691783829485,
          60.4003683609994,
          57.29577889236977,
          29.25479947077051,
          84.64062433112363,
          48.632420597983504,
          65.51790931201398,
          25.68820202147557,
          61.626955061128186,
          52.33458975286604,
          79.53650973952819,
          98.27761520597407,
          15.54504426398725,
          24.849516234704584,
          56.3069590066293,
          64.44092914109432,
          73.72736661516569,
          80.26250188161033,
          75.07769005527103,
          75.25658895307376,
          79.03558173254929,
          72.7197454666149,
          45.498036128748744,
          2.171303655684076,
          57.098185052686205
         ]
        },
        {
         "marker": {
          "color": "blue",
          "size": 5
         },
         "mode": "markers",
         "name": "Estimated Nodes",
         "type": "scatter",
         "x": [
          44.816334309983056,
          98.53054531039572,
          8.526849696249823,
          11.560872514457552,
          60.56742625080515,
          32.58138839201343,
          17.077209247203402,
          66.14723426878497,
          25.151046750259628,
          33.51885217857019,
          56.503557021881825,
          39.670578810005,
          33.49262445870759,
          19.928993621204466,
          37.64114560430457,
          63.13669721853879,
          43.79152255211013,
          65.5568428895908,
          90.83135630167142,
          0.40814356970576365,
          95.48918682456834,
          72.75600479317323,
          64.58876266748159,
          15.698993251491489,
          70.8124598623275,
          9.314970918266619,
          76.78144005091696,
          10.156993650715625,
          27.578929893485082,
          95.00536516542591,
          73.82660242831523,
          52.13126847476272,
          53.424861128274614,
          68.82925495289193,
          32.98834886314665,
          2.982819984854128,
          72.81020427924796,
          44.35736627273831,
          11.22749734055663,
          15.754181509840011,
          36.29104664101656,
          21.83425453367059,
          23.34292575151156,
          61.35534866727516,
          20.562238115564426,
          93.147949154645,
          81.79692055060414,
          60.66160593130419,
          79.61537499386557,
          31.22465143166276,
          83.00409551838571,
          82.65906569550435,
          17.266964323005862,
          7.331848658719328,
          38.7219203129058,
          1.804621394242597,
          33.261015759181326,
          23.427563991551935,
          75.38739210848145,
          3.922209350566161,
          67.25422629754257,
          65.21419680713551,
          59.191613558217064,
          78.80620631595356,
          4.393298184432894,
          31.153605192257714,
          12.776067006806983,
          47.062898932062204,
          35.373339789222264,
          27.316474097623,
          10.599498444478284,
          80.59465945020168,
          89.49311707521304,
          90.27134177344017,
          57.630732141616306,
          96.51102155052767,
          1.714703879583813,
          39.77392769618323,
          19.235105009012425,
          92.36651018767843
         ],
         "y": [
          94.10535732191283,
          66.8164638196255,
          92.88709631424082,
          3.742362139468767,
          95.94431110794896,
          10.448198869917368,
          43.206283695292264,
          44.03080455079771,
          36.43740900477418,
          65.75851338874601,
          80.79403504470578,
          41.38340304348356,
          68.15003203604302,
          12.247445089525868,
          2.5058416825025502,
          7.089808224812394,
          76.1874211198435,
          65.87536046646044,
          64.4866889763809,
          79.26349485133763,
          15.523487036461665,
          42.38093732842855,
          81.66443430429348,
          9.935647020953018,
          62.73394173291471,
          79.7244705925243,
          23.196221289752135,
          34.492934042426704,
          80.68245772673545,
          64.67749195555056,
          27.021906929438657,
          36.50207354789885,
          73.76036322482189,
          42.46257698420042,
          10.267872305196375,
          11.258745391023446,
          73.66695701312908,
          38.53764546297188,
          96.93644033405205,
          33.71274482572023,
          34.59749284520668,
          48.34318223231304,
          26.68425177005429,
          67.24574911172184,
          83.21650371335518,
          84.9243604201135,
          94.55943615997403,
          0.11735295469781566,
          16.66802990927955,
          52.58717006207346,
          38.01397130550027,
          95.24444550639161,
          21.128871870491803,
          65.39897329405643,
          22.67238575446412,
          77.26046234136233,
          59.1916948329586,
          58.089425623661334,
          30.466866881147187,
          84.56362723398152,
          48.7786797149102,
          65.21767184902626,
          26.269023569298742,
          63.729902343709625,
          51.3862749027688,
          79.70334309371076,
          98.66960336176429,
          15.092728928605363,
          24.869268602824974,
          54.44999872544201,
          64.83176460947108,
          74.98117038525217,
          81.79618780282567,
          74.39307292532878,
          76.23148077381795,
          78.53508386674889,
          72.3701103581533,
          45.981324975141376,
          1.0418163365889246,
          58.82671303472481
         ]
        },
        {
         "marker": {
          "color": "black",
          "size": 5
         },
         "mode": "markers",
         "name": "Black Nodes (0)",
         "type": "scatter",
         "x": [],
         "y": []
        },
        {
         "marker": {
          "color": "black",
          "line": {
           "color": "black",
           "width": 1
          },
          "size": 10
         },
         "mode": "lines",
         "name": "Node 20",
         "type": "scatter",
         "x": [
          42.88064026763772,
          44.816334309983056
         ],
         "y": [
          95.64807718217244,
          94.10535732191283
         ]
        },
        {
         "marker": {
          "color": "black",
          "line": {
           "color": "black",
           "width": 1
          },
          "size": 10
         },
         "mode": "lines",
         "name": "Node 21",
         "type": "scatter",
         "x": [
          96.43794837738594,
          98.53054531039572
         ],
         "y": [
          66.59835517820845,
          66.8164638196255
         ]
        },
        {
         "marker": {
          "color": "black",
          "line": {
           "color": "black",
           "width": 1
          },
          "size": 10
         },
         "mode": "lines",
         "name": "Node 22",
         "type": "scatter",
         "x": [
          9.517717210769439,
          8.526849696249823
         ],
         "y": [
          91.42210919743201,
          92.88709631424082
         ]
        },
        {
         "marker": {
          "color": "black",
          "line": {
           "color": "black",
           "width": 1
          },
          "size": 10
         },
         "mode": "lines",
         "name": "Node 23",
         "type": "scatter",
         "x": [
          11.176805406772939,
          11.560872514457552
         ],
         "y": [
          3.2159170216683686,
          3.742362139468767
         ]
        },
        {
         "marker": {
          "color": "black",
          "line": {
           "color": "black",
           "width": 1
          },
          "size": 10
         },
         "mode": "lines",
         "name": "Node 24",
         "type": "scatter",
         "x": [
          60.26577110566493,
          60.56742625080515
         ],
         "y": [
          97.78476239396983,
          95.94431110794896
         ]
        },
        {
         "marker": {
          "color": "black",
          "line": {
           "color": "black",
           "width": 1
          },
          "size": 10
         },
         "mode": "lines",
         "name": "Node 25",
         "type": "scatter",
         "x": [
          31.952455210876018,
          32.58138839201343
         ],
         "y": [
          9.080510072952775,
          10.448198869917368
         ]
        },
        {
         "marker": {
          "color": "black",
          "line": {
           "color": "black",
           "width": 1
          },
          "size": 10
         },
         "mode": "lines",
         "name": "Node 26",
         "type": "scatter",
         "x": [
          17.65910167924406,
          17.077209247203402
         ],
         "y": [
          43.79013075691842,
          43.206283695292264
         ]
        },
        {
         "marker": {
          "color": "black",
          "line": {
           "color": "black",
           "width": 1
          },
          "size": 10
         },
         "mode": "lines",
         "name": "Node 27",
         "type": "scatter",
         "x": [
          66.67465076096761,
          66.14723426878497
         ],
         "y": [
          42.52478295092283,
          44.03080455079771
         ]
        },
        {
         "marker": {
          "color": "black",
          "line": {
           "color": "black",
           "width": 1
          },
          "size": 10
         },
         "mode": "lines",
         "name": "Node 28",
         "type": "scatter",
         "x": [
          25.803536958280738,
          25.151046750259628
         ],
         "y": [
          37.00213654857476,
          36.43740900477418
         ]
        },
        {
         "marker": {
          "color": "black",
          "line": {
           "color": "black",
           "width": 1
          },
          "size": 10
         },
         "mode": "lines",
         "name": "Node 29",
         "type": "scatter",
         "x": [
          35.08822141819077,
          33.51885217857019
         ],
         "y": [
          64.16927631115003,
          65.75851338874601
         ]
        },
        {
         "marker": {
          "color": "black",
          "line": {
           "color": "black",
           "width": 1
          },
          "size": 10
         },
         "mode": "lines",
         "name": "Node 30",
         "type": "scatter",
         "x": [
          56.09308366949776,
          56.503557021881825
         ],
         "y": [
          81.41925725179452,
          80.79403504470578
         ]
        },
        {
         "marker": {
          "color": "black",
          "line": {
           "color": "black",
           "width": 1
          },
          "size": 10
         },
         "mode": "lines",
         "name": "Node 31",
         "type": "scatter",
         "x": [
          35.91196456819274,
          39.670578810005
         ],
         "y": [
          49.7465007099434,
          41.38340304348356
         ]
        },
        {
         "marker": {
          "color": "black",
          "line": {
           "color": "black",
           "width": 1
          },
          "size": 10
         },
         "mode": "lines",
         "name": "Node 32",
         "type": "scatter",
         "x": [
          34.50198152851406,
          33.49262445870759
         ],
         "y": [
          68.3181809786862,
          68.15003203604302
         ]
        },
        {
         "marker": {
          "color": "black",
          "line": {
           "color": "black",
           "width": 1
          },
          "size": 10
         },
         "mode": "lines",
         "name": "Node 33",
         "type": "scatter",
         "x": [
          21.5881909119085,
          19.928993621204466
         ],
         "y": [
          13.564135531720378,
          12.247445089525868
         ]
        },
        {
         "marker": {
          "color": "black",
          "line": {
           "color": "black",
           "width": 1
          },
          "size": 10
         },
         "mode": "lines",
         "name": "Node 34",
         "type": "scatter",
         "x": [
          35.29948412464302,
          37.64114560430457
         ],
         "y": [
          2.124956647784093,
          2.5058416825025502
         ]
        },
        {
         "marker": {
          "color": "black",
          "line": {
           "color": "black",
           "width": 1
          },
          "size": 10
         },
         "mode": "lines",
         "name": "Node 35",
         "type": "scatter",
         "x": [
          62.564721600411524,
          63.13669721853879
         ],
         "y": [
          7.995880661127797,
          7.089808224812394
         ]
        },
        {
         "marker": {
          "color": "black",
          "line": {
           "color": "black",
           "width": 1
          },
          "size": 10
         },
         "mode": "lines",
         "name": "Node 36",
         "type": "scatter",
         "x": [
          44.78654912710856,
          43.79152255211013
         ],
         "y": [
          77.46064314952872,
          76.1874211198435
         ]
        },
        {
         "marker": {
          "color": "black",
          "line": {
           "color": "black",
           "width": 1
          },
          "size": 10
         },
         "mode": "lines",
         "name": "Node 37",
         "type": "scatter",
         "x": [
          65.5124421843927,
          65.5568428895908
         ],
         "y": [
          65.01450139481912,
          65.87536046646044
         ]
        },
        {
         "marker": {
          "color": "black",
          "line": {
           "color": "black",
           "width": 1
          },
          "size": 10
         },
         "mode": "lines",
         "name": "Node 38",
         "type": "scatter",
         "x": [
          91.78783905012648,
          90.83135630167142
         ],
         "y": [
          64.253641603972,
          64.4866889763809
         ]
        },
        {
         "marker": {
          "color": "black",
          "line": {
           "color": "black",
           "width": 1
          },
          "size": 10
         },
         "mode": "lines",
         "name": "Node 39",
         "type": "scatter",
         "x": [
          22.261414940774927,
          0.40814356970576365
         ],
         "y": [
          78.90447885594985,
          79.26349485133763
         ]
        },
        {
         "marker": {
          "color": "black",
          "line": {
           "color": "black",
           "width": 1
          },
          "size": 10
         },
         "mode": "lines",
         "name": "Node 40",
         "type": "scatter",
         "x": [
          94.0206206660389,
          95.48918682456834
         ],
         "y": [
          16.96254731344685,
          15.523487036461665
         ]
        },
        {
         "marker": {
          "color": "black",
          "line": {
           "color": "black",
           "width": 1
          },
          "size": 10
         },
         "mode": "lines",
         "name": "Node 41",
         "type": "scatter",
         "x": [
          73.17850540617373,
          72.75600479317323
         ],
         "y": [
          40.50371238536381,
          42.38093732842855
         ]
        },
        {
         "marker": {
          "color": "black",
          "line": {
           "color": "black",
           "width": 1
          },
          "size": 10
         },
         "mode": "lines",
         "name": "Node 42",
         "type": "scatter",
         "x": [
          65.46683746097503,
          64.58876266748159
         ],
         "y": [
          79.9949331548928,
          81.66443430429348
         ]
        },
        {
         "marker": {
          "color": "black",
          "line": {
           "color": "black",
           "width": 1
          },
          "size": 10
         },
         "mode": "lines",
         "name": "Node 43",
         "type": "scatter",
         "x": [
          16.113071834833683,
          15.698993251491489
         ],
         "y": [
          8.67744134294357,
          9.935647020953018
         ]
        },
        {
         "marker": {
          "color": "black",
          "line": {
           "color": "black",
           "width": 1
          },
          "size": 10
         },
         "mode": "lines",
         "name": "Node 44",
         "type": "scatter",
         "x": [
          70.02803443476908,
          70.8124598623275
         ],
         "y": [
          62.41383398103238,
          62.73394173291471
         ]
        },
        {
         "marker": {
          "color": "black",
          "line": {
           "color": "black",
           "width": 1
          },
          "size": 10
         },
         "mode": "lines",
         "name": "Node 45",
         "type": "scatter",
         "x": [
          9.231001419808937,
          9.314970918266619
         ],
         "y": [
          78.73678347010153,
          79.7244705925243
         ]
        },
        {
         "marker": {
          "color": "black",
          "line": {
           "color": "black",
           "width": 1
          },
          "size": 10
         },
         "mode": "lines",
         "name": "Node 46",
         "type": "scatter",
         "x": [
          75.89238854700795,
          76.78144005091696
         ],
         "y": [
          23.088460718947402,
          23.196221289752135
         ]
        },
        {
         "marker": {
          "color": "black",
          "line": {
           "color": "black",
           "width": 1
          },
          "size": 10
         },
         "mode": "lines",
         "name": "Node 47",
         "type": "scatter",
         "x": [
          8.088376883926596,
          10.156993650715625
         ],
         "y": [
          34.73576554465565,
          34.492934042426704
         ]
        },
        {
         "marker": {
          "color": "black",
          "line": {
           "color": "black",
           "width": 1
          },
          "size": 10
         },
         "mode": "lines",
         "name": "Node 48",
         "type": "scatter",
         "x": [
          25.627214187647198,
          27.578929893485082
         ],
         "y": [
          82.67433897055686,
          80.68245772673545
         ]
        },
        {
         "marker": {
          "color": "black",
          "line": {
           "color": "black",
           "width": 1
          },
          "size": 10
         },
         "mode": "lines",
         "name": "Node 49",
         "type": "scatter",
         "x": [
          94.07705542501607,
          95.00536516542591
         ],
         "y": [
          66.06814487389565,
          64.67749195555056
         ]
        },
        {
         "marker": {
          "color": "black",
          "line": {
           "color": "black",
           "width": 1
          },
          "size": 10
         },
         "mode": "lines",
         "name": "Node 50",
         "type": "scatter",
         "x": [
          76.04557522085929,
          73.82660242831523
         ],
         "y": [
          25.8553685778787,
          27.021906929438657
         ]
        },
        {
         "marker": {
          "color": "black",
          "line": {
           "color": "black",
           "width": 1
          },
          "size": 10
         },
         "mode": "lines",
         "name": "Node 51",
         "type": "scatter",
         "x": [
          52.097220709732724,
          52.13126847476272
         ],
         "y": [
          38.235549088870435,
          36.50207354789885
         ]
        },
        {
         "marker": {
          "color": "black",
          "line": {
           "color": "black",
           "width": 1
          },
          "size": 10
         },
         "mode": "lines",
         "name": "Node 52",
         "type": "scatter",
         "x": [
          54.05773469711287,
          53.424861128274614
         ],
         "y": [
          77.98467115921733,
          73.76036322482189
         ]
        },
        {
         "marker": {
          "color": "black",
          "line": {
           "color": "black",
           "width": 1
          },
          "size": 10
         },
         "mode": "lines",
         "name": "Node 53",
         "type": "scatter",
         "x": [
          69.0194696017173,
          68.82925495289193
         ],
         "y": [
          42.360772384137,
          42.46257698420042
         ]
        },
        {
         "marker": {
          "color": "black",
          "line": {
           "color": "black",
           "width": 1
          },
          "size": 10
         },
         "mode": "lines",
         "name": "Node 54",
         "type": "scatter",
         "x": [
          30.729279303479363,
          32.98834886314665
         ],
         "y": [
          8.246282367375057,
          10.267872305196375
         ]
        },
        {
         "marker": {
          "color": "black",
          "line": {
           "color": "black",
           "width": 1
          },
          "size": 10
         },
         "mode": "lines",
         "name": "Node 55",
         "type": "scatter",
         "x": [
          1.337695917696058,
          2.982819984854128
         ],
         "y": [
          10.08620113152735,
          11.258745391023446
         ]
        },
        {
         "marker": {
          "color": "black",
          "line": {
           "color": "black",
           "width": 1
          },
          "size": 10
         },
         "mode": "lines",
         "name": "Node 56",
         "type": "scatter",
         "x": [
          71.9742418068621,
          72.81020427924796
         ],
         "y": [
          74.0325397093963,
          73.66695701312908
         ]
        },
        {
         "marker": {
          "color": "black",
          "line": {
           "color": "black",
           "width": 1
          },
          "size": 10
         },
         "mode": "lines",
         "name": "Node 57",
         "type": "scatter",
         "x": [
          34.592605680499375,
          44.35736627273831
         ],
         "y": [
          22.65861985630884,
          38.53764546297188
         ]
        },
        {
         "marker": {
          "color": "black",
          "line": {
           "color": "black",
           "width": 1
          },
          "size": 10
         },
         "mode": "lines",
         "name": "Node 58",
         "type": "scatter",
         "x": [
          12.356313590683554,
          11.22749734055663
         ],
         "y": [
          97.76961342368939,
          96.93644033405205
         ]
        },
        {
         "marker": {
          "color": "black",
          "line": {
           "color": "black",
           "width": 1
          },
          "size": 10
         },
         "mode": "lines",
         "name": "Node 59",
         "type": "scatter",
         "x": [
          13.657884365410489,
          15.754181509840011
         ],
         "y": [
          30.681563492166298,
          33.71274482572023
         ]
        },
        {
         "marker": {
          "color": "black",
          "line": {
           "color": "black",
           "width": 1
          },
          "size": 10
         },
         "mode": "lines",
         "name": "Node 60",
         "type": "scatter",
         "x": [
          34.70585847374132,
          36.29104664101656
         ],
         "y": [
          34.51430714616528,
          34.59749284520668
         ]
        },
        {
         "marker": {
          "color": "black",
          "line": {
           "color": "black",
           "width": 1
          },
          "size": 10
         },
         "mode": "lines",
         "name": "Node 61",
         "type": "scatter",
         "x": [
          22.000416504989097,
          21.83425453367059
         ],
         "y": [
          50.989299221773834,
          48.34318223231304
         ]
        },
        {
         "marker": {
          "color": "black",
          "line": {
           "color": "black",
           "width": 1
          },
          "size": 10
         },
         "mode": "lines",
         "name": "Node 62",
         "type": "scatter",
         "x": [
          21.81049082047015,
          23.34292575151156
         ],
         "y": [
          25.97963612301487,
          26.68425177005429
         ]
        },
        {
         "marker": {
          "color": "black",
          "line": {
           "color": "black",
           "width": 1
          },
          "size": 10
         },
         "mode": "lines",
         "name": "Node 63",
         "type": "scatter",
         "x": [
          60.92635847676631,
          61.35534866727516
         ],
         "y": [
          67.93249463069164,
          67.24574911172184
         ]
        },
        {
         "marker": {
          "color": "black",
          "line": {
           "color": "black",
           "width": 1
          },
          "size": 10
         },
         "mode": "lines",
         "name": "Node 64",
         "type": "scatter",
         "x": [
          20.505884713437727,
          20.562238115564426
         ],
         "y": [
          83.79343055629818,
          83.21650371335518
         ]
        },
        {
         "marker": {
          "color": "black",
          "line": {
           "color": "black",
           "width": 1
          },
          "size": 10
         },
         "mode": "lines",
         "name": "Node 65",
         "type": "scatter",
         "x": [
          93.13985002295708,
          93.147949154645
         ],
         "y": [
          85.92686357712279,
          84.9243604201135
         ]
        },
        {
         "marker": {
          "color": "black",
          "line": {
           "color": "black",
           "width": 1
          },
          "size": 10
         },
         "mode": "lines",
         "name": "Node 66",
         "type": "scatter",
         "x": [
          81.4596881287695,
          81.79692055060414
         ],
         "y": [
          96.51544503258702,
          94.55943615997403
         ]
        },
        {
         "marker": {
          "color": "black",
          "line": {
           "color": "black",
           "width": 1
          },
          "size": 10
         },
         "mode": "lines",
         "name": "Node 67",
         "type": "scatter",
         "x": [
          60.204687078255404,
          60.66160593130419
         ],
         "y": [
          1.12471927377632,
          0.11735295469781566
         ]
        },
        {
         "marker": {
          "color": "black",
          "line": {
           "color": "black",
           "width": 1
          },
          "size": 10
         },
         "mode": "lines",
         "name": "Node 68",
         "type": "scatter",
         "x": [
          78.23495477590514,
          79.61537499386557
         ],
         "y": [
          17.120471714813878,
          16.66802990927955
         ]
        },
        {
         "marker": {
          "color": "black",
          "line": {
           "color": "black",
           "width": 1
          },
          "size": 10
         },
         "mode": "lines",
         "name": "Node 69",
         "type": "scatter",
         "x": [
          31.884750581909106,
          31.22465143166276
         ],
         "y": [
          54.16704055133319,
          52.58717006207346
         ]
        },
        {
         "marker": {
          "color": "black",
          "line": {
           "color": "black",
           "width": 1
          },
          "size": 10
         },
         "mode": "lines",
         "name": "Node 70",
         "type": "scatter",
         "x": [
          84.5311269451653,
          83.00409551838571
         ],
         "y": [
          38.95650045113916,
          38.01397130550027
         ]
        },
        {
         "marker": {
          "color": "black",
          "line": {
           "color": "black",
           "width": 1
          },
          "size": 10
         },
         "mode": "lines",
         "name": "Node 71",
         "type": "scatter",
         "x": [
          80.43436692601897,
          82.65906569550435
         ],
         "y": [
          95.36913937211415,
          95.24444550639161
         ]
        },
        {
         "marker": {
          "color": "black",
          "line": {
           "color": "black",
           "width": 1
          },
          "size": 10
         },
         "mode": "lines",
         "name": "Node 72",
         "type": "scatter",
         "x": [
          18.07448724202665,
          17.266964323005862
         ],
         "y": [
          20.100539959374753,
          21.128871870491803
         ]
        },
        {
         "marker": {
          "color": "black",
          "line": {
           "color": "black",
           "width": 1
          },
          "size": 10
         },
         "mode": "lines",
         "name": "Node 73",
         "type": "scatter",
         "x": [
          6.788041147175239,
          7.331848658719328
         ],
         "y": [
          64.67549892374454,
          65.39897329405643
         ]
        },
        {
         "marker": {
          "color": "black",
          "line": {
           "color": "black",
           "width": 1
          },
          "size": 10
         },
         "mode": "lines",
         "name": "Node 74",
         "type": "scatter",
         "x": [
          39.05470410474082,
          38.7219203129058
         ],
         "y": [
          21.48500013874073,
          22.67238575446412
         ]
        },
        {
         "marker": {
          "color": "black",
          "line": {
           "color": "black",
           "width": 1
          },
          "size": 10
         },
         "mode": "lines",
         "name": "Node 75",
         "type": "scatter",
         "x": [
          0.9130746811926826,
          1.804621394242597
         ],
         "y": [
          77.11691783829485,
          77.26046234136233
         ]
        },
        {
         "marker": {
          "color": "black",
          "line": {
           "color": "black",
           "width": 1
          },
          "size": 10
         },
         "mode": "lines",
         "name": "Node 76",
         "type": "scatter",
         "x": [
          32.6869681264944,
          33.261015759181326
         ],
         "y": [
          60.4003683609994,
          59.1916948329586
         ]
        },
        {
         "marker": {
          "color": "black",
          "line": {
           "color": "black",
           "width": 1
          },
          "size": 10
         },
         "mode": "lines",
         "name": "Node 77",
         "type": "scatter",
         "x": [
          24.170502313368292,
          23.427563991551935
         ],
         "y": [
          57.29577889236977,
          58.089425623661334
         ]
        },
        {
         "marker": {
          "color": "black",
          "line": {
           "color": "black",
           "width": 1
          },
          "size": 10
         },
         "mode": "lines",
         "name": "Node 78",
         "type": "scatter",
         "x": [
          78.78240161142085,
          75.38739210848145
         ],
         "y": [
          29.25479947077051,
          30.466866881147187
         ]
        },
        {
         "marker": {
          "color": "black",
          "line": {
           "color": "black",
           "width": 1
          },
          "size": 10
         },
         "mode": "lines",
         "name": "Node 79",
         "type": "scatter",
         "x": [
          5.1681875733570415,
          3.922209350566161
         ],
         "y": [
          84.64062433112363,
          84.56362723398152
         ]
        },
        {
         "marker": {
          "color": "black",
          "line": {
           "color": "black",
           "width": 1
          },
          "size": 10
         },
         "mode": "lines",
         "name": "Node 80",
         "type": "scatter",
         "x": [
          67.31028355521386,
          67.25422629754257
         ],
         "y": [
          48.632420597983504,
          48.7786797149102
         ]
        },
        {
         "marker": {
          "color": "black",
          "line": {
           "color": "black",
           "width": 1
          },
          "size": 10
         },
         "mode": "lines",
         "name": "Node 81",
         "type": "scatter",
         "x": [
          65.4281388561508,
          65.21419680713551
         ],
         "y": [
          65.51790931201398,
          65.21767184902626
         ]
        },
        {
         "marker": {
          "color": "black",
          "line": {
           "color": "black",
           "width": 1
          },
          "size": 10
         },
         "mode": "lines",
         "name": "Node 82",
         "type": "scatter",
         "x": [
          58.95243047182771,
          59.191613558217064
         ],
         "y": [
          25.68820202147557,
          26.269023569298742
         ]
        },
        {
         "marker": {
          "color": "black",
          "line": {
           "color": "black",
           "width": 1
          },
          "size": 10
         },
         "mode": "lines",
         "name": "Node 83",
         "type": "scatter",
         "x": [
          79.6826199954019,
          78.80620631595356
         ],
         "y": [
          61.626955061128186,
          63.729902343709625
         ]
        },
        {
         "marker": {
          "color": "black",
          "line": {
           "color": "black",
           "width": 1
          },
          "size": 10
         },
         "mode": "lines",
         "name": "Node 84",
         "type": "scatter",
         "x": [
          5.464500816061468,
          4.393298184432894
         ],
         "y": [
          52.33458975286604,
          51.3862749027688
         ]
        },
        {
         "marker": {
          "color": "black",
          "line": {
           "color": "black",
           "width": 1
          },
          "size": 10
         },
         "mode": "lines",
         "name": "Node 85",
         "type": "scatter",
         "x": [
          30.23898513762746,
          31.153605192257714
         ],
         "y": [
          79.53650973952819,
          79.70334309371076
         ]
        },
        {
         "marker": {
          "color": "black",
          "line": {
           "color": "black",
           "width": 1
          },
          "size": 10
         },
         "mode": "lines",
         "name": "Node 86",
         "type": "scatter",
         "x": [
          12.23051171154561,
          12.776067006806983
         ],
         "y": [
          98.27761520597407,
          98.66960336176429
         ]
        },
        {
         "marker": {
          "color": "black",
          "line": {
           "color": "black",
           "width": 1
          },
          "size": 10
         },
         "mode": "lines",
         "name": "Node 87",
         "type": "scatter",
         "x": [
          47.36304399974271,
          47.062898932062204
         ],
         "y": [
          15.54504426398725,
          15.092728928605363
         ]
        },
        {
         "marker": {
          "color": "black",
          "line": {
           "color": "black",
           "width": 1
          },
          "size": 10
         },
         "mode": "lines",
         "name": "Node 88",
         "type": "scatter",
         "x": [
          34.97263212500612,
          35.373339789222264
         ],
         "y": [
          24.849516234704584,
          24.869268602824974
         ]
        },
        {
         "marker": {
          "color": "black",
          "line": {
           "color": "black",
           "width": 1
          },
          "size": 10
         },
         "mode": "lines",
         "name": "Node 89",
         "type": "scatter",
         "x": [
          27.93291143831187,
          27.316474097623
         ],
         "y": [
          56.3069590066293,
          54.44999872544201
         ]
        },
        {
         "marker": {
          "color": "black",
          "line": {
           "color": "black",
           "width": 1
          },
          "size": 10
         },
         "mode": "lines",
         "name": "Node 90",
         "type": "scatter",
         "x": [
          11.023359387031373,
          10.599498444478284
         ],
         "y": [
          64.44092914109432,
          64.83176460947108
         ]
        },
        {
         "marker": {
          "color": "black",
          "line": {
           "color": "black",
           "width": 1
          },
          "size": 10
         },
         "mode": "lines",
         "name": "Node 91",
         "type": "scatter",
         "x": [
          80.48395815608924,
          80.59465945020168
         ],
         "y": [
          73.72736661516569,
          74.98117038525217
         ]
        },
        {
         "marker": {
          "color": "black",
          "line": {
           "color": "black",
           "width": 1
          },
          "size": 10
         },
         "mode": "lines",
         "name": "Node 92",
         "type": "scatter",
         "x": [
          88.93791591121139,
          89.49311707521304
         ],
         "y": [
          80.26250188161033,
          81.79618780282567
         ]
        },
        {
         "marker": {
          "color": "black",
          "line": {
           "color": "black",
           "width": 1
          },
          "size": 10
         },
         "mode": "lines",
         "name": "Node 93",
         "type": "scatter",
         "x": [
          90.48942579881918,
          90.27134177344017
         ],
         "y": [
          75.07769005527103,
          74.39307292532878
         ]
        },
        {
         "marker": {
          "color": "black",
          "line": {
           "color": "black",
           "width": 1
          },
          "size": 10
         },
         "mode": "lines",
         "name": "Node 94",
         "type": "scatter",
         "x": [
          57.208272435341,
          57.630732141616306
         ],
         "y": [
          75.25658895307376,
          76.23148077381795
         ]
        },
        {
         "marker": {
          "color": "black",
          "line": {
           "color": "black",
           "width": 1
          },
          "size": 10
         },
         "mode": "lines",
         "name": "Node 95",
         "type": "scatter",
         "x": [
          97.22194676304771,
          96.51102155052767
         ],
         "y": [
          79.03558173254929,
          78.53508386674889
         ]
        },
        {
         "marker": {
          "color": "black",
          "line": {
           "color": "black",
           "width": 1
          },
          "size": 10
         },
         "mode": "lines",
         "name": "Node 96",
         "type": "scatter",
         "x": [
          1.8761699741689286,
          1.714703879583813
         ],
         "y": [
          72.7197454666149,
          72.3701103581533
         ]
        },
        {
         "marker": {
          "color": "black",
          "line": {
           "color": "black",
           "width": 1
          },
          "size": 10
         },
         "mode": "lines",
         "name": "Node 97",
         "type": "scatter",
         "x": [
          40.310805326490026,
          39.77392769618323
         ],
         "y": [
          45.498036128748744,
          45.981324975141376
         ]
        },
        {
         "marker": {
          "color": "black",
          "line": {
           "color": "black",
           "width": 1
          },
          "size": 10
         },
         "mode": "lines",
         "name": "Node 98",
         "type": "scatter",
         "x": [
          19.816279396445445,
          19.235105009012425
         ],
         "y": [
          2.171303655684076,
          1.0418163365889246
         ]
        },
        {
         "marker": {
          "color": "black",
          "line": {
           "color": "black",
           "width": 1
          },
          "size": 10
         },
         "mode": "lines",
         "name": "Node 99",
         "type": "scatter",
         "x": [
          93.3804619334093,
          92.36651018767843
         ],
         "y": [
          57.098185052686205,
          58.82671303472481
         ]
        }
       ],
       "layout": {
        "template": {
         "data": {
          "bar": [
           {
            "error_x": {
             "color": "#2a3f5f"
            },
            "error_y": {
             "color": "#2a3f5f"
            },
            "marker": {
             "line": {
              "color": "#E5ECF6",
              "width": 0.5
             }
            },
            "type": "bar"
           }
          ],
          "barpolar": [
           {
            "marker": {
             "line": {
              "color": "#E5ECF6",
              "width": 0.5
             }
            },
            "type": "barpolar"
           }
          ],
          "carpet": [
           {
            "aaxis": {
             "endlinecolor": "#2a3f5f",
             "gridcolor": "white",
             "linecolor": "white",
             "minorgridcolor": "white",
             "startlinecolor": "#2a3f5f"
            },
            "baxis": {
             "endlinecolor": "#2a3f5f",
             "gridcolor": "white",
             "linecolor": "white",
             "minorgridcolor": "white",
             "startlinecolor": "#2a3f5f"
            },
            "type": "carpet"
           }
          ],
          "choropleth": [
           {
            "colorbar": {
             "outlinewidth": 0,
             "ticks": ""
            },
            "type": "choropleth"
           }
          ],
          "contour": [
           {
            "colorbar": {
             "outlinewidth": 0,
             "ticks": ""
            },
            "colorscale": [
             [
              0,
              "#0d0887"
             ],
             [
              0.1111111111111111,
              "#46039f"
             ],
             [
              0.2222222222222222,
              "#7201a8"
             ],
             [
              0.3333333333333333,
              "#9c179e"
             ],
             [
              0.4444444444444444,
              "#bd3786"
             ],
             [
              0.5555555555555556,
              "#d8576b"
             ],
             [
              0.6666666666666666,
              "#ed7953"
             ],
             [
              0.7777777777777778,
              "#fb9f3a"
             ],
             [
              0.8888888888888888,
              "#fdca26"
             ],
             [
              1,
              "#f0f921"
             ]
            ],
            "type": "contour"
           }
          ],
          "contourcarpet": [
           {
            "colorbar": {
             "outlinewidth": 0,
             "ticks": ""
            },
            "type": "contourcarpet"
           }
          ],
          "heatmap": [
           {
            "colorbar": {
             "outlinewidth": 0,
             "ticks": ""
            },
            "colorscale": [
             [
              0,
              "#0d0887"
             ],
             [
              0.1111111111111111,
              "#46039f"
             ],
             [
              0.2222222222222222,
              "#7201a8"
             ],
             [
              0.3333333333333333,
              "#9c179e"
             ],
             [
              0.4444444444444444,
              "#bd3786"
             ],
             [
              0.5555555555555556,
              "#d8576b"
             ],
             [
              0.6666666666666666,
              "#ed7953"
             ],
             [
              0.7777777777777778,
              "#fb9f3a"
             ],
             [
              0.8888888888888888,
              "#fdca26"
             ],
             [
              1,
              "#f0f921"
             ]
            ],
            "type": "heatmap"
           }
          ],
          "heatmapgl": [
           {
            "colorbar": {
             "outlinewidth": 0,
             "ticks": ""
            },
            "colorscale": [
             [
              0,
              "#0d0887"
             ],
             [
              0.1111111111111111,
              "#46039f"
             ],
             [
              0.2222222222222222,
              "#7201a8"
             ],
             [
              0.3333333333333333,
              "#9c179e"
             ],
             [
              0.4444444444444444,
              "#bd3786"
             ],
             [
              0.5555555555555556,
              "#d8576b"
             ],
             [
              0.6666666666666666,
              "#ed7953"
             ],
             [
              0.7777777777777778,
              "#fb9f3a"
             ],
             [
              0.8888888888888888,
              "#fdca26"
             ],
             [
              1,
              "#f0f921"
             ]
            ],
            "type": "heatmapgl"
           }
          ],
          "histogram": [
           {
            "marker": {
             "colorbar": {
              "outlinewidth": 0,
              "ticks": ""
             }
            },
            "type": "histogram"
           }
          ],
          "histogram2d": [
           {
            "colorbar": {
             "outlinewidth": 0,
             "ticks": ""
            },
            "colorscale": [
             [
              0,
              "#0d0887"
             ],
             [
              0.1111111111111111,
              "#46039f"
             ],
             [
              0.2222222222222222,
              "#7201a8"
             ],
             [
              0.3333333333333333,
              "#9c179e"
             ],
             [
              0.4444444444444444,
              "#bd3786"
             ],
             [
              0.5555555555555556,
              "#d8576b"
             ],
             [
              0.6666666666666666,
              "#ed7953"
             ],
             [
              0.7777777777777778,
              "#fb9f3a"
             ],
             [
              0.8888888888888888,
              "#fdca26"
             ],
             [
              1,
              "#f0f921"
             ]
            ],
            "type": "histogram2d"
           }
          ],
          "histogram2dcontour": [
           {
            "colorbar": {
             "outlinewidth": 0,
             "ticks": ""
            },
            "colorscale": [
             [
              0,
              "#0d0887"
             ],
             [
              0.1111111111111111,
              "#46039f"
             ],
             [
              0.2222222222222222,
              "#7201a8"
             ],
             [
              0.3333333333333333,
              "#9c179e"
             ],
             [
              0.4444444444444444,
              "#bd3786"
             ],
             [
              0.5555555555555556,
              "#d8576b"
             ],
             [
              0.6666666666666666,
              "#ed7953"
             ],
             [
              0.7777777777777778,
              "#fb9f3a"
             ],
             [
              0.8888888888888888,
              "#fdca26"
             ],
             [
              1,
              "#f0f921"
             ]
            ],
            "type": "histogram2dcontour"
           }
          ],
          "mesh3d": [
           {
            "colorbar": {
             "outlinewidth": 0,
             "ticks": ""
            },
            "type": "mesh3d"
           }
          ],
          "parcoords": [
           {
            "line": {
             "colorbar": {
              "outlinewidth": 0,
              "ticks": ""
             }
            },
            "type": "parcoords"
           }
          ],
          "pie": [
           {
            "automargin": true,
            "type": "pie"
           }
          ],
          "scatter": [
           {
            "marker": {
             "colorbar": {
              "outlinewidth": 0,
              "ticks": ""
             }
            },
            "type": "scatter"
           }
          ],
          "scatter3d": [
           {
            "line": {
             "colorbar": {
              "outlinewidth": 0,
              "ticks": ""
             }
            },
            "marker": {
             "colorbar": {
              "outlinewidth": 0,
              "ticks": ""
             }
            },
            "type": "scatter3d"
           }
          ],
          "scattercarpet": [
           {
            "marker": {
             "colorbar": {
              "outlinewidth": 0,
              "ticks": ""
             }
            },
            "type": "scattercarpet"
           }
          ],
          "scattergeo": [
           {
            "marker": {
             "colorbar": {
              "outlinewidth": 0,
              "ticks": ""
             }
            },
            "type": "scattergeo"
           }
          ],
          "scattergl": [
           {
            "marker": {
             "colorbar": {
              "outlinewidth": 0,
              "ticks": ""
             }
            },
            "type": "scattergl"
           }
          ],
          "scattermapbox": [
           {
            "marker": {
             "colorbar": {
              "outlinewidth": 0,
              "ticks": ""
             }
            },
            "type": "scattermapbox"
           }
          ],
          "scatterpolar": [
           {
            "marker": {
             "colorbar": {
              "outlinewidth": 0,
              "ticks": ""
             }
            },
            "type": "scatterpolar"
           }
          ],
          "scatterpolargl": [
           {
            "marker": {
             "colorbar": {
              "outlinewidth": 0,
              "ticks": ""
             }
            },
            "type": "scatterpolargl"
           }
          ],
          "scatterternary": [
           {
            "marker": {
             "colorbar": {
              "outlinewidth": 0,
              "ticks": ""
             }
            },
            "type": "scatterternary"
           }
          ],
          "surface": [
           {
            "colorbar": {
             "outlinewidth": 0,
             "ticks": ""
            },
            "colorscale": [
             [
              0,
              "#0d0887"
             ],
             [
              0.1111111111111111,
              "#46039f"
             ],
             [
              0.2222222222222222,
              "#7201a8"
             ],
             [
              0.3333333333333333,
              "#9c179e"
             ],
             [
              0.4444444444444444,
              "#bd3786"
             ],
             [
              0.5555555555555556,
              "#d8576b"
             ],
             [
              0.6666666666666666,
              "#ed7953"
             ],
             [
              0.7777777777777778,
              "#fb9f3a"
             ],
             [
              0.8888888888888888,
              "#fdca26"
             ],
             [
              1,
              "#f0f921"
             ]
            ],
            "type": "surface"
           }
          ],
          "table": [
           {
            "cells": {
             "fill": {
              "color": "#EBF0F8"
             },
             "line": {
              "color": "white"
             }
            },
            "header": {
             "fill": {
              "color": "#C8D4E3"
             },
             "line": {
              "color": "white"
             }
            },
            "type": "table"
           }
          ]
         },
         "layout": {
          "annotationdefaults": {
           "arrowcolor": "#2a3f5f",
           "arrowhead": 0,
           "arrowwidth": 1
          },
          "autotypenumbers": "strict",
          "coloraxis": {
           "colorbar": {
            "outlinewidth": 0,
            "ticks": ""
           }
          },
          "colorscale": {
           "diverging": [
            [
             0,
             "#8e0152"
            ],
            [
             0.1,
             "#c51b7d"
            ],
            [
             0.2,
             "#de77ae"
            ],
            [
             0.3,
             "#f1b6da"
            ],
            [
             0.4,
             "#fde0ef"
            ],
            [
             0.5,
             "#f7f7f7"
            ],
            [
             0.6,
             "#e6f5d0"
            ],
            [
             0.7,
             "#b8e186"
            ],
            [
             0.8,
             "#7fbc41"
            ],
            [
             0.9,
             "#4d9221"
            ],
            [
             1,
             "#276419"
            ]
           ],
           "sequential": [
            [
             0,
             "#0d0887"
            ],
            [
             0.1111111111111111,
             "#46039f"
            ],
            [
             0.2222222222222222,
             "#7201a8"
            ],
            [
             0.3333333333333333,
             "#9c179e"
            ],
            [
             0.4444444444444444,
             "#bd3786"
            ],
            [
             0.5555555555555556,
             "#d8576b"
            ],
            [
             0.6666666666666666,
             "#ed7953"
            ],
            [
             0.7777777777777778,
             "#fb9f3a"
            ],
            [
             0.8888888888888888,
             "#fdca26"
            ],
            [
             1,
             "#f0f921"
            ]
           ],
           "sequentialminus": [
            [
             0,
             "#0d0887"
            ],
            [
             0.1111111111111111,
             "#46039f"
            ],
            [
             0.2222222222222222,
             "#7201a8"
            ],
            [
             0.3333333333333333,
             "#9c179e"
            ],
            [
             0.4444444444444444,
             "#bd3786"
            ],
            [
             0.5555555555555556,
             "#d8576b"
            ],
            [
             0.6666666666666666,
             "#ed7953"
            ],
            [
             0.7777777777777778,
             "#fb9f3a"
            ],
            [
             0.8888888888888888,
             "#fdca26"
            ],
            [
             1,
             "#f0f921"
            ]
           ]
          },
          "colorway": [
           "#636efa",
           "#EF553B",
           "#00cc96",
           "#ab63fa",
           "#FFA15A",
           "#19d3f3",
           "#FF6692",
           "#B6E880",
           "#FF97FF",
           "#FECB52"
          ],
          "font": {
           "color": "#2a3f5f"
          },
          "geo": {
           "bgcolor": "white",
           "lakecolor": "white",
           "landcolor": "#E5ECF6",
           "showlakes": true,
           "showland": true,
           "subunitcolor": "white"
          },
          "hoverlabel": {
           "align": "left"
          },
          "hovermode": "closest",
          "mapbox": {
           "style": "light"
          },
          "paper_bgcolor": "white",
          "plot_bgcolor": "#E5ECF6",
          "polar": {
           "angularaxis": {
            "gridcolor": "white",
            "linecolor": "white",
            "ticks": ""
           },
           "bgcolor": "#E5ECF6",
           "radialaxis": {
            "gridcolor": "white",
            "linecolor": "white",
            "ticks": ""
           }
          },
          "scene": {
           "xaxis": {
            "backgroundcolor": "#E5ECF6",
            "gridcolor": "white",
            "gridwidth": 2,
            "linecolor": "white",
            "showbackground": true,
            "ticks": "",
            "zerolinecolor": "white"
           },
           "yaxis": {
            "backgroundcolor": "#E5ECF6",
            "gridcolor": "white",
            "gridwidth": 2,
            "linecolor": "white",
            "showbackground": true,
            "ticks": "",
            "zerolinecolor": "white"
           },
           "zaxis": {
            "backgroundcolor": "#E5ECF6",
            "gridcolor": "white",
            "gridwidth": 2,
            "linecolor": "white",
            "showbackground": true,
            "ticks": "",
            "zerolinecolor": "white"
           }
          },
          "shapedefaults": {
           "line": {
            "color": "#2a3f5f"
           }
          },
          "ternary": {
           "aaxis": {
            "gridcolor": "white",
            "linecolor": "white",
            "ticks": ""
           },
           "baxis": {
            "gridcolor": "white",
            "linecolor": "white",
            "ticks": ""
           },
           "bgcolor": "#E5ECF6",
           "caxis": {
            "gridcolor": "white",
            "linecolor": "white",
            "ticks": ""
           }
          },
          "title": {
           "x": 0.05
          },
          "xaxis": {
           "automargin": true,
           "gridcolor": "white",
           "linecolor": "white",
           "ticks": "",
           "title": {
            "standoff": 15
           },
           "zerolinecolor": "white",
           "zerolinewidth": 2
          },
          "yaxis": {
           "automargin": true,
           "gridcolor": "white",
           "linecolor": "white",
           "ticks": "",
           "title": {
            "standoff": 15
           },
           "zerolinecolor": "white",
           "zerolinewidth": 2
          }
         }
        }
       }
      },
      "text/html": [
       "<div>                            <div id=\"ecc4b558-b630-4441-87fc-94b2f91811e6\" class=\"plotly-graph-div\" style=\"height:525px; width:100%;\"></div>            <script type=\"text/javascript\">                require([\"plotly\"], function(Plotly) {                    window.PLOTLYENV=window.PLOTLYENV || {};                                    if (document.getElementById(\"ecc4b558-b630-4441-87fc-94b2f91811e6\")) {                    Plotly.newPlot(                        \"ecc4b558-b630-4441-87fc-94b2f91811e6\",                        [{\"marker\": {\"color\": \"red\", \"size\": 5}, \"mode\": \"markers\", \"name\": \"Correct Location\", \"type\": \"scatter\", \"x\": [42.88064026763772, 96.43794837738594, 9.517717210769439, 11.176805406772939, 60.26577110566493, 31.952455210876018, 17.65910167924406, 66.67465076096761, 25.803536958280738, 35.08822141819077, 56.09308366949776, 35.91196456819274, 34.50198152851406, 21.5881909119085, 35.29948412464302, 62.564721600411524, 44.78654912710856, 65.5124421843927, 91.78783905012648, 22.261414940774927, 94.0206206660389, 73.17850540617373, 65.46683746097503, 16.113071834833683, 70.02803443476908, 9.231001419808937, 75.89238854700795, 8.088376883926596, 25.627214187647198, 94.07705542501607, 76.04557522085929, 52.097220709732724, 54.05773469711287, 69.0194696017173, 30.729279303479363, 1.337695917696058, 71.9742418068621, 34.592605680499375, 12.356313590683554, 13.657884365410489, 34.70585847374132, 22.000416504989097, 21.81049082047015, 60.92635847676631, 20.505884713437727, 93.13985002295708, 81.4596881287695, 60.204687078255404, 78.23495477590514, 31.884750581909106, 84.5311269451653, 80.43436692601897, 18.07448724202665, 6.788041147175239, 39.05470410474082, 0.9130746811926826, 32.6869681264944, 24.170502313368292, 78.78240161142085, 5.1681875733570415, 67.31028355521386, 65.4281388561508, 58.95243047182771, 79.6826199954019, 5.464500816061468, 30.23898513762746, 12.23051171154561, 47.36304399974271, 34.97263212500612, 27.93291143831187, 11.023359387031373, 80.48395815608924, 88.93791591121139, 90.48942579881918, 57.208272435341, 97.22194676304771, 1.8761699741689286, 40.310805326490026, 19.816279396445445, 93.3804619334093], \"y\": [95.64807718217244, 66.59835517820845, 91.42210919743201, 3.2159170216683686, 97.78476239396983, 9.080510072952775, 43.79013075691842, 42.52478295092283, 37.00213654857476, 64.16927631115003, 81.41925725179452, 49.7465007099434, 68.3181809786862, 13.564135531720378, 2.124956647784093, 7.995880661127797, 77.46064314952872, 65.01450139481912, 64.253641603972, 78.90447885594985, 16.96254731344685, 40.50371238536381, 79.9949331548928, 8.67744134294357, 62.41383398103238, 78.73678347010153, 23.088460718947402, 34.73576554465565, 82.67433897055686, 66.06814487389565, 25.8553685778787, 38.235549088870435, 77.98467115921733, 42.360772384137, 8.246282367375057, 10.08620113152735, 74.0325397093963, 22.65861985630884, 97.76961342368939, 30.681563492166298, 34.51430714616528, 50.989299221773834, 25.97963612301487, 67.93249463069164, 83.79343055629818, 85.92686357712279, 96.51544503258702, 1.12471927377632, 17.120471714813878, 54.16704055133319, 38.95650045113916, 95.36913937211415, 20.100539959374753, 64.67549892374454, 21.48500013874073, 77.11691783829485, 60.4003683609994, 57.29577889236977, 29.25479947077051, 84.64062433112363, 48.632420597983504, 65.51790931201398, 25.68820202147557, 61.626955061128186, 52.33458975286604, 79.53650973952819, 98.27761520597407, 15.54504426398725, 24.849516234704584, 56.3069590066293, 64.44092914109432, 73.72736661516569, 80.26250188161033, 75.07769005527103, 75.25658895307376, 79.03558173254929, 72.7197454666149, 45.498036128748744, 2.171303655684076, 57.098185052686205]}, {\"marker\": {\"color\": \"blue\", \"size\": 5}, \"mode\": \"markers\", \"name\": \"Estimated Nodes\", \"type\": \"scatter\", \"x\": [44.816334309983056, 98.53054531039572, 8.526849696249823, 11.560872514457552, 60.56742625080515, 32.58138839201343, 17.077209247203402, 66.14723426878497, 25.151046750259628, 33.51885217857019, 56.503557021881825, 39.670578810005, 33.49262445870759, 19.928993621204466, 37.64114560430457, 63.13669721853879, 43.79152255211013, 65.5568428895908, 90.83135630167142, 0.40814356970576365, 95.48918682456834, 72.75600479317323, 64.58876266748159, 15.698993251491489, 70.8124598623275, 9.314970918266619, 76.78144005091696, 10.156993650715625, 27.578929893485082, 95.00536516542591, 73.82660242831523, 52.13126847476272, 53.424861128274614, 68.82925495289193, 32.98834886314665, 2.982819984854128, 72.81020427924796, 44.35736627273831, 11.22749734055663, 15.754181509840011, 36.29104664101656, 21.83425453367059, 23.34292575151156, 61.35534866727516, 20.562238115564426, 93.147949154645, 81.79692055060414, 60.66160593130419, 79.61537499386557, 31.22465143166276, 83.00409551838571, 82.65906569550435, 17.266964323005862, 7.331848658719328, 38.7219203129058, 1.804621394242597, 33.261015759181326, 23.427563991551935, 75.38739210848145, 3.922209350566161, 67.25422629754257, 65.21419680713551, 59.191613558217064, 78.80620631595356, 4.393298184432894, 31.153605192257714, 12.776067006806983, 47.062898932062204, 35.373339789222264, 27.316474097623, 10.599498444478284, 80.59465945020168, 89.49311707521304, 90.27134177344017, 57.630732141616306, 96.51102155052767, 1.714703879583813, 39.77392769618323, 19.235105009012425, 92.36651018767843], \"y\": [94.10535732191283, 66.8164638196255, 92.88709631424082, 3.742362139468767, 95.94431110794896, 10.448198869917368, 43.206283695292264, 44.03080455079771, 36.43740900477418, 65.75851338874601, 80.79403504470578, 41.38340304348356, 68.15003203604302, 12.247445089525868, 2.5058416825025502, 7.089808224812394, 76.1874211198435, 65.87536046646044, 64.4866889763809, 79.26349485133763, 15.523487036461665, 42.38093732842855, 81.66443430429348, 9.935647020953018, 62.73394173291471, 79.7244705925243, 23.196221289752135, 34.492934042426704, 80.68245772673545, 64.67749195555056, 27.021906929438657, 36.50207354789885, 73.76036322482189, 42.46257698420042, 10.267872305196375, 11.258745391023446, 73.66695701312908, 38.53764546297188, 96.93644033405205, 33.71274482572023, 34.59749284520668, 48.34318223231304, 26.68425177005429, 67.24574911172184, 83.21650371335518, 84.9243604201135, 94.55943615997403, 0.11735295469781566, 16.66802990927955, 52.58717006207346, 38.01397130550027, 95.24444550639161, 21.128871870491803, 65.39897329405643, 22.67238575446412, 77.26046234136233, 59.1916948329586, 58.089425623661334, 30.466866881147187, 84.56362723398152, 48.7786797149102, 65.21767184902626, 26.269023569298742, 63.729902343709625, 51.3862749027688, 79.70334309371076, 98.66960336176429, 15.092728928605363, 24.869268602824974, 54.44999872544201, 64.83176460947108, 74.98117038525217, 81.79618780282567, 74.39307292532878, 76.23148077381795, 78.53508386674889, 72.3701103581533, 45.981324975141376, 1.0418163365889246, 58.82671303472481]}, {\"marker\": {\"color\": \"black\", \"size\": 5}, \"mode\": \"markers\", \"name\": \"Black Nodes (0)\", \"type\": \"scatter\", \"x\": [], \"y\": []}, {\"marker\": {\"color\": \"black\", \"line\": {\"color\": \"black\", \"width\": 1}, \"size\": 10}, \"mode\": \"lines\", \"name\": \"Node 20\", \"type\": \"scatter\", \"x\": [42.88064026763772, 44.816334309983056], \"y\": [95.64807718217244, 94.10535732191283]}, {\"marker\": {\"color\": \"black\", \"line\": {\"color\": \"black\", \"width\": 1}, \"size\": 10}, \"mode\": \"lines\", \"name\": \"Node 21\", \"type\": \"scatter\", \"x\": [96.43794837738594, 98.53054531039572], \"y\": [66.59835517820845, 66.8164638196255]}, {\"marker\": {\"color\": \"black\", \"line\": {\"color\": \"black\", \"width\": 1}, \"size\": 10}, \"mode\": \"lines\", \"name\": \"Node 22\", \"type\": \"scatter\", \"x\": [9.517717210769439, 8.526849696249823], \"y\": [91.42210919743201, 92.88709631424082]}, {\"marker\": {\"color\": \"black\", \"line\": {\"color\": \"black\", \"width\": 1}, \"size\": 10}, \"mode\": \"lines\", \"name\": \"Node 23\", \"type\": \"scatter\", \"x\": [11.176805406772939, 11.560872514457552], \"y\": [3.2159170216683686, 3.742362139468767]}, {\"marker\": {\"color\": \"black\", \"line\": {\"color\": \"black\", \"width\": 1}, \"size\": 10}, \"mode\": \"lines\", \"name\": \"Node 24\", \"type\": \"scatter\", \"x\": [60.26577110566493, 60.56742625080515], \"y\": [97.78476239396983, 95.94431110794896]}, {\"marker\": {\"color\": \"black\", \"line\": {\"color\": \"black\", \"width\": 1}, \"size\": 10}, \"mode\": \"lines\", \"name\": \"Node 25\", \"type\": \"scatter\", \"x\": [31.952455210876018, 32.58138839201343], \"y\": [9.080510072952775, 10.448198869917368]}, {\"marker\": {\"color\": \"black\", \"line\": {\"color\": \"black\", \"width\": 1}, \"size\": 10}, \"mode\": \"lines\", \"name\": \"Node 26\", \"type\": \"scatter\", \"x\": [17.65910167924406, 17.077209247203402], \"y\": [43.79013075691842, 43.206283695292264]}, {\"marker\": {\"color\": \"black\", \"line\": {\"color\": \"black\", \"width\": 1}, \"size\": 10}, \"mode\": \"lines\", \"name\": \"Node 27\", \"type\": \"scatter\", \"x\": [66.67465076096761, 66.14723426878497], \"y\": [42.52478295092283, 44.03080455079771]}, {\"marker\": {\"color\": \"black\", \"line\": {\"color\": \"black\", \"width\": 1}, \"size\": 10}, \"mode\": \"lines\", \"name\": \"Node 28\", \"type\": \"scatter\", \"x\": [25.803536958280738, 25.151046750259628], \"y\": [37.00213654857476, 36.43740900477418]}, {\"marker\": {\"color\": \"black\", \"line\": {\"color\": \"black\", \"width\": 1}, \"size\": 10}, \"mode\": \"lines\", \"name\": \"Node 29\", \"type\": \"scatter\", \"x\": [35.08822141819077, 33.51885217857019], \"y\": [64.16927631115003, 65.75851338874601]}, {\"marker\": {\"color\": \"black\", \"line\": {\"color\": \"black\", \"width\": 1}, \"size\": 10}, \"mode\": \"lines\", \"name\": \"Node 30\", \"type\": \"scatter\", \"x\": [56.09308366949776, 56.503557021881825], \"y\": [81.41925725179452, 80.79403504470578]}, {\"marker\": {\"color\": \"black\", \"line\": {\"color\": \"black\", \"width\": 1}, \"size\": 10}, \"mode\": \"lines\", \"name\": \"Node 31\", \"type\": \"scatter\", \"x\": [35.91196456819274, 39.670578810005], \"y\": [49.7465007099434, 41.38340304348356]}, {\"marker\": {\"color\": \"black\", \"line\": {\"color\": \"black\", \"width\": 1}, \"size\": 10}, \"mode\": \"lines\", \"name\": \"Node 32\", \"type\": \"scatter\", \"x\": [34.50198152851406, 33.49262445870759], \"y\": [68.3181809786862, 68.15003203604302]}, {\"marker\": {\"color\": \"black\", \"line\": {\"color\": \"black\", \"width\": 1}, \"size\": 10}, \"mode\": \"lines\", \"name\": \"Node 33\", \"type\": \"scatter\", \"x\": [21.5881909119085, 19.928993621204466], \"y\": [13.564135531720378, 12.247445089525868]}, {\"marker\": {\"color\": \"black\", \"line\": {\"color\": \"black\", \"width\": 1}, \"size\": 10}, \"mode\": \"lines\", \"name\": \"Node 34\", \"type\": \"scatter\", \"x\": [35.29948412464302, 37.64114560430457], \"y\": [2.124956647784093, 2.5058416825025502]}, {\"marker\": {\"color\": \"black\", \"line\": {\"color\": \"black\", \"width\": 1}, \"size\": 10}, \"mode\": \"lines\", \"name\": \"Node 35\", \"type\": \"scatter\", \"x\": [62.564721600411524, 63.13669721853879], \"y\": [7.995880661127797, 7.089808224812394]}, {\"marker\": {\"color\": \"black\", \"line\": {\"color\": \"black\", \"width\": 1}, \"size\": 10}, \"mode\": \"lines\", \"name\": \"Node 36\", \"type\": \"scatter\", \"x\": [44.78654912710856, 43.79152255211013], \"y\": [77.46064314952872, 76.1874211198435]}, {\"marker\": {\"color\": \"black\", \"line\": {\"color\": \"black\", \"width\": 1}, \"size\": 10}, \"mode\": \"lines\", \"name\": \"Node 37\", \"type\": \"scatter\", \"x\": [65.5124421843927, 65.5568428895908], \"y\": [65.01450139481912, 65.87536046646044]}, {\"marker\": {\"color\": \"black\", \"line\": {\"color\": \"black\", \"width\": 1}, \"size\": 10}, \"mode\": \"lines\", \"name\": \"Node 38\", \"type\": \"scatter\", \"x\": [91.78783905012648, 90.83135630167142], \"y\": [64.253641603972, 64.4866889763809]}, {\"marker\": {\"color\": \"black\", \"line\": {\"color\": \"black\", \"width\": 1}, \"size\": 10}, \"mode\": \"lines\", \"name\": \"Node 39\", \"type\": \"scatter\", \"x\": [22.261414940774927, 0.40814356970576365], \"y\": [78.90447885594985, 79.26349485133763]}, {\"marker\": {\"color\": \"black\", \"line\": {\"color\": \"black\", \"width\": 1}, \"size\": 10}, \"mode\": \"lines\", \"name\": \"Node 40\", \"type\": \"scatter\", \"x\": [94.0206206660389, 95.48918682456834], \"y\": [16.96254731344685, 15.523487036461665]}, {\"marker\": {\"color\": \"black\", \"line\": {\"color\": \"black\", \"width\": 1}, \"size\": 10}, \"mode\": \"lines\", \"name\": \"Node 41\", \"type\": \"scatter\", \"x\": [73.17850540617373, 72.75600479317323], \"y\": [40.50371238536381, 42.38093732842855]}, {\"marker\": {\"color\": \"black\", \"line\": {\"color\": \"black\", \"width\": 1}, \"size\": 10}, \"mode\": \"lines\", \"name\": \"Node 42\", \"type\": \"scatter\", \"x\": [65.46683746097503, 64.58876266748159], \"y\": [79.9949331548928, 81.66443430429348]}, {\"marker\": {\"color\": \"black\", \"line\": {\"color\": \"black\", \"width\": 1}, \"size\": 10}, \"mode\": \"lines\", \"name\": \"Node 43\", \"type\": \"scatter\", \"x\": [16.113071834833683, 15.698993251491489], \"y\": [8.67744134294357, 9.935647020953018]}, {\"marker\": {\"color\": \"black\", \"line\": {\"color\": \"black\", \"width\": 1}, \"size\": 10}, \"mode\": \"lines\", \"name\": \"Node 44\", \"type\": \"scatter\", \"x\": [70.02803443476908, 70.8124598623275], \"y\": [62.41383398103238, 62.73394173291471]}, {\"marker\": {\"color\": \"black\", \"line\": {\"color\": \"black\", \"width\": 1}, \"size\": 10}, \"mode\": \"lines\", \"name\": \"Node 45\", \"type\": \"scatter\", \"x\": [9.231001419808937, 9.314970918266619], \"y\": [78.73678347010153, 79.7244705925243]}, {\"marker\": {\"color\": \"black\", \"line\": {\"color\": \"black\", \"width\": 1}, \"size\": 10}, \"mode\": \"lines\", \"name\": \"Node 46\", \"type\": \"scatter\", \"x\": [75.89238854700795, 76.78144005091696], \"y\": [23.088460718947402, 23.196221289752135]}, {\"marker\": {\"color\": \"black\", \"line\": {\"color\": \"black\", \"width\": 1}, \"size\": 10}, \"mode\": \"lines\", \"name\": \"Node 47\", \"type\": \"scatter\", \"x\": [8.088376883926596, 10.156993650715625], \"y\": [34.73576554465565, 34.492934042426704]}, {\"marker\": {\"color\": \"black\", \"line\": {\"color\": \"black\", \"width\": 1}, \"size\": 10}, \"mode\": \"lines\", \"name\": \"Node 48\", \"type\": \"scatter\", \"x\": [25.627214187647198, 27.578929893485082], \"y\": [82.67433897055686, 80.68245772673545]}, {\"marker\": {\"color\": \"black\", \"line\": {\"color\": \"black\", \"width\": 1}, \"size\": 10}, \"mode\": \"lines\", \"name\": \"Node 49\", \"type\": \"scatter\", \"x\": [94.07705542501607, 95.00536516542591], \"y\": [66.06814487389565, 64.67749195555056]}, {\"marker\": {\"color\": \"black\", \"line\": {\"color\": \"black\", \"width\": 1}, \"size\": 10}, \"mode\": \"lines\", \"name\": \"Node 50\", \"type\": \"scatter\", \"x\": [76.04557522085929, 73.82660242831523], \"y\": [25.8553685778787, 27.021906929438657]}, {\"marker\": {\"color\": \"black\", \"line\": {\"color\": \"black\", \"width\": 1}, \"size\": 10}, \"mode\": \"lines\", \"name\": \"Node 51\", \"type\": \"scatter\", \"x\": [52.097220709732724, 52.13126847476272], \"y\": [38.235549088870435, 36.50207354789885]}, {\"marker\": {\"color\": \"black\", \"line\": {\"color\": \"black\", \"width\": 1}, \"size\": 10}, \"mode\": \"lines\", \"name\": \"Node 52\", \"type\": \"scatter\", \"x\": [54.05773469711287, 53.424861128274614], \"y\": [77.98467115921733, 73.76036322482189]}, {\"marker\": {\"color\": \"black\", \"line\": {\"color\": \"black\", \"width\": 1}, \"size\": 10}, \"mode\": \"lines\", \"name\": \"Node 53\", \"type\": \"scatter\", \"x\": [69.0194696017173, 68.82925495289193], \"y\": [42.360772384137, 42.46257698420042]}, {\"marker\": {\"color\": \"black\", \"line\": {\"color\": \"black\", \"width\": 1}, \"size\": 10}, \"mode\": \"lines\", \"name\": \"Node 54\", \"type\": \"scatter\", \"x\": [30.729279303479363, 32.98834886314665], \"y\": [8.246282367375057, 10.267872305196375]}, {\"marker\": {\"color\": \"black\", \"line\": {\"color\": \"black\", \"width\": 1}, \"size\": 10}, \"mode\": \"lines\", \"name\": \"Node 55\", \"type\": \"scatter\", \"x\": [1.337695917696058, 2.982819984854128], \"y\": [10.08620113152735, 11.258745391023446]}, {\"marker\": {\"color\": \"black\", \"line\": {\"color\": \"black\", \"width\": 1}, \"size\": 10}, \"mode\": \"lines\", \"name\": \"Node 56\", \"type\": \"scatter\", \"x\": [71.9742418068621, 72.81020427924796], \"y\": [74.0325397093963, 73.66695701312908]}, {\"marker\": {\"color\": \"black\", \"line\": {\"color\": \"black\", \"width\": 1}, \"size\": 10}, \"mode\": \"lines\", \"name\": \"Node 57\", \"type\": \"scatter\", \"x\": [34.592605680499375, 44.35736627273831], \"y\": [22.65861985630884, 38.53764546297188]}, {\"marker\": {\"color\": \"black\", \"line\": {\"color\": \"black\", \"width\": 1}, \"size\": 10}, \"mode\": \"lines\", \"name\": \"Node 58\", \"type\": \"scatter\", \"x\": [12.356313590683554, 11.22749734055663], \"y\": [97.76961342368939, 96.93644033405205]}, {\"marker\": {\"color\": \"black\", \"line\": {\"color\": \"black\", \"width\": 1}, \"size\": 10}, \"mode\": \"lines\", \"name\": \"Node 59\", \"type\": \"scatter\", \"x\": [13.657884365410489, 15.754181509840011], \"y\": [30.681563492166298, 33.71274482572023]}, {\"marker\": {\"color\": \"black\", \"line\": {\"color\": \"black\", \"width\": 1}, \"size\": 10}, \"mode\": \"lines\", \"name\": \"Node 60\", \"type\": \"scatter\", \"x\": [34.70585847374132, 36.29104664101656], \"y\": [34.51430714616528, 34.59749284520668]}, {\"marker\": {\"color\": \"black\", \"line\": {\"color\": \"black\", \"width\": 1}, \"size\": 10}, \"mode\": \"lines\", \"name\": \"Node 61\", \"type\": \"scatter\", \"x\": [22.000416504989097, 21.83425453367059], \"y\": [50.989299221773834, 48.34318223231304]}, {\"marker\": {\"color\": \"black\", \"line\": {\"color\": \"black\", \"width\": 1}, \"size\": 10}, \"mode\": \"lines\", \"name\": \"Node 62\", \"type\": \"scatter\", \"x\": [21.81049082047015, 23.34292575151156], \"y\": [25.97963612301487, 26.68425177005429]}, {\"marker\": {\"color\": \"black\", \"line\": {\"color\": \"black\", \"width\": 1}, \"size\": 10}, \"mode\": \"lines\", \"name\": \"Node 63\", \"type\": \"scatter\", \"x\": [60.92635847676631, 61.35534866727516], \"y\": [67.93249463069164, 67.24574911172184]}, {\"marker\": {\"color\": \"black\", \"line\": {\"color\": \"black\", \"width\": 1}, \"size\": 10}, \"mode\": \"lines\", \"name\": \"Node 64\", \"type\": \"scatter\", \"x\": [20.505884713437727, 20.562238115564426], \"y\": [83.79343055629818, 83.21650371335518]}, {\"marker\": {\"color\": \"black\", \"line\": {\"color\": \"black\", \"width\": 1}, \"size\": 10}, \"mode\": \"lines\", \"name\": \"Node 65\", \"type\": \"scatter\", \"x\": [93.13985002295708, 93.147949154645], \"y\": [85.92686357712279, 84.9243604201135]}, {\"marker\": {\"color\": \"black\", \"line\": {\"color\": \"black\", \"width\": 1}, \"size\": 10}, \"mode\": \"lines\", \"name\": \"Node 66\", \"type\": \"scatter\", \"x\": [81.4596881287695, 81.79692055060414], \"y\": [96.51544503258702, 94.55943615997403]}, {\"marker\": {\"color\": \"black\", \"line\": {\"color\": \"black\", \"width\": 1}, \"size\": 10}, \"mode\": \"lines\", \"name\": \"Node 67\", \"type\": \"scatter\", \"x\": [60.204687078255404, 60.66160593130419], \"y\": [1.12471927377632, 0.11735295469781566]}, {\"marker\": {\"color\": \"black\", \"line\": {\"color\": \"black\", \"width\": 1}, \"size\": 10}, \"mode\": \"lines\", \"name\": \"Node 68\", \"type\": \"scatter\", \"x\": [78.23495477590514, 79.61537499386557], \"y\": [17.120471714813878, 16.66802990927955]}, {\"marker\": {\"color\": \"black\", \"line\": {\"color\": \"black\", \"width\": 1}, \"size\": 10}, \"mode\": \"lines\", \"name\": \"Node 69\", \"type\": \"scatter\", \"x\": [31.884750581909106, 31.22465143166276], \"y\": [54.16704055133319, 52.58717006207346]}, {\"marker\": {\"color\": \"black\", \"line\": {\"color\": \"black\", \"width\": 1}, \"size\": 10}, \"mode\": \"lines\", \"name\": \"Node 70\", \"type\": \"scatter\", \"x\": [84.5311269451653, 83.00409551838571], \"y\": [38.95650045113916, 38.01397130550027]}, {\"marker\": {\"color\": \"black\", \"line\": {\"color\": \"black\", \"width\": 1}, \"size\": 10}, \"mode\": \"lines\", \"name\": \"Node 71\", \"type\": \"scatter\", \"x\": [80.43436692601897, 82.65906569550435], \"y\": [95.36913937211415, 95.24444550639161]}, {\"marker\": {\"color\": \"black\", \"line\": {\"color\": \"black\", \"width\": 1}, \"size\": 10}, \"mode\": \"lines\", \"name\": \"Node 72\", \"type\": \"scatter\", \"x\": [18.07448724202665, 17.266964323005862], \"y\": [20.100539959374753, 21.128871870491803]}, {\"marker\": {\"color\": \"black\", \"line\": {\"color\": \"black\", \"width\": 1}, \"size\": 10}, \"mode\": \"lines\", \"name\": \"Node 73\", \"type\": \"scatter\", \"x\": [6.788041147175239, 7.331848658719328], \"y\": [64.67549892374454, 65.39897329405643]}, {\"marker\": {\"color\": \"black\", \"line\": {\"color\": \"black\", \"width\": 1}, \"size\": 10}, \"mode\": \"lines\", \"name\": \"Node 74\", \"type\": \"scatter\", \"x\": [39.05470410474082, 38.7219203129058], \"y\": [21.48500013874073, 22.67238575446412]}, {\"marker\": {\"color\": \"black\", \"line\": {\"color\": \"black\", \"width\": 1}, \"size\": 10}, \"mode\": \"lines\", \"name\": \"Node 75\", \"type\": \"scatter\", \"x\": [0.9130746811926826, 1.804621394242597], \"y\": [77.11691783829485, 77.26046234136233]}, {\"marker\": {\"color\": \"black\", \"line\": {\"color\": \"black\", \"width\": 1}, \"size\": 10}, \"mode\": \"lines\", \"name\": \"Node 76\", \"type\": \"scatter\", \"x\": [32.6869681264944, 33.261015759181326], \"y\": [60.4003683609994, 59.1916948329586]}, {\"marker\": {\"color\": \"black\", \"line\": {\"color\": \"black\", \"width\": 1}, \"size\": 10}, \"mode\": \"lines\", \"name\": \"Node 77\", \"type\": \"scatter\", \"x\": [24.170502313368292, 23.427563991551935], \"y\": [57.29577889236977, 58.089425623661334]}, {\"marker\": {\"color\": \"black\", \"line\": {\"color\": \"black\", \"width\": 1}, \"size\": 10}, \"mode\": \"lines\", \"name\": \"Node 78\", \"type\": \"scatter\", \"x\": [78.78240161142085, 75.38739210848145], \"y\": [29.25479947077051, 30.466866881147187]}, {\"marker\": {\"color\": \"black\", \"line\": {\"color\": \"black\", \"width\": 1}, \"size\": 10}, \"mode\": \"lines\", \"name\": \"Node 79\", \"type\": \"scatter\", \"x\": [5.1681875733570415, 3.922209350566161], \"y\": [84.64062433112363, 84.56362723398152]}, {\"marker\": {\"color\": \"black\", \"line\": {\"color\": \"black\", \"width\": 1}, \"size\": 10}, \"mode\": \"lines\", \"name\": \"Node 80\", \"type\": \"scatter\", \"x\": [67.31028355521386, 67.25422629754257], \"y\": [48.632420597983504, 48.7786797149102]}, {\"marker\": {\"color\": \"black\", \"line\": {\"color\": \"black\", \"width\": 1}, \"size\": 10}, \"mode\": \"lines\", \"name\": \"Node 81\", \"type\": \"scatter\", \"x\": [65.4281388561508, 65.21419680713551], \"y\": [65.51790931201398, 65.21767184902626]}, {\"marker\": {\"color\": \"black\", \"line\": {\"color\": \"black\", \"width\": 1}, \"size\": 10}, \"mode\": \"lines\", \"name\": \"Node 82\", \"type\": \"scatter\", \"x\": [58.95243047182771, 59.191613558217064], \"y\": [25.68820202147557, 26.269023569298742]}, {\"marker\": {\"color\": \"black\", \"line\": {\"color\": \"black\", \"width\": 1}, \"size\": 10}, \"mode\": \"lines\", \"name\": \"Node 83\", \"type\": \"scatter\", \"x\": [79.6826199954019, 78.80620631595356], \"y\": [61.626955061128186, 63.729902343709625]}, {\"marker\": {\"color\": \"black\", \"line\": {\"color\": \"black\", \"width\": 1}, \"size\": 10}, \"mode\": \"lines\", \"name\": \"Node 84\", \"type\": \"scatter\", \"x\": [5.464500816061468, 4.393298184432894], \"y\": [52.33458975286604, 51.3862749027688]}, {\"marker\": {\"color\": \"black\", \"line\": {\"color\": \"black\", \"width\": 1}, \"size\": 10}, \"mode\": \"lines\", \"name\": \"Node 85\", \"type\": \"scatter\", \"x\": [30.23898513762746, 31.153605192257714], \"y\": [79.53650973952819, 79.70334309371076]}, {\"marker\": {\"color\": \"black\", \"line\": {\"color\": \"black\", \"width\": 1}, \"size\": 10}, \"mode\": \"lines\", \"name\": \"Node 86\", \"type\": \"scatter\", \"x\": [12.23051171154561, 12.776067006806983], \"y\": [98.27761520597407, 98.66960336176429]}, {\"marker\": {\"color\": \"black\", \"line\": {\"color\": \"black\", \"width\": 1}, \"size\": 10}, \"mode\": \"lines\", \"name\": \"Node 87\", \"type\": \"scatter\", \"x\": [47.36304399974271, 47.062898932062204], \"y\": [15.54504426398725, 15.092728928605363]}, {\"marker\": {\"color\": \"black\", \"line\": {\"color\": \"black\", \"width\": 1}, \"size\": 10}, \"mode\": \"lines\", \"name\": \"Node 88\", \"type\": \"scatter\", \"x\": [34.97263212500612, 35.373339789222264], \"y\": [24.849516234704584, 24.869268602824974]}, {\"marker\": {\"color\": \"black\", \"line\": {\"color\": \"black\", \"width\": 1}, \"size\": 10}, \"mode\": \"lines\", \"name\": \"Node 89\", \"type\": \"scatter\", \"x\": [27.93291143831187, 27.316474097623], \"y\": [56.3069590066293, 54.44999872544201]}, {\"marker\": {\"color\": \"black\", \"line\": {\"color\": \"black\", \"width\": 1}, \"size\": 10}, \"mode\": \"lines\", \"name\": \"Node 90\", \"type\": \"scatter\", \"x\": [11.023359387031373, 10.599498444478284], \"y\": [64.44092914109432, 64.83176460947108]}, {\"marker\": {\"color\": \"black\", \"line\": {\"color\": \"black\", \"width\": 1}, \"size\": 10}, \"mode\": \"lines\", \"name\": \"Node 91\", \"type\": \"scatter\", \"x\": [80.48395815608924, 80.59465945020168], \"y\": [73.72736661516569, 74.98117038525217]}, {\"marker\": {\"color\": \"black\", \"line\": {\"color\": \"black\", \"width\": 1}, \"size\": 10}, \"mode\": \"lines\", \"name\": \"Node 92\", \"type\": \"scatter\", \"x\": [88.93791591121139, 89.49311707521304], \"y\": [80.26250188161033, 81.79618780282567]}, {\"marker\": {\"color\": \"black\", \"line\": {\"color\": \"black\", \"width\": 1}, \"size\": 10}, \"mode\": \"lines\", \"name\": \"Node 93\", \"type\": \"scatter\", \"x\": [90.48942579881918, 90.27134177344017], \"y\": [75.07769005527103, 74.39307292532878]}, {\"marker\": {\"color\": \"black\", \"line\": {\"color\": \"black\", \"width\": 1}, \"size\": 10}, \"mode\": \"lines\", \"name\": \"Node 94\", \"type\": \"scatter\", \"x\": [57.208272435341, 57.630732141616306], \"y\": [75.25658895307376, 76.23148077381795]}, {\"marker\": {\"color\": \"black\", \"line\": {\"color\": \"black\", \"width\": 1}, \"size\": 10}, \"mode\": \"lines\", \"name\": \"Node 95\", \"type\": \"scatter\", \"x\": [97.22194676304771, 96.51102155052767], \"y\": [79.03558173254929, 78.53508386674889]}, {\"marker\": {\"color\": \"black\", \"line\": {\"color\": \"black\", \"width\": 1}, \"size\": 10}, \"mode\": \"lines\", \"name\": \"Node 96\", \"type\": \"scatter\", \"x\": [1.8761699741689286, 1.714703879583813], \"y\": [72.7197454666149, 72.3701103581533]}, {\"marker\": {\"color\": \"black\", \"line\": {\"color\": \"black\", \"width\": 1}, \"size\": 10}, \"mode\": \"lines\", \"name\": \"Node 97\", \"type\": \"scatter\", \"x\": [40.310805326490026, 39.77392769618323], \"y\": [45.498036128748744, 45.981324975141376]}, {\"marker\": {\"color\": \"black\", \"line\": {\"color\": \"black\", \"width\": 1}, \"size\": 10}, \"mode\": \"lines\", \"name\": \"Node 98\", \"type\": \"scatter\", \"x\": [19.816279396445445, 19.235105009012425], \"y\": [2.171303655684076, 1.0418163365889246]}, {\"marker\": {\"color\": \"black\", \"line\": {\"color\": \"black\", \"width\": 1}, \"size\": 10}, \"mode\": \"lines\", \"name\": \"Node 99\", \"type\": \"scatter\", \"x\": [93.3804619334093, 92.36651018767843], \"y\": [57.098185052686205, 58.82671303472481]}],                        {\"template\": {\"data\": {\"bar\": [{\"error_x\": {\"color\": \"#2a3f5f\"}, \"error_y\": {\"color\": \"#2a3f5f\"}, \"marker\": {\"line\": {\"color\": \"#E5ECF6\", \"width\": 0.5}}, \"type\": \"bar\"}], \"barpolar\": [{\"marker\": {\"line\": {\"color\": \"#E5ECF6\", \"width\": 0.5}}, \"type\": \"barpolar\"}], \"carpet\": [{\"aaxis\": {\"endlinecolor\": \"#2a3f5f\", \"gridcolor\": \"white\", \"linecolor\": \"white\", \"minorgridcolor\": \"white\", \"startlinecolor\": \"#2a3f5f\"}, \"baxis\": {\"endlinecolor\": \"#2a3f5f\", \"gridcolor\": \"white\", \"linecolor\": \"white\", \"minorgridcolor\": \"white\", \"startlinecolor\": \"#2a3f5f\"}, \"type\": \"carpet\"}], \"choropleth\": [{\"colorbar\": {\"outlinewidth\": 0, \"ticks\": \"\"}, \"type\": \"choropleth\"}], \"contour\": [{\"colorbar\": {\"outlinewidth\": 0, \"ticks\": \"\"}, \"colorscale\": [[0.0, \"#0d0887\"], [0.1111111111111111, \"#46039f\"], [0.2222222222222222, \"#7201a8\"], [0.3333333333333333, \"#9c179e\"], [0.4444444444444444, \"#bd3786\"], [0.5555555555555556, \"#d8576b\"], [0.6666666666666666, \"#ed7953\"], [0.7777777777777778, \"#fb9f3a\"], [0.8888888888888888, \"#fdca26\"], [1.0, \"#f0f921\"]], \"type\": \"contour\"}], \"contourcarpet\": [{\"colorbar\": {\"outlinewidth\": 0, \"ticks\": \"\"}, \"type\": \"contourcarpet\"}], \"heatmap\": [{\"colorbar\": {\"outlinewidth\": 0, \"ticks\": \"\"}, \"colorscale\": [[0.0, \"#0d0887\"], [0.1111111111111111, \"#46039f\"], [0.2222222222222222, \"#7201a8\"], [0.3333333333333333, \"#9c179e\"], [0.4444444444444444, \"#bd3786\"], [0.5555555555555556, \"#d8576b\"], [0.6666666666666666, \"#ed7953\"], [0.7777777777777778, \"#fb9f3a\"], [0.8888888888888888, \"#fdca26\"], [1.0, \"#f0f921\"]], \"type\": \"heatmap\"}], \"heatmapgl\": [{\"colorbar\": {\"outlinewidth\": 0, \"ticks\": \"\"}, \"colorscale\": [[0.0, \"#0d0887\"], [0.1111111111111111, \"#46039f\"], [0.2222222222222222, \"#7201a8\"], [0.3333333333333333, \"#9c179e\"], [0.4444444444444444, \"#bd3786\"], [0.5555555555555556, \"#d8576b\"], [0.6666666666666666, \"#ed7953\"], [0.7777777777777778, \"#fb9f3a\"], [0.8888888888888888, \"#fdca26\"], [1.0, \"#f0f921\"]], \"type\": \"heatmapgl\"}], \"histogram\": [{\"marker\": {\"colorbar\": {\"outlinewidth\": 0, \"ticks\": \"\"}}, \"type\": \"histogram\"}], \"histogram2d\": [{\"colorbar\": {\"outlinewidth\": 0, \"ticks\": \"\"}, \"colorscale\": [[0.0, \"#0d0887\"], [0.1111111111111111, \"#46039f\"], [0.2222222222222222, \"#7201a8\"], [0.3333333333333333, \"#9c179e\"], [0.4444444444444444, \"#bd3786\"], [0.5555555555555556, \"#d8576b\"], [0.6666666666666666, \"#ed7953\"], [0.7777777777777778, \"#fb9f3a\"], [0.8888888888888888, \"#fdca26\"], [1.0, \"#f0f921\"]], \"type\": \"histogram2d\"}], \"histogram2dcontour\": [{\"colorbar\": {\"outlinewidth\": 0, \"ticks\": \"\"}, \"colorscale\": [[0.0, \"#0d0887\"], [0.1111111111111111, \"#46039f\"], [0.2222222222222222, \"#7201a8\"], [0.3333333333333333, \"#9c179e\"], [0.4444444444444444, \"#bd3786\"], [0.5555555555555556, \"#d8576b\"], [0.6666666666666666, \"#ed7953\"], [0.7777777777777778, \"#fb9f3a\"], [0.8888888888888888, \"#fdca26\"], [1.0, \"#f0f921\"]], \"type\": \"histogram2dcontour\"}], \"mesh3d\": [{\"colorbar\": {\"outlinewidth\": 0, \"ticks\": \"\"}, \"type\": \"mesh3d\"}], \"parcoords\": [{\"line\": {\"colorbar\": {\"outlinewidth\": 0, \"ticks\": \"\"}}, \"type\": \"parcoords\"}], \"pie\": [{\"automargin\": true, \"type\": \"pie\"}], \"scatter\": [{\"marker\": {\"colorbar\": {\"outlinewidth\": 0, \"ticks\": \"\"}}, \"type\": \"scatter\"}], \"scatter3d\": [{\"line\": {\"colorbar\": {\"outlinewidth\": 0, \"ticks\": \"\"}}, \"marker\": {\"colorbar\": {\"outlinewidth\": 0, \"ticks\": \"\"}}, \"type\": \"scatter3d\"}], \"scattercarpet\": [{\"marker\": {\"colorbar\": {\"outlinewidth\": 0, \"ticks\": \"\"}}, \"type\": \"scattercarpet\"}], \"scattergeo\": [{\"marker\": {\"colorbar\": {\"outlinewidth\": 0, \"ticks\": \"\"}}, \"type\": \"scattergeo\"}], \"scattergl\": [{\"marker\": {\"colorbar\": {\"outlinewidth\": 0, \"ticks\": \"\"}}, \"type\": \"scattergl\"}], \"scattermapbox\": [{\"marker\": {\"colorbar\": {\"outlinewidth\": 0, \"ticks\": \"\"}}, \"type\": \"scattermapbox\"}], \"scatterpolar\": [{\"marker\": {\"colorbar\": {\"outlinewidth\": 0, \"ticks\": \"\"}}, \"type\": \"scatterpolar\"}], \"scatterpolargl\": [{\"marker\": {\"colorbar\": {\"outlinewidth\": 0, \"ticks\": \"\"}}, \"type\": \"scatterpolargl\"}], \"scatterternary\": [{\"marker\": {\"colorbar\": {\"outlinewidth\": 0, \"ticks\": \"\"}}, \"type\": \"scatterternary\"}], \"surface\": [{\"colorbar\": {\"outlinewidth\": 0, \"ticks\": \"\"}, \"colorscale\": [[0.0, \"#0d0887\"], [0.1111111111111111, \"#46039f\"], [0.2222222222222222, \"#7201a8\"], [0.3333333333333333, \"#9c179e\"], [0.4444444444444444, \"#bd3786\"], [0.5555555555555556, \"#d8576b\"], [0.6666666666666666, \"#ed7953\"], [0.7777777777777778, \"#fb9f3a\"], [0.8888888888888888, \"#fdca26\"], [1.0, \"#f0f921\"]], \"type\": \"surface\"}], \"table\": [{\"cells\": {\"fill\": {\"color\": \"#EBF0F8\"}, \"line\": {\"color\": \"white\"}}, \"header\": {\"fill\": {\"color\": \"#C8D4E3\"}, \"line\": {\"color\": \"white\"}}, \"type\": \"table\"}]}, \"layout\": {\"annotationdefaults\": {\"arrowcolor\": \"#2a3f5f\", \"arrowhead\": 0, \"arrowwidth\": 1}, \"autotypenumbers\": \"strict\", \"coloraxis\": {\"colorbar\": {\"outlinewidth\": 0, \"ticks\": \"\"}}, \"colorscale\": {\"diverging\": [[0, \"#8e0152\"], [0.1, \"#c51b7d\"], [0.2, \"#de77ae\"], [0.3, \"#f1b6da\"], [0.4, \"#fde0ef\"], [0.5, \"#f7f7f7\"], [0.6, \"#e6f5d0\"], [0.7, \"#b8e186\"], [0.8, \"#7fbc41\"], [0.9, \"#4d9221\"], [1, \"#276419\"]], \"sequential\": [[0.0, \"#0d0887\"], [0.1111111111111111, \"#46039f\"], [0.2222222222222222, \"#7201a8\"], [0.3333333333333333, \"#9c179e\"], [0.4444444444444444, \"#bd3786\"], [0.5555555555555556, \"#d8576b\"], [0.6666666666666666, \"#ed7953\"], [0.7777777777777778, \"#fb9f3a\"], [0.8888888888888888, \"#fdca26\"], [1.0, \"#f0f921\"]], \"sequentialminus\": [[0.0, \"#0d0887\"], [0.1111111111111111, \"#46039f\"], [0.2222222222222222, \"#7201a8\"], [0.3333333333333333, \"#9c179e\"], [0.4444444444444444, \"#bd3786\"], [0.5555555555555556, \"#d8576b\"], [0.6666666666666666, \"#ed7953\"], [0.7777777777777778, \"#fb9f3a\"], [0.8888888888888888, \"#fdca26\"], [1.0, \"#f0f921\"]]}, \"colorway\": [\"#636efa\", \"#EF553B\", \"#00cc96\", \"#ab63fa\", \"#FFA15A\", \"#19d3f3\", \"#FF6692\", \"#B6E880\", \"#FF97FF\", \"#FECB52\"], \"font\": {\"color\": \"#2a3f5f\"}, \"geo\": {\"bgcolor\": \"white\", \"lakecolor\": \"white\", \"landcolor\": \"#E5ECF6\", \"showlakes\": true, \"showland\": true, \"subunitcolor\": \"white\"}, \"hoverlabel\": {\"align\": \"left\"}, \"hovermode\": \"closest\", \"mapbox\": {\"style\": \"light\"}, \"paper_bgcolor\": \"white\", \"plot_bgcolor\": \"#E5ECF6\", \"polar\": {\"angularaxis\": {\"gridcolor\": \"white\", \"linecolor\": \"white\", \"ticks\": \"\"}, \"bgcolor\": \"#E5ECF6\", \"radialaxis\": {\"gridcolor\": \"white\", \"linecolor\": \"white\", \"ticks\": \"\"}}, \"scene\": {\"xaxis\": {\"backgroundcolor\": \"#E5ECF6\", \"gridcolor\": \"white\", \"gridwidth\": 2, \"linecolor\": \"white\", \"showbackground\": true, \"ticks\": \"\", \"zerolinecolor\": \"white\"}, \"yaxis\": {\"backgroundcolor\": \"#E5ECF6\", \"gridcolor\": \"white\", \"gridwidth\": 2, \"linecolor\": \"white\", \"showbackground\": true, \"ticks\": \"\", \"zerolinecolor\": \"white\"}, \"zaxis\": {\"backgroundcolor\": \"#E5ECF6\", \"gridcolor\": \"white\", \"gridwidth\": 2, \"linecolor\": \"white\", \"showbackground\": true, \"ticks\": \"\", \"zerolinecolor\": \"white\"}}, \"shapedefaults\": {\"line\": {\"color\": \"#2a3f5f\"}}, \"ternary\": {\"aaxis\": {\"gridcolor\": \"white\", \"linecolor\": \"white\", \"ticks\": \"\"}, \"baxis\": {\"gridcolor\": \"white\", \"linecolor\": \"white\", \"ticks\": \"\"}, \"bgcolor\": \"#E5ECF6\", \"caxis\": {\"gridcolor\": \"white\", \"linecolor\": \"white\", \"ticks\": \"\"}}, \"title\": {\"x\": 0.05}, \"xaxis\": {\"automargin\": true, \"gridcolor\": \"white\", \"linecolor\": \"white\", \"ticks\": \"\", \"title\": {\"standoff\": 15}, \"zerolinecolor\": \"white\", \"zerolinewidth\": 2}, \"yaxis\": {\"automargin\": true, \"gridcolor\": \"white\", \"linecolor\": \"white\", \"ticks\": \"\", \"title\": {\"standoff\": 15}, \"zerolinecolor\": \"white\", \"zerolinewidth\": 2}}}},                        {\"responsive\": true}                    ).then(function(){\n",
       "                            \n",
       "var gd = document.getElementById('ecc4b558-b630-4441-87fc-94b2f91811e6');\n",
       "var x = new MutationObserver(function (mutations, observer) {{\n",
       "        var display = window.getComputedStyle(gd).display;\n",
       "        if (!display || display === 'none') {{\n",
       "            console.log([gd, 'removed!']);\n",
       "            Plotly.purge(gd);\n",
       "            observer.disconnect();\n",
       "        }}\n",
       "}});\n",
       "\n",
       "// Listen for the removal of the full notebook cells\n",
       "var notebookContainer = gd.closest('#notebook-container');\n",
       "if (notebookContainer) {{\n",
       "    x.observe(notebookContainer, {childList: true});\n",
       "}}\n",
       "\n",
       "// Listen for the clearing of the current output cell\n",
       "var outputEl = gd.closest('.output');\n",
       "if (outputEl) {{\n",
       "    x.observe(outputEl, {childList: true});\n",
       "}}\n",
       "\n",
       "                        })                };                });            </script>        </div>"
      ]
     },
     "metadata": {},
     "output_type": "display_data"
    }
   ],
   "source": [
    "iplot(data)"
   ]
  },
  {
   "cell_type": "code",
   "execution_count": 10,
   "id": "fc321ffe",
   "metadata": {},
   "outputs": [],
   "source": [
    "\"\"\"\n",
    "    generateNodes(N, L, R, r, f=20)\n",
    "\"\"\"\n",
    "nodes = generateNodes(100, 100, 0, 0, 20)\n",
    "\n",
    "\"\"\"\n",
    "    findNeighbours(nodes, R=25)\n",
    "\"\"\"\n",
    "nodes = findNeighbours(nodes, 25)\n",
    "\n",
    "ErrorHeuristic1 = 0\n",
    "ErrorHeuristic2 = 0"
   ]
  },
  {
   "cell_type": "code",
   "execution_count": 11,
   "id": "11da2e11",
   "metadata": {},
   "outputs": [],
   "source": [
    "def calculateError(nodes, N, f):\n",
    "    estimated = 0\n",
    "    error = 0\n",
    "    for idx in range(len(nodes)):\n",
    "        if nodes[idx].isAnchor > 1:\n",
    "            estimated = estimated + 1\n",
    "            error = error + nodes[idx].getErrorOfEstimation()\n",
    "    return error/(N-f)"
   ]
  },
  {
   "cell_type": "markdown",
   "id": "a5984b15",
   "metadata": {},
   "source": [
    "# 1. Неитеративен пристап\n",
    "-------------------------------------------------------------------------------------------------------------------------------\n",
    "## 1.1. Процент на локализирани јазли во зависност од R и f\n"
   ]
  },
  {
   "cell_type": "code",
   "execution_count": 12,
   "id": "57a0e9ca",
   "metadata": {},
   "outputs": [
    {
     "name": "stdout",
     "output_type": "stream",
     "text": [
      "[0.0, 8.88888888888889, 41.1764705882353, 62.5, 65.33333333333333, 78.57142857142857, 90.76923076923077, 90.0]\n"
     ]
    }
   ],
   "source": [
    "N = 100\n",
    "L = 100\n",
    "R = 20\n",
    "r = 10\n",
    "# f = {5,10,15,20,25,30,35,40}\n",
    "heuristic = 1\n",
    "errorsH1 = []\n",
    "\n",
    "nodes = None\n",
    "localized_nodes_percentage1 = []\n",
    "for f in range(5, 41, 5):\n",
    "    error = 0\n",
    "    #for i in range(0, 15):\n",
    "    nodes = generateNodes(N, L, R, r, f)\n",
    "    nodes = findNeighbours(nodes, R)\n",
    "    nodes = estimateLocations(nodes, heuristic, iterative = False)\n",
    "\n",
    "    total = 0\n",
    "    for index in nodes:\n",
    "        if nodes[index].isAnchor > 1:\n",
    "            total += 1;\n",
    "    localized_nodes_percentage1.append(total*100/(N-f))\n",
    "\n",
    "print(localized_nodes_percentage1)"
   ]
  },
  {
   "cell_type": "code",
   "execution_count": 13,
   "id": "64da19b8",
   "metadata": {},
   "outputs": [
    {
     "name": "stdout",
     "output_type": "stream",
     "text": [
      "[89.47368421052632, 96.66666666666667, 100.0, 100.0, 100.0, 100.0, 100.0, 100.0]\n"
     ]
    }
   ],
   "source": [
    "N = 100\n",
    "L = 100\n",
    "R = 40\n",
    "r = 10\n",
    "# f = {5,10,15,20,25,30,35,40}\n",
    "heuristic = 1\n",
    "errorsH1 = []\n",
    "\n",
    "nodes = None\n",
    "localized_nodes_percentage2 = []\n",
    "for f in range(5, 41, 5):\n",
    "    error = 0\n",
    "    #for i in range(0, 15):\n",
    "    nodes = generateNodes(N, L, R, r, f)\n",
    "    nodes = findNeighbours(nodes, R)\n",
    "    nodes = estimateLocations(nodes, heuristic, iterative = False)\n",
    "\n",
    "    total = 0\n",
    "    for index in nodes:\n",
    "        if nodes[index].isAnchor > 1:\n",
    "            total += 1;\n",
    "    localized_nodes_percentage2.append(total*100/(N-f))\n",
    "\n",
    "print(localized_nodes_percentage2)"
   ]
  },
  {
   "cell_type": "code",
   "execution_count": 14,
   "id": "75ca625a",
   "metadata": {},
   "outputs": [
    {
     "data": {
      "application/vnd.plotly.v1+json": {
       "config": {
        "linkText": "Export to plot.ly",
        "plotlyServerURL": "https://plot.ly",
        "showLink": false
       },
       "data": [
        {
         "mode": "lines",
         "name": "R = 20",
         "type": "scatter",
         "x": [
          5,
          10,
          15,
          20,
          25,
          30,
          35,
          40
         ],
         "y": [
          0,
          8.88888888888889,
          41.1764705882353,
          62.5,
          65.33333333333333,
          78.57142857142857,
          90.76923076923077,
          90
         ]
        },
        {
         "mode": "lines",
         "name": "R = 40",
         "type": "scatter",
         "x": [
          5,
          10,
          15,
          20,
          25,
          30,
          35,
          40
         ],
         "y": [
          89.47368421052632,
          96.66666666666667,
          100,
          100,
          100,
          100,
          100,
          100
         ]
        }
       ],
       "layout": {
        "template": {
         "data": {
          "bar": [
           {
            "error_x": {
             "color": "#2a3f5f"
            },
            "error_y": {
             "color": "#2a3f5f"
            },
            "marker": {
             "line": {
              "color": "#E5ECF6",
              "width": 0.5
             }
            },
            "type": "bar"
           }
          ],
          "barpolar": [
           {
            "marker": {
             "line": {
              "color": "#E5ECF6",
              "width": 0.5
             }
            },
            "type": "barpolar"
           }
          ],
          "carpet": [
           {
            "aaxis": {
             "endlinecolor": "#2a3f5f",
             "gridcolor": "white",
             "linecolor": "white",
             "minorgridcolor": "white",
             "startlinecolor": "#2a3f5f"
            },
            "baxis": {
             "endlinecolor": "#2a3f5f",
             "gridcolor": "white",
             "linecolor": "white",
             "minorgridcolor": "white",
             "startlinecolor": "#2a3f5f"
            },
            "type": "carpet"
           }
          ],
          "choropleth": [
           {
            "colorbar": {
             "outlinewidth": 0,
             "ticks": ""
            },
            "type": "choropleth"
           }
          ],
          "contour": [
           {
            "colorbar": {
             "outlinewidth": 0,
             "ticks": ""
            },
            "colorscale": [
             [
              0,
              "#0d0887"
             ],
             [
              0.1111111111111111,
              "#46039f"
             ],
             [
              0.2222222222222222,
              "#7201a8"
             ],
             [
              0.3333333333333333,
              "#9c179e"
             ],
             [
              0.4444444444444444,
              "#bd3786"
             ],
             [
              0.5555555555555556,
              "#d8576b"
             ],
             [
              0.6666666666666666,
              "#ed7953"
             ],
             [
              0.7777777777777778,
              "#fb9f3a"
             ],
             [
              0.8888888888888888,
              "#fdca26"
             ],
             [
              1,
              "#f0f921"
             ]
            ],
            "type": "contour"
           }
          ],
          "contourcarpet": [
           {
            "colorbar": {
             "outlinewidth": 0,
             "ticks": ""
            },
            "type": "contourcarpet"
           }
          ],
          "heatmap": [
           {
            "colorbar": {
             "outlinewidth": 0,
             "ticks": ""
            },
            "colorscale": [
             [
              0,
              "#0d0887"
             ],
             [
              0.1111111111111111,
              "#46039f"
             ],
             [
              0.2222222222222222,
              "#7201a8"
             ],
             [
              0.3333333333333333,
              "#9c179e"
             ],
             [
              0.4444444444444444,
              "#bd3786"
             ],
             [
              0.5555555555555556,
              "#d8576b"
             ],
             [
              0.6666666666666666,
              "#ed7953"
             ],
             [
              0.7777777777777778,
              "#fb9f3a"
             ],
             [
              0.8888888888888888,
              "#fdca26"
             ],
             [
              1,
              "#f0f921"
             ]
            ],
            "type": "heatmap"
           }
          ],
          "heatmapgl": [
           {
            "colorbar": {
             "outlinewidth": 0,
             "ticks": ""
            },
            "colorscale": [
             [
              0,
              "#0d0887"
             ],
             [
              0.1111111111111111,
              "#46039f"
             ],
             [
              0.2222222222222222,
              "#7201a8"
             ],
             [
              0.3333333333333333,
              "#9c179e"
             ],
             [
              0.4444444444444444,
              "#bd3786"
             ],
             [
              0.5555555555555556,
              "#d8576b"
             ],
             [
              0.6666666666666666,
              "#ed7953"
             ],
             [
              0.7777777777777778,
              "#fb9f3a"
             ],
             [
              0.8888888888888888,
              "#fdca26"
             ],
             [
              1,
              "#f0f921"
             ]
            ],
            "type": "heatmapgl"
           }
          ],
          "histogram": [
           {
            "marker": {
             "colorbar": {
              "outlinewidth": 0,
              "ticks": ""
             }
            },
            "type": "histogram"
           }
          ],
          "histogram2d": [
           {
            "colorbar": {
             "outlinewidth": 0,
             "ticks": ""
            },
            "colorscale": [
             [
              0,
              "#0d0887"
             ],
             [
              0.1111111111111111,
              "#46039f"
             ],
             [
              0.2222222222222222,
              "#7201a8"
             ],
             [
              0.3333333333333333,
              "#9c179e"
             ],
             [
              0.4444444444444444,
              "#bd3786"
             ],
             [
              0.5555555555555556,
              "#d8576b"
             ],
             [
              0.6666666666666666,
              "#ed7953"
             ],
             [
              0.7777777777777778,
              "#fb9f3a"
             ],
             [
              0.8888888888888888,
              "#fdca26"
             ],
             [
              1,
              "#f0f921"
             ]
            ],
            "type": "histogram2d"
           }
          ],
          "histogram2dcontour": [
           {
            "colorbar": {
             "outlinewidth": 0,
             "ticks": ""
            },
            "colorscale": [
             [
              0,
              "#0d0887"
             ],
             [
              0.1111111111111111,
              "#46039f"
             ],
             [
              0.2222222222222222,
              "#7201a8"
             ],
             [
              0.3333333333333333,
              "#9c179e"
             ],
             [
              0.4444444444444444,
              "#bd3786"
             ],
             [
              0.5555555555555556,
              "#d8576b"
             ],
             [
              0.6666666666666666,
              "#ed7953"
             ],
             [
              0.7777777777777778,
              "#fb9f3a"
             ],
             [
              0.8888888888888888,
              "#fdca26"
             ],
             [
              1,
              "#f0f921"
             ]
            ],
            "type": "histogram2dcontour"
           }
          ],
          "mesh3d": [
           {
            "colorbar": {
             "outlinewidth": 0,
             "ticks": ""
            },
            "type": "mesh3d"
           }
          ],
          "parcoords": [
           {
            "line": {
             "colorbar": {
              "outlinewidth": 0,
              "ticks": ""
             }
            },
            "type": "parcoords"
           }
          ],
          "pie": [
           {
            "automargin": true,
            "type": "pie"
           }
          ],
          "scatter": [
           {
            "marker": {
             "colorbar": {
              "outlinewidth": 0,
              "ticks": ""
             }
            },
            "type": "scatter"
           }
          ],
          "scatter3d": [
           {
            "line": {
             "colorbar": {
              "outlinewidth": 0,
              "ticks": ""
             }
            },
            "marker": {
             "colorbar": {
              "outlinewidth": 0,
              "ticks": ""
             }
            },
            "type": "scatter3d"
           }
          ],
          "scattercarpet": [
           {
            "marker": {
             "colorbar": {
              "outlinewidth": 0,
              "ticks": ""
             }
            },
            "type": "scattercarpet"
           }
          ],
          "scattergeo": [
           {
            "marker": {
             "colorbar": {
              "outlinewidth": 0,
              "ticks": ""
             }
            },
            "type": "scattergeo"
           }
          ],
          "scattergl": [
           {
            "marker": {
             "colorbar": {
              "outlinewidth": 0,
              "ticks": ""
             }
            },
            "type": "scattergl"
           }
          ],
          "scattermapbox": [
           {
            "marker": {
             "colorbar": {
              "outlinewidth": 0,
              "ticks": ""
             }
            },
            "type": "scattermapbox"
           }
          ],
          "scatterpolar": [
           {
            "marker": {
             "colorbar": {
              "outlinewidth": 0,
              "ticks": ""
             }
            },
            "type": "scatterpolar"
           }
          ],
          "scatterpolargl": [
           {
            "marker": {
             "colorbar": {
              "outlinewidth": 0,
              "ticks": ""
             }
            },
            "type": "scatterpolargl"
           }
          ],
          "scatterternary": [
           {
            "marker": {
             "colorbar": {
              "outlinewidth": 0,
              "ticks": ""
             }
            },
            "type": "scatterternary"
           }
          ],
          "surface": [
           {
            "colorbar": {
             "outlinewidth": 0,
             "ticks": ""
            },
            "colorscale": [
             [
              0,
              "#0d0887"
             ],
             [
              0.1111111111111111,
              "#46039f"
             ],
             [
              0.2222222222222222,
              "#7201a8"
             ],
             [
              0.3333333333333333,
              "#9c179e"
             ],
             [
              0.4444444444444444,
              "#bd3786"
             ],
             [
              0.5555555555555556,
              "#d8576b"
             ],
             [
              0.6666666666666666,
              "#ed7953"
             ],
             [
              0.7777777777777778,
              "#fb9f3a"
             ],
             [
              0.8888888888888888,
              "#fdca26"
             ],
             [
              1,
              "#f0f921"
             ]
            ],
            "type": "surface"
           }
          ],
          "table": [
           {
            "cells": {
             "fill": {
              "color": "#EBF0F8"
             },
             "line": {
              "color": "white"
             }
            },
            "header": {
             "fill": {
              "color": "#C8D4E3"
             },
             "line": {
              "color": "white"
             }
            },
            "type": "table"
           }
          ]
         },
         "layout": {
          "annotationdefaults": {
           "arrowcolor": "#2a3f5f",
           "arrowhead": 0,
           "arrowwidth": 1
          },
          "autotypenumbers": "strict",
          "coloraxis": {
           "colorbar": {
            "outlinewidth": 0,
            "ticks": ""
           }
          },
          "colorscale": {
           "diverging": [
            [
             0,
             "#8e0152"
            ],
            [
             0.1,
             "#c51b7d"
            ],
            [
             0.2,
             "#de77ae"
            ],
            [
             0.3,
             "#f1b6da"
            ],
            [
             0.4,
             "#fde0ef"
            ],
            [
             0.5,
             "#f7f7f7"
            ],
            [
             0.6,
             "#e6f5d0"
            ],
            [
             0.7,
             "#b8e186"
            ],
            [
             0.8,
             "#7fbc41"
            ],
            [
             0.9,
             "#4d9221"
            ],
            [
             1,
             "#276419"
            ]
           ],
           "sequential": [
            [
             0,
             "#0d0887"
            ],
            [
             0.1111111111111111,
             "#46039f"
            ],
            [
             0.2222222222222222,
             "#7201a8"
            ],
            [
             0.3333333333333333,
             "#9c179e"
            ],
            [
             0.4444444444444444,
             "#bd3786"
            ],
            [
             0.5555555555555556,
             "#d8576b"
            ],
            [
             0.6666666666666666,
             "#ed7953"
            ],
            [
             0.7777777777777778,
             "#fb9f3a"
            ],
            [
             0.8888888888888888,
             "#fdca26"
            ],
            [
             1,
             "#f0f921"
            ]
           ],
           "sequentialminus": [
            [
             0,
             "#0d0887"
            ],
            [
             0.1111111111111111,
             "#46039f"
            ],
            [
             0.2222222222222222,
             "#7201a8"
            ],
            [
             0.3333333333333333,
             "#9c179e"
            ],
            [
             0.4444444444444444,
             "#bd3786"
            ],
            [
             0.5555555555555556,
             "#d8576b"
            ],
            [
             0.6666666666666666,
             "#ed7953"
            ],
            [
             0.7777777777777778,
             "#fb9f3a"
            ],
            [
             0.8888888888888888,
             "#fdca26"
            ],
            [
             1,
             "#f0f921"
            ]
           ]
          },
          "colorway": [
           "#636efa",
           "#EF553B",
           "#00cc96",
           "#ab63fa",
           "#FFA15A",
           "#19d3f3",
           "#FF6692",
           "#B6E880",
           "#FF97FF",
           "#FECB52"
          ],
          "font": {
           "color": "#2a3f5f"
          },
          "geo": {
           "bgcolor": "white",
           "lakecolor": "white",
           "landcolor": "#E5ECF6",
           "showlakes": true,
           "showland": true,
           "subunitcolor": "white"
          },
          "hoverlabel": {
           "align": "left"
          },
          "hovermode": "closest",
          "mapbox": {
           "style": "light"
          },
          "paper_bgcolor": "white",
          "plot_bgcolor": "#E5ECF6",
          "polar": {
           "angularaxis": {
            "gridcolor": "white",
            "linecolor": "white",
            "ticks": ""
           },
           "bgcolor": "#E5ECF6",
           "radialaxis": {
            "gridcolor": "white",
            "linecolor": "white",
            "ticks": ""
           }
          },
          "scene": {
           "xaxis": {
            "backgroundcolor": "#E5ECF6",
            "gridcolor": "white",
            "gridwidth": 2,
            "linecolor": "white",
            "showbackground": true,
            "ticks": "",
            "zerolinecolor": "white"
           },
           "yaxis": {
            "backgroundcolor": "#E5ECF6",
            "gridcolor": "white",
            "gridwidth": 2,
            "linecolor": "white",
            "showbackground": true,
            "ticks": "",
            "zerolinecolor": "white"
           },
           "zaxis": {
            "backgroundcolor": "#E5ECF6",
            "gridcolor": "white",
            "gridwidth": 2,
            "linecolor": "white",
            "showbackground": true,
            "ticks": "",
            "zerolinecolor": "white"
           }
          },
          "shapedefaults": {
           "line": {
            "color": "#2a3f5f"
           }
          },
          "ternary": {
           "aaxis": {
            "gridcolor": "white",
            "linecolor": "white",
            "ticks": ""
           },
           "baxis": {
            "gridcolor": "white",
            "linecolor": "white",
            "ticks": ""
           },
           "bgcolor": "#E5ECF6",
           "caxis": {
            "gridcolor": "white",
            "linecolor": "white",
            "ticks": ""
           }
          },
          "title": {
           "x": 0.05
          },
          "xaxis": {
           "automargin": true,
           "gridcolor": "white",
           "linecolor": "white",
           "ticks": "",
           "title": {
            "standoff": 15
           },
           "zerolinecolor": "white",
           "zerolinewidth": 2
          },
          "yaxis": {
           "automargin": true,
           "gridcolor": "white",
           "linecolor": "white",
           "ticks": "",
           "title": {
            "standoff": 15
           },
           "zerolinecolor": "white",
           "zerolinewidth": 2
          }
         }
        }
       }
      },
      "text/html": [
       "<div>                            <div id=\"ea1743de-c238-4c12-85a3-f24bffbed9a7\" class=\"plotly-graph-div\" style=\"height:525px; width:100%;\"></div>            <script type=\"text/javascript\">                require([\"plotly\"], function(Plotly) {                    window.PLOTLYENV=window.PLOTLYENV || {};                                    if (document.getElementById(\"ea1743de-c238-4c12-85a3-f24bffbed9a7\")) {                    Plotly.newPlot(                        \"ea1743de-c238-4c12-85a3-f24bffbed9a7\",                        [{\"mode\": \"lines\", \"name\": \"R = 20\", \"type\": \"scatter\", \"x\": [5, 10, 15, 20, 25, 30, 35, 40], \"y\": [0.0, 8.88888888888889, 41.1764705882353, 62.5, 65.33333333333333, 78.57142857142857, 90.76923076923077, 90.0]}, {\"mode\": \"lines\", \"name\": \"R = 40\", \"type\": \"scatter\", \"x\": [5, 10, 15, 20, 25, 30, 35, 40], \"y\": [89.47368421052632, 96.66666666666667, 100.0, 100.0, 100.0, 100.0, 100.0, 100.0]}],                        {\"template\": {\"data\": {\"bar\": [{\"error_x\": {\"color\": \"#2a3f5f\"}, \"error_y\": {\"color\": \"#2a3f5f\"}, \"marker\": {\"line\": {\"color\": \"#E5ECF6\", \"width\": 0.5}}, \"type\": \"bar\"}], \"barpolar\": [{\"marker\": {\"line\": {\"color\": \"#E5ECF6\", \"width\": 0.5}}, \"type\": \"barpolar\"}], \"carpet\": [{\"aaxis\": {\"endlinecolor\": \"#2a3f5f\", \"gridcolor\": \"white\", \"linecolor\": \"white\", \"minorgridcolor\": \"white\", \"startlinecolor\": \"#2a3f5f\"}, \"baxis\": {\"endlinecolor\": \"#2a3f5f\", \"gridcolor\": \"white\", \"linecolor\": \"white\", \"minorgridcolor\": \"white\", \"startlinecolor\": \"#2a3f5f\"}, \"type\": \"carpet\"}], \"choropleth\": [{\"colorbar\": {\"outlinewidth\": 0, \"ticks\": \"\"}, \"type\": \"choropleth\"}], \"contour\": [{\"colorbar\": {\"outlinewidth\": 0, \"ticks\": \"\"}, \"colorscale\": [[0.0, \"#0d0887\"], [0.1111111111111111, \"#46039f\"], [0.2222222222222222, \"#7201a8\"], [0.3333333333333333, \"#9c179e\"], [0.4444444444444444, \"#bd3786\"], [0.5555555555555556, \"#d8576b\"], [0.6666666666666666, \"#ed7953\"], [0.7777777777777778, \"#fb9f3a\"], [0.8888888888888888, \"#fdca26\"], [1.0, \"#f0f921\"]], \"type\": \"contour\"}], \"contourcarpet\": [{\"colorbar\": {\"outlinewidth\": 0, \"ticks\": \"\"}, \"type\": \"contourcarpet\"}], \"heatmap\": [{\"colorbar\": {\"outlinewidth\": 0, \"ticks\": \"\"}, \"colorscale\": [[0.0, \"#0d0887\"], [0.1111111111111111, \"#46039f\"], [0.2222222222222222, \"#7201a8\"], [0.3333333333333333, \"#9c179e\"], [0.4444444444444444, \"#bd3786\"], [0.5555555555555556, \"#d8576b\"], [0.6666666666666666, \"#ed7953\"], [0.7777777777777778, \"#fb9f3a\"], [0.8888888888888888, \"#fdca26\"], [1.0, \"#f0f921\"]], \"type\": \"heatmap\"}], \"heatmapgl\": [{\"colorbar\": {\"outlinewidth\": 0, \"ticks\": \"\"}, \"colorscale\": [[0.0, \"#0d0887\"], [0.1111111111111111, \"#46039f\"], [0.2222222222222222, \"#7201a8\"], [0.3333333333333333, \"#9c179e\"], [0.4444444444444444, \"#bd3786\"], [0.5555555555555556, \"#d8576b\"], [0.6666666666666666, \"#ed7953\"], [0.7777777777777778, \"#fb9f3a\"], [0.8888888888888888, \"#fdca26\"], [1.0, \"#f0f921\"]], \"type\": \"heatmapgl\"}], \"histogram\": [{\"marker\": {\"colorbar\": {\"outlinewidth\": 0, \"ticks\": \"\"}}, \"type\": \"histogram\"}], \"histogram2d\": [{\"colorbar\": {\"outlinewidth\": 0, \"ticks\": \"\"}, \"colorscale\": [[0.0, \"#0d0887\"], [0.1111111111111111, \"#46039f\"], [0.2222222222222222, \"#7201a8\"], [0.3333333333333333, \"#9c179e\"], [0.4444444444444444, \"#bd3786\"], [0.5555555555555556, \"#d8576b\"], [0.6666666666666666, \"#ed7953\"], [0.7777777777777778, \"#fb9f3a\"], [0.8888888888888888, \"#fdca26\"], [1.0, \"#f0f921\"]], \"type\": \"histogram2d\"}], \"histogram2dcontour\": [{\"colorbar\": {\"outlinewidth\": 0, \"ticks\": \"\"}, \"colorscale\": [[0.0, \"#0d0887\"], [0.1111111111111111, \"#46039f\"], [0.2222222222222222, \"#7201a8\"], [0.3333333333333333, \"#9c179e\"], [0.4444444444444444, \"#bd3786\"], [0.5555555555555556, \"#d8576b\"], [0.6666666666666666, \"#ed7953\"], [0.7777777777777778, \"#fb9f3a\"], [0.8888888888888888, \"#fdca26\"], [1.0, \"#f0f921\"]], \"type\": \"histogram2dcontour\"}], \"mesh3d\": [{\"colorbar\": {\"outlinewidth\": 0, \"ticks\": \"\"}, \"type\": \"mesh3d\"}], \"parcoords\": [{\"line\": {\"colorbar\": {\"outlinewidth\": 0, \"ticks\": \"\"}}, \"type\": \"parcoords\"}], \"pie\": [{\"automargin\": true, \"type\": \"pie\"}], \"scatter\": [{\"marker\": {\"colorbar\": {\"outlinewidth\": 0, \"ticks\": \"\"}}, \"type\": \"scatter\"}], \"scatter3d\": [{\"line\": {\"colorbar\": {\"outlinewidth\": 0, \"ticks\": \"\"}}, \"marker\": {\"colorbar\": {\"outlinewidth\": 0, \"ticks\": \"\"}}, \"type\": \"scatter3d\"}], \"scattercarpet\": [{\"marker\": {\"colorbar\": {\"outlinewidth\": 0, \"ticks\": \"\"}}, \"type\": \"scattercarpet\"}], \"scattergeo\": [{\"marker\": {\"colorbar\": {\"outlinewidth\": 0, \"ticks\": \"\"}}, \"type\": \"scattergeo\"}], \"scattergl\": [{\"marker\": {\"colorbar\": {\"outlinewidth\": 0, \"ticks\": \"\"}}, \"type\": \"scattergl\"}], \"scattermapbox\": [{\"marker\": {\"colorbar\": {\"outlinewidth\": 0, \"ticks\": \"\"}}, \"type\": \"scattermapbox\"}], \"scatterpolar\": [{\"marker\": {\"colorbar\": {\"outlinewidth\": 0, \"ticks\": \"\"}}, \"type\": \"scatterpolar\"}], \"scatterpolargl\": [{\"marker\": {\"colorbar\": {\"outlinewidth\": 0, \"ticks\": \"\"}}, \"type\": \"scatterpolargl\"}], \"scatterternary\": [{\"marker\": {\"colorbar\": {\"outlinewidth\": 0, \"ticks\": \"\"}}, \"type\": \"scatterternary\"}], \"surface\": [{\"colorbar\": {\"outlinewidth\": 0, \"ticks\": \"\"}, \"colorscale\": [[0.0, \"#0d0887\"], [0.1111111111111111, \"#46039f\"], [0.2222222222222222, \"#7201a8\"], [0.3333333333333333, \"#9c179e\"], [0.4444444444444444, \"#bd3786\"], [0.5555555555555556, \"#d8576b\"], [0.6666666666666666, \"#ed7953\"], [0.7777777777777778, \"#fb9f3a\"], [0.8888888888888888, \"#fdca26\"], [1.0, \"#f0f921\"]], \"type\": \"surface\"}], \"table\": [{\"cells\": {\"fill\": {\"color\": \"#EBF0F8\"}, \"line\": {\"color\": \"white\"}}, \"header\": {\"fill\": {\"color\": \"#C8D4E3\"}, \"line\": {\"color\": \"white\"}}, \"type\": \"table\"}]}, \"layout\": {\"annotationdefaults\": {\"arrowcolor\": \"#2a3f5f\", \"arrowhead\": 0, \"arrowwidth\": 1}, \"autotypenumbers\": \"strict\", \"coloraxis\": {\"colorbar\": {\"outlinewidth\": 0, \"ticks\": \"\"}}, \"colorscale\": {\"diverging\": [[0, \"#8e0152\"], [0.1, \"#c51b7d\"], [0.2, \"#de77ae\"], [0.3, \"#f1b6da\"], [0.4, \"#fde0ef\"], [0.5, \"#f7f7f7\"], [0.6, \"#e6f5d0\"], [0.7, \"#b8e186\"], [0.8, \"#7fbc41\"], [0.9, \"#4d9221\"], [1, \"#276419\"]], \"sequential\": [[0.0, \"#0d0887\"], [0.1111111111111111, \"#46039f\"], [0.2222222222222222, \"#7201a8\"], [0.3333333333333333, \"#9c179e\"], [0.4444444444444444, \"#bd3786\"], [0.5555555555555556, \"#d8576b\"], [0.6666666666666666, \"#ed7953\"], [0.7777777777777778, \"#fb9f3a\"], [0.8888888888888888, \"#fdca26\"], [1.0, \"#f0f921\"]], \"sequentialminus\": [[0.0, \"#0d0887\"], [0.1111111111111111, \"#46039f\"], [0.2222222222222222, \"#7201a8\"], [0.3333333333333333, \"#9c179e\"], [0.4444444444444444, \"#bd3786\"], [0.5555555555555556, \"#d8576b\"], [0.6666666666666666, \"#ed7953\"], [0.7777777777777778, \"#fb9f3a\"], [0.8888888888888888, \"#fdca26\"], [1.0, \"#f0f921\"]]}, \"colorway\": [\"#636efa\", \"#EF553B\", \"#00cc96\", \"#ab63fa\", \"#FFA15A\", \"#19d3f3\", \"#FF6692\", \"#B6E880\", \"#FF97FF\", \"#FECB52\"], \"font\": {\"color\": \"#2a3f5f\"}, \"geo\": {\"bgcolor\": \"white\", \"lakecolor\": \"white\", \"landcolor\": \"#E5ECF6\", \"showlakes\": true, \"showland\": true, \"subunitcolor\": \"white\"}, \"hoverlabel\": {\"align\": \"left\"}, \"hovermode\": \"closest\", \"mapbox\": {\"style\": \"light\"}, \"paper_bgcolor\": \"white\", \"plot_bgcolor\": \"#E5ECF6\", \"polar\": {\"angularaxis\": {\"gridcolor\": \"white\", \"linecolor\": \"white\", \"ticks\": \"\"}, \"bgcolor\": \"#E5ECF6\", \"radialaxis\": {\"gridcolor\": \"white\", \"linecolor\": \"white\", \"ticks\": \"\"}}, \"scene\": {\"xaxis\": {\"backgroundcolor\": \"#E5ECF6\", \"gridcolor\": \"white\", \"gridwidth\": 2, \"linecolor\": \"white\", \"showbackground\": true, \"ticks\": \"\", \"zerolinecolor\": \"white\"}, \"yaxis\": {\"backgroundcolor\": \"#E5ECF6\", \"gridcolor\": \"white\", \"gridwidth\": 2, \"linecolor\": \"white\", \"showbackground\": true, \"ticks\": \"\", \"zerolinecolor\": \"white\"}, \"zaxis\": {\"backgroundcolor\": \"#E5ECF6\", \"gridcolor\": \"white\", \"gridwidth\": 2, \"linecolor\": \"white\", \"showbackground\": true, \"ticks\": \"\", \"zerolinecolor\": \"white\"}}, \"shapedefaults\": {\"line\": {\"color\": \"#2a3f5f\"}}, \"ternary\": {\"aaxis\": {\"gridcolor\": \"white\", \"linecolor\": \"white\", \"ticks\": \"\"}, \"baxis\": {\"gridcolor\": \"white\", \"linecolor\": \"white\", \"ticks\": \"\"}, \"bgcolor\": \"#E5ECF6\", \"caxis\": {\"gridcolor\": \"white\", \"linecolor\": \"white\", \"ticks\": \"\"}}, \"title\": {\"x\": 0.05}, \"xaxis\": {\"automargin\": true, \"gridcolor\": \"white\", \"linecolor\": \"white\", \"ticks\": \"\", \"title\": {\"standoff\": 15}, \"zerolinecolor\": \"white\", \"zerolinewidth\": 2}, \"yaxis\": {\"automargin\": true, \"gridcolor\": \"white\", \"linecolor\": \"white\", \"ticks\": \"\", \"title\": {\"standoff\": 15}, \"zerolinecolor\": \"white\", \"zerolinewidth\": 2}}}},                        {\"responsive\": true}                    ).then(function(){\n",
       "                            \n",
       "var gd = document.getElementById('ea1743de-c238-4c12-85a3-f24bffbed9a7');\n",
       "var x = new MutationObserver(function (mutations, observer) {{\n",
       "        var display = window.getComputedStyle(gd).display;\n",
       "        if (!display || display === 'none') {{\n",
       "            console.log([gd, 'removed!']);\n",
       "            Plotly.purge(gd);\n",
       "            observer.disconnect();\n",
       "        }}\n",
       "}});\n",
       "\n",
       "// Listen for the removal of the full notebook cells\n",
       "var notebookContainer = gd.closest('#notebook-container');\n",
       "if (notebookContainer) {{\n",
       "    x.observe(notebookContainer, {childList: true});\n",
       "}}\n",
       "\n",
       "// Listen for the clearing of the current output cell\n",
       "var outputEl = gd.closest('.output');\n",
       "if (outputEl) {{\n",
       "    x.observe(outputEl, {childList: true});\n",
       "}}\n",
       "\n",
       "                        })                };                });            </script>        </div>"
      ]
     },
     "metadata": {},
     "output_type": "display_data"
    }
   ],
   "source": [
    "r = [5, 10, 15, 20, 25, 30, 35, 40]\n",
    "\n",
    "trace0 = go.Scatter(\n",
    "    x = r,\n",
    "    y = localized_nodes_percentage1,\n",
    "    mode = 'lines',\n",
    "    name = 'R = 20'\n",
    ")\n",
    "\n",
    "trace1 = go.Scatter(\n",
    "    x = r,\n",
    "    y = localized_nodes_percentage2,\n",
    "    mode = 'lines',\n",
    "    name = 'R = 40'\n",
    ")\n",
    "\n",
    "data = [trace0, trace1]\n",
    "\n",
    "iplot(data)"
   ]
  },
  {
   "cell_type": "markdown",
   "id": "62b8df08",
   "metadata": {},
   "source": [
    " ## Процент на локализирани јазли во зависност од R и r "
   ]
  },
  {
   "cell_type": "code",
   "execution_count": 15,
   "id": "c2acd0cf",
   "metadata": {},
   "outputs": [
    {
     "name": "stdout",
     "output_type": "stream",
     "text": [
      "[93.75, 97.5, 98.75, 97.5, 98.75, 93.75, 90.0, 100.0]\n"
     ]
    }
   ],
   "source": [
    "N = 100\n",
    "L = 100\n",
    "R = 30\n",
    "# r = {5,10,15,20,25,30,35,40} \n",
    "f = 20\n",
    "heuristic = 1\n",
    "errorsH1 = []\n",
    "\n",
    "nodes = None\n",
    "localized_nodes_percentage1 = []\n",
    "for r in range(5, 41, 5):\n",
    "    # error = 0\n",
    "    #for i in range(0, 15):\n",
    "    nodes = generateNodes(N, L, R, r, f)\n",
    "    nodes = findNeighbours(nodes, R)\n",
    "    nodes = estimateLocations(nodes, heuristic, iterative = False)\n",
    "\n",
    "    total = 0\n",
    "    for index in nodes:\n",
    "        if nodes[index].isAnchor > 1:\n",
    "            total += 1;\n",
    "    localized_nodes_percentage1.append(total*100/(N-f))\n",
    "\n",
    "print(localized_nodes_percentage1)"
   ]
  },
  {
   "cell_type": "code",
   "execution_count": 16,
   "id": "eaf96132",
   "metadata": {},
   "outputs": [
    {
     "name": "stdout",
     "output_type": "stream",
     "text": [
      "[100.0, 100.0, 100.0, 97.5, 100.0, 100.0, 98.75, 98.75]\n"
     ]
    }
   ],
   "source": [
    "N = 100\n",
    "L = 100\n",
    "R = 40\n",
    "# r = {5,10,15,20,25,30,35,40} \n",
    "f = 20\n",
    "heuristic = 1\n",
    "errorsH1 = []\n",
    "\n",
    "nodes = None\n",
    "localized_nodes_percentage1 = []\n",
    "for r in range(5, 41, 5):\n",
    "    # error = 0\n",
    "    #for i in range(0, 15):\n",
    "    nodes = generateNodes(N, L, R, r, f)\n",
    "    nodes = findNeighbours(nodes, R)\n",
    "    nodes = estimateLocations(nodes, heuristic, iterative = False)\n",
    "\n",
    "    total = 0\n",
    "    for index in nodes:\n",
    "        if nodes[index].isAnchor > 1:\n",
    "            total += 1;\n",
    "    localized_nodes_percentage1.append(total*100/(N-f))\n",
    "\n",
    "print(localized_nodes_percentage1)"
   ]
  },
  {
   "cell_type": "code",
   "execution_count": 17,
   "id": "6af86085",
   "metadata": {},
   "outputs": [
    {
     "data": {
      "application/vnd.plotly.v1+json": {
       "config": {
        "linkText": "Export to plot.ly",
        "plotlyServerURL": "https://plot.ly",
        "showLink": false
       },
       "data": [
        {
         "mode": "lines",
         "name": "R = 30",
         "type": "scatter",
         "x": [
          5,
          10,
          15,
          20,
          25,
          30,
          35,
          40
         ],
         "y": [
          100,
          100,
          100,
          97.5,
          100,
          100,
          98.75,
          98.75
         ]
        },
        {
         "mode": "lines",
         "name": "R = 40",
         "type": "scatter",
         "x": [
          5,
          10,
          15,
          20,
          25,
          30,
          35,
          40
         ],
         "y": [
          89.47368421052632,
          96.66666666666667,
          100,
          100,
          100,
          100,
          100,
          100
         ]
        }
       ],
       "layout": {
        "template": {
         "data": {
          "bar": [
           {
            "error_x": {
             "color": "#2a3f5f"
            },
            "error_y": {
             "color": "#2a3f5f"
            },
            "marker": {
             "line": {
              "color": "#E5ECF6",
              "width": 0.5
             }
            },
            "type": "bar"
           }
          ],
          "barpolar": [
           {
            "marker": {
             "line": {
              "color": "#E5ECF6",
              "width": 0.5
             }
            },
            "type": "barpolar"
           }
          ],
          "carpet": [
           {
            "aaxis": {
             "endlinecolor": "#2a3f5f",
             "gridcolor": "white",
             "linecolor": "white",
             "minorgridcolor": "white",
             "startlinecolor": "#2a3f5f"
            },
            "baxis": {
             "endlinecolor": "#2a3f5f",
             "gridcolor": "white",
             "linecolor": "white",
             "minorgridcolor": "white",
             "startlinecolor": "#2a3f5f"
            },
            "type": "carpet"
           }
          ],
          "choropleth": [
           {
            "colorbar": {
             "outlinewidth": 0,
             "ticks": ""
            },
            "type": "choropleth"
           }
          ],
          "contour": [
           {
            "colorbar": {
             "outlinewidth": 0,
             "ticks": ""
            },
            "colorscale": [
             [
              0,
              "#0d0887"
             ],
             [
              0.1111111111111111,
              "#46039f"
             ],
             [
              0.2222222222222222,
              "#7201a8"
             ],
             [
              0.3333333333333333,
              "#9c179e"
             ],
             [
              0.4444444444444444,
              "#bd3786"
             ],
             [
              0.5555555555555556,
              "#d8576b"
             ],
             [
              0.6666666666666666,
              "#ed7953"
             ],
             [
              0.7777777777777778,
              "#fb9f3a"
             ],
             [
              0.8888888888888888,
              "#fdca26"
             ],
             [
              1,
              "#f0f921"
             ]
            ],
            "type": "contour"
           }
          ],
          "contourcarpet": [
           {
            "colorbar": {
             "outlinewidth": 0,
             "ticks": ""
            },
            "type": "contourcarpet"
           }
          ],
          "heatmap": [
           {
            "colorbar": {
             "outlinewidth": 0,
             "ticks": ""
            },
            "colorscale": [
             [
              0,
              "#0d0887"
             ],
             [
              0.1111111111111111,
              "#46039f"
             ],
             [
              0.2222222222222222,
              "#7201a8"
             ],
             [
              0.3333333333333333,
              "#9c179e"
             ],
             [
              0.4444444444444444,
              "#bd3786"
             ],
             [
              0.5555555555555556,
              "#d8576b"
             ],
             [
              0.6666666666666666,
              "#ed7953"
             ],
             [
              0.7777777777777778,
              "#fb9f3a"
             ],
             [
              0.8888888888888888,
              "#fdca26"
             ],
             [
              1,
              "#f0f921"
             ]
            ],
            "type": "heatmap"
           }
          ],
          "heatmapgl": [
           {
            "colorbar": {
             "outlinewidth": 0,
             "ticks": ""
            },
            "colorscale": [
             [
              0,
              "#0d0887"
             ],
             [
              0.1111111111111111,
              "#46039f"
             ],
             [
              0.2222222222222222,
              "#7201a8"
             ],
             [
              0.3333333333333333,
              "#9c179e"
             ],
             [
              0.4444444444444444,
              "#bd3786"
             ],
             [
              0.5555555555555556,
              "#d8576b"
             ],
             [
              0.6666666666666666,
              "#ed7953"
             ],
             [
              0.7777777777777778,
              "#fb9f3a"
             ],
             [
              0.8888888888888888,
              "#fdca26"
             ],
             [
              1,
              "#f0f921"
             ]
            ],
            "type": "heatmapgl"
           }
          ],
          "histogram": [
           {
            "marker": {
             "colorbar": {
              "outlinewidth": 0,
              "ticks": ""
             }
            },
            "type": "histogram"
           }
          ],
          "histogram2d": [
           {
            "colorbar": {
             "outlinewidth": 0,
             "ticks": ""
            },
            "colorscale": [
             [
              0,
              "#0d0887"
             ],
             [
              0.1111111111111111,
              "#46039f"
             ],
             [
              0.2222222222222222,
              "#7201a8"
             ],
             [
              0.3333333333333333,
              "#9c179e"
             ],
             [
              0.4444444444444444,
              "#bd3786"
             ],
             [
              0.5555555555555556,
              "#d8576b"
             ],
             [
              0.6666666666666666,
              "#ed7953"
             ],
             [
              0.7777777777777778,
              "#fb9f3a"
             ],
             [
              0.8888888888888888,
              "#fdca26"
             ],
             [
              1,
              "#f0f921"
             ]
            ],
            "type": "histogram2d"
           }
          ],
          "histogram2dcontour": [
           {
            "colorbar": {
             "outlinewidth": 0,
             "ticks": ""
            },
            "colorscale": [
             [
              0,
              "#0d0887"
             ],
             [
              0.1111111111111111,
              "#46039f"
             ],
             [
              0.2222222222222222,
              "#7201a8"
             ],
             [
              0.3333333333333333,
              "#9c179e"
             ],
             [
              0.4444444444444444,
              "#bd3786"
             ],
             [
              0.5555555555555556,
              "#d8576b"
             ],
             [
              0.6666666666666666,
              "#ed7953"
             ],
             [
              0.7777777777777778,
              "#fb9f3a"
             ],
             [
              0.8888888888888888,
              "#fdca26"
             ],
             [
              1,
              "#f0f921"
             ]
            ],
            "type": "histogram2dcontour"
           }
          ],
          "mesh3d": [
           {
            "colorbar": {
             "outlinewidth": 0,
             "ticks": ""
            },
            "type": "mesh3d"
           }
          ],
          "parcoords": [
           {
            "line": {
             "colorbar": {
              "outlinewidth": 0,
              "ticks": ""
             }
            },
            "type": "parcoords"
           }
          ],
          "pie": [
           {
            "automargin": true,
            "type": "pie"
           }
          ],
          "scatter": [
           {
            "marker": {
             "colorbar": {
              "outlinewidth": 0,
              "ticks": ""
             }
            },
            "type": "scatter"
           }
          ],
          "scatter3d": [
           {
            "line": {
             "colorbar": {
              "outlinewidth": 0,
              "ticks": ""
             }
            },
            "marker": {
             "colorbar": {
              "outlinewidth": 0,
              "ticks": ""
             }
            },
            "type": "scatter3d"
           }
          ],
          "scattercarpet": [
           {
            "marker": {
             "colorbar": {
              "outlinewidth": 0,
              "ticks": ""
             }
            },
            "type": "scattercarpet"
           }
          ],
          "scattergeo": [
           {
            "marker": {
             "colorbar": {
              "outlinewidth": 0,
              "ticks": ""
             }
            },
            "type": "scattergeo"
           }
          ],
          "scattergl": [
           {
            "marker": {
             "colorbar": {
              "outlinewidth": 0,
              "ticks": ""
             }
            },
            "type": "scattergl"
           }
          ],
          "scattermapbox": [
           {
            "marker": {
             "colorbar": {
              "outlinewidth": 0,
              "ticks": ""
             }
            },
            "type": "scattermapbox"
           }
          ],
          "scatterpolar": [
           {
            "marker": {
             "colorbar": {
              "outlinewidth": 0,
              "ticks": ""
             }
            },
            "type": "scatterpolar"
           }
          ],
          "scatterpolargl": [
           {
            "marker": {
             "colorbar": {
              "outlinewidth": 0,
              "ticks": ""
             }
            },
            "type": "scatterpolargl"
           }
          ],
          "scatterternary": [
           {
            "marker": {
             "colorbar": {
              "outlinewidth": 0,
              "ticks": ""
             }
            },
            "type": "scatterternary"
           }
          ],
          "surface": [
           {
            "colorbar": {
             "outlinewidth": 0,
             "ticks": ""
            },
            "colorscale": [
             [
              0,
              "#0d0887"
             ],
             [
              0.1111111111111111,
              "#46039f"
             ],
             [
              0.2222222222222222,
              "#7201a8"
             ],
             [
              0.3333333333333333,
              "#9c179e"
             ],
             [
              0.4444444444444444,
              "#bd3786"
             ],
             [
              0.5555555555555556,
              "#d8576b"
             ],
             [
              0.6666666666666666,
              "#ed7953"
             ],
             [
              0.7777777777777778,
              "#fb9f3a"
             ],
             [
              0.8888888888888888,
              "#fdca26"
             ],
             [
              1,
              "#f0f921"
             ]
            ],
            "type": "surface"
           }
          ],
          "table": [
           {
            "cells": {
             "fill": {
              "color": "#EBF0F8"
             },
             "line": {
              "color": "white"
             }
            },
            "header": {
             "fill": {
              "color": "#C8D4E3"
             },
             "line": {
              "color": "white"
             }
            },
            "type": "table"
           }
          ]
         },
         "layout": {
          "annotationdefaults": {
           "arrowcolor": "#2a3f5f",
           "arrowhead": 0,
           "arrowwidth": 1
          },
          "autotypenumbers": "strict",
          "coloraxis": {
           "colorbar": {
            "outlinewidth": 0,
            "ticks": ""
           }
          },
          "colorscale": {
           "diverging": [
            [
             0,
             "#8e0152"
            ],
            [
             0.1,
             "#c51b7d"
            ],
            [
             0.2,
             "#de77ae"
            ],
            [
             0.3,
             "#f1b6da"
            ],
            [
             0.4,
             "#fde0ef"
            ],
            [
             0.5,
             "#f7f7f7"
            ],
            [
             0.6,
             "#e6f5d0"
            ],
            [
             0.7,
             "#b8e186"
            ],
            [
             0.8,
             "#7fbc41"
            ],
            [
             0.9,
             "#4d9221"
            ],
            [
             1,
             "#276419"
            ]
           ],
           "sequential": [
            [
             0,
             "#0d0887"
            ],
            [
             0.1111111111111111,
             "#46039f"
            ],
            [
             0.2222222222222222,
             "#7201a8"
            ],
            [
             0.3333333333333333,
             "#9c179e"
            ],
            [
             0.4444444444444444,
             "#bd3786"
            ],
            [
             0.5555555555555556,
             "#d8576b"
            ],
            [
             0.6666666666666666,
             "#ed7953"
            ],
            [
             0.7777777777777778,
             "#fb9f3a"
            ],
            [
             0.8888888888888888,
             "#fdca26"
            ],
            [
             1,
             "#f0f921"
            ]
           ],
           "sequentialminus": [
            [
             0,
             "#0d0887"
            ],
            [
             0.1111111111111111,
             "#46039f"
            ],
            [
             0.2222222222222222,
             "#7201a8"
            ],
            [
             0.3333333333333333,
             "#9c179e"
            ],
            [
             0.4444444444444444,
             "#bd3786"
            ],
            [
             0.5555555555555556,
             "#d8576b"
            ],
            [
             0.6666666666666666,
             "#ed7953"
            ],
            [
             0.7777777777777778,
             "#fb9f3a"
            ],
            [
             0.8888888888888888,
             "#fdca26"
            ],
            [
             1,
             "#f0f921"
            ]
           ]
          },
          "colorway": [
           "#636efa",
           "#EF553B",
           "#00cc96",
           "#ab63fa",
           "#FFA15A",
           "#19d3f3",
           "#FF6692",
           "#B6E880",
           "#FF97FF",
           "#FECB52"
          ],
          "font": {
           "color": "#2a3f5f"
          },
          "geo": {
           "bgcolor": "white",
           "lakecolor": "white",
           "landcolor": "#E5ECF6",
           "showlakes": true,
           "showland": true,
           "subunitcolor": "white"
          },
          "hoverlabel": {
           "align": "left"
          },
          "hovermode": "closest",
          "mapbox": {
           "style": "light"
          },
          "paper_bgcolor": "white",
          "plot_bgcolor": "#E5ECF6",
          "polar": {
           "angularaxis": {
            "gridcolor": "white",
            "linecolor": "white",
            "ticks": ""
           },
           "bgcolor": "#E5ECF6",
           "radialaxis": {
            "gridcolor": "white",
            "linecolor": "white",
            "ticks": ""
           }
          },
          "scene": {
           "xaxis": {
            "backgroundcolor": "#E5ECF6",
            "gridcolor": "white",
            "gridwidth": 2,
            "linecolor": "white",
            "showbackground": true,
            "ticks": "",
            "zerolinecolor": "white"
           },
           "yaxis": {
            "backgroundcolor": "#E5ECF6",
            "gridcolor": "white",
            "gridwidth": 2,
            "linecolor": "white",
            "showbackground": true,
            "ticks": "",
            "zerolinecolor": "white"
           },
           "zaxis": {
            "backgroundcolor": "#E5ECF6",
            "gridcolor": "white",
            "gridwidth": 2,
            "linecolor": "white",
            "showbackground": true,
            "ticks": "",
            "zerolinecolor": "white"
           }
          },
          "shapedefaults": {
           "line": {
            "color": "#2a3f5f"
           }
          },
          "ternary": {
           "aaxis": {
            "gridcolor": "white",
            "linecolor": "white",
            "ticks": ""
           },
           "baxis": {
            "gridcolor": "white",
            "linecolor": "white",
            "ticks": ""
           },
           "bgcolor": "#E5ECF6",
           "caxis": {
            "gridcolor": "white",
            "linecolor": "white",
            "ticks": ""
           }
          },
          "title": {
           "x": 0.05
          },
          "xaxis": {
           "automargin": true,
           "gridcolor": "white",
           "linecolor": "white",
           "ticks": "",
           "title": {
            "standoff": 15
           },
           "zerolinecolor": "white",
           "zerolinewidth": 2
          },
          "yaxis": {
           "automargin": true,
           "gridcolor": "white",
           "linecolor": "white",
           "ticks": "",
           "title": {
            "standoff": 15
           },
           "zerolinecolor": "white",
           "zerolinewidth": 2
          }
         }
        }
       }
      },
      "text/html": [
       "<div>                            <div id=\"7a85f5db-041e-49b9-a153-dd06a9681c9c\" class=\"plotly-graph-div\" style=\"height:525px; width:100%;\"></div>            <script type=\"text/javascript\">                require([\"plotly\"], function(Plotly) {                    window.PLOTLYENV=window.PLOTLYENV || {};                                    if (document.getElementById(\"7a85f5db-041e-49b9-a153-dd06a9681c9c\")) {                    Plotly.newPlot(                        \"7a85f5db-041e-49b9-a153-dd06a9681c9c\",                        [{\"mode\": \"lines\", \"name\": \"R = 30\", \"type\": \"scatter\", \"x\": [5, 10, 15, 20, 25, 30, 35, 40], \"y\": [100.0, 100.0, 100.0, 97.5, 100.0, 100.0, 98.75, 98.75]}, {\"mode\": \"lines\", \"name\": \"R = 40\", \"type\": \"scatter\", \"x\": [5, 10, 15, 20, 25, 30, 35, 40], \"y\": [89.47368421052632, 96.66666666666667, 100.0, 100.0, 100.0, 100.0, 100.0, 100.0]}],                        {\"template\": {\"data\": {\"bar\": [{\"error_x\": {\"color\": \"#2a3f5f\"}, \"error_y\": {\"color\": \"#2a3f5f\"}, \"marker\": {\"line\": {\"color\": \"#E5ECF6\", \"width\": 0.5}}, \"type\": \"bar\"}], \"barpolar\": [{\"marker\": {\"line\": {\"color\": \"#E5ECF6\", \"width\": 0.5}}, \"type\": \"barpolar\"}], \"carpet\": [{\"aaxis\": {\"endlinecolor\": \"#2a3f5f\", \"gridcolor\": \"white\", \"linecolor\": \"white\", \"minorgridcolor\": \"white\", \"startlinecolor\": \"#2a3f5f\"}, \"baxis\": {\"endlinecolor\": \"#2a3f5f\", \"gridcolor\": \"white\", \"linecolor\": \"white\", \"minorgridcolor\": \"white\", \"startlinecolor\": \"#2a3f5f\"}, \"type\": \"carpet\"}], \"choropleth\": [{\"colorbar\": {\"outlinewidth\": 0, \"ticks\": \"\"}, \"type\": \"choropleth\"}], \"contour\": [{\"colorbar\": {\"outlinewidth\": 0, \"ticks\": \"\"}, \"colorscale\": [[0.0, \"#0d0887\"], [0.1111111111111111, \"#46039f\"], [0.2222222222222222, \"#7201a8\"], [0.3333333333333333, \"#9c179e\"], [0.4444444444444444, \"#bd3786\"], [0.5555555555555556, \"#d8576b\"], [0.6666666666666666, \"#ed7953\"], [0.7777777777777778, \"#fb9f3a\"], [0.8888888888888888, \"#fdca26\"], [1.0, \"#f0f921\"]], \"type\": \"contour\"}], \"contourcarpet\": [{\"colorbar\": {\"outlinewidth\": 0, \"ticks\": \"\"}, \"type\": \"contourcarpet\"}], \"heatmap\": [{\"colorbar\": {\"outlinewidth\": 0, \"ticks\": \"\"}, \"colorscale\": [[0.0, \"#0d0887\"], [0.1111111111111111, \"#46039f\"], [0.2222222222222222, \"#7201a8\"], [0.3333333333333333, \"#9c179e\"], [0.4444444444444444, \"#bd3786\"], [0.5555555555555556, \"#d8576b\"], [0.6666666666666666, \"#ed7953\"], [0.7777777777777778, \"#fb9f3a\"], [0.8888888888888888, \"#fdca26\"], [1.0, \"#f0f921\"]], \"type\": \"heatmap\"}], \"heatmapgl\": [{\"colorbar\": {\"outlinewidth\": 0, \"ticks\": \"\"}, \"colorscale\": [[0.0, \"#0d0887\"], [0.1111111111111111, \"#46039f\"], [0.2222222222222222, \"#7201a8\"], [0.3333333333333333, \"#9c179e\"], [0.4444444444444444, \"#bd3786\"], [0.5555555555555556, \"#d8576b\"], [0.6666666666666666, \"#ed7953\"], [0.7777777777777778, \"#fb9f3a\"], [0.8888888888888888, \"#fdca26\"], [1.0, \"#f0f921\"]], \"type\": \"heatmapgl\"}], \"histogram\": [{\"marker\": {\"colorbar\": {\"outlinewidth\": 0, \"ticks\": \"\"}}, \"type\": \"histogram\"}], \"histogram2d\": [{\"colorbar\": {\"outlinewidth\": 0, \"ticks\": \"\"}, \"colorscale\": [[0.0, \"#0d0887\"], [0.1111111111111111, \"#46039f\"], [0.2222222222222222, \"#7201a8\"], [0.3333333333333333, \"#9c179e\"], [0.4444444444444444, \"#bd3786\"], [0.5555555555555556, \"#d8576b\"], [0.6666666666666666, \"#ed7953\"], [0.7777777777777778, \"#fb9f3a\"], [0.8888888888888888, \"#fdca26\"], [1.0, \"#f0f921\"]], \"type\": \"histogram2d\"}], \"histogram2dcontour\": [{\"colorbar\": {\"outlinewidth\": 0, \"ticks\": \"\"}, \"colorscale\": [[0.0, \"#0d0887\"], [0.1111111111111111, \"#46039f\"], [0.2222222222222222, \"#7201a8\"], [0.3333333333333333, \"#9c179e\"], [0.4444444444444444, \"#bd3786\"], [0.5555555555555556, \"#d8576b\"], [0.6666666666666666, \"#ed7953\"], [0.7777777777777778, \"#fb9f3a\"], [0.8888888888888888, \"#fdca26\"], [1.0, \"#f0f921\"]], \"type\": \"histogram2dcontour\"}], \"mesh3d\": [{\"colorbar\": {\"outlinewidth\": 0, \"ticks\": \"\"}, \"type\": \"mesh3d\"}], \"parcoords\": [{\"line\": {\"colorbar\": {\"outlinewidth\": 0, \"ticks\": \"\"}}, \"type\": \"parcoords\"}], \"pie\": [{\"automargin\": true, \"type\": \"pie\"}], \"scatter\": [{\"marker\": {\"colorbar\": {\"outlinewidth\": 0, \"ticks\": \"\"}}, \"type\": \"scatter\"}], \"scatter3d\": [{\"line\": {\"colorbar\": {\"outlinewidth\": 0, \"ticks\": \"\"}}, \"marker\": {\"colorbar\": {\"outlinewidth\": 0, \"ticks\": \"\"}}, \"type\": \"scatter3d\"}], \"scattercarpet\": [{\"marker\": {\"colorbar\": {\"outlinewidth\": 0, \"ticks\": \"\"}}, \"type\": \"scattercarpet\"}], \"scattergeo\": [{\"marker\": {\"colorbar\": {\"outlinewidth\": 0, \"ticks\": \"\"}}, \"type\": \"scattergeo\"}], \"scattergl\": [{\"marker\": {\"colorbar\": {\"outlinewidth\": 0, \"ticks\": \"\"}}, \"type\": \"scattergl\"}], \"scattermapbox\": [{\"marker\": {\"colorbar\": {\"outlinewidth\": 0, \"ticks\": \"\"}}, \"type\": \"scattermapbox\"}], \"scatterpolar\": [{\"marker\": {\"colorbar\": {\"outlinewidth\": 0, \"ticks\": \"\"}}, \"type\": \"scatterpolar\"}], \"scatterpolargl\": [{\"marker\": {\"colorbar\": {\"outlinewidth\": 0, \"ticks\": \"\"}}, \"type\": \"scatterpolargl\"}], \"scatterternary\": [{\"marker\": {\"colorbar\": {\"outlinewidth\": 0, \"ticks\": \"\"}}, \"type\": \"scatterternary\"}], \"surface\": [{\"colorbar\": {\"outlinewidth\": 0, \"ticks\": \"\"}, \"colorscale\": [[0.0, \"#0d0887\"], [0.1111111111111111, \"#46039f\"], [0.2222222222222222, \"#7201a8\"], [0.3333333333333333, \"#9c179e\"], [0.4444444444444444, \"#bd3786\"], [0.5555555555555556, \"#d8576b\"], [0.6666666666666666, \"#ed7953\"], [0.7777777777777778, \"#fb9f3a\"], [0.8888888888888888, \"#fdca26\"], [1.0, \"#f0f921\"]], \"type\": \"surface\"}], \"table\": [{\"cells\": {\"fill\": {\"color\": \"#EBF0F8\"}, \"line\": {\"color\": \"white\"}}, \"header\": {\"fill\": {\"color\": \"#C8D4E3\"}, \"line\": {\"color\": \"white\"}}, \"type\": \"table\"}]}, \"layout\": {\"annotationdefaults\": {\"arrowcolor\": \"#2a3f5f\", \"arrowhead\": 0, \"arrowwidth\": 1}, \"autotypenumbers\": \"strict\", \"coloraxis\": {\"colorbar\": {\"outlinewidth\": 0, \"ticks\": \"\"}}, \"colorscale\": {\"diverging\": [[0, \"#8e0152\"], [0.1, \"#c51b7d\"], [0.2, \"#de77ae\"], [0.3, \"#f1b6da\"], [0.4, \"#fde0ef\"], [0.5, \"#f7f7f7\"], [0.6, \"#e6f5d0\"], [0.7, \"#b8e186\"], [0.8, \"#7fbc41\"], [0.9, \"#4d9221\"], [1, \"#276419\"]], \"sequential\": [[0.0, \"#0d0887\"], [0.1111111111111111, \"#46039f\"], [0.2222222222222222, \"#7201a8\"], [0.3333333333333333, \"#9c179e\"], [0.4444444444444444, \"#bd3786\"], [0.5555555555555556, \"#d8576b\"], [0.6666666666666666, \"#ed7953\"], [0.7777777777777778, \"#fb9f3a\"], [0.8888888888888888, \"#fdca26\"], [1.0, \"#f0f921\"]], \"sequentialminus\": [[0.0, \"#0d0887\"], [0.1111111111111111, \"#46039f\"], [0.2222222222222222, \"#7201a8\"], [0.3333333333333333, \"#9c179e\"], [0.4444444444444444, \"#bd3786\"], [0.5555555555555556, \"#d8576b\"], [0.6666666666666666, \"#ed7953\"], [0.7777777777777778, \"#fb9f3a\"], [0.8888888888888888, \"#fdca26\"], [1.0, \"#f0f921\"]]}, \"colorway\": [\"#636efa\", \"#EF553B\", \"#00cc96\", \"#ab63fa\", \"#FFA15A\", \"#19d3f3\", \"#FF6692\", \"#B6E880\", \"#FF97FF\", \"#FECB52\"], \"font\": {\"color\": \"#2a3f5f\"}, \"geo\": {\"bgcolor\": \"white\", \"lakecolor\": \"white\", \"landcolor\": \"#E5ECF6\", \"showlakes\": true, \"showland\": true, \"subunitcolor\": \"white\"}, \"hoverlabel\": {\"align\": \"left\"}, \"hovermode\": \"closest\", \"mapbox\": {\"style\": \"light\"}, \"paper_bgcolor\": \"white\", \"plot_bgcolor\": \"#E5ECF6\", \"polar\": {\"angularaxis\": {\"gridcolor\": \"white\", \"linecolor\": \"white\", \"ticks\": \"\"}, \"bgcolor\": \"#E5ECF6\", \"radialaxis\": {\"gridcolor\": \"white\", \"linecolor\": \"white\", \"ticks\": \"\"}}, \"scene\": {\"xaxis\": {\"backgroundcolor\": \"#E5ECF6\", \"gridcolor\": \"white\", \"gridwidth\": 2, \"linecolor\": \"white\", \"showbackground\": true, \"ticks\": \"\", \"zerolinecolor\": \"white\"}, \"yaxis\": {\"backgroundcolor\": \"#E5ECF6\", \"gridcolor\": \"white\", \"gridwidth\": 2, \"linecolor\": \"white\", \"showbackground\": true, \"ticks\": \"\", \"zerolinecolor\": \"white\"}, \"zaxis\": {\"backgroundcolor\": \"#E5ECF6\", \"gridcolor\": \"white\", \"gridwidth\": 2, \"linecolor\": \"white\", \"showbackground\": true, \"ticks\": \"\", \"zerolinecolor\": \"white\"}}, \"shapedefaults\": {\"line\": {\"color\": \"#2a3f5f\"}}, \"ternary\": {\"aaxis\": {\"gridcolor\": \"white\", \"linecolor\": \"white\", \"ticks\": \"\"}, \"baxis\": {\"gridcolor\": \"white\", \"linecolor\": \"white\", \"ticks\": \"\"}, \"bgcolor\": \"#E5ECF6\", \"caxis\": {\"gridcolor\": \"white\", \"linecolor\": \"white\", \"ticks\": \"\"}}, \"title\": {\"x\": 0.05}, \"xaxis\": {\"automargin\": true, \"gridcolor\": \"white\", \"linecolor\": \"white\", \"ticks\": \"\", \"title\": {\"standoff\": 15}, \"zerolinecolor\": \"white\", \"zerolinewidth\": 2}, \"yaxis\": {\"automargin\": true, \"gridcolor\": \"white\", \"linecolor\": \"white\", \"ticks\": \"\", \"title\": {\"standoff\": 15}, \"zerolinecolor\": \"white\", \"zerolinewidth\": 2}}}},                        {\"responsive\": true}                    ).then(function(){\n",
       "                            \n",
       "var gd = document.getElementById('7a85f5db-041e-49b9-a153-dd06a9681c9c');\n",
       "var x = new MutationObserver(function (mutations, observer) {{\n",
       "        var display = window.getComputedStyle(gd).display;\n",
       "        if (!display || display === 'none') {{\n",
       "            console.log([gd, 'removed!']);\n",
       "            Plotly.purge(gd);\n",
       "            observer.disconnect();\n",
       "        }}\n",
       "}});\n",
       "\n",
       "// Listen for the removal of the full notebook cells\n",
       "var notebookContainer = gd.closest('#notebook-container');\n",
       "if (notebookContainer) {{\n",
       "    x.observe(notebookContainer, {childList: true});\n",
       "}}\n",
       "\n",
       "// Listen for the clearing of the current output cell\n",
       "var outputEl = gd.closest('.output');\n",
       "if (outputEl) {{\n",
       "    x.observe(outputEl, {childList: true});\n",
       "}}\n",
       "\n",
       "                        })                };                });            </script>        </div>"
      ]
     },
     "metadata": {},
     "output_type": "display_data"
    }
   ],
   "source": [
    "r = [5, 10, 15, 20, 25, 30, 35, 40]\n",
    "\n",
    "trace0 = go.Scatter(\n",
    "    x = r,\n",
    "    y = localized_nodes_percentage1,\n",
    "    mode = 'lines',\n",
    "    name = 'R = 30'\n",
    ")\n",
    "\n",
    "trace1 = go.Scatter(\n",
    "    x = r,\n",
    "    y = localized_nodes_percentage2,\n",
    "    mode = 'lines',\n",
    "    name = 'R = 40'\n",
    ")\n",
    "\n",
    "data = [trace0, trace1]\n",
    "\n",
    "iplot(data)"
   ]
  },
  {
   "cell_type": "markdown",
   "id": "0bfb1b13",
   "metadata": {},
   "source": [
    " ## 1.2. Анализа на просечната грешка на локализација во однос на различни параметри\n",
    " \n",
    " ### Просечната грешка на локализација vs фракцијата на anchor јазли"
   ]
  },
  {
   "cell_type": "code",
   "execution_count": 18,
   "id": "3f463b7c",
   "metadata": {},
   "outputs": [
    {
     "name": "stdout",
     "output_type": "stream",
     "text": [
      "[0.43072034483383753, 1.1493103168461107, 1.4634067399654613, 1.4284615499652895, 1.407499927646035]\n"
     ]
    }
   ],
   "source": [
    "N = 100\n",
    "L = 100\n",
    "R = 20\n",
    "r = 10\n",
    "# f = {10,20,30,40,50}\n",
    "heuristic = 1\n",
    "errorsH1 = []\n",
    "\n",
    "nodes = None\n",
    "for f in range(10, 51, 10):\n",
    "    error = 0\n",
    "    for i in range(0, 15):\n",
    "        nodes = generateNodes(N, L, R, r, f)\n",
    "        nodes = findNeighbours(nodes, R)\n",
    "        nodes = estimateLocations(nodes, heuristic, iterative = False)\n",
    "        error = error + calculateError(nodes, N, f)\n",
    "    errorsH1.append(error/15)\n",
    "\n",
    "print(errorsH1)"
   ]
  },
  {
   "cell_type": "code",
   "execution_count": 19,
   "id": "1ffdb1ae",
   "metadata": {},
   "outputs": [
    {
     "data": {
      "application/vnd.plotly.v1+json": {
       "config": {
        "linkText": "Export to plot.ly",
        "plotlyServerURL": "https://plot.ly",
        "showLink": false
       },
       "data": [
        {
         "mode": "lines",
         "type": "scatter",
         "x": [
          10,
          20,
          30,
          40,
          50
         ],
         "y": [
          0.43072034483383753,
          1.1493103168461107,
          1.4634067399654613,
          1.4284615499652895,
          1.407499927646035
         ]
        }
       ],
       "layout": {
        "template": {
         "data": {
          "bar": [
           {
            "error_x": {
             "color": "#2a3f5f"
            },
            "error_y": {
             "color": "#2a3f5f"
            },
            "marker": {
             "line": {
              "color": "#E5ECF6",
              "width": 0.5
             }
            },
            "type": "bar"
           }
          ],
          "barpolar": [
           {
            "marker": {
             "line": {
              "color": "#E5ECF6",
              "width": 0.5
             }
            },
            "type": "barpolar"
           }
          ],
          "carpet": [
           {
            "aaxis": {
             "endlinecolor": "#2a3f5f",
             "gridcolor": "white",
             "linecolor": "white",
             "minorgridcolor": "white",
             "startlinecolor": "#2a3f5f"
            },
            "baxis": {
             "endlinecolor": "#2a3f5f",
             "gridcolor": "white",
             "linecolor": "white",
             "minorgridcolor": "white",
             "startlinecolor": "#2a3f5f"
            },
            "type": "carpet"
           }
          ],
          "choropleth": [
           {
            "colorbar": {
             "outlinewidth": 0,
             "ticks": ""
            },
            "type": "choropleth"
           }
          ],
          "contour": [
           {
            "colorbar": {
             "outlinewidth": 0,
             "ticks": ""
            },
            "colorscale": [
             [
              0,
              "#0d0887"
             ],
             [
              0.1111111111111111,
              "#46039f"
             ],
             [
              0.2222222222222222,
              "#7201a8"
             ],
             [
              0.3333333333333333,
              "#9c179e"
             ],
             [
              0.4444444444444444,
              "#bd3786"
             ],
             [
              0.5555555555555556,
              "#d8576b"
             ],
             [
              0.6666666666666666,
              "#ed7953"
             ],
             [
              0.7777777777777778,
              "#fb9f3a"
             ],
             [
              0.8888888888888888,
              "#fdca26"
             ],
             [
              1,
              "#f0f921"
             ]
            ],
            "type": "contour"
           }
          ],
          "contourcarpet": [
           {
            "colorbar": {
             "outlinewidth": 0,
             "ticks": ""
            },
            "type": "contourcarpet"
           }
          ],
          "heatmap": [
           {
            "colorbar": {
             "outlinewidth": 0,
             "ticks": ""
            },
            "colorscale": [
             [
              0,
              "#0d0887"
             ],
             [
              0.1111111111111111,
              "#46039f"
             ],
             [
              0.2222222222222222,
              "#7201a8"
             ],
             [
              0.3333333333333333,
              "#9c179e"
             ],
             [
              0.4444444444444444,
              "#bd3786"
             ],
             [
              0.5555555555555556,
              "#d8576b"
             ],
             [
              0.6666666666666666,
              "#ed7953"
             ],
             [
              0.7777777777777778,
              "#fb9f3a"
             ],
             [
              0.8888888888888888,
              "#fdca26"
             ],
             [
              1,
              "#f0f921"
             ]
            ],
            "type": "heatmap"
           }
          ],
          "heatmapgl": [
           {
            "colorbar": {
             "outlinewidth": 0,
             "ticks": ""
            },
            "colorscale": [
             [
              0,
              "#0d0887"
             ],
             [
              0.1111111111111111,
              "#46039f"
             ],
             [
              0.2222222222222222,
              "#7201a8"
             ],
             [
              0.3333333333333333,
              "#9c179e"
             ],
             [
              0.4444444444444444,
              "#bd3786"
             ],
             [
              0.5555555555555556,
              "#d8576b"
             ],
             [
              0.6666666666666666,
              "#ed7953"
             ],
             [
              0.7777777777777778,
              "#fb9f3a"
             ],
             [
              0.8888888888888888,
              "#fdca26"
             ],
             [
              1,
              "#f0f921"
             ]
            ],
            "type": "heatmapgl"
           }
          ],
          "histogram": [
           {
            "marker": {
             "colorbar": {
              "outlinewidth": 0,
              "ticks": ""
             }
            },
            "type": "histogram"
           }
          ],
          "histogram2d": [
           {
            "colorbar": {
             "outlinewidth": 0,
             "ticks": ""
            },
            "colorscale": [
             [
              0,
              "#0d0887"
             ],
             [
              0.1111111111111111,
              "#46039f"
             ],
             [
              0.2222222222222222,
              "#7201a8"
             ],
             [
              0.3333333333333333,
              "#9c179e"
             ],
             [
              0.4444444444444444,
              "#bd3786"
             ],
             [
              0.5555555555555556,
              "#d8576b"
             ],
             [
              0.6666666666666666,
              "#ed7953"
             ],
             [
              0.7777777777777778,
              "#fb9f3a"
             ],
             [
              0.8888888888888888,
              "#fdca26"
             ],
             [
              1,
              "#f0f921"
             ]
            ],
            "type": "histogram2d"
           }
          ],
          "histogram2dcontour": [
           {
            "colorbar": {
             "outlinewidth": 0,
             "ticks": ""
            },
            "colorscale": [
             [
              0,
              "#0d0887"
             ],
             [
              0.1111111111111111,
              "#46039f"
             ],
             [
              0.2222222222222222,
              "#7201a8"
             ],
             [
              0.3333333333333333,
              "#9c179e"
             ],
             [
              0.4444444444444444,
              "#bd3786"
             ],
             [
              0.5555555555555556,
              "#d8576b"
             ],
             [
              0.6666666666666666,
              "#ed7953"
             ],
             [
              0.7777777777777778,
              "#fb9f3a"
             ],
             [
              0.8888888888888888,
              "#fdca26"
             ],
             [
              1,
              "#f0f921"
             ]
            ],
            "type": "histogram2dcontour"
           }
          ],
          "mesh3d": [
           {
            "colorbar": {
             "outlinewidth": 0,
             "ticks": ""
            },
            "type": "mesh3d"
           }
          ],
          "parcoords": [
           {
            "line": {
             "colorbar": {
              "outlinewidth": 0,
              "ticks": ""
             }
            },
            "type": "parcoords"
           }
          ],
          "pie": [
           {
            "automargin": true,
            "type": "pie"
           }
          ],
          "scatter": [
           {
            "marker": {
             "colorbar": {
              "outlinewidth": 0,
              "ticks": ""
             }
            },
            "type": "scatter"
           }
          ],
          "scatter3d": [
           {
            "line": {
             "colorbar": {
              "outlinewidth": 0,
              "ticks": ""
             }
            },
            "marker": {
             "colorbar": {
              "outlinewidth": 0,
              "ticks": ""
             }
            },
            "type": "scatter3d"
           }
          ],
          "scattercarpet": [
           {
            "marker": {
             "colorbar": {
              "outlinewidth": 0,
              "ticks": ""
             }
            },
            "type": "scattercarpet"
           }
          ],
          "scattergeo": [
           {
            "marker": {
             "colorbar": {
              "outlinewidth": 0,
              "ticks": ""
             }
            },
            "type": "scattergeo"
           }
          ],
          "scattergl": [
           {
            "marker": {
             "colorbar": {
              "outlinewidth": 0,
              "ticks": ""
             }
            },
            "type": "scattergl"
           }
          ],
          "scattermapbox": [
           {
            "marker": {
             "colorbar": {
              "outlinewidth": 0,
              "ticks": ""
             }
            },
            "type": "scattermapbox"
           }
          ],
          "scatterpolar": [
           {
            "marker": {
             "colorbar": {
              "outlinewidth": 0,
              "ticks": ""
             }
            },
            "type": "scatterpolar"
           }
          ],
          "scatterpolargl": [
           {
            "marker": {
             "colorbar": {
              "outlinewidth": 0,
              "ticks": ""
             }
            },
            "type": "scatterpolargl"
           }
          ],
          "scatterternary": [
           {
            "marker": {
             "colorbar": {
              "outlinewidth": 0,
              "ticks": ""
             }
            },
            "type": "scatterternary"
           }
          ],
          "surface": [
           {
            "colorbar": {
             "outlinewidth": 0,
             "ticks": ""
            },
            "colorscale": [
             [
              0,
              "#0d0887"
             ],
             [
              0.1111111111111111,
              "#46039f"
             ],
             [
              0.2222222222222222,
              "#7201a8"
             ],
             [
              0.3333333333333333,
              "#9c179e"
             ],
             [
              0.4444444444444444,
              "#bd3786"
             ],
             [
              0.5555555555555556,
              "#d8576b"
             ],
             [
              0.6666666666666666,
              "#ed7953"
             ],
             [
              0.7777777777777778,
              "#fb9f3a"
             ],
             [
              0.8888888888888888,
              "#fdca26"
             ],
             [
              1,
              "#f0f921"
             ]
            ],
            "type": "surface"
           }
          ],
          "table": [
           {
            "cells": {
             "fill": {
              "color": "#EBF0F8"
             },
             "line": {
              "color": "white"
             }
            },
            "header": {
             "fill": {
              "color": "#C8D4E3"
             },
             "line": {
              "color": "white"
             }
            },
            "type": "table"
           }
          ]
         },
         "layout": {
          "annotationdefaults": {
           "arrowcolor": "#2a3f5f",
           "arrowhead": 0,
           "arrowwidth": 1
          },
          "autotypenumbers": "strict",
          "coloraxis": {
           "colorbar": {
            "outlinewidth": 0,
            "ticks": ""
           }
          },
          "colorscale": {
           "diverging": [
            [
             0,
             "#8e0152"
            ],
            [
             0.1,
             "#c51b7d"
            ],
            [
             0.2,
             "#de77ae"
            ],
            [
             0.3,
             "#f1b6da"
            ],
            [
             0.4,
             "#fde0ef"
            ],
            [
             0.5,
             "#f7f7f7"
            ],
            [
             0.6,
             "#e6f5d0"
            ],
            [
             0.7,
             "#b8e186"
            ],
            [
             0.8,
             "#7fbc41"
            ],
            [
             0.9,
             "#4d9221"
            ],
            [
             1,
             "#276419"
            ]
           ],
           "sequential": [
            [
             0,
             "#0d0887"
            ],
            [
             0.1111111111111111,
             "#46039f"
            ],
            [
             0.2222222222222222,
             "#7201a8"
            ],
            [
             0.3333333333333333,
             "#9c179e"
            ],
            [
             0.4444444444444444,
             "#bd3786"
            ],
            [
             0.5555555555555556,
             "#d8576b"
            ],
            [
             0.6666666666666666,
             "#ed7953"
            ],
            [
             0.7777777777777778,
             "#fb9f3a"
            ],
            [
             0.8888888888888888,
             "#fdca26"
            ],
            [
             1,
             "#f0f921"
            ]
           ],
           "sequentialminus": [
            [
             0,
             "#0d0887"
            ],
            [
             0.1111111111111111,
             "#46039f"
            ],
            [
             0.2222222222222222,
             "#7201a8"
            ],
            [
             0.3333333333333333,
             "#9c179e"
            ],
            [
             0.4444444444444444,
             "#bd3786"
            ],
            [
             0.5555555555555556,
             "#d8576b"
            ],
            [
             0.6666666666666666,
             "#ed7953"
            ],
            [
             0.7777777777777778,
             "#fb9f3a"
            ],
            [
             0.8888888888888888,
             "#fdca26"
            ],
            [
             1,
             "#f0f921"
            ]
           ]
          },
          "colorway": [
           "#636efa",
           "#EF553B",
           "#00cc96",
           "#ab63fa",
           "#FFA15A",
           "#19d3f3",
           "#FF6692",
           "#B6E880",
           "#FF97FF",
           "#FECB52"
          ],
          "font": {
           "color": "#2a3f5f"
          },
          "geo": {
           "bgcolor": "white",
           "lakecolor": "white",
           "landcolor": "#E5ECF6",
           "showlakes": true,
           "showland": true,
           "subunitcolor": "white"
          },
          "hoverlabel": {
           "align": "left"
          },
          "hovermode": "closest",
          "mapbox": {
           "style": "light"
          },
          "paper_bgcolor": "white",
          "plot_bgcolor": "#E5ECF6",
          "polar": {
           "angularaxis": {
            "gridcolor": "white",
            "linecolor": "white",
            "ticks": ""
           },
           "bgcolor": "#E5ECF6",
           "radialaxis": {
            "gridcolor": "white",
            "linecolor": "white",
            "ticks": ""
           }
          },
          "scene": {
           "xaxis": {
            "backgroundcolor": "#E5ECF6",
            "gridcolor": "white",
            "gridwidth": 2,
            "linecolor": "white",
            "showbackground": true,
            "ticks": "",
            "zerolinecolor": "white"
           },
           "yaxis": {
            "backgroundcolor": "#E5ECF6",
            "gridcolor": "white",
            "gridwidth": 2,
            "linecolor": "white",
            "showbackground": true,
            "ticks": "",
            "zerolinecolor": "white"
           },
           "zaxis": {
            "backgroundcolor": "#E5ECF6",
            "gridcolor": "white",
            "gridwidth": 2,
            "linecolor": "white",
            "showbackground": true,
            "ticks": "",
            "zerolinecolor": "white"
           }
          },
          "shapedefaults": {
           "line": {
            "color": "#2a3f5f"
           }
          },
          "ternary": {
           "aaxis": {
            "gridcolor": "white",
            "linecolor": "white",
            "ticks": ""
           },
           "baxis": {
            "gridcolor": "white",
            "linecolor": "white",
            "ticks": ""
           },
           "bgcolor": "#E5ECF6",
           "caxis": {
            "gridcolor": "white",
            "linecolor": "white",
            "ticks": ""
           }
          },
          "title": {
           "x": 0.05
          },
          "xaxis": {
           "automargin": true,
           "gridcolor": "white",
           "linecolor": "white",
           "ticks": "",
           "title": {
            "standoff": 15
           },
           "zerolinecolor": "white",
           "zerolinewidth": 2
          },
          "yaxis": {
           "automargin": true,
           "gridcolor": "white",
           "linecolor": "white",
           "ticks": "",
           "title": {
            "standoff": 15
           },
           "zerolinecolor": "white",
           "zerolinewidth": 2
          }
         }
        }
       }
      },
      "text/html": [
       "<div>                            <div id=\"f91150a3-45fb-49c1-aa00-8291963bd6ec\" class=\"plotly-graph-div\" style=\"height:525px; width:100%;\"></div>            <script type=\"text/javascript\">                require([\"plotly\"], function(Plotly) {                    window.PLOTLYENV=window.PLOTLYENV || {};                                    if (document.getElementById(\"f91150a3-45fb-49c1-aa00-8291963bd6ec\")) {                    Plotly.newPlot(                        \"f91150a3-45fb-49c1-aa00-8291963bd6ec\",                        [{\"mode\": \"lines\", \"type\": \"scatter\", \"x\": [10, 20, 30, 40, 50], \"y\": [0.43072034483383753, 1.1493103168461107, 1.4634067399654613, 1.4284615499652895, 1.407499927646035]}],                        {\"template\": {\"data\": {\"bar\": [{\"error_x\": {\"color\": \"#2a3f5f\"}, \"error_y\": {\"color\": \"#2a3f5f\"}, \"marker\": {\"line\": {\"color\": \"#E5ECF6\", \"width\": 0.5}}, \"type\": \"bar\"}], \"barpolar\": [{\"marker\": {\"line\": {\"color\": \"#E5ECF6\", \"width\": 0.5}}, \"type\": \"barpolar\"}], \"carpet\": [{\"aaxis\": {\"endlinecolor\": \"#2a3f5f\", \"gridcolor\": \"white\", \"linecolor\": \"white\", \"minorgridcolor\": \"white\", \"startlinecolor\": \"#2a3f5f\"}, \"baxis\": {\"endlinecolor\": \"#2a3f5f\", \"gridcolor\": \"white\", \"linecolor\": \"white\", \"minorgridcolor\": \"white\", \"startlinecolor\": \"#2a3f5f\"}, \"type\": \"carpet\"}], \"choropleth\": [{\"colorbar\": {\"outlinewidth\": 0, \"ticks\": \"\"}, \"type\": \"choropleth\"}], \"contour\": [{\"colorbar\": {\"outlinewidth\": 0, \"ticks\": \"\"}, \"colorscale\": [[0.0, \"#0d0887\"], [0.1111111111111111, \"#46039f\"], [0.2222222222222222, \"#7201a8\"], [0.3333333333333333, \"#9c179e\"], [0.4444444444444444, \"#bd3786\"], [0.5555555555555556, \"#d8576b\"], [0.6666666666666666, \"#ed7953\"], [0.7777777777777778, \"#fb9f3a\"], [0.8888888888888888, \"#fdca26\"], [1.0, \"#f0f921\"]], \"type\": \"contour\"}], \"contourcarpet\": [{\"colorbar\": {\"outlinewidth\": 0, \"ticks\": \"\"}, \"type\": \"contourcarpet\"}], \"heatmap\": [{\"colorbar\": {\"outlinewidth\": 0, \"ticks\": \"\"}, \"colorscale\": [[0.0, \"#0d0887\"], [0.1111111111111111, \"#46039f\"], [0.2222222222222222, \"#7201a8\"], [0.3333333333333333, \"#9c179e\"], [0.4444444444444444, \"#bd3786\"], [0.5555555555555556, \"#d8576b\"], [0.6666666666666666, \"#ed7953\"], [0.7777777777777778, \"#fb9f3a\"], [0.8888888888888888, \"#fdca26\"], [1.0, \"#f0f921\"]], \"type\": \"heatmap\"}], \"heatmapgl\": [{\"colorbar\": {\"outlinewidth\": 0, \"ticks\": \"\"}, \"colorscale\": [[0.0, \"#0d0887\"], [0.1111111111111111, \"#46039f\"], [0.2222222222222222, \"#7201a8\"], [0.3333333333333333, \"#9c179e\"], [0.4444444444444444, \"#bd3786\"], [0.5555555555555556, \"#d8576b\"], [0.6666666666666666, \"#ed7953\"], [0.7777777777777778, \"#fb9f3a\"], [0.8888888888888888, \"#fdca26\"], [1.0, \"#f0f921\"]], \"type\": \"heatmapgl\"}], \"histogram\": [{\"marker\": {\"colorbar\": {\"outlinewidth\": 0, \"ticks\": \"\"}}, \"type\": \"histogram\"}], \"histogram2d\": [{\"colorbar\": {\"outlinewidth\": 0, \"ticks\": \"\"}, \"colorscale\": [[0.0, \"#0d0887\"], [0.1111111111111111, \"#46039f\"], [0.2222222222222222, \"#7201a8\"], [0.3333333333333333, \"#9c179e\"], [0.4444444444444444, \"#bd3786\"], [0.5555555555555556, \"#d8576b\"], [0.6666666666666666, \"#ed7953\"], [0.7777777777777778, \"#fb9f3a\"], [0.8888888888888888, \"#fdca26\"], [1.0, \"#f0f921\"]], \"type\": \"histogram2d\"}], \"histogram2dcontour\": [{\"colorbar\": {\"outlinewidth\": 0, \"ticks\": \"\"}, \"colorscale\": [[0.0, \"#0d0887\"], [0.1111111111111111, \"#46039f\"], [0.2222222222222222, \"#7201a8\"], [0.3333333333333333, \"#9c179e\"], [0.4444444444444444, \"#bd3786\"], [0.5555555555555556, \"#d8576b\"], [0.6666666666666666, \"#ed7953\"], [0.7777777777777778, \"#fb9f3a\"], [0.8888888888888888, \"#fdca26\"], [1.0, \"#f0f921\"]], \"type\": \"histogram2dcontour\"}], \"mesh3d\": [{\"colorbar\": {\"outlinewidth\": 0, \"ticks\": \"\"}, \"type\": \"mesh3d\"}], \"parcoords\": [{\"line\": {\"colorbar\": {\"outlinewidth\": 0, \"ticks\": \"\"}}, \"type\": \"parcoords\"}], \"pie\": [{\"automargin\": true, \"type\": \"pie\"}], \"scatter\": [{\"marker\": {\"colorbar\": {\"outlinewidth\": 0, \"ticks\": \"\"}}, \"type\": \"scatter\"}], \"scatter3d\": [{\"line\": {\"colorbar\": {\"outlinewidth\": 0, \"ticks\": \"\"}}, \"marker\": {\"colorbar\": {\"outlinewidth\": 0, \"ticks\": \"\"}}, \"type\": \"scatter3d\"}], \"scattercarpet\": [{\"marker\": {\"colorbar\": {\"outlinewidth\": 0, \"ticks\": \"\"}}, \"type\": \"scattercarpet\"}], \"scattergeo\": [{\"marker\": {\"colorbar\": {\"outlinewidth\": 0, \"ticks\": \"\"}}, \"type\": \"scattergeo\"}], \"scattergl\": [{\"marker\": {\"colorbar\": {\"outlinewidth\": 0, \"ticks\": \"\"}}, \"type\": \"scattergl\"}], \"scattermapbox\": [{\"marker\": {\"colorbar\": {\"outlinewidth\": 0, \"ticks\": \"\"}}, \"type\": \"scattermapbox\"}], \"scatterpolar\": [{\"marker\": {\"colorbar\": {\"outlinewidth\": 0, \"ticks\": \"\"}}, \"type\": \"scatterpolar\"}], \"scatterpolargl\": [{\"marker\": {\"colorbar\": {\"outlinewidth\": 0, \"ticks\": \"\"}}, \"type\": \"scatterpolargl\"}], \"scatterternary\": [{\"marker\": {\"colorbar\": {\"outlinewidth\": 0, \"ticks\": \"\"}}, \"type\": \"scatterternary\"}], \"surface\": [{\"colorbar\": {\"outlinewidth\": 0, \"ticks\": \"\"}, \"colorscale\": [[0.0, \"#0d0887\"], [0.1111111111111111, \"#46039f\"], [0.2222222222222222, \"#7201a8\"], [0.3333333333333333, \"#9c179e\"], [0.4444444444444444, \"#bd3786\"], [0.5555555555555556, \"#d8576b\"], [0.6666666666666666, \"#ed7953\"], [0.7777777777777778, \"#fb9f3a\"], [0.8888888888888888, \"#fdca26\"], [1.0, \"#f0f921\"]], \"type\": \"surface\"}], \"table\": [{\"cells\": {\"fill\": {\"color\": \"#EBF0F8\"}, \"line\": {\"color\": \"white\"}}, \"header\": {\"fill\": {\"color\": \"#C8D4E3\"}, \"line\": {\"color\": \"white\"}}, \"type\": \"table\"}]}, \"layout\": {\"annotationdefaults\": {\"arrowcolor\": \"#2a3f5f\", \"arrowhead\": 0, \"arrowwidth\": 1}, \"autotypenumbers\": \"strict\", \"coloraxis\": {\"colorbar\": {\"outlinewidth\": 0, \"ticks\": \"\"}}, \"colorscale\": {\"diverging\": [[0, \"#8e0152\"], [0.1, \"#c51b7d\"], [0.2, \"#de77ae\"], [0.3, \"#f1b6da\"], [0.4, \"#fde0ef\"], [0.5, \"#f7f7f7\"], [0.6, \"#e6f5d0\"], [0.7, \"#b8e186\"], [0.8, \"#7fbc41\"], [0.9, \"#4d9221\"], [1, \"#276419\"]], \"sequential\": [[0.0, \"#0d0887\"], [0.1111111111111111, \"#46039f\"], [0.2222222222222222, \"#7201a8\"], [0.3333333333333333, \"#9c179e\"], [0.4444444444444444, \"#bd3786\"], [0.5555555555555556, \"#d8576b\"], [0.6666666666666666, \"#ed7953\"], [0.7777777777777778, \"#fb9f3a\"], [0.8888888888888888, \"#fdca26\"], [1.0, \"#f0f921\"]], \"sequentialminus\": [[0.0, \"#0d0887\"], [0.1111111111111111, \"#46039f\"], [0.2222222222222222, \"#7201a8\"], [0.3333333333333333, \"#9c179e\"], [0.4444444444444444, \"#bd3786\"], [0.5555555555555556, \"#d8576b\"], [0.6666666666666666, \"#ed7953\"], [0.7777777777777778, \"#fb9f3a\"], [0.8888888888888888, \"#fdca26\"], [1.0, \"#f0f921\"]]}, \"colorway\": [\"#636efa\", \"#EF553B\", \"#00cc96\", \"#ab63fa\", \"#FFA15A\", \"#19d3f3\", \"#FF6692\", \"#B6E880\", \"#FF97FF\", \"#FECB52\"], \"font\": {\"color\": \"#2a3f5f\"}, \"geo\": {\"bgcolor\": \"white\", \"lakecolor\": \"white\", \"landcolor\": \"#E5ECF6\", \"showlakes\": true, \"showland\": true, \"subunitcolor\": \"white\"}, \"hoverlabel\": {\"align\": \"left\"}, \"hovermode\": \"closest\", \"mapbox\": {\"style\": \"light\"}, \"paper_bgcolor\": \"white\", \"plot_bgcolor\": \"#E5ECF6\", \"polar\": {\"angularaxis\": {\"gridcolor\": \"white\", \"linecolor\": \"white\", \"ticks\": \"\"}, \"bgcolor\": \"#E5ECF6\", \"radialaxis\": {\"gridcolor\": \"white\", \"linecolor\": \"white\", \"ticks\": \"\"}}, \"scene\": {\"xaxis\": {\"backgroundcolor\": \"#E5ECF6\", \"gridcolor\": \"white\", \"gridwidth\": 2, \"linecolor\": \"white\", \"showbackground\": true, \"ticks\": \"\", \"zerolinecolor\": \"white\"}, \"yaxis\": {\"backgroundcolor\": \"#E5ECF6\", \"gridcolor\": \"white\", \"gridwidth\": 2, \"linecolor\": \"white\", \"showbackground\": true, \"ticks\": \"\", \"zerolinecolor\": \"white\"}, \"zaxis\": {\"backgroundcolor\": \"#E5ECF6\", \"gridcolor\": \"white\", \"gridwidth\": 2, \"linecolor\": \"white\", \"showbackground\": true, \"ticks\": \"\", \"zerolinecolor\": \"white\"}}, \"shapedefaults\": {\"line\": {\"color\": \"#2a3f5f\"}}, \"ternary\": {\"aaxis\": {\"gridcolor\": \"white\", \"linecolor\": \"white\", \"ticks\": \"\"}, \"baxis\": {\"gridcolor\": \"white\", \"linecolor\": \"white\", \"ticks\": \"\"}, \"bgcolor\": \"#E5ECF6\", \"caxis\": {\"gridcolor\": \"white\", \"linecolor\": \"white\", \"ticks\": \"\"}}, \"title\": {\"x\": 0.05}, \"xaxis\": {\"automargin\": true, \"gridcolor\": \"white\", \"linecolor\": \"white\", \"ticks\": \"\", \"title\": {\"standoff\": 15}, \"zerolinecolor\": \"white\", \"zerolinewidth\": 2}, \"yaxis\": {\"automargin\": true, \"gridcolor\": \"white\", \"linecolor\": \"white\", \"ticks\": \"\", \"title\": {\"standoff\": 15}, \"zerolinecolor\": \"white\", \"zerolinewidth\": 2}}}},                        {\"responsive\": true}                    ).then(function(){\n",
       "                            \n",
       "var gd = document.getElementById('f91150a3-45fb-49c1-aa00-8291963bd6ec');\n",
       "var x = new MutationObserver(function (mutations, observer) {{\n",
       "        var display = window.getComputedStyle(gd).display;\n",
       "        if (!display || display === 'none') {{\n",
       "            console.log([gd, 'removed!']);\n",
       "            Plotly.purge(gd);\n",
       "            observer.disconnect();\n",
       "        }}\n",
       "}});\n",
       "\n",
       "// Listen for the removal of the full notebook cells\n",
       "var notebookContainer = gd.closest('#notebook-container');\n",
       "if (notebookContainer) {{\n",
       "    x.observe(notebookContainer, {childList: true});\n",
       "}}\n",
       "\n",
       "// Listen for the clearing of the current output cell\n",
       "var outputEl = gd.closest('.output');\n",
       "if (outputEl) {{\n",
       "    x.observe(outputEl, {childList: true});\n",
       "}}\n",
       "\n",
       "                        })                };                });            </script>        </div>"
      ]
     },
     "metadata": {},
     "output_type": "display_data"
    }
   ],
   "source": [
    "f = [10, 20, 30, 40, 50]\n",
    "\n",
    "trace0 = go.Scatter(\n",
    "    x = f,\n",
    "    y = errorsH1,\n",
    "    mode = 'lines',\n",
    ")\n",
    "\n",
    "\n",
    "data = [trace0]\n",
    "\n",
    "iplot(data)"
   ]
  },
  {
   "cell_type": "markdown",
   "id": "38b198c5",
   "metadata": {},
   "source": [
    " ### Просечната грешка на локализација во однос на радио опсегот"
   ]
  },
  {
   "cell_type": "code",
   "execution_count": 20,
   "id": "f19628b2",
   "metadata": {},
   "outputs": [
    {
     "name": "stdout",
     "output_type": "stream",
     "text": [
      "[0.035449154276488475, 1.0603512059306623, 1.8615177442492257, 1.9456224950956318, 2.0533391637026144]\n"
     ]
    }
   ],
   "source": [
    "N = 100\n",
    "L = 100\n",
    "f = 20\n",
    "r = 10\n",
    "#R = {10, 20, 30, 40, 50}\n",
    "\n",
    "heuristic = 1\n",
    "errorsH1 = []\n",
    "\n",
    "nodes = None\n",
    "for R in range(10, 51, 10):\n",
    "    error = 0\n",
    "    for i in range(0, 15):\n",
    "        nodes = generateNodes(N, L, R, r, f)\n",
    "        nodes = findNeighbours(nodes, R)\n",
    "        nodes = estimateLocations(nodes, heuristic, iterative = False)\n",
    "        error = error + calculateError(nodes, N, f)\n",
    "    errorsH1.append(error/15)\n",
    "\n",
    "print(errorsH1)"
   ]
  },
  {
   "cell_type": "code",
   "execution_count": 21,
   "id": "5cc5c665",
   "metadata": {},
   "outputs": [
    {
     "data": {
      "application/vnd.plotly.v1+json": {
       "config": {
        "linkText": "Export to plot.ly",
        "plotlyServerURL": "https://plot.ly",
        "showLink": false
       },
       "data": [
        {
         "mode": "lines",
         "type": "scatter",
         "x": [
          10,
          20,
          30,
          40,
          50
         ],
         "y": [
          0.035449154276488475,
          1.0603512059306623,
          1.8615177442492257,
          1.9456224950956318,
          2.0533391637026144
         ]
        }
       ],
       "layout": {
        "template": {
         "data": {
          "bar": [
           {
            "error_x": {
             "color": "#2a3f5f"
            },
            "error_y": {
             "color": "#2a3f5f"
            },
            "marker": {
             "line": {
              "color": "#E5ECF6",
              "width": 0.5
             }
            },
            "type": "bar"
           }
          ],
          "barpolar": [
           {
            "marker": {
             "line": {
              "color": "#E5ECF6",
              "width": 0.5
             }
            },
            "type": "barpolar"
           }
          ],
          "carpet": [
           {
            "aaxis": {
             "endlinecolor": "#2a3f5f",
             "gridcolor": "white",
             "linecolor": "white",
             "minorgridcolor": "white",
             "startlinecolor": "#2a3f5f"
            },
            "baxis": {
             "endlinecolor": "#2a3f5f",
             "gridcolor": "white",
             "linecolor": "white",
             "minorgridcolor": "white",
             "startlinecolor": "#2a3f5f"
            },
            "type": "carpet"
           }
          ],
          "choropleth": [
           {
            "colorbar": {
             "outlinewidth": 0,
             "ticks": ""
            },
            "type": "choropleth"
           }
          ],
          "contour": [
           {
            "colorbar": {
             "outlinewidth": 0,
             "ticks": ""
            },
            "colorscale": [
             [
              0,
              "#0d0887"
             ],
             [
              0.1111111111111111,
              "#46039f"
             ],
             [
              0.2222222222222222,
              "#7201a8"
             ],
             [
              0.3333333333333333,
              "#9c179e"
             ],
             [
              0.4444444444444444,
              "#bd3786"
             ],
             [
              0.5555555555555556,
              "#d8576b"
             ],
             [
              0.6666666666666666,
              "#ed7953"
             ],
             [
              0.7777777777777778,
              "#fb9f3a"
             ],
             [
              0.8888888888888888,
              "#fdca26"
             ],
             [
              1,
              "#f0f921"
             ]
            ],
            "type": "contour"
           }
          ],
          "contourcarpet": [
           {
            "colorbar": {
             "outlinewidth": 0,
             "ticks": ""
            },
            "type": "contourcarpet"
           }
          ],
          "heatmap": [
           {
            "colorbar": {
             "outlinewidth": 0,
             "ticks": ""
            },
            "colorscale": [
             [
              0,
              "#0d0887"
             ],
             [
              0.1111111111111111,
              "#46039f"
             ],
             [
              0.2222222222222222,
              "#7201a8"
             ],
             [
              0.3333333333333333,
              "#9c179e"
             ],
             [
              0.4444444444444444,
              "#bd3786"
             ],
             [
              0.5555555555555556,
              "#d8576b"
             ],
             [
              0.6666666666666666,
              "#ed7953"
             ],
             [
              0.7777777777777778,
              "#fb9f3a"
             ],
             [
              0.8888888888888888,
              "#fdca26"
             ],
             [
              1,
              "#f0f921"
             ]
            ],
            "type": "heatmap"
           }
          ],
          "heatmapgl": [
           {
            "colorbar": {
             "outlinewidth": 0,
             "ticks": ""
            },
            "colorscale": [
             [
              0,
              "#0d0887"
             ],
             [
              0.1111111111111111,
              "#46039f"
             ],
             [
              0.2222222222222222,
              "#7201a8"
             ],
             [
              0.3333333333333333,
              "#9c179e"
             ],
             [
              0.4444444444444444,
              "#bd3786"
             ],
             [
              0.5555555555555556,
              "#d8576b"
             ],
             [
              0.6666666666666666,
              "#ed7953"
             ],
             [
              0.7777777777777778,
              "#fb9f3a"
             ],
             [
              0.8888888888888888,
              "#fdca26"
             ],
             [
              1,
              "#f0f921"
             ]
            ],
            "type": "heatmapgl"
           }
          ],
          "histogram": [
           {
            "marker": {
             "colorbar": {
              "outlinewidth": 0,
              "ticks": ""
             }
            },
            "type": "histogram"
           }
          ],
          "histogram2d": [
           {
            "colorbar": {
             "outlinewidth": 0,
             "ticks": ""
            },
            "colorscale": [
             [
              0,
              "#0d0887"
             ],
             [
              0.1111111111111111,
              "#46039f"
             ],
             [
              0.2222222222222222,
              "#7201a8"
             ],
             [
              0.3333333333333333,
              "#9c179e"
             ],
             [
              0.4444444444444444,
              "#bd3786"
             ],
             [
              0.5555555555555556,
              "#d8576b"
             ],
             [
              0.6666666666666666,
              "#ed7953"
             ],
             [
              0.7777777777777778,
              "#fb9f3a"
             ],
             [
              0.8888888888888888,
              "#fdca26"
             ],
             [
              1,
              "#f0f921"
             ]
            ],
            "type": "histogram2d"
           }
          ],
          "histogram2dcontour": [
           {
            "colorbar": {
             "outlinewidth": 0,
             "ticks": ""
            },
            "colorscale": [
             [
              0,
              "#0d0887"
             ],
             [
              0.1111111111111111,
              "#46039f"
             ],
             [
              0.2222222222222222,
              "#7201a8"
             ],
             [
              0.3333333333333333,
              "#9c179e"
             ],
             [
              0.4444444444444444,
              "#bd3786"
             ],
             [
              0.5555555555555556,
              "#d8576b"
             ],
             [
              0.6666666666666666,
              "#ed7953"
             ],
             [
              0.7777777777777778,
              "#fb9f3a"
             ],
             [
              0.8888888888888888,
              "#fdca26"
             ],
             [
              1,
              "#f0f921"
             ]
            ],
            "type": "histogram2dcontour"
           }
          ],
          "mesh3d": [
           {
            "colorbar": {
             "outlinewidth": 0,
             "ticks": ""
            },
            "type": "mesh3d"
           }
          ],
          "parcoords": [
           {
            "line": {
             "colorbar": {
              "outlinewidth": 0,
              "ticks": ""
             }
            },
            "type": "parcoords"
           }
          ],
          "pie": [
           {
            "automargin": true,
            "type": "pie"
           }
          ],
          "scatter": [
           {
            "marker": {
             "colorbar": {
              "outlinewidth": 0,
              "ticks": ""
             }
            },
            "type": "scatter"
           }
          ],
          "scatter3d": [
           {
            "line": {
             "colorbar": {
              "outlinewidth": 0,
              "ticks": ""
             }
            },
            "marker": {
             "colorbar": {
              "outlinewidth": 0,
              "ticks": ""
             }
            },
            "type": "scatter3d"
           }
          ],
          "scattercarpet": [
           {
            "marker": {
             "colorbar": {
              "outlinewidth": 0,
              "ticks": ""
             }
            },
            "type": "scattercarpet"
           }
          ],
          "scattergeo": [
           {
            "marker": {
             "colorbar": {
              "outlinewidth": 0,
              "ticks": ""
             }
            },
            "type": "scattergeo"
           }
          ],
          "scattergl": [
           {
            "marker": {
             "colorbar": {
              "outlinewidth": 0,
              "ticks": ""
             }
            },
            "type": "scattergl"
           }
          ],
          "scattermapbox": [
           {
            "marker": {
             "colorbar": {
              "outlinewidth": 0,
              "ticks": ""
             }
            },
            "type": "scattermapbox"
           }
          ],
          "scatterpolar": [
           {
            "marker": {
             "colorbar": {
              "outlinewidth": 0,
              "ticks": ""
             }
            },
            "type": "scatterpolar"
           }
          ],
          "scatterpolargl": [
           {
            "marker": {
             "colorbar": {
              "outlinewidth": 0,
              "ticks": ""
             }
            },
            "type": "scatterpolargl"
           }
          ],
          "scatterternary": [
           {
            "marker": {
             "colorbar": {
              "outlinewidth": 0,
              "ticks": ""
             }
            },
            "type": "scatterternary"
           }
          ],
          "surface": [
           {
            "colorbar": {
             "outlinewidth": 0,
             "ticks": ""
            },
            "colorscale": [
             [
              0,
              "#0d0887"
             ],
             [
              0.1111111111111111,
              "#46039f"
             ],
             [
              0.2222222222222222,
              "#7201a8"
             ],
             [
              0.3333333333333333,
              "#9c179e"
             ],
             [
              0.4444444444444444,
              "#bd3786"
             ],
             [
              0.5555555555555556,
              "#d8576b"
             ],
             [
              0.6666666666666666,
              "#ed7953"
             ],
             [
              0.7777777777777778,
              "#fb9f3a"
             ],
             [
              0.8888888888888888,
              "#fdca26"
             ],
             [
              1,
              "#f0f921"
             ]
            ],
            "type": "surface"
           }
          ],
          "table": [
           {
            "cells": {
             "fill": {
              "color": "#EBF0F8"
             },
             "line": {
              "color": "white"
             }
            },
            "header": {
             "fill": {
              "color": "#C8D4E3"
             },
             "line": {
              "color": "white"
             }
            },
            "type": "table"
           }
          ]
         },
         "layout": {
          "annotationdefaults": {
           "arrowcolor": "#2a3f5f",
           "arrowhead": 0,
           "arrowwidth": 1
          },
          "autotypenumbers": "strict",
          "coloraxis": {
           "colorbar": {
            "outlinewidth": 0,
            "ticks": ""
           }
          },
          "colorscale": {
           "diverging": [
            [
             0,
             "#8e0152"
            ],
            [
             0.1,
             "#c51b7d"
            ],
            [
             0.2,
             "#de77ae"
            ],
            [
             0.3,
             "#f1b6da"
            ],
            [
             0.4,
             "#fde0ef"
            ],
            [
             0.5,
             "#f7f7f7"
            ],
            [
             0.6,
             "#e6f5d0"
            ],
            [
             0.7,
             "#b8e186"
            ],
            [
             0.8,
             "#7fbc41"
            ],
            [
             0.9,
             "#4d9221"
            ],
            [
             1,
             "#276419"
            ]
           ],
           "sequential": [
            [
             0,
             "#0d0887"
            ],
            [
             0.1111111111111111,
             "#46039f"
            ],
            [
             0.2222222222222222,
             "#7201a8"
            ],
            [
             0.3333333333333333,
             "#9c179e"
            ],
            [
             0.4444444444444444,
             "#bd3786"
            ],
            [
             0.5555555555555556,
             "#d8576b"
            ],
            [
             0.6666666666666666,
             "#ed7953"
            ],
            [
             0.7777777777777778,
             "#fb9f3a"
            ],
            [
             0.8888888888888888,
             "#fdca26"
            ],
            [
             1,
             "#f0f921"
            ]
           ],
           "sequentialminus": [
            [
             0,
             "#0d0887"
            ],
            [
             0.1111111111111111,
             "#46039f"
            ],
            [
             0.2222222222222222,
             "#7201a8"
            ],
            [
             0.3333333333333333,
             "#9c179e"
            ],
            [
             0.4444444444444444,
             "#bd3786"
            ],
            [
             0.5555555555555556,
             "#d8576b"
            ],
            [
             0.6666666666666666,
             "#ed7953"
            ],
            [
             0.7777777777777778,
             "#fb9f3a"
            ],
            [
             0.8888888888888888,
             "#fdca26"
            ],
            [
             1,
             "#f0f921"
            ]
           ]
          },
          "colorway": [
           "#636efa",
           "#EF553B",
           "#00cc96",
           "#ab63fa",
           "#FFA15A",
           "#19d3f3",
           "#FF6692",
           "#B6E880",
           "#FF97FF",
           "#FECB52"
          ],
          "font": {
           "color": "#2a3f5f"
          },
          "geo": {
           "bgcolor": "white",
           "lakecolor": "white",
           "landcolor": "#E5ECF6",
           "showlakes": true,
           "showland": true,
           "subunitcolor": "white"
          },
          "hoverlabel": {
           "align": "left"
          },
          "hovermode": "closest",
          "mapbox": {
           "style": "light"
          },
          "paper_bgcolor": "white",
          "plot_bgcolor": "#E5ECF6",
          "polar": {
           "angularaxis": {
            "gridcolor": "white",
            "linecolor": "white",
            "ticks": ""
           },
           "bgcolor": "#E5ECF6",
           "radialaxis": {
            "gridcolor": "white",
            "linecolor": "white",
            "ticks": ""
           }
          },
          "scene": {
           "xaxis": {
            "backgroundcolor": "#E5ECF6",
            "gridcolor": "white",
            "gridwidth": 2,
            "linecolor": "white",
            "showbackground": true,
            "ticks": "",
            "zerolinecolor": "white"
           },
           "yaxis": {
            "backgroundcolor": "#E5ECF6",
            "gridcolor": "white",
            "gridwidth": 2,
            "linecolor": "white",
            "showbackground": true,
            "ticks": "",
            "zerolinecolor": "white"
           },
           "zaxis": {
            "backgroundcolor": "#E5ECF6",
            "gridcolor": "white",
            "gridwidth": 2,
            "linecolor": "white",
            "showbackground": true,
            "ticks": "",
            "zerolinecolor": "white"
           }
          },
          "shapedefaults": {
           "line": {
            "color": "#2a3f5f"
           }
          },
          "ternary": {
           "aaxis": {
            "gridcolor": "white",
            "linecolor": "white",
            "ticks": ""
           },
           "baxis": {
            "gridcolor": "white",
            "linecolor": "white",
            "ticks": ""
           },
           "bgcolor": "#E5ECF6",
           "caxis": {
            "gridcolor": "white",
            "linecolor": "white",
            "ticks": ""
           }
          },
          "title": {
           "x": 0.05
          },
          "xaxis": {
           "automargin": true,
           "gridcolor": "white",
           "linecolor": "white",
           "ticks": "",
           "title": {
            "standoff": 15
           },
           "zerolinecolor": "white",
           "zerolinewidth": 2
          },
          "yaxis": {
           "automargin": true,
           "gridcolor": "white",
           "linecolor": "white",
           "ticks": "",
           "title": {
            "standoff": 15
           },
           "zerolinecolor": "white",
           "zerolinewidth": 2
          }
         }
        }
       }
      },
      "text/html": [
       "<div>                            <div id=\"26d6b7ba-b54f-4109-88d2-58fed5a8b8e3\" class=\"plotly-graph-div\" style=\"height:525px; width:100%;\"></div>            <script type=\"text/javascript\">                require([\"plotly\"], function(Plotly) {                    window.PLOTLYENV=window.PLOTLYENV || {};                                    if (document.getElementById(\"26d6b7ba-b54f-4109-88d2-58fed5a8b8e3\")) {                    Plotly.newPlot(                        \"26d6b7ba-b54f-4109-88d2-58fed5a8b8e3\",                        [{\"mode\": \"lines\", \"type\": \"scatter\", \"x\": [10, 20, 30, 40, 50], \"y\": [0.035449154276488475, 1.0603512059306623, 1.8615177442492257, 1.9456224950956318, 2.0533391637026144]}],                        {\"template\": {\"data\": {\"bar\": [{\"error_x\": {\"color\": \"#2a3f5f\"}, \"error_y\": {\"color\": \"#2a3f5f\"}, \"marker\": {\"line\": {\"color\": \"#E5ECF6\", \"width\": 0.5}}, \"type\": \"bar\"}], \"barpolar\": [{\"marker\": {\"line\": {\"color\": \"#E5ECF6\", \"width\": 0.5}}, \"type\": \"barpolar\"}], \"carpet\": [{\"aaxis\": {\"endlinecolor\": \"#2a3f5f\", \"gridcolor\": \"white\", \"linecolor\": \"white\", \"minorgridcolor\": \"white\", \"startlinecolor\": \"#2a3f5f\"}, \"baxis\": {\"endlinecolor\": \"#2a3f5f\", \"gridcolor\": \"white\", \"linecolor\": \"white\", \"minorgridcolor\": \"white\", \"startlinecolor\": \"#2a3f5f\"}, \"type\": \"carpet\"}], \"choropleth\": [{\"colorbar\": {\"outlinewidth\": 0, \"ticks\": \"\"}, \"type\": \"choropleth\"}], \"contour\": [{\"colorbar\": {\"outlinewidth\": 0, \"ticks\": \"\"}, \"colorscale\": [[0.0, \"#0d0887\"], [0.1111111111111111, \"#46039f\"], [0.2222222222222222, \"#7201a8\"], [0.3333333333333333, \"#9c179e\"], [0.4444444444444444, \"#bd3786\"], [0.5555555555555556, \"#d8576b\"], [0.6666666666666666, \"#ed7953\"], [0.7777777777777778, \"#fb9f3a\"], [0.8888888888888888, \"#fdca26\"], [1.0, \"#f0f921\"]], \"type\": \"contour\"}], \"contourcarpet\": [{\"colorbar\": {\"outlinewidth\": 0, \"ticks\": \"\"}, \"type\": \"contourcarpet\"}], \"heatmap\": [{\"colorbar\": {\"outlinewidth\": 0, \"ticks\": \"\"}, \"colorscale\": [[0.0, \"#0d0887\"], [0.1111111111111111, \"#46039f\"], [0.2222222222222222, \"#7201a8\"], [0.3333333333333333, \"#9c179e\"], [0.4444444444444444, \"#bd3786\"], [0.5555555555555556, \"#d8576b\"], [0.6666666666666666, \"#ed7953\"], [0.7777777777777778, \"#fb9f3a\"], [0.8888888888888888, \"#fdca26\"], [1.0, \"#f0f921\"]], \"type\": \"heatmap\"}], \"heatmapgl\": [{\"colorbar\": {\"outlinewidth\": 0, \"ticks\": \"\"}, \"colorscale\": [[0.0, \"#0d0887\"], [0.1111111111111111, \"#46039f\"], [0.2222222222222222, \"#7201a8\"], [0.3333333333333333, \"#9c179e\"], [0.4444444444444444, \"#bd3786\"], [0.5555555555555556, \"#d8576b\"], [0.6666666666666666, \"#ed7953\"], [0.7777777777777778, \"#fb9f3a\"], [0.8888888888888888, \"#fdca26\"], [1.0, \"#f0f921\"]], \"type\": \"heatmapgl\"}], \"histogram\": [{\"marker\": {\"colorbar\": {\"outlinewidth\": 0, \"ticks\": \"\"}}, \"type\": \"histogram\"}], \"histogram2d\": [{\"colorbar\": {\"outlinewidth\": 0, \"ticks\": \"\"}, \"colorscale\": [[0.0, \"#0d0887\"], [0.1111111111111111, \"#46039f\"], [0.2222222222222222, \"#7201a8\"], [0.3333333333333333, \"#9c179e\"], [0.4444444444444444, \"#bd3786\"], [0.5555555555555556, \"#d8576b\"], [0.6666666666666666, \"#ed7953\"], [0.7777777777777778, \"#fb9f3a\"], [0.8888888888888888, \"#fdca26\"], [1.0, \"#f0f921\"]], \"type\": \"histogram2d\"}], \"histogram2dcontour\": [{\"colorbar\": {\"outlinewidth\": 0, \"ticks\": \"\"}, \"colorscale\": [[0.0, \"#0d0887\"], [0.1111111111111111, \"#46039f\"], [0.2222222222222222, \"#7201a8\"], [0.3333333333333333, \"#9c179e\"], [0.4444444444444444, \"#bd3786\"], [0.5555555555555556, \"#d8576b\"], [0.6666666666666666, \"#ed7953\"], [0.7777777777777778, \"#fb9f3a\"], [0.8888888888888888, \"#fdca26\"], [1.0, \"#f0f921\"]], \"type\": \"histogram2dcontour\"}], \"mesh3d\": [{\"colorbar\": {\"outlinewidth\": 0, \"ticks\": \"\"}, \"type\": \"mesh3d\"}], \"parcoords\": [{\"line\": {\"colorbar\": {\"outlinewidth\": 0, \"ticks\": \"\"}}, \"type\": \"parcoords\"}], \"pie\": [{\"automargin\": true, \"type\": \"pie\"}], \"scatter\": [{\"marker\": {\"colorbar\": {\"outlinewidth\": 0, \"ticks\": \"\"}}, \"type\": \"scatter\"}], \"scatter3d\": [{\"line\": {\"colorbar\": {\"outlinewidth\": 0, \"ticks\": \"\"}}, \"marker\": {\"colorbar\": {\"outlinewidth\": 0, \"ticks\": \"\"}}, \"type\": \"scatter3d\"}], \"scattercarpet\": [{\"marker\": {\"colorbar\": {\"outlinewidth\": 0, \"ticks\": \"\"}}, \"type\": \"scattercarpet\"}], \"scattergeo\": [{\"marker\": {\"colorbar\": {\"outlinewidth\": 0, \"ticks\": \"\"}}, \"type\": \"scattergeo\"}], \"scattergl\": [{\"marker\": {\"colorbar\": {\"outlinewidth\": 0, \"ticks\": \"\"}}, \"type\": \"scattergl\"}], \"scattermapbox\": [{\"marker\": {\"colorbar\": {\"outlinewidth\": 0, \"ticks\": \"\"}}, \"type\": \"scattermapbox\"}], \"scatterpolar\": [{\"marker\": {\"colorbar\": {\"outlinewidth\": 0, \"ticks\": \"\"}}, \"type\": \"scatterpolar\"}], \"scatterpolargl\": [{\"marker\": {\"colorbar\": {\"outlinewidth\": 0, \"ticks\": \"\"}}, \"type\": \"scatterpolargl\"}], \"scatterternary\": [{\"marker\": {\"colorbar\": {\"outlinewidth\": 0, \"ticks\": \"\"}}, \"type\": \"scatterternary\"}], \"surface\": [{\"colorbar\": {\"outlinewidth\": 0, \"ticks\": \"\"}, \"colorscale\": [[0.0, \"#0d0887\"], [0.1111111111111111, \"#46039f\"], [0.2222222222222222, \"#7201a8\"], [0.3333333333333333, \"#9c179e\"], [0.4444444444444444, \"#bd3786\"], [0.5555555555555556, \"#d8576b\"], [0.6666666666666666, \"#ed7953\"], [0.7777777777777778, \"#fb9f3a\"], [0.8888888888888888, \"#fdca26\"], [1.0, \"#f0f921\"]], \"type\": \"surface\"}], \"table\": [{\"cells\": {\"fill\": {\"color\": \"#EBF0F8\"}, \"line\": {\"color\": \"white\"}}, \"header\": {\"fill\": {\"color\": \"#C8D4E3\"}, \"line\": {\"color\": \"white\"}}, \"type\": \"table\"}]}, \"layout\": {\"annotationdefaults\": {\"arrowcolor\": \"#2a3f5f\", \"arrowhead\": 0, \"arrowwidth\": 1}, \"autotypenumbers\": \"strict\", \"coloraxis\": {\"colorbar\": {\"outlinewidth\": 0, \"ticks\": \"\"}}, \"colorscale\": {\"diverging\": [[0, \"#8e0152\"], [0.1, \"#c51b7d\"], [0.2, \"#de77ae\"], [0.3, \"#f1b6da\"], [0.4, \"#fde0ef\"], [0.5, \"#f7f7f7\"], [0.6, \"#e6f5d0\"], [0.7, \"#b8e186\"], [0.8, \"#7fbc41\"], [0.9, \"#4d9221\"], [1, \"#276419\"]], \"sequential\": [[0.0, \"#0d0887\"], [0.1111111111111111, \"#46039f\"], [0.2222222222222222, \"#7201a8\"], [0.3333333333333333, \"#9c179e\"], [0.4444444444444444, \"#bd3786\"], [0.5555555555555556, \"#d8576b\"], [0.6666666666666666, \"#ed7953\"], [0.7777777777777778, \"#fb9f3a\"], [0.8888888888888888, \"#fdca26\"], [1.0, \"#f0f921\"]], \"sequentialminus\": [[0.0, \"#0d0887\"], [0.1111111111111111, \"#46039f\"], [0.2222222222222222, \"#7201a8\"], [0.3333333333333333, \"#9c179e\"], [0.4444444444444444, \"#bd3786\"], [0.5555555555555556, \"#d8576b\"], [0.6666666666666666, \"#ed7953\"], [0.7777777777777778, \"#fb9f3a\"], [0.8888888888888888, \"#fdca26\"], [1.0, \"#f0f921\"]]}, \"colorway\": [\"#636efa\", \"#EF553B\", \"#00cc96\", \"#ab63fa\", \"#FFA15A\", \"#19d3f3\", \"#FF6692\", \"#B6E880\", \"#FF97FF\", \"#FECB52\"], \"font\": {\"color\": \"#2a3f5f\"}, \"geo\": {\"bgcolor\": \"white\", \"lakecolor\": \"white\", \"landcolor\": \"#E5ECF6\", \"showlakes\": true, \"showland\": true, \"subunitcolor\": \"white\"}, \"hoverlabel\": {\"align\": \"left\"}, \"hovermode\": \"closest\", \"mapbox\": {\"style\": \"light\"}, \"paper_bgcolor\": \"white\", \"plot_bgcolor\": \"#E5ECF6\", \"polar\": {\"angularaxis\": {\"gridcolor\": \"white\", \"linecolor\": \"white\", \"ticks\": \"\"}, \"bgcolor\": \"#E5ECF6\", \"radialaxis\": {\"gridcolor\": \"white\", \"linecolor\": \"white\", \"ticks\": \"\"}}, \"scene\": {\"xaxis\": {\"backgroundcolor\": \"#E5ECF6\", \"gridcolor\": \"white\", \"gridwidth\": 2, \"linecolor\": \"white\", \"showbackground\": true, \"ticks\": \"\", \"zerolinecolor\": \"white\"}, \"yaxis\": {\"backgroundcolor\": \"#E5ECF6\", \"gridcolor\": \"white\", \"gridwidth\": 2, \"linecolor\": \"white\", \"showbackground\": true, \"ticks\": \"\", \"zerolinecolor\": \"white\"}, \"zaxis\": {\"backgroundcolor\": \"#E5ECF6\", \"gridcolor\": \"white\", \"gridwidth\": 2, \"linecolor\": \"white\", \"showbackground\": true, \"ticks\": \"\", \"zerolinecolor\": \"white\"}}, \"shapedefaults\": {\"line\": {\"color\": \"#2a3f5f\"}}, \"ternary\": {\"aaxis\": {\"gridcolor\": \"white\", \"linecolor\": \"white\", \"ticks\": \"\"}, \"baxis\": {\"gridcolor\": \"white\", \"linecolor\": \"white\", \"ticks\": \"\"}, \"bgcolor\": \"#E5ECF6\", \"caxis\": {\"gridcolor\": \"white\", \"linecolor\": \"white\", \"ticks\": \"\"}}, \"title\": {\"x\": 0.05}, \"xaxis\": {\"automargin\": true, \"gridcolor\": \"white\", \"linecolor\": \"white\", \"ticks\": \"\", \"title\": {\"standoff\": 15}, \"zerolinecolor\": \"white\", \"zerolinewidth\": 2}, \"yaxis\": {\"automargin\": true, \"gridcolor\": \"white\", \"linecolor\": \"white\", \"ticks\": \"\", \"title\": {\"standoff\": 15}, \"zerolinecolor\": \"white\", \"zerolinewidth\": 2}}}},                        {\"responsive\": true}                    ).then(function(){\n",
       "                            \n",
       "var gd = document.getElementById('26d6b7ba-b54f-4109-88d2-58fed5a8b8e3');\n",
       "var x = new MutationObserver(function (mutations, observer) {{\n",
       "        var display = window.getComputedStyle(gd).display;\n",
       "        if (!display || display === 'none') {{\n",
       "            console.log([gd, 'removed!']);\n",
       "            Plotly.purge(gd);\n",
       "            observer.disconnect();\n",
       "        }}\n",
       "}});\n",
       "\n",
       "// Listen for the removal of the full notebook cells\n",
       "var notebookContainer = gd.closest('#notebook-container');\n",
       "if (notebookContainer) {{\n",
       "    x.observe(notebookContainer, {childList: true});\n",
       "}}\n",
       "\n",
       "// Listen for the clearing of the current output cell\n",
       "var outputEl = gd.closest('.output');\n",
       "if (outputEl) {{\n",
       "    x.observe(outputEl, {childList: true});\n",
       "}}\n",
       "\n",
       "                        })                };                });            </script>        </div>"
      ]
     },
     "metadata": {},
     "output_type": "display_data"
    }
   ],
   "source": [
    "R = [10, 20, 30, 40, 50]\n",
    "\n",
    "trace0 = go.Scatter(\n",
    "    x = R,\n",
    "    y = errorsH1,\n",
    "    mode = 'lines',\n",
    ")\n",
    "\n",
    "\n",
    "data = [trace0]\n",
    "\n",
    "iplot(data)"
   ]
  },
  {
   "cell_type": "markdown",
   "id": "44dda5ce",
   "metadata": {},
   "source": [
    " ### Просечната грешка на локализација vs radio range error"
   ]
  },
  {
   "cell_type": "code",
   "execution_count": 22,
   "id": "65e514a4",
   "metadata": {},
   "outputs": [
    {
     "name": "stdout",
     "output_type": "stream",
     "text": [
      "[1.7522447540297275, 2.390039141233145, 3.1122057844418807, 3.833362952659799, 4.414095007847053, 5.1659177341749976, 5.41811511751722, 5.979125404744886, 6.451693220789837]\n"
     ]
    }
   ],
   "source": [
    "N = 100\n",
    "L = 100\n",
    "f = 20\n",
    "R = 20\n",
    "# r = {10...50}\n",
    "\n",
    "heuristic = 1\n",
    "errorsH1 = []\n",
    "\n",
    "nodes = None\n",
    "for r in range(10, 51, 5):\n",
    "    error = 0\n",
    "    for i in range(0, 15):\n",
    "        nodes = generateNodes(N, L, R, r, f)\n",
    "        nodes = findNeighbours(nodes, R)\n",
    "        nodes = estimateLocations(nodes, heuristic, r)\n",
    "        error = error + calculateError(nodes, N, f)\n",
    "    errorsH1.append(error/15)\n",
    "\n",
    "print(errorsH1)"
   ]
  },
  {
   "cell_type": "code",
   "execution_count": 23,
   "id": "db03e44d",
   "metadata": {},
   "outputs": [
    {
     "data": {
      "application/vnd.plotly.v1+json": {
       "config": {
        "linkText": "Export to plot.ly",
        "plotlyServerURL": "https://plot.ly",
        "showLink": false
       },
       "data": [
        {
         "mode": "lines",
         "type": "scatter",
         "x": [
          10,
          15,
          20,
          25,
          30,
          35,
          40,
          45,
          50
         ],
         "y": [
          1.7522447540297275,
          2.390039141233145,
          3.1122057844418807,
          3.833362952659799,
          4.414095007847053,
          5.1659177341749976,
          5.41811511751722,
          5.979125404744886,
          6.451693220789837
         ]
        }
       ],
       "layout": {
        "template": {
         "data": {
          "bar": [
           {
            "error_x": {
             "color": "#2a3f5f"
            },
            "error_y": {
             "color": "#2a3f5f"
            },
            "marker": {
             "line": {
              "color": "#E5ECF6",
              "width": 0.5
             }
            },
            "type": "bar"
           }
          ],
          "barpolar": [
           {
            "marker": {
             "line": {
              "color": "#E5ECF6",
              "width": 0.5
             }
            },
            "type": "barpolar"
           }
          ],
          "carpet": [
           {
            "aaxis": {
             "endlinecolor": "#2a3f5f",
             "gridcolor": "white",
             "linecolor": "white",
             "minorgridcolor": "white",
             "startlinecolor": "#2a3f5f"
            },
            "baxis": {
             "endlinecolor": "#2a3f5f",
             "gridcolor": "white",
             "linecolor": "white",
             "minorgridcolor": "white",
             "startlinecolor": "#2a3f5f"
            },
            "type": "carpet"
           }
          ],
          "choropleth": [
           {
            "colorbar": {
             "outlinewidth": 0,
             "ticks": ""
            },
            "type": "choropleth"
           }
          ],
          "contour": [
           {
            "colorbar": {
             "outlinewidth": 0,
             "ticks": ""
            },
            "colorscale": [
             [
              0,
              "#0d0887"
             ],
             [
              0.1111111111111111,
              "#46039f"
             ],
             [
              0.2222222222222222,
              "#7201a8"
             ],
             [
              0.3333333333333333,
              "#9c179e"
             ],
             [
              0.4444444444444444,
              "#bd3786"
             ],
             [
              0.5555555555555556,
              "#d8576b"
             ],
             [
              0.6666666666666666,
              "#ed7953"
             ],
             [
              0.7777777777777778,
              "#fb9f3a"
             ],
             [
              0.8888888888888888,
              "#fdca26"
             ],
             [
              1,
              "#f0f921"
             ]
            ],
            "type": "contour"
           }
          ],
          "contourcarpet": [
           {
            "colorbar": {
             "outlinewidth": 0,
             "ticks": ""
            },
            "type": "contourcarpet"
           }
          ],
          "heatmap": [
           {
            "colorbar": {
             "outlinewidth": 0,
             "ticks": ""
            },
            "colorscale": [
             [
              0,
              "#0d0887"
             ],
             [
              0.1111111111111111,
              "#46039f"
             ],
             [
              0.2222222222222222,
              "#7201a8"
             ],
             [
              0.3333333333333333,
              "#9c179e"
             ],
             [
              0.4444444444444444,
              "#bd3786"
             ],
             [
              0.5555555555555556,
              "#d8576b"
             ],
             [
              0.6666666666666666,
              "#ed7953"
             ],
             [
              0.7777777777777778,
              "#fb9f3a"
             ],
             [
              0.8888888888888888,
              "#fdca26"
             ],
             [
              1,
              "#f0f921"
             ]
            ],
            "type": "heatmap"
           }
          ],
          "heatmapgl": [
           {
            "colorbar": {
             "outlinewidth": 0,
             "ticks": ""
            },
            "colorscale": [
             [
              0,
              "#0d0887"
             ],
             [
              0.1111111111111111,
              "#46039f"
             ],
             [
              0.2222222222222222,
              "#7201a8"
             ],
             [
              0.3333333333333333,
              "#9c179e"
             ],
             [
              0.4444444444444444,
              "#bd3786"
             ],
             [
              0.5555555555555556,
              "#d8576b"
             ],
             [
              0.6666666666666666,
              "#ed7953"
             ],
             [
              0.7777777777777778,
              "#fb9f3a"
             ],
             [
              0.8888888888888888,
              "#fdca26"
             ],
             [
              1,
              "#f0f921"
             ]
            ],
            "type": "heatmapgl"
           }
          ],
          "histogram": [
           {
            "marker": {
             "colorbar": {
              "outlinewidth": 0,
              "ticks": ""
             }
            },
            "type": "histogram"
           }
          ],
          "histogram2d": [
           {
            "colorbar": {
             "outlinewidth": 0,
             "ticks": ""
            },
            "colorscale": [
             [
              0,
              "#0d0887"
             ],
             [
              0.1111111111111111,
              "#46039f"
             ],
             [
              0.2222222222222222,
              "#7201a8"
             ],
             [
              0.3333333333333333,
              "#9c179e"
             ],
             [
              0.4444444444444444,
              "#bd3786"
             ],
             [
              0.5555555555555556,
              "#d8576b"
             ],
             [
              0.6666666666666666,
              "#ed7953"
             ],
             [
              0.7777777777777778,
              "#fb9f3a"
             ],
             [
              0.8888888888888888,
              "#fdca26"
             ],
             [
              1,
              "#f0f921"
             ]
            ],
            "type": "histogram2d"
           }
          ],
          "histogram2dcontour": [
           {
            "colorbar": {
             "outlinewidth": 0,
             "ticks": ""
            },
            "colorscale": [
             [
              0,
              "#0d0887"
             ],
             [
              0.1111111111111111,
              "#46039f"
             ],
             [
              0.2222222222222222,
              "#7201a8"
             ],
             [
              0.3333333333333333,
              "#9c179e"
             ],
             [
              0.4444444444444444,
              "#bd3786"
             ],
             [
              0.5555555555555556,
              "#d8576b"
             ],
             [
              0.6666666666666666,
              "#ed7953"
             ],
             [
              0.7777777777777778,
              "#fb9f3a"
             ],
             [
              0.8888888888888888,
              "#fdca26"
             ],
             [
              1,
              "#f0f921"
             ]
            ],
            "type": "histogram2dcontour"
           }
          ],
          "mesh3d": [
           {
            "colorbar": {
             "outlinewidth": 0,
             "ticks": ""
            },
            "type": "mesh3d"
           }
          ],
          "parcoords": [
           {
            "line": {
             "colorbar": {
              "outlinewidth": 0,
              "ticks": ""
             }
            },
            "type": "parcoords"
           }
          ],
          "pie": [
           {
            "automargin": true,
            "type": "pie"
           }
          ],
          "scatter": [
           {
            "marker": {
             "colorbar": {
              "outlinewidth": 0,
              "ticks": ""
             }
            },
            "type": "scatter"
           }
          ],
          "scatter3d": [
           {
            "line": {
             "colorbar": {
              "outlinewidth": 0,
              "ticks": ""
             }
            },
            "marker": {
             "colorbar": {
              "outlinewidth": 0,
              "ticks": ""
             }
            },
            "type": "scatter3d"
           }
          ],
          "scattercarpet": [
           {
            "marker": {
             "colorbar": {
              "outlinewidth": 0,
              "ticks": ""
             }
            },
            "type": "scattercarpet"
           }
          ],
          "scattergeo": [
           {
            "marker": {
             "colorbar": {
              "outlinewidth": 0,
              "ticks": ""
             }
            },
            "type": "scattergeo"
           }
          ],
          "scattergl": [
           {
            "marker": {
             "colorbar": {
              "outlinewidth": 0,
              "ticks": ""
             }
            },
            "type": "scattergl"
           }
          ],
          "scattermapbox": [
           {
            "marker": {
             "colorbar": {
              "outlinewidth": 0,
              "ticks": ""
             }
            },
            "type": "scattermapbox"
           }
          ],
          "scatterpolar": [
           {
            "marker": {
             "colorbar": {
              "outlinewidth": 0,
              "ticks": ""
             }
            },
            "type": "scatterpolar"
           }
          ],
          "scatterpolargl": [
           {
            "marker": {
             "colorbar": {
              "outlinewidth": 0,
              "ticks": ""
             }
            },
            "type": "scatterpolargl"
           }
          ],
          "scatterternary": [
           {
            "marker": {
             "colorbar": {
              "outlinewidth": 0,
              "ticks": ""
             }
            },
            "type": "scatterternary"
           }
          ],
          "surface": [
           {
            "colorbar": {
             "outlinewidth": 0,
             "ticks": ""
            },
            "colorscale": [
             [
              0,
              "#0d0887"
             ],
             [
              0.1111111111111111,
              "#46039f"
             ],
             [
              0.2222222222222222,
              "#7201a8"
             ],
             [
              0.3333333333333333,
              "#9c179e"
             ],
             [
              0.4444444444444444,
              "#bd3786"
             ],
             [
              0.5555555555555556,
              "#d8576b"
             ],
             [
              0.6666666666666666,
              "#ed7953"
             ],
             [
              0.7777777777777778,
              "#fb9f3a"
             ],
             [
              0.8888888888888888,
              "#fdca26"
             ],
             [
              1,
              "#f0f921"
             ]
            ],
            "type": "surface"
           }
          ],
          "table": [
           {
            "cells": {
             "fill": {
              "color": "#EBF0F8"
             },
             "line": {
              "color": "white"
             }
            },
            "header": {
             "fill": {
              "color": "#C8D4E3"
             },
             "line": {
              "color": "white"
             }
            },
            "type": "table"
           }
          ]
         },
         "layout": {
          "annotationdefaults": {
           "arrowcolor": "#2a3f5f",
           "arrowhead": 0,
           "arrowwidth": 1
          },
          "autotypenumbers": "strict",
          "coloraxis": {
           "colorbar": {
            "outlinewidth": 0,
            "ticks": ""
           }
          },
          "colorscale": {
           "diverging": [
            [
             0,
             "#8e0152"
            ],
            [
             0.1,
             "#c51b7d"
            ],
            [
             0.2,
             "#de77ae"
            ],
            [
             0.3,
             "#f1b6da"
            ],
            [
             0.4,
             "#fde0ef"
            ],
            [
             0.5,
             "#f7f7f7"
            ],
            [
             0.6,
             "#e6f5d0"
            ],
            [
             0.7,
             "#b8e186"
            ],
            [
             0.8,
             "#7fbc41"
            ],
            [
             0.9,
             "#4d9221"
            ],
            [
             1,
             "#276419"
            ]
           ],
           "sequential": [
            [
             0,
             "#0d0887"
            ],
            [
             0.1111111111111111,
             "#46039f"
            ],
            [
             0.2222222222222222,
             "#7201a8"
            ],
            [
             0.3333333333333333,
             "#9c179e"
            ],
            [
             0.4444444444444444,
             "#bd3786"
            ],
            [
             0.5555555555555556,
             "#d8576b"
            ],
            [
             0.6666666666666666,
             "#ed7953"
            ],
            [
             0.7777777777777778,
             "#fb9f3a"
            ],
            [
             0.8888888888888888,
             "#fdca26"
            ],
            [
             1,
             "#f0f921"
            ]
           ],
           "sequentialminus": [
            [
             0,
             "#0d0887"
            ],
            [
             0.1111111111111111,
             "#46039f"
            ],
            [
             0.2222222222222222,
             "#7201a8"
            ],
            [
             0.3333333333333333,
             "#9c179e"
            ],
            [
             0.4444444444444444,
             "#bd3786"
            ],
            [
             0.5555555555555556,
             "#d8576b"
            ],
            [
             0.6666666666666666,
             "#ed7953"
            ],
            [
             0.7777777777777778,
             "#fb9f3a"
            ],
            [
             0.8888888888888888,
             "#fdca26"
            ],
            [
             1,
             "#f0f921"
            ]
           ]
          },
          "colorway": [
           "#636efa",
           "#EF553B",
           "#00cc96",
           "#ab63fa",
           "#FFA15A",
           "#19d3f3",
           "#FF6692",
           "#B6E880",
           "#FF97FF",
           "#FECB52"
          ],
          "font": {
           "color": "#2a3f5f"
          },
          "geo": {
           "bgcolor": "white",
           "lakecolor": "white",
           "landcolor": "#E5ECF6",
           "showlakes": true,
           "showland": true,
           "subunitcolor": "white"
          },
          "hoverlabel": {
           "align": "left"
          },
          "hovermode": "closest",
          "mapbox": {
           "style": "light"
          },
          "paper_bgcolor": "white",
          "plot_bgcolor": "#E5ECF6",
          "polar": {
           "angularaxis": {
            "gridcolor": "white",
            "linecolor": "white",
            "ticks": ""
           },
           "bgcolor": "#E5ECF6",
           "radialaxis": {
            "gridcolor": "white",
            "linecolor": "white",
            "ticks": ""
           }
          },
          "scene": {
           "xaxis": {
            "backgroundcolor": "#E5ECF6",
            "gridcolor": "white",
            "gridwidth": 2,
            "linecolor": "white",
            "showbackground": true,
            "ticks": "",
            "zerolinecolor": "white"
           },
           "yaxis": {
            "backgroundcolor": "#E5ECF6",
            "gridcolor": "white",
            "gridwidth": 2,
            "linecolor": "white",
            "showbackground": true,
            "ticks": "",
            "zerolinecolor": "white"
           },
           "zaxis": {
            "backgroundcolor": "#E5ECF6",
            "gridcolor": "white",
            "gridwidth": 2,
            "linecolor": "white",
            "showbackground": true,
            "ticks": "",
            "zerolinecolor": "white"
           }
          },
          "shapedefaults": {
           "line": {
            "color": "#2a3f5f"
           }
          },
          "ternary": {
           "aaxis": {
            "gridcolor": "white",
            "linecolor": "white",
            "ticks": ""
           },
           "baxis": {
            "gridcolor": "white",
            "linecolor": "white",
            "ticks": ""
           },
           "bgcolor": "#E5ECF6",
           "caxis": {
            "gridcolor": "white",
            "linecolor": "white",
            "ticks": ""
           }
          },
          "title": {
           "x": 0.05
          },
          "xaxis": {
           "automargin": true,
           "gridcolor": "white",
           "linecolor": "white",
           "ticks": "",
           "title": {
            "standoff": 15
           },
           "zerolinecolor": "white",
           "zerolinewidth": 2
          },
          "yaxis": {
           "automargin": true,
           "gridcolor": "white",
           "linecolor": "white",
           "ticks": "",
           "title": {
            "standoff": 15
           },
           "zerolinecolor": "white",
           "zerolinewidth": 2
          }
         }
        }
       }
      },
      "text/html": [
       "<div>                            <div id=\"2fd4da39-7f02-42ae-b562-42f5fd937002\" class=\"plotly-graph-div\" style=\"height:525px; width:100%;\"></div>            <script type=\"text/javascript\">                require([\"plotly\"], function(Plotly) {                    window.PLOTLYENV=window.PLOTLYENV || {};                                    if (document.getElementById(\"2fd4da39-7f02-42ae-b562-42f5fd937002\")) {                    Plotly.newPlot(                        \"2fd4da39-7f02-42ae-b562-42f5fd937002\",                        [{\"mode\": \"lines\", \"type\": \"scatter\", \"x\": [10, 15, 20, 25, 30, 35, 40, 45, 50], \"y\": [1.7522447540297275, 2.390039141233145, 3.1122057844418807, 3.833362952659799, 4.414095007847053, 5.1659177341749976, 5.41811511751722, 5.979125404744886, 6.451693220789837]}],                        {\"template\": {\"data\": {\"bar\": [{\"error_x\": {\"color\": \"#2a3f5f\"}, \"error_y\": {\"color\": \"#2a3f5f\"}, \"marker\": {\"line\": {\"color\": \"#E5ECF6\", \"width\": 0.5}}, \"type\": \"bar\"}], \"barpolar\": [{\"marker\": {\"line\": {\"color\": \"#E5ECF6\", \"width\": 0.5}}, \"type\": \"barpolar\"}], \"carpet\": [{\"aaxis\": {\"endlinecolor\": \"#2a3f5f\", \"gridcolor\": \"white\", \"linecolor\": \"white\", \"minorgridcolor\": \"white\", \"startlinecolor\": \"#2a3f5f\"}, \"baxis\": {\"endlinecolor\": \"#2a3f5f\", \"gridcolor\": \"white\", \"linecolor\": \"white\", \"minorgridcolor\": \"white\", \"startlinecolor\": \"#2a3f5f\"}, \"type\": \"carpet\"}], \"choropleth\": [{\"colorbar\": {\"outlinewidth\": 0, \"ticks\": \"\"}, \"type\": \"choropleth\"}], \"contour\": [{\"colorbar\": {\"outlinewidth\": 0, \"ticks\": \"\"}, \"colorscale\": [[0.0, \"#0d0887\"], [0.1111111111111111, \"#46039f\"], [0.2222222222222222, \"#7201a8\"], [0.3333333333333333, \"#9c179e\"], [0.4444444444444444, \"#bd3786\"], [0.5555555555555556, \"#d8576b\"], [0.6666666666666666, \"#ed7953\"], [0.7777777777777778, \"#fb9f3a\"], [0.8888888888888888, \"#fdca26\"], [1.0, \"#f0f921\"]], \"type\": \"contour\"}], \"contourcarpet\": [{\"colorbar\": {\"outlinewidth\": 0, \"ticks\": \"\"}, \"type\": \"contourcarpet\"}], \"heatmap\": [{\"colorbar\": {\"outlinewidth\": 0, \"ticks\": \"\"}, \"colorscale\": [[0.0, \"#0d0887\"], [0.1111111111111111, \"#46039f\"], [0.2222222222222222, \"#7201a8\"], [0.3333333333333333, \"#9c179e\"], [0.4444444444444444, \"#bd3786\"], [0.5555555555555556, \"#d8576b\"], [0.6666666666666666, \"#ed7953\"], [0.7777777777777778, \"#fb9f3a\"], [0.8888888888888888, \"#fdca26\"], [1.0, \"#f0f921\"]], \"type\": \"heatmap\"}], \"heatmapgl\": [{\"colorbar\": {\"outlinewidth\": 0, \"ticks\": \"\"}, \"colorscale\": [[0.0, \"#0d0887\"], [0.1111111111111111, \"#46039f\"], [0.2222222222222222, \"#7201a8\"], [0.3333333333333333, \"#9c179e\"], [0.4444444444444444, \"#bd3786\"], [0.5555555555555556, \"#d8576b\"], [0.6666666666666666, \"#ed7953\"], [0.7777777777777778, \"#fb9f3a\"], [0.8888888888888888, \"#fdca26\"], [1.0, \"#f0f921\"]], \"type\": \"heatmapgl\"}], \"histogram\": [{\"marker\": {\"colorbar\": {\"outlinewidth\": 0, \"ticks\": \"\"}}, \"type\": \"histogram\"}], \"histogram2d\": [{\"colorbar\": {\"outlinewidth\": 0, \"ticks\": \"\"}, \"colorscale\": [[0.0, \"#0d0887\"], [0.1111111111111111, \"#46039f\"], [0.2222222222222222, \"#7201a8\"], [0.3333333333333333, \"#9c179e\"], [0.4444444444444444, \"#bd3786\"], [0.5555555555555556, \"#d8576b\"], [0.6666666666666666, \"#ed7953\"], [0.7777777777777778, \"#fb9f3a\"], [0.8888888888888888, \"#fdca26\"], [1.0, \"#f0f921\"]], \"type\": \"histogram2d\"}], \"histogram2dcontour\": [{\"colorbar\": {\"outlinewidth\": 0, \"ticks\": \"\"}, \"colorscale\": [[0.0, \"#0d0887\"], [0.1111111111111111, \"#46039f\"], [0.2222222222222222, \"#7201a8\"], [0.3333333333333333, \"#9c179e\"], [0.4444444444444444, \"#bd3786\"], [0.5555555555555556, \"#d8576b\"], [0.6666666666666666, \"#ed7953\"], [0.7777777777777778, \"#fb9f3a\"], [0.8888888888888888, \"#fdca26\"], [1.0, \"#f0f921\"]], \"type\": \"histogram2dcontour\"}], \"mesh3d\": [{\"colorbar\": {\"outlinewidth\": 0, \"ticks\": \"\"}, \"type\": \"mesh3d\"}], \"parcoords\": [{\"line\": {\"colorbar\": {\"outlinewidth\": 0, \"ticks\": \"\"}}, \"type\": \"parcoords\"}], \"pie\": [{\"automargin\": true, \"type\": \"pie\"}], \"scatter\": [{\"marker\": {\"colorbar\": {\"outlinewidth\": 0, \"ticks\": \"\"}}, \"type\": \"scatter\"}], \"scatter3d\": [{\"line\": {\"colorbar\": {\"outlinewidth\": 0, \"ticks\": \"\"}}, \"marker\": {\"colorbar\": {\"outlinewidth\": 0, \"ticks\": \"\"}}, \"type\": \"scatter3d\"}], \"scattercarpet\": [{\"marker\": {\"colorbar\": {\"outlinewidth\": 0, \"ticks\": \"\"}}, \"type\": \"scattercarpet\"}], \"scattergeo\": [{\"marker\": {\"colorbar\": {\"outlinewidth\": 0, \"ticks\": \"\"}}, \"type\": \"scattergeo\"}], \"scattergl\": [{\"marker\": {\"colorbar\": {\"outlinewidth\": 0, \"ticks\": \"\"}}, \"type\": \"scattergl\"}], \"scattermapbox\": [{\"marker\": {\"colorbar\": {\"outlinewidth\": 0, \"ticks\": \"\"}}, \"type\": \"scattermapbox\"}], \"scatterpolar\": [{\"marker\": {\"colorbar\": {\"outlinewidth\": 0, \"ticks\": \"\"}}, \"type\": \"scatterpolar\"}], \"scatterpolargl\": [{\"marker\": {\"colorbar\": {\"outlinewidth\": 0, \"ticks\": \"\"}}, \"type\": \"scatterpolargl\"}], \"scatterternary\": [{\"marker\": {\"colorbar\": {\"outlinewidth\": 0, \"ticks\": \"\"}}, \"type\": \"scatterternary\"}], \"surface\": [{\"colorbar\": {\"outlinewidth\": 0, \"ticks\": \"\"}, \"colorscale\": [[0.0, \"#0d0887\"], [0.1111111111111111, \"#46039f\"], [0.2222222222222222, \"#7201a8\"], [0.3333333333333333, \"#9c179e\"], [0.4444444444444444, \"#bd3786\"], [0.5555555555555556, \"#d8576b\"], [0.6666666666666666, \"#ed7953\"], [0.7777777777777778, \"#fb9f3a\"], [0.8888888888888888, \"#fdca26\"], [1.0, \"#f0f921\"]], \"type\": \"surface\"}], \"table\": [{\"cells\": {\"fill\": {\"color\": \"#EBF0F8\"}, \"line\": {\"color\": \"white\"}}, \"header\": {\"fill\": {\"color\": \"#C8D4E3\"}, \"line\": {\"color\": \"white\"}}, \"type\": \"table\"}]}, \"layout\": {\"annotationdefaults\": {\"arrowcolor\": \"#2a3f5f\", \"arrowhead\": 0, \"arrowwidth\": 1}, \"autotypenumbers\": \"strict\", \"coloraxis\": {\"colorbar\": {\"outlinewidth\": 0, \"ticks\": \"\"}}, \"colorscale\": {\"diverging\": [[0, \"#8e0152\"], [0.1, \"#c51b7d\"], [0.2, \"#de77ae\"], [0.3, \"#f1b6da\"], [0.4, \"#fde0ef\"], [0.5, \"#f7f7f7\"], [0.6, \"#e6f5d0\"], [0.7, \"#b8e186\"], [0.8, \"#7fbc41\"], [0.9, \"#4d9221\"], [1, \"#276419\"]], \"sequential\": [[0.0, \"#0d0887\"], [0.1111111111111111, \"#46039f\"], [0.2222222222222222, \"#7201a8\"], [0.3333333333333333, \"#9c179e\"], [0.4444444444444444, \"#bd3786\"], [0.5555555555555556, \"#d8576b\"], [0.6666666666666666, \"#ed7953\"], [0.7777777777777778, \"#fb9f3a\"], [0.8888888888888888, \"#fdca26\"], [1.0, \"#f0f921\"]], \"sequentialminus\": [[0.0, \"#0d0887\"], [0.1111111111111111, \"#46039f\"], [0.2222222222222222, \"#7201a8\"], [0.3333333333333333, \"#9c179e\"], [0.4444444444444444, \"#bd3786\"], [0.5555555555555556, \"#d8576b\"], [0.6666666666666666, \"#ed7953\"], [0.7777777777777778, \"#fb9f3a\"], [0.8888888888888888, \"#fdca26\"], [1.0, \"#f0f921\"]]}, \"colorway\": [\"#636efa\", \"#EF553B\", \"#00cc96\", \"#ab63fa\", \"#FFA15A\", \"#19d3f3\", \"#FF6692\", \"#B6E880\", \"#FF97FF\", \"#FECB52\"], \"font\": {\"color\": \"#2a3f5f\"}, \"geo\": {\"bgcolor\": \"white\", \"lakecolor\": \"white\", \"landcolor\": \"#E5ECF6\", \"showlakes\": true, \"showland\": true, \"subunitcolor\": \"white\"}, \"hoverlabel\": {\"align\": \"left\"}, \"hovermode\": \"closest\", \"mapbox\": {\"style\": \"light\"}, \"paper_bgcolor\": \"white\", \"plot_bgcolor\": \"#E5ECF6\", \"polar\": {\"angularaxis\": {\"gridcolor\": \"white\", \"linecolor\": \"white\", \"ticks\": \"\"}, \"bgcolor\": \"#E5ECF6\", \"radialaxis\": {\"gridcolor\": \"white\", \"linecolor\": \"white\", \"ticks\": \"\"}}, \"scene\": {\"xaxis\": {\"backgroundcolor\": \"#E5ECF6\", \"gridcolor\": \"white\", \"gridwidth\": 2, \"linecolor\": \"white\", \"showbackground\": true, \"ticks\": \"\", \"zerolinecolor\": \"white\"}, \"yaxis\": {\"backgroundcolor\": \"#E5ECF6\", \"gridcolor\": \"white\", \"gridwidth\": 2, \"linecolor\": \"white\", \"showbackground\": true, \"ticks\": \"\", \"zerolinecolor\": \"white\"}, \"zaxis\": {\"backgroundcolor\": \"#E5ECF6\", \"gridcolor\": \"white\", \"gridwidth\": 2, \"linecolor\": \"white\", \"showbackground\": true, \"ticks\": \"\", \"zerolinecolor\": \"white\"}}, \"shapedefaults\": {\"line\": {\"color\": \"#2a3f5f\"}}, \"ternary\": {\"aaxis\": {\"gridcolor\": \"white\", \"linecolor\": \"white\", \"ticks\": \"\"}, \"baxis\": {\"gridcolor\": \"white\", \"linecolor\": \"white\", \"ticks\": \"\"}, \"bgcolor\": \"#E5ECF6\", \"caxis\": {\"gridcolor\": \"white\", \"linecolor\": \"white\", \"ticks\": \"\"}}, \"title\": {\"x\": 0.05}, \"xaxis\": {\"automargin\": true, \"gridcolor\": \"white\", \"linecolor\": \"white\", \"ticks\": \"\", \"title\": {\"standoff\": 15}, \"zerolinecolor\": \"white\", \"zerolinewidth\": 2}, \"yaxis\": {\"automargin\": true, \"gridcolor\": \"white\", \"linecolor\": \"white\", \"ticks\": \"\", \"title\": {\"standoff\": 15}, \"zerolinecolor\": \"white\", \"zerolinewidth\": 2}}}},                        {\"responsive\": true}                    ).then(function(){\n",
       "                            \n",
       "var gd = document.getElementById('2fd4da39-7f02-42ae-b562-42f5fd937002');\n",
       "var x = new MutationObserver(function (mutations, observer) {{\n",
       "        var display = window.getComputedStyle(gd).display;\n",
       "        if (!display || display === 'none') {{\n",
       "            console.log([gd, 'removed!']);\n",
       "            Plotly.purge(gd);\n",
       "            observer.disconnect();\n",
       "        }}\n",
       "}});\n",
       "\n",
       "// Listen for the removal of the full notebook cells\n",
       "var notebookContainer = gd.closest('#notebook-container');\n",
       "if (notebookContainer) {{\n",
       "    x.observe(notebookContainer, {childList: true});\n",
       "}}\n",
       "\n",
       "// Listen for the clearing of the current output cell\n",
       "var outputEl = gd.closest('.output');\n",
       "if (outputEl) {{\n",
       "    x.observe(outputEl, {childList: true});\n",
       "}}\n",
       "\n",
       "                        })                };                });            </script>        </div>"
      ]
     },
     "metadata": {},
     "output_type": "display_data"
    }
   ],
   "source": [
    "r = [10, 15, 20, 25, 30, 35, 40, 45, 50]\n",
    "\n",
    "trace0 = go.Scatter(\n",
    "    x = r,\n",
    "    y = errorsH1,\n",
    "    mode = 'lines',\n",
    ")\n",
    "\n",
    "\n",
    "data = [trace0]\n",
    "\n",
    "iplot(data)"
   ]
  },
  {
   "cell_type": "markdown",
   "id": "7479d2e8",
   "metadata": {},
   "source": [
    "# 2. ИТЕРАТИВЕН ПРИСТАП \n",
    "---------------------------------------------------------------------------------------------------\n",
    "Искористени две евристики: \n",
    "1) H1 = најблиските anchor јазли <br>\n",
    "2) H2 = најрелевантните anchor јазли\n",
    "\n",
    "\n",
    "### Анализа на грешката на локализација во однос на фракцијата на anchor јазли (plot 1)"
   ]
  },
  {
   "cell_type": "code",
   "execution_count": 24,
   "id": "f7a5ffd3",
   "metadata": {},
   "outputs": [
    {
     "name": "stdout",
     "output_type": "stream",
     "text": [
      "[2.079237965302909, 1.9905402895522664, 1.9844859694021417, 1.8100276599556389, 1.6299877955349933]\n"
     ]
    }
   ],
   "source": [
    "N = 100\n",
    "L = 100\n",
    "R = 30\n",
    "r = 10\n",
    "# f = {10,20,30,40,50}\n",
    "heuristic = 1\n",
    "errorsH1 = []\n",
    "\n",
    "nodes = None\n",
    "for f in range(10, 51, 10):\n",
    "    error = 0\n",
    "    for i in range(0, 15):\n",
    "        nodes = generateNodes(N, L, R, r, f)\n",
    "        nodes = findNeighbours(nodes, R)\n",
    "        nodes = estimateLocations(nodes, heuristic)\n",
    "        error = error + calculateError(nodes, N, f)\n",
    "    errorsH1.append(error/15)\n",
    "\n",
    "print(errorsH1)"
   ]
  },
  {
   "cell_type": "code",
   "execution_count": 25,
   "id": "1e115408",
   "metadata": {},
   "outputs": [
    {
     "name": "stdout",
     "output_type": "stream",
     "text": [
      "[3.8401098659268276, 3.939407480038805, 3.9100653839992487, 3.578369398748578, 3.703613024667169]\n"
     ]
    }
   ],
   "source": [
    "heuristic = 2\n",
    "errorsH2 = []\n",
    "\n",
    "nodes = None\n",
    "for f in range(10, 51, 10):\n",
    "    error = 0\n",
    "    for i in range(0, 15):\n",
    "        nodes = generateNodes(N, L, R, r, f)\n",
    "        nodes = findNeighbours(nodes, R)\n",
    "        nodes = estimateLocations(nodes, heuristic)\n",
    "        error = error + calculateError(nodes, N, f)\n",
    "    errorsH2.append(error/15)\n",
    "\n",
    "print(errorsH2)"
   ]
  },
  {
   "cell_type": "code",
   "execution_count": 26,
   "id": "f86c3d3a",
   "metadata": {},
   "outputs": [
    {
     "data": {
      "application/vnd.plotly.v1+json": {
       "config": {
        "linkText": "Export to plot.ly",
        "plotlyServerURL": "https://plot.ly",
        "showLink": false
       },
       "data": [
        {
         "mode": "lines",
         "name": "Heuristic1",
         "type": "scatter",
         "x": [
          10,
          20,
          30,
          40,
          50
         ],
         "y": [
          2.079237965302909,
          1.9905402895522664,
          1.9844859694021417,
          1.8100276599556389,
          1.6299877955349933
         ]
        },
        {
         "mode": "lines",
         "name": "Heuristic2",
         "type": "scatter",
         "x": [
          10,
          20,
          30,
          40,
          50
         ],
         "y": [
          3.8401098659268276,
          3.939407480038805,
          3.9100653839992487,
          3.578369398748578,
          3.703613024667169
         ]
        }
       ],
       "layout": {
        "template": {
         "data": {
          "bar": [
           {
            "error_x": {
             "color": "#2a3f5f"
            },
            "error_y": {
             "color": "#2a3f5f"
            },
            "marker": {
             "line": {
              "color": "#E5ECF6",
              "width": 0.5
             }
            },
            "type": "bar"
           }
          ],
          "barpolar": [
           {
            "marker": {
             "line": {
              "color": "#E5ECF6",
              "width": 0.5
             }
            },
            "type": "barpolar"
           }
          ],
          "carpet": [
           {
            "aaxis": {
             "endlinecolor": "#2a3f5f",
             "gridcolor": "white",
             "linecolor": "white",
             "minorgridcolor": "white",
             "startlinecolor": "#2a3f5f"
            },
            "baxis": {
             "endlinecolor": "#2a3f5f",
             "gridcolor": "white",
             "linecolor": "white",
             "minorgridcolor": "white",
             "startlinecolor": "#2a3f5f"
            },
            "type": "carpet"
           }
          ],
          "choropleth": [
           {
            "colorbar": {
             "outlinewidth": 0,
             "ticks": ""
            },
            "type": "choropleth"
           }
          ],
          "contour": [
           {
            "colorbar": {
             "outlinewidth": 0,
             "ticks": ""
            },
            "colorscale": [
             [
              0,
              "#0d0887"
             ],
             [
              0.1111111111111111,
              "#46039f"
             ],
             [
              0.2222222222222222,
              "#7201a8"
             ],
             [
              0.3333333333333333,
              "#9c179e"
             ],
             [
              0.4444444444444444,
              "#bd3786"
             ],
             [
              0.5555555555555556,
              "#d8576b"
             ],
             [
              0.6666666666666666,
              "#ed7953"
             ],
             [
              0.7777777777777778,
              "#fb9f3a"
             ],
             [
              0.8888888888888888,
              "#fdca26"
             ],
             [
              1,
              "#f0f921"
             ]
            ],
            "type": "contour"
           }
          ],
          "contourcarpet": [
           {
            "colorbar": {
             "outlinewidth": 0,
             "ticks": ""
            },
            "type": "contourcarpet"
           }
          ],
          "heatmap": [
           {
            "colorbar": {
             "outlinewidth": 0,
             "ticks": ""
            },
            "colorscale": [
             [
              0,
              "#0d0887"
             ],
             [
              0.1111111111111111,
              "#46039f"
             ],
             [
              0.2222222222222222,
              "#7201a8"
             ],
             [
              0.3333333333333333,
              "#9c179e"
             ],
             [
              0.4444444444444444,
              "#bd3786"
             ],
             [
              0.5555555555555556,
              "#d8576b"
             ],
             [
              0.6666666666666666,
              "#ed7953"
             ],
             [
              0.7777777777777778,
              "#fb9f3a"
             ],
             [
              0.8888888888888888,
              "#fdca26"
             ],
             [
              1,
              "#f0f921"
             ]
            ],
            "type": "heatmap"
           }
          ],
          "heatmapgl": [
           {
            "colorbar": {
             "outlinewidth": 0,
             "ticks": ""
            },
            "colorscale": [
             [
              0,
              "#0d0887"
             ],
             [
              0.1111111111111111,
              "#46039f"
             ],
             [
              0.2222222222222222,
              "#7201a8"
             ],
             [
              0.3333333333333333,
              "#9c179e"
             ],
             [
              0.4444444444444444,
              "#bd3786"
             ],
             [
              0.5555555555555556,
              "#d8576b"
             ],
             [
              0.6666666666666666,
              "#ed7953"
             ],
             [
              0.7777777777777778,
              "#fb9f3a"
             ],
             [
              0.8888888888888888,
              "#fdca26"
             ],
             [
              1,
              "#f0f921"
             ]
            ],
            "type": "heatmapgl"
           }
          ],
          "histogram": [
           {
            "marker": {
             "colorbar": {
              "outlinewidth": 0,
              "ticks": ""
             }
            },
            "type": "histogram"
           }
          ],
          "histogram2d": [
           {
            "colorbar": {
             "outlinewidth": 0,
             "ticks": ""
            },
            "colorscale": [
             [
              0,
              "#0d0887"
             ],
             [
              0.1111111111111111,
              "#46039f"
             ],
             [
              0.2222222222222222,
              "#7201a8"
             ],
             [
              0.3333333333333333,
              "#9c179e"
             ],
             [
              0.4444444444444444,
              "#bd3786"
             ],
             [
              0.5555555555555556,
              "#d8576b"
             ],
             [
              0.6666666666666666,
              "#ed7953"
             ],
             [
              0.7777777777777778,
              "#fb9f3a"
             ],
             [
              0.8888888888888888,
              "#fdca26"
             ],
             [
              1,
              "#f0f921"
             ]
            ],
            "type": "histogram2d"
           }
          ],
          "histogram2dcontour": [
           {
            "colorbar": {
             "outlinewidth": 0,
             "ticks": ""
            },
            "colorscale": [
             [
              0,
              "#0d0887"
             ],
             [
              0.1111111111111111,
              "#46039f"
             ],
             [
              0.2222222222222222,
              "#7201a8"
             ],
             [
              0.3333333333333333,
              "#9c179e"
             ],
             [
              0.4444444444444444,
              "#bd3786"
             ],
             [
              0.5555555555555556,
              "#d8576b"
             ],
             [
              0.6666666666666666,
              "#ed7953"
             ],
             [
              0.7777777777777778,
              "#fb9f3a"
             ],
             [
              0.8888888888888888,
              "#fdca26"
             ],
             [
              1,
              "#f0f921"
             ]
            ],
            "type": "histogram2dcontour"
           }
          ],
          "mesh3d": [
           {
            "colorbar": {
             "outlinewidth": 0,
             "ticks": ""
            },
            "type": "mesh3d"
           }
          ],
          "parcoords": [
           {
            "line": {
             "colorbar": {
              "outlinewidth": 0,
              "ticks": ""
             }
            },
            "type": "parcoords"
           }
          ],
          "pie": [
           {
            "automargin": true,
            "type": "pie"
           }
          ],
          "scatter": [
           {
            "marker": {
             "colorbar": {
              "outlinewidth": 0,
              "ticks": ""
             }
            },
            "type": "scatter"
           }
          ],
          "scatter3d": [
           {
            "line": {
             "colorbar": {
              "outlinewidth": 0,
              "ticks": ""
             }
            },
            "marker": {
             "colorbar": {
              "outlinewidth": 0,
              "ticks": ""
             }
            },
            "type": "scatter3d"
           }
          ],
          "scattercarpet": [
           {
            "marker": {
             "colorbar": {
              "outlinewidth": 0,
              "ticks": ""
             }
            },
            "type": "scattercarpet"
           }
          ],
          "scattergeo": [
           {
            "marker": {
             "colorbar": {
              "outlinewidth": 0,
              "ticks": ""
             }
            },
            "type": "scattergeo"
           }
          ],
          "scattergl": [
           {
            "marker": {
             "colorbar": {
              "outlinewidth": 0,
              "ticks": ""
             }
            },
            "type": "scattergl"
           }
          ],
          "scattermapbox": [
           {
            "marker": {
             "colorbar": {
              "outlinewidth": 0,
              "ticks": ""
             }
            },
            "type": "scattermapbox"
           }
          ],
          "scatterpolar": [
           {
            "marker": {
             "colorbar": {
              "outlinewidth": 0,
              "ticks": ""
             }
            },
            "type": "scatterpolar"
           }
          ],
          "scatterpolargl": [
           {
            "marker": {
             "colorbar": {
              "outlinewidth": 0,
              "ticks": ""
             }
            },
            "type": "scatterpolargl"
           }
          ],
          "scatterternary": [
           {
            "marker": {
             "colorbar": {
              "outlinewidth": 0,
              "ticks": ""
             }
            },
            "type": "scatterternary"
           }
          ],
          "surface": [
           {
            "colorbar": {
             "outlinewidth": 0,
             "ticks": ""
            },
            "colorscale": [
             [
              0,
              "#0d0887"
             ],
             [
              0.1111111111111111,
              "#46039f"
             ],
             [
              0.2222222222222222,
              "#7201a8"
             ],
             [
              0.3333333333333333,
              "#9c179e"
             ],
             [
              0.4444444444444444,
              "#bd3786"
             ],
             [
              0.5555555555555556,
              "#d8576b"
             ],
             [
              0.6666666666666666,
              "#ed7953"
             ],
             [
              0.7777777777777778,
              "#fb9f3a"
             ],
             [
              0.8888888888888888,
              "#fdca26"
             ],
             [
              1,
              "#f0f921"
             ]
            ],
            "type": "surface"
           }
          ],
          "table": [
           {
            "cells": {
             "fill": {
              "color": "#EBF0F8"
             },
             "line": {
              "color": "white"
             }
            },
            "header": {
             "fill": {
              "color": "#C8D4E3"
             },
             "line": {
              "color": "white"
             }
            },
            "type": "table"
           }
          ]
         },
         "layout": {
          "annotationdefaults": {
           "arrowcolor": "#2a3f5f",
           "arrowhead": 0,
           "arrowwidth": 1
          },
          "autotypenumbers": "strict",
          "coloraxis": {
           "colorbar": {
            "outlinewidth": 0,
            "ticks": ""
           }
          },
          "colorscale": {
           "diverging": [
            [
             0,
             "#8e0152"
            ],
            [
             0.1,
             "#c51b7d"
            ],
            [
             0.2,
             "#de77ae"
            ],
            [
             0.3,
             "#f1b6da"
            ],
            [
             0.4,
             "#fde0ef"
            ],
            [
             0.5,
             "#f7f7f7"
            ],
            [
             0.6,
             "#e6f5d0"
            ],
            [
             0.7,
             "#b8e186"
            ],
            [
             0.8,
             "#7fbc41"
            ],
            [
             0.9,
             "#4d9221"
            ],
            [
             1,
             "#276419"
            ]
           ],
           "sequential": [
            [
             0,
             "#0d0887"
            ],
            [
             0.1111111111111111,
             "#46039f"
            ],
            [
             0.2222222222222222,
             "#7201a8"
            ],
            [
             0.3333333333333333,
             "#9c179e"
            ],
            [
             0.4444444444444444,
             "#bd3786"
            ],
            [
             0.5555555555555556,
             "#d8576b"
            ],
            [
             0.6666666666666666,
             "#ed7953"
            ],
            [
             0.7777777777777778,
             "#fb9f3a"
            ],
            [
             0.8888888888888888,
             "#fdca26"
            ],
            [
             1,
             "#f0f921"
            ]
           ],
           "sequentialminus": [
            [
             0,
             "#0d0887"
            ],
            [
             0.1111111111111111,
             "#46039f"
            ],
            [
             0.2222222222222222,
             "#7201a8"
            ],
            [
             0.3333333333333333,
             "#9c179e"
            ],
            [
             0.4444444444444444,
             "#bd3786"
            ],
            [
             0.5555555555555556,
             "#d8576b"
            ],
            [
             0.6666666666666666,
             "#ed7953"
            ],
            [
             0.7777777777777778,
             "#fb9f3a"
            ],
            [
             0.8888888888888888,
             "#fdca26"
            ],
            [
             1,
             "#f0f921"
            ]
           ]
          },
          "colorway": [
           "#636efa",
           "#EF553B",
           "#00cc96",
           "#ab63fa",
           "#FFA15A",
           "#19d3f3",
           "#FF6692",
           "#B6E880",
           "#FF97FF",
           "#FECB52"
          ],
          "font": {
           "color": "#2a3f5f"
          },
          "geo": {
           "bgcolor": "white",
           "lakecolor": "white",
           "landcolor": "#E5ECF6",
           "showlakes": true,
           "showland": true,
           "subunitcolor": "white"
          },
          "hoverlabel": {
           "align": "left"
          },
          "hovermode": "closest",
          "mapbox": {
           "style": "light"
          },
          "paper_bgcolor": "white",
          "plot_bgcolor": "#E5ECF6",
          "polar": {
           "angularaxis": {
            "gridcolor": "white",
            "linecolor": "white",
            "ticks": ""
           },
           "bgcolor": "#E5ECF6",
           "radialaxis": {
            "gridcolor": "white",
            "linecolor": "white",
            "ticks": ""
           }
          },
          "scene": {
           "xaxis": {
            "backgroundcolor": "#E5ECF6",
            "gridcolor": "white",
            "gridwidth": 2,
            "linecolor": "white",
            "showbackground": true,
            "ticks": "",
            "zerolinecolor": "white"
           },
           "yaxis": {
            "backgroundcolor": "#E5ECF6",
            "gridcolor": "white",
            "gridwidth": 2,
            "linecolor": "white",
            "showbackground": true,
            "ticks": "",
            "zerolinecolor": "white"
           },
           "zaxis": {
            "backgroundcolor": "#E5ECF6",
            "gridcolor": "white",
            "gridwidth": 2,
            "linecolor": "white",
            "showbackground": true,
            "ticks": "",
            "zerolinecolor": "white"
           }
          },
          "shapedefaults": {
           "line": {
            "color": "#2a3f5f"
           }
          },
          "ternary": {
           "aaxis": {
            "gridcolor": "white",
            "linecolor": "white",
            "ticks": ""
           },
           "baxis": {
            "gridcolor": "white",
            "linecolor": "white",
            "ticks": ""
           },
           "bgcolor": "#E5ECF6",
           "caxis": {
            "gridcolor": "white",
            "linecolor": "white",
            "ticks": ""
           }
          },
          "title": {
           "x": 0.05
          },
          "xaxis": {
           "automargin": true,
           "gridcolor": "white",
           "linecolor": "white",
           "ticks": "",
           "title": {
            "standoff": 15
           },
           "zerolinecolor": "white",
           "zerolinewidth": 2
          },
          "yaxis": {
           "automargin": true,
           "gridcolor": "white",
           "linecolor": "white",
           "ticks": "",
           "title": {
            "standoff": 15
           },
           "zerolinecolor": "white",
           "zerolinewidth": 2
          }
         }
        }
       }
      },
      "text/html": [
       "<div>                            <div id=\"3b6bb553-1049-4d42-ad0d-550763fd327e\" class=\"plotly-graph-div\" style=\"height:525px; width:100%;\"></div>            <script type=\"text/javascript\">                require([\"plotly\"], function(Plotly) {                    window.PLOTLYENV=window.PLOTLYENV || {};                                    if (document.getElementById(\"3b6bb553-1049-4d42-ad0d-550763fd327e\")) {                    Plotly.newPlot(                        \"3b6bb553-1049-4d42-ad0d-550763fd327e\",                        [{\"mode\": \"lines\", \"name\": \"Heuristic1\", \"type\": \"scatter\", \"x\": [10, 20, 30, 40, 50], \"y\": [2.079237965302909, 1.9905402895522664, 1.9844859694021417, 1.8100276599556389, 1.6299877955349933]}, {\"mode\": \"lines\", \"name\": \"Heuristic2\", \"type\": \"scatter\", \"x\": [10, 20, 30, 40, 50], \"y\": [3.8401098659268276, 3.939407480038805, 3.9100653839992487, 3.578369398748578, 3.703613024667169]}],                        {\"template\": {\"data\": {\"bar\": [{\"error_x\": {\"color\": \"#2a3f5f\"}, \"error_y\": {\"color\": \"#2a3f5f\"}, \"marker\": {\"line\": {\"color\": \"#E5ECF6\", \"width\": 0.5}}, \"type\": \"bar\"}], \"barpolar\": [{\"marker\": {\"line\": {\"color\": \"#E5ECF6\", \"width\": 0.5}}, \"type\": \"barpolar\"}], \"carpet\": [{\"aaxis\": {\"endlinecolor\": \"#2a3f5f\", \"gridcolor\": \"white\", \"linecolor\": \"white\", \"minorgridcolor\": \"white\", \"startlinecolor\": \"#2a3f5f\"}, \"baxis\": {\"endlinecolor\": \"#2a3f5f\", \"gridcolor\": \"white\", \"linecolor\": \"white\", \"minorgridcolor\": \"white\", \"startlinecolor\": \"#2a3f5f\"}, \"type\": \"carpet\"}], \"choropleth\": [{\"colorbar\": {\"outlinewidth\": 0, \"ticks\": \"\"}, \"type\": \"choropleth\"}], \"contour\": [{\"colorbar\": {\"outlinewidth\": 0, \"ticks\": \"\"}, \"colorscale\": [[0.0, \"#0d0887\"], [0.1111111111111111, \"#46039f\"], [0.2222222222222222, \"#7201a8\"], [0.3333333333333333, \"#9c179e\"], [0.4444444444444444, \"#bd3786\"], [0.5555555555555556, \"#d8576b\"], [0.6666666666666666, \"#ed7953\"], [0.7777777777777778, \"#fb9f3a\"], [0.8888888888888888, \"#fdca26\"], [1.0, \"#f0f921\"]], \"type\": \"contour\"}], \"contourcarpet\": [{\"colorbar\": {\"outlinewidth\": 0, \"ticks\": \"\"}, \"type\": \"contourcarpet\"}], \"heatmap\": [{\"colorbar\": {\"outlinewidth\": 0, \"ticks\": \"\"}, \"colorscale\": [[0.0, \"#0d0887\"], [0.1111111111111111, \"#46039f\"], [0.2222222222222222, \"#7201a8\"], [0.3333333333333333, \"#9c179e\"], [0.4444444444444444, \"#bd3786\"], [0.5555555555555556, \"#d8576b\"], [0.6666666666666666, \"#ed7953\"], [0.7777777777777778, \"#fb9f3a\"], [0.8888888888888888, \"#fdca26\"], [1.0, \"#f0f921\"]], \"type\": \"heatmap\"}], \"heatmapgl\": [{\"colorbar\": {\"outlinewidth\": 0, \"ticks\": \"\"}, \"colorscale\": [[0.0, \"#0d0887\"], [0.1111111111111111, \"#46039f\"], [0.2222222222222222, \"#7201a8\"], [0.3333333333333333, \"#9c179e\"], [0.4444444444444444, \"#bd3786\"], [0.5555555555555556, \"#d8576b\"], [0.6666666666666666, \"#ed7953\"], [0.7777777777777778, \"#fb9f3a\"], [0.8888888888888888, \"#fdca26\"], [1.0, \"#f0f921\"]], \"type\": \"heatmapgl\"}], \"histogram\": [{\"marker\": {\"colorbar\": {\"outlinewidth\": 0, \"ticks\": \"\"}}, \"type\": \"histogram\"}], \"histogram2d\": [{\"colorbar\": {\"outlinewidth\": 0, \"ticks\": \"\"}, \"colorscale\": [[0.0, \"#0d0887\"], [0.1111111111111111, \"#46039f\"], [0.2222222222222222, \"#7201a8\"], [0.3333333333333333, \"#9c179e\"], [0.4444444444444444, \"#bd3786\"], [0.5555555555555556, \"#d8576b\"], [0.6666666666666666, \"#ed7953\"], [0.7777777777777778, \"#fb9f3a\"], [0.8888888888888888, \"#fdca26\"], [1.0, \"#f0f921\"]], \"type\": \"histogram2d\"}], \"histogram2dcontour\": [{\"colorbar\": {\"outlinewidth\": 0, \"ticks\": \"\"}, \"colorscale\": [[0.0, \"#0d0887\"], [0.1111111111111111, \"#46039f\"], [0.2222222222222222, \"#7201a8\"], [0.3333333333333333, \"#9c179e\"], [0.4444444444444444, \"#bd3786\"], [0.5555555555555556, \"#d8576b\"], [0.6666666666666666, \"#ed7953\"], [0.7777777777777778, \"#fb9f3a\"], [0.8888888888888888, \"#fdca26\"], [1.0, \"#f0f921\"]], \"type\": \"histogram2dcontour\"}], \"mesh3d\": [{\"colorbar\": {\"outlinewidth\": 0, \"ticks\": \"\"}, \"type\": \"mesh3d\"}], \"parcoords\": [{\"line\": {\"colorbar\": {\"outlinewidth\": 0, \"ticks\": \"\"}}, \"type\": \"parcoords\"}], \"pie\": [{\"automargin\": true, \"type\": \"pie\"}], \"scatter\": [{\"marker\": {\"colorbar\": {\"outlinewidth\": 0, \"ticks\": \"\"}}, \"type\": \"scatter\"}], \"scatter3d\": [{\"line\": {\"colorbar\": {\"outlinewidth\": 0, \"ticks\": \"\"}}, \"marker\": {\"colorbar\": {\"outlinewidth\": 0, \"ticks\": \"\"}}, \"type\": \"scatter3d\"}], \"scattercarpet\": [{\"marker\": {\"colorbar\": {\"outlinewidth\": 0, \"ticks\": \"\"}}, \"type\": \"scattercarpet\"}], \"scattergeo\": [{\"marker\": {\"colorbar\": {\"outlinewidth\": 0, \"ticks\": \"\"}}, \"type\": \"scattergeo\"}], \"scattergl\": [{\"marker\": {\"colorbar\": {\"outlinewidth\": 0, \"ticks\": \"\"}}, \"type\": \"scattergl\"}], \"scattermapbox\": [{\"marker\": {\"colorbar\": {\"outlinewidth\": 0, \"ticks\": \"\"}}, \"type\": \"scattermapbox\"}], \"scatterpolar\": [{\"marker\": {\"colorbar\": {\"outlinewidth\": 0, \"ticks\": \"\"}}, \"type\": \"scatterpolar\"}], \"scatterpolargl\": [{\"marker\": {\"colorbar\": {\"outlinewidth\": 0, \"ticks\": \"\"}}, \"type\": \"scatterpolargl\"}], \"scatterternary\": [{\"marker\": {\"colorbar\": {\"outlinewidth\": 0, \"ticks\": \"\"}}, \"type\": \"scatterternary\"}], \"surface\": [{\"colorbar\": {\"outlinewidth\": 0, \"ticks\": \"\"}, \"colorscale\": [[0.0, \"#0d0887\"], [0.1111111111111111, \"#46039f\"], [0.2222222222222222, \"#7201a8\"], [0.3333333333333333, \"#9c179e\"], [0.4444444444444444, \"#bd3786\"], [0.5555555555555556, \"#d8576b\"], [0.6666666666666666, \"#ed7953\"], [0.7777777777777778, \"#fb9f3a\"], [0.8888888888888888, \"#fdca26\"], [1.0, \"#f0f921\"]], \"type\": \"surface\"}], \"table\": [{\"cells\": {\"fill\": {\"color\": \"#EBF0F8\"}, \"line\": {\"color\": \"white\"}}, \"header\": {\"fill\": {\"color\": \"#C8D4E3\"}, \"line\": {\"color\": \"white\"}}, \"type\": \"table\"}]}, \"layout\": {\"annotationdefaults\": {\"arrowcolor\": \"#2a3f5f\", \"arrowhead\": 0, \"arrowwidth\": 1}, \"autotypenumbers\": \"strict\", \"coloraxis\": {\"colorbar\": {\"outlinewidth\": 0, \"ticks\": \"\"}}, \"colorscale\": {\"diverging\": [[0, \"#8e0152\"], [0.1, \"#c51b7d\"], [0.2, \"#de77ae\"], [0.3, \"#f1b6da\"], [0.4, \"#fde0ef\"], [0.5, \"#f7f7f7\"], [0.6, \"#e6f5d0\"], [0.7, \"#b8e186\"], [0.8, \"#7fbc41\"], [0.9, \"#4d9221\"], [1, \"#276419\"]], \"sequential\": [[0.0, \"#0d0887\"], [0.1111111111111111, \"#46039f\"], [0.2222222222222222, \"#7201a8\"], [0.3333333333333333, \"#9c179e\"], [0.4444444444444444, \"#bd3786\"], [0.5555555555555556, \"#d8576b\"], [0.6666666666666666, \"#ed7953\"], [0.7777777777777778, \"#fb9f3a\"], [0.8888888888888888, \"#fdca26\"], [1.0, \"#f0f921\"]], \"sequentialminus\": [[0.0, \"#0d0887\"], [0.1111111111111111, \"#46039f\"], [0.2222222222222222, \"#7201a8\"], [0.3333333333333333, \"#9c179e\"], [0.4444444444444444, \"#bd3786\"], [0.5555555555555556, \"#d8576b\"], [0.6666666666666666, \"#ed7953\"], [0.7777777777777778, \"#fb9f3a\"], [0.8888888888888888, \"#fdca26\"], [1.0, \"#f0f921\"]]}, \"colorway\": [\"#636efa\", \"#EF553B\", \"#00cc96\", \"#ab63fa\", \"#FFA15A\", \"#19d3f3\", \"#FF6692\", \"#B6E880\", \"#FF97FF\", \"#FECB52\"], \"font\": {\"color\": \"#2a3f5f\"}, \"geo\": {\"bgcolor\": \"white\", \"lakecolor\": \"white\", \"landcolor\": \"#E5ECF6\", \"showlakes\": true, \"showland\": true, \"subunitcolor\": \"white\"}, \"hoverlabel\": {\"align\": \"left\"}, \"hovermode\": \"closest\", \"mapbox\": {\"style\": \"light\"}, \"paper_bgcolor\": \"white\", \"plot_bgcolor\": \"#E5ECF6\", \"polar\": {\"angularaxis\": {\"gridcolor\": \"white\", \"linecolor\": \"white\", \"ticks\": \"\"}, \"bgcolor\": \"#E5ECF6\", \"radialaxis\": {\"gridcolor\": \"white\", \"linecolor\": \"white\", \"ticks\": \"\"}}, \"scene\": {\"xaxis\": {\"backgroundcolor\": \"#E5ECF6\", \"gridcolor\": \"white\", \"gridwidth\": 2, \"linecolor\": \"white\", \"showbackground\": true, \"ticks\": \"\", \"zerolinecolor\": \"white\"}, \"yaxis\": {\"backgroundcolor\": \"#E5ECF6\", \"gridcolor\": \"white\", \"gridwidth\": 2, \"linecolor\": \"white\", \"showbackground\": true, \"ticks\": \"\", \"zerolinecolor\": \"white\"}, \"zaxis\": {\"backgroundcolor\": \"#E5ECF6\", \"gridcolor\": \"white\", \"gridwidth\": 2, \"linecolor\": \"white\", \"showbackground\": true, \"ticks\": \"\", \"zerolinecolor\": \"white\"}}, \"shapedefaults\": {\"line\": {\"color\": \"#2a3f5f\"}}, \"ternary\": {\"aaxis\": {\"gridcolor\": \"white\", \"linecolor\": \"white\", \"ticks\": \"\"}, \"baxis\": {\"gridcolor\": \"white\", \"linecolor\": \"white\", \"ticks\": \"\"}, \"bgcolor\": \"#E5ECF6\", \"caxis\": {\"gridcolor\": \"white\", \"linecolor\": \"white\", \"ticks\": \"\"}}, \"title\": {\"x\": 0.05}, \"xaxis\": {\"automargin\": true, \"gridcolor\": \"white\", \"linecolor\": \"white\", \"ticks\": \"\", \"title\": {\"standoff\": 15}, \"zerolinecolor\": \"white\", \"zerolinewidth\": 2}, \"yaxis\": {\"automargin\": true, \"gridcolor\": \"white\", \"linecolor\": \"white\", \"ticks\": \"\", \"title\": {\"standoff\": 15}, \"zerolinecolor\": \"white\", \"zerolinewidth\": 2}}}},                        {\"responsive\": true}                    ).then(function(){\n",
       "                            \n",
       "var gd = document.getElementById('3b6bb553-1049-4d42-ad0d-550763fd327e');\n",
       "var x = new MutationObserver(function (mutations, observer) {{\n",
       "        var display = window.getComputedStyle(gd).display;\n",
       "        if (!display || display === 'none') {{\n",
       "            console.log([gd, 'removed!']);\n",
       "            Plotly.purge(gd);\n",
       "            observer.disconnect();\n",
       "        }}\n",
       "}});\n",
       "\n",
       "// Listen for the removal of the full notebook cells\n",
       "var notebookContainer = gd.closest('#notebook-container');\n",
       "if (notebookContainer) {{\n",
       "    x.observe(notebookContainer, {childList: true});\n",
       "}}\n",
       "\n",
       "// Listen for the clearing of the current output cell\n",
       "var outputEl = gd.closest('.output');\n",
       "if (outputEl) {{\n",
       "    x.observe(outputEl, {childList: true});\n",
       "}}\n",
       "\n",
       "                        })                };                });            </script>        </div>"
      ]
     },
     "metadata": {},
     "output_type": "display_data"
    }
   ],
   "source": [
    "f = [10, 20, 30, 40, 50]\n",
    "\n",
    "trace0 = go.Scatter(\n",
    "    x = f,\n",
    "    y = errorsH1,\n",
    "    mode = 'lines',\n",
    "    name = 'Heuristic1'\n",
    ")\n",
    "\n",
    "trace1 = go.Scatter(\n",
    "    x = f,\n",
    "    y = errorsH2,\n",
    "    mode = 'lines',\n",
    "    name = 'Heuristic2'\n",
    ")\n",
    "\n",
    "data = [trace0, trace1]\n",
    "\n",
    "iplot(data)"
   ]
  },
  {
   "cell_type": "markdown",
   "id": "4cca1a61",
   "metadata": {},
   "source": [
    "### Анализа на просечната грешка на локализација и радио опсегот R (plot 2)"
   ]
  },
  {
   "cell_type": "code",
   "execution_count": 27,
   "id": "24f0e9f1",
   "metadata": {},
   "outputs": [
    {
     "name": "stdout",
     "output_type": "stream",
     "text": [
      "[1.7791955043032686, 2.0113833707601034, 1.9169532486843877, 2.00646076631307]\n"
     ]
    }
   ],
   "source": [
    "N = 100\n",
    "L = 100\n",
    "f = 25\n",
    "r = 10\n",
    "#R = {20, 30, 40, 50}\n",
    "\n",
    "heuristic = 1\n",
    "errorsH1 = []\n",
    "\n",
    "nodes = None\n",
    "for R in range(20, 51, 10):\n",
    "    error = 0\n",
    "    for i in range(0, 15):\n",
    "        nodes = generateNodes(N, L, R, r, f)\n",
    "        nodes = findNeighbours(nodes, R)\n",
    "        nodes = estimateLocations(nodes, heuristic)\n",
    "        error = error + calculateError(nodes, N, f)\n",
    "    errorsH1.append(error/15)\n",
    "\n",
    "print(errorsH1)"
   ]
  },
  {
   "cell_type": "code",
   "execution_count": 28,
   "id": "98885786",
   "metadata": {},
   "outputs": [
    {
     "name": "stdout",
     "output_type": "stream",
     "text": [
      "[2.6615066370661737, 3.7199917729809693, 4.802597777617813, 6.053065337462271]\n"
     ]
    }
   ],
   "source": [
    "heuristic = 2\n",
    "errorsH2 = []\n",
    "\n",
    "nodes = None\n",
    "for R in range(20, 51, 10):\n",
    "    error = 0\n",
    "    for i in range(0, 15):\n",
    "        nodes = generateNodes(N, L, R, r, f)\n",
    "        nodes = findNeighbours(nodes, R)\n",
    "        nodes = estimateLocations(nodes, heuristic)\n",
    "        error = error + calculateError(nodes, N, f)\n",
    "    errorsH2.append(error/15)\n",
    "\n",
    "print(errorsH2)"
   ]
  },
  {
   "cell_type": "code",
   "execution_count": 29,
   "id": "c9f99c87",
   "metadata": {
    "scrolled": false
   },
   "outputs": [
    {
     "data": {
      "application/vnd.plotly.v1+json": {
       "config": {
        "linkText": "Export to plot.ly",
        "plotlyServerURL": "https://plot.ly",
        "showLink": false
       },
       "data": [
        {
         "mode": "lines",
         "name": "Heuristic1",
         "type": "scatter",
         "x": [
          10,
          20,
          30,
          40,
          50
         ],
         "y": [
          1.7791955043032686,
          2.0113833707601034,
          1.9169532486843877,
          2.00646076631307
         ]
        },
        {
         "mode": "lines",
         "name": "Heuristic2",
         "type": "scatter",
         "x": [
          10,
          20,
          30,
          40,
          50
         ],
         "y": [
          2.6615066370661737,
          3.7199917729809693,
          4.802597777617813,
          6.053065337462271
         ]
        }
       ],
       "layout": {
        "template": {
         "data": {
          "bar": [
           {
            "error_x": {
             "color": "#2a3f5f"
            },
            "error_y": {
             "color": "#2a3f5f"
            },
            "marker": {
             "line": {
              "color": "#E5ECF6",
              "width": 0.5
             }
            },
            "type": "bar"
           }
          ],
          "barpolar": [
           {
            "marker": {
             "line": {
              "color": "#E5ECF6",
              "width": 0.5
             }
            },
            "type": "barpolar"
           }
          ],
          "carpet": [
           {
            "aaxis": {
             "endlinecolor": "#2a3f5f",
             "gridcolor": "white",
             "linecolor": "white",
             "minorgridcolor": "white",
             "startlinecolor": "#2a3f5f"
            },
            "baxis": {
             "endlinecolor": "#2a3f5f",
             "gridcolor": "white",
             "linecolor": "white",
             "minorgridcolor": "white",
             "startlinecolor": "#2a3f5f"
            },
            "type": "carpet"
           }
          ],
          "choropleth": [
           {
            "colorbar": {
             "outlinewidth": 0,
             "ticks": ""
            },
            "type": "choropleth"
           }
          ],
          "contour": [
           {
            "colorbar": {
             "outlinewidth": 0,
             "ticks": ""
            },
            "colorscale": [
             [
              0,
              "#0d0887"
             ],
             [
              0.1111111111111111,
              "#46039f"
             ],
             [
              0.2222222222222222,
              "#7201a8"
             ],
             [
              0.3333333333333333,
              "#9c179e"
             ],
             [
              0.4444444444444444,
              "#bd3786"
             ],
             [
              0.5555555555555556,
              "#d8576b"
             ],
             [
              0.6666666666666666,
              "#ed7953"
             ],
             [
              0.7777777777777778,
              "#fb9f3a"
             ],
             [
              0.8888888888888888,
              "#fdca26"
             ],
             [
              1,
              "#f0f921"
             ]
            ],
            "type": "contour"
           }
          ],
          "contourcarpet": [
           {
            "colorbar": {
             "outlinewidth": 0,
             "ticks": ""
            },
            "type": "contourcarpet"
           }
          ],
          "heatmap": [
           {
            "colorbar": {
             "outlinewidth": 0,
             "ticks": ""
            },
            "colorscale": [
             [
              0,
              "#0d0887"
             ],
             [
              0.1111111111111111,
              "#46039f"
             ],
             [
              0.2222222222222222,
              "#7201a8"
             ],
             [
              0.3333333333333333,
              "#9c179e"
             ],
             [
              0.4444444444444444,
              "#bd3786"
             ],
             [
              0.5555555555555556,
              "#d8576b"
             ],
             [
              0.6666666666666666,
              "#ed7953"
             ],
             [
              0.7777777777777778,
              "#fb9f3a"
             ],
             [
              0.8888888888888888,
              "#fdca26"
             ],
             [
              1,
              "#f0f921"
             ]
            ],
            "type": "heatmap"
           }
          ],
          "heatmapgl": [
           {
            "colorbar": {
             "outlinewidth": 0,
             "ticks": ""
            },
            "colorscale": [
             [
              0,
              "#0d0887"
             ],
             [
              0.1111111111111111,
              "#46039f"
             ],
             [
              0.2222222222222222,
              "#7201a8"
             ],
             [
              0.3333333333333333,
              "#9c179e"
             ],
             [
              0.4444444444444444,
              "#bd3786"
             ],
             [
              0.5555555555555556,
              "#d8576b"
             ],
             [
              0.6666666666666666,
              "#ed7953"
             ],
             [
              0.7777777777777778,
              "#fb9f3a"
             ],
             [
              0.8888888888888888,
              "#fdca26"
             ],
             [
              1,
              "#f0f921"
             ]
            ],
            "type": "heatmapgl"
           }
          ],
          "histogram": [
           {
            "marker": {
             "colorbar": {
              "outlinewidth": 0,
              "ticks": ""
             }
            },
            "type": "histogram"
           }
          ],
          "histogram2d": [
           {
            "colorbar": {
             "outlinewidth": 0,
             "ticks": ""
            },
            "colorscale": [
             [
              0,
              "#0d0887"
             ],
             [
              0.1111111111111111,
              "#46039f"
             ],
             [
              0.2222222222222222,
              "#7201a8"
             ],
             [
              0.3333333333333333,
              "#9c179e"
             ],
             [
              0.4444444444444444,
              "#bd3786"
             ],
             [
              0.5555555555555556,
              "#d8576b"
             ],
             [
              0.6666666666666666,
              "#ed7953"
             ],
             [
              0.7777777777777778,
              "#fb9f3a"
             ],
             [
              0.8888888888888888,
              "#fdca26"
             ],
             [
              1,
              "#f0f921"
             ]
            ],
            "type": "histogram2d"
           }
          ],
          "histogram2dcontour": [
           {
            "colorbar": {
             "outlinewidth": 0,
             "ticks": ""
            },
            "colorscale": [
             [
              0,
              "#0d0887"
             ],
             [
              0.1111111111111111,
              "#46039f"
             ],
             [
              0.2222222222222222,
              "#7201a8"
             ],
             [
              0.3333333333333333,
              "#9c179e"
             ],
             [
              0.4444444444444444,
              "#bd3786"
             ],
             [
              0.5555555555555556,
              "#d8576b"
             ],
             [
              0.6666666666666666,
              "#ed7953"
             ],
             [
              0.7777777777777778,
              "#fb9f3a"
             ],
             [
              0.8888888888888888,
              "#fdca26"
             ],
             [
              1,
              "#f0f921"
             ]
            ],
            "type": "histogram2dcontour"
           }
          ],
          "mesh3d": [
           {
            "colorbar": {
             "outlinewidth": 0,
             "ticks": ""
            },
            "type": "mesh3d"
           }
          ],
          "parcoords": [
           {
            "line": {
             "colorbar": {
              "outlinewidth": 0,
              "ticks": ""
             }
            },
            "type": "parcoords"
           }
          ],
          "pie": [
           {
            "automargin": true,
            "type": "pie"
           }
          ],
          "scatter": [
           {
            "marker": {
             "colorbar": {
              "outlinewidth": 0,
              "ticks": ""
             }
            },
            "type": "scatter"
           }
          ],
          "scatter3d": [
           {
            "line": {
             "colorbar": {
              "outlinewidth": 0,
              "ticks": ""
             }
            },
            "marker": {
             "colorbar": {
              "outlinewidth": 0,
              "ticks": ""
             }
            },
            "type": "scatter3d"
           }
          ],
          "scattercarpet": [
           {
            "marker": {
             "colorbar": {
              "outlinewidth": 0,
              "ticks": ""
             }
            },
            "type": "scattercarpet"
           }
          ],
          "scattergeo": [
           {
            "marker": {
             "colorbar": {
              "outlinewidth": 0,
              "ticks": ""
             }
            },
            "type": "scattergeo"
           }
          ],
          "scattergl": [
           {
            "marker": {
             "colorbar": {
              "outlinewidth": 0,
              "ticks": ""
             }
            },
            "type": "scattergl"
           }
          ],
          "scattermapbox": [
           {
            "marker": {
             "colorbar": {
              "outlinewidth": 0,
              "ticks": ""
             }
            },
            "type": "scattermapbox"
           }
          ],
          "scatterpolar": [
           {
            "marker": {
             "colorbar": {
              "outlinewidth": 0,
              "ticks": ""
             }
            },
            "type": "scatterpolar"
           }
          ],
          "scatterpolargl": [
           {
            "marker": {
             "colorbar": {
              "outlinewidth": 0,
              "ticks": ""
             }
            },
            "type": "scatterpolargl"
           }
          ],
          "scatterternary": [
           {
            "marker": {
             "colorbar": {
              "outlinewidth": 0,
              "ticks": ""
             }
            },
            "type": "scatterternary"
           }
          ],
          "surface": [
           {
            "colorbar": {
             "outlinewidth": 0,
             "ticks": ""
            },
            "colorscale": [
             [
              0,
              "#0d0887"
             ],
             [
              0.1111111111111111,
              "#46039f"
             ],
             [
              0.2222222222222222,
              "#7201a8"
             ],
             [
              0.3333333333333333,
              "#9c179e"
             ],
             [
              0.4444444444444444,
              "#bd3786"
             ],
             [
              0.5555555555555556,
              "#d8576b"
             ],
             [
              0.6666666666666666,
              "#ed7953"
             ],
             [
              0.7777777777777778,
              "#fb9f3a"
             ],
             [
              0.8888888888888888,
              "#fdca26"
             ],
             [
              1,
              "#f0f921"
             ]
            ],
            "type": "surface"
           }
          ],
          "table": [
           {
            "cells": {
             "fill": {
              "color": "#EBF0F8"
             },
             "line": {
              "color": "white"
             }
            },
            "header": {
             "fill": {
              "color": "#C8D4E3"
             },
             "line": {
              "color": "white"
             }
            },
            "type": "table"
           }
          ]
         },
         "layout": {
          "annotationdefaults": {
           "arrowcolor": "#2a3f5f",
           "arrowhead": 0,
           "arrowwidth": 1
          },
          "autotypenumbers": "strict",
          "coloraxis": {
           "colorbar": {
            "outlinewidth": 0,
            "ticks": ""
           }
          },
          "colorscale": {
           "diverging": [
            [
             0,
             "#8e0152"
            ],
            [
             0.1,
             "#c51b7d"
            ],
            [
             0.2,
             "#de77ae"
            ],
            [
             0.3,
             "#f1b6da"
            ],
            [
             0.4,
             "#fde0ef"
            ],
            [
             0.5,
             "#f7f7f7"
            ],
            [
             0.6,
             "#e6f5d0"
            ],
            [
             0.7,
             "#b8e186"
            ],
            [
             0.8,
             "#7fbc41"
            ],
            [
             0.9,
             "#4d9221"
            ],
            [
             1,
             "#276419"
            ]
           ],
           "sequential": [
            [
             0,
             "#0d0887"
            ],
            [
             0.1111111111111111,
             "#46039f"
            ],
            [
             0.2222222222222222,
             "#7201a8"
            ],
            [
             0.3333333333333333,
             "#9c179e"
            ],
            [
             0.4444444444444444,
             "#bd3786"
            ],
            [
             0.5555555555555556,
             "#d8576b"
            ],
            [
             0.6666666666666666,
             "#ed7953"
            ],
            [
             0.7777777777777778,
             "#fb9f3a"
            ],
            [
             0.8888888888888888,
             "#fdca26"
            ],
            [
             1,
             "#f0f921"
            ]
           ],
           "sequentialminus": [
            [
             0,
             "#0d0887"
            ],
            [
             0.1111111111111111,
             "#46039f"
            ],
            [
             0.2222222222222222,
             "#7201a8"
            ],
            [
             0.3333333333333333,
             "#9c179e"
            ],
            [
             0.4444444444444444,
             "#bd3786"
            ],
            [
             0.5555555555555556,
             "#d8576b"
            ],
            [
             0.6666666666666666,
             "#ed7953"
            ],
            [
             0.7777777777777778,
             "#fb9f3a"
            ],
            [
             0.8888888888888888,
             "#fdca26"
            ],
            [
             1,
             "#f0f921"
            ]
           ]
          },
          "colorway": [
           "#636efa",
           "#EF553B",
           "#00cc96",
           "#ab63fa",
           "#FFA15A",
           "#19d3f3",
           "#FF6692",
           "#B6E880",
           "#FF97FF",
           "#FECB52"
          ],
          "font": {
           "color": "#2a3f5f"
          },
          "geo": {
           "bgcolor": "white",
           "lakecolor": "white",
           "landcolor": "#E5ECF6",
           "showlakes": true,
           "showland": true,
           "subunitcolor": "white"
          },
          "hoverlabel": {
           "align": "left"
          },
          "hovermode": "closest",
          "mapbox": {
           "style": "light"
          },
          "paper_bgcolor": "white",
          "plot_bgcolor": "#E5ECF6",
          "polar": {
           "angularaxis": {
            "gridcolor": "white",
            "linecolor": "white",
            "ticks": ""
           },
           "bgcolor": "#E5ECF6",
           "radialaxis": {
            "gridcolor": "white",
            "linecolor": "white",
            "ticks": ""
           }
          },
          "scene": {
           "xaxis": {
            "backgroundcolor": "#E5ECF6",
            "gridcolor": "white",
            "gridwidth": 2,
            "linecolor": "white",
            "showbackground": true,
            "ticks": "",
            "zerolinecolor": "white"
           },
           "yaxis": {
            "backgroundcolor": "#E5ECF6",
            "gridcolor": "white",
            "gridwidth": 2,
            "linecolor": "white",
            "showbackground": true,
            "ticks": "",
            "zerolinecolor": "white"
           },
           "zaxis": {
            "backgroundcolor": "#E5ECF6",
            "gridcolor": "white",
            "gridwidth": 2,
            "linecolor": "white",
            "showbackground": true,
            "ticks": "",
            "zerolinecolor": "white"
           }
          },
          "shapedefaults": {
           "line": {
            "color": "#2a3f5f"
           }
          },
          "ternary": {
           "aaxis": {
            "gridcolor": "white",
            "linecolor": "white",
            "ticks": ""
           },
           "baxis": {
            "gridcolor": "white",
            "linecolor": "white",
            "ticks": ""
           },
           "bgcolor": "#E5ECF6",
           "caxis": {
            "gridcolor": "white",
            "linecolor": "white",
            "ticks": ""
           }
          },
          "title": {
           "x": 0.05
          },
          "xaxis": {
           "automargin": true,
           "gridcolor": "white",
           "linecolor": "white",
           "ticks": "",
           "title": {
            "standoff": 15
           },
           "zerolinecolor": "white",
           "zerolinewidth": 2
          },
          "yaxis": {
           "automargin": true,
           "gridcolor": "white",
           "linecolor": "white",
           "ticks": "",
           "title": {
            "standoff": 15
           },
           "zerolinecolor": "white",
           "zerolinewidth": 2
          }
         }
        }
       }
      },
      "text/html": [
       "<div>                            <div id=\"76a1ede9-4d34-43ee-bf69-cefec19d9205\" class=\"plotly-graph-div\" style=\"height:525px; width:100%;\"></div>            <script type=\"text/javascript\">                require([\"plotly\"], function(Plotly) {                    window.PLOTLYENV=window.PLOTLYENV || {};                                    if (document.getElementById(\"76a1ede9-4d34-43ee-bf69-cefec19d9205\")) {                    Plotly.newPlot(                        \"76a1ede9-4d34-43ee-bf69-cefec19d9205\",                        [{\"mode\": \"lines\", \"name\": \"Heuristic1\", \"type\": \"scatter\", \"x\": [10, 20, 30, 40, 50], \"y\": [1.7791955043032686, 2.0113833707601034, 1.9169532486843877, 2.00646076631307]}, {\"mode\": \"lines\", \"name\": \"Heuristic2\", \"type\": \"scatter\", \"x\": [10, 20, 30, 40, 50], \"y\": [2.6615066370661737, 3.7199917729809693, 4.802597777617813, 6.053065337462271]}],                        {\"template\": {\"data\": {\"bar\": [{\"error_x\": {\"color\": \"#2a3f5f\"}, \"error_y\": {\"color\": \"#2a3f5f\"}, \"marker\": {\"line\": {\"color\": \"#E5ECF6\", \"width\": 0.5}}, \"type\": \"bar\"}], \"barpolar\": [{\"marker\": {\"line\": {\"color\": \"#E5ECF6\", \"width\": 0.5}}, \"type\": \"barpolar\"}], \"carpet\": [{\"aaxis\": {\"endlinecolor\": \"#2a3f5f\", \"gridcolor\": \"white\", \"linecolor\": \"white\", \"minorgridcolor\": \"white\", \"startlinecolor\": \"#2a3f5f\"}, \"baxis\": {\"endlinecolor\": \"#2a3f5f\", \"gridcolor\": \"white\", \"linecolor\": \"white\", \"minorgridcolor\": \"white\", \"startlinecolor\": \"#2a3f5f\"}, \"type\": \"carpet\"}], \"choropleth\": [{\"colorbar\": {\"outlinewidth\": 0, \"ticks\": \"\"}, \"type\": \"choropleth\"}], \"contour\": [{\"colorbar\": {\"outlinewidth\": 0, \"ticks\": \"\"}, \"colorscale\": [[0.0, \"#0d0887\"], [0.1111111111111111, \"#46039f\"], [0.2222222222222222, \"#7201a8\"], [0.3333333333333333, \"#9c179e\"], [0.4444444444444444, \"#bd3786\"], [0.5555555555555556, \"#d8576b\"], [0.6666666666666666, \"#ed7953\"], [0.7777777777777778, \"#fb9f3a\"], [0.8888888888888888, \"#fdca26\"], [1.0, \"#f0f921\"]], \"type\": \"contour\"}], \"contourcarpet\": [{\"colorbar\": {\"outlinewidth\": 0, \"ticks\": \"\"}, \"type\": \"contourcarpet\"}], \"heatmap\": [{\"colorbar\": {\"outlinewidth\": 0, \"ticks\": \"\"}, \"colorscale\": [[0.0, \"#0d0887\"], [0.1111111111111111, \"#46039f\"], [0.2222222222222222, \"#7201a8\"], [0.3333333333333333, \"#9c179e\"], [0.4444444444444444, \"#bd3786\"], [0.5555555555555556, \"#d8576b\"], [0.6666666666666666, \"#ed7953\"], [0.7777777777777778, \"#fb9f3a\"], [0.8888888888888888, \"#fdca26\"], [1.0, \"#f0f921\"]], \"type\": \"heatmap\"}], \"heatmapgl\": [{\"colorbar\": {\"outlinewidth\": 0, \"ticks\": \"\"}, \"colorscale\": [[0.0, \"#0d0887\"], [0.1111111111111111, \"#46039f\"], [0.2222222222222222, \"#7201a8\"], [0.3333333333333333, \"#9c179e\"], [0.4444444444444444, \"#bd3786\"], [0.5555555555555556, \"#d8576b\"], [0.6666666666666666, \"#ed7953\"], [0.7777777777777778, \"#fb9f3a\"], [0.8888888888888888, \"#fdca26\"], [1.0, \"#f0f921\"]], \"type\": \"heatmapgl\"}], \"histogram\": [{\"marker\": {\"colorbar\": {\"outlinewidth\": 0, \"ticks\": \"\"}}, \"type\": \"histogram\"}], \"histogram2d\": [{\"colorbar\": {\"outlinewidth\": 0, \"ticks\": \"\"}, \"colorscale\": [[0.0, \"#0d0887\"], [0.1111111111111111, \"#46039f\"], [0.2222222222222222, \"#7201a8\"], [0.3333333333333333, \"#9c179e\"], [0.4444444444444444, \"#bd3786\"], [0.5555555555555556, \"#d8576b\"], [0.6666666666666666, \"#ed7953\"], [0.7777777777777778, \"#fb9f3a\"], [0.8888888888888888, \"#fdca26\"], [1.0, \"#f0f921\"]], \"type\": \"histogram2d\"}], \"histogram2dcontour\": [{\"colorbar\": {\"outlinewidth\": 0, \"ticks\": \"\"}, \"colorscale\": [[0.0, \"#0d0887\"], [0.1111111111111111, \"#46039f\"], [0.2222222222222222, \"#7201a8\"], [0.3333333333333333, \"#9c179e\"], [0.4444444444444444, \"#bd3786\"], [0.5555555555555556, \"#d8576b\"], [0.6666666666666666, \"#ed7953\"], [0.7777777777777778, \"#fb9f3a\"], [0.8888888888888888, \"#fdca26\"], [1.0, \"#f0f921\"]], \"type\": \"histogram2dcontour\"}], \"mesh3d\": [{\"colorbar\": {\"outlinewidth\": 0, \"ticks\": \"\"}, \"type\": \"mesh3d\"}], \"parcoords\": [{\"line\": {\"colorbar\": {\"outlinewidth\": 0, \"ticks\": \"\"}}, \"type\": \"parcoords\"}], \"pie\": [{\"automargin\": true, \"type\": \"pie\"}], \"scatter\": [{\"marker\": {\"colorbar\": {\"outlinewidth\": 0, \"ticks\": \"\"}}, \"type\": \"scatter\"}], \"scatter3d\": [{\"line\": {\"colorbar\": {\"outlinewidth\": 0, \"ticks\": \"\"}}, \"marker\": {\"colorbar\": {\"outlinewidth\": 0, \"ticks\": \"\"}}, \"type\": \"scatter3d\"}], \"scattercarpet\": [{\"marker\": {\"colorbar\": {\"outlinewidth\": 0, \"ticks\": \"\"}}, \"type\": \"scattercarpet\"}], \"scattergeo\": [{\"marker\": {\"colorbar\": {\"outlinewidth\": 0, \"ticks\": \"\"}}, \"type\": \"scattergeo\"}], \"scattergl\": [{\"marker\": {\"colorbar\": {\"outlinewidth\": 0, \"ticks\": \"\"}}, \"type\": \"scattergl\"}], \"scattermapbox\": [{\"marker\": {\"colorbar\": {\"outlinewidth\": 0, \"ticks\": \"\"}}, \"type\": \"scattermapbox\"}], \"scatterpolar\": [{\"marker\": {\"colorbar\": {\"outlinewidth\": 0, \"ticks\": \"\"}}, \"type\": \"scatterpolar\"}], \"scatterpolargl\": [{\"marker\": {\"colorbar\": {\"outlinewidth\": 0, \"ticks\": \"\"}}, \"type\": \"scatterpolargl\"}], \"scatterternary\": [{\"marker\": {\"colorbar\": {\"outlinewidth\": 0, \"ticks\": \"\"}}, \"type\": \"scatterternary\"}], \"surface\": [{\"colorbar\": {\"outlinewidth\": 0, \"ticks\": \"\"}, \"colorscale\": [[0.0, \"#0d0887\"], [0.1111111111111111, \"#46039f\"], [0.2222222222222222, \"#7201a8\"], [0.3333333333333333, \"#9c179e\"], [0.4444444444444444, \"#bd3786\"], [0.5555555555555556, \"#d8576b\"], [0.6666666666666666, \"#ed7953\"], [0.7777777777777778, \"#fb9f3a\"], [0.8888888888888888, \"#fdca26\"], [1.0, \"#f0f921\"]], \"type\": \"surface\"}], \"table\": [{\"cells\": {\"fill\": {\"color\": \"#EBF0F8\"}, \"line\": {\"color\": \"white\"}}, \"header\": {\"fill\": {\"color\": \"#C8D4E3\"}, \"line\": {\"color\": \"white\"}}, \"type\": \"table\"}]}, \"layout\": {\"annotationdefaults\": {\"arrowcolor\": \"#2a3f5f\", \"arrowhead\": 0, \"arrowwidth\": 1}, \"autotypenumbers\": \"strict\", \"coloraxis\": {\"colorbar\": {\"outlinewidth\": 0, \"ticks\": \"\"}}, \"colorscale\": {\"diverging\": [[0, \"#8e0152\"], [0.1, \"#c51b7d\"], [0.2, \"#de77ae\"], [0.3, \"#f1b6da\"], [0.4, \"#fde0ef\"], [0.5, \"#f7f7f7\"], [0.6, \"#e6f5d0\"], [0.7, \"#b8e186\"], [0.8, \"#7fbc41\"], [0.9, \"#4d9221\"], [1, \"#276419\"]], \"sequential\": [[0.0, \"#0d0887\"], [0.1111111111111111, \"#46039f\"], [0.2222222222222222, \"#7201a8\"], [0.3333333333333333, \"#9c179e\"], [0.4444444444444444, \"#bd3786\"], [0.5555555555555556, \"#d8576b\"], [0.6666666666666666, \"#ed7953\"], [0.7777777777777778, \"#fb9f3a\"], [0.8888888888888888, \"#fdca26\"], [1.0, \"#f0f921\"]], \"sequentialminus\": [[0.0, \"#0d0887\"], [0.1111111111111111, \"#46039f\"], [0.2222222222222222, \"#7201a8\"], [0.3333333333333333, \"#9c179e\"], [0.4444444444444444, \"#bd3786\"], [0.5555555555555556, \"#d8576b\"], [0.6666666666666666, \"#ed7953\"], [0.7777777777777778, \"#fb9f3a\"], [0.8888888888888888, \"#fdca26\"], [1.0, \"#f0f921\"]]}, \"colorway\": [\"#636efa\", \"#EF553B\", \"#00cc96\", \"#ab63fa\", \"#FFA15A\", \"#19d3f3\", \"#FF6692\", \"#B6E880\", \"#FF97FF\", \"#FECB52\"], \"font\": {\"color\": \"#2a3f5f\"}, \"geo\": {\"bgcolor\": \"white\", \"lakecolor\": \"white\", \"landcolor\": \"#E5ECF6\", \"showlakes\": true, \"showland\": true, \"subunitcolor\": \"white\"}, \"hoverlabel\": {\"align\": \"left\"}, \"hovermode\": \"closest\", \"mapbox\": {\"style\": \"light\"}, \"paper_bgcolor\": \"white\", \"plot_bgcolor\": \"#E5ECF6\", \"polar\": {\"angularaxis\": {\"gridcolor\": \"white\", \"linecolor\": \"white\", \"ticks\": \"\"}, \"bgcolor\": \"#E5ECF6\", \"radialaxis\": {\"gridcolor\": \"white\", \"linecolor\": \"white\", \"ticks\": \"\"}}, \"scene\": {\"xaxis\": {\"backgroundcolor\": \"#E5ECF6\", \"gridcolor\": \"white\", \"gridwidth\": 2, \"linecolor\": \"white\", \"showbackground\": true, \"ticks\": \"\", \"zerolinecolor\": \"white\"}, \"yaxis\": {\"backgroundcolor\": \"#E5ECF6\", \"gridcolor\": \"white\", \"gridwidth\": 2, \"linecolor\": \"white\", \"showbackground\": true, \"ticks\": \"\", \"zerolinecolor\": \"white\"}, \"zaxis\": {\"backgroundcolor\": \"#E5ECF6\", \"gridcolor\": \"white\", \"gridwidth\": 2, \"linecolor\": \"white\", \"showbackground\": true, \"ticks\": \"\", \"zerolinecolor\": \"white\"}}, \"shapedefaults\": {\"line\": {\"color\": \"#2a3f5f\"}}, \"ternary\": {\"aaxis\": {\"gridcolor\": \"white\", \"linecolor\": \"white\", \"ticks\": \"\"}, \"baxis\": {\"gridcolor\": \"white\", \"linecolor\": \"white\", \"ticks\": \"\"}, \"bgcolor\": \"#E5ECF6\", \"caxis\": {\"gridcolor\": \"white\", \"linecolor\": \"white\", \"ticks\": \"\"}}, \"title\": {\"x\": 0.05}, \"xaxis\": {\"automargin\": true, \"gridcolor\": \"white\", \"linecolor\": \"white\", \"ticks\": \"\", \"title\": {\"standoff\": 15}, \"zerolinecolor\": \"white\", \"zerolinewidth\": 2}, \"yaxis\": {\"automargin\": true, \"gridcolor\": \"white\", \"linecolor\": \"white\", \"ticks\": \"\", \"title\": {\"standoff\": 15}, \"zerolinecolor\": \"white\", \"zerolinewidth\": 2}}}},                        {\"responsive\": true}                    ).then(function(){\n",
       "                            \n",
       "var gd = document.getElementById('76a1ede9-4d34-43ee-bf69-cefec19d9205');\n",
       "var x = new MutationObserver(function (mutations, observer) {{\n",
       "        var display = window.getComputedStyle(gd).display;\n",
       "        if (!display || display === 'none') {{\n",
       "            console.log([gd, 'removed!']);\n",
       "            Plotly.purge(gd);\n",
       "            observer.disconnect();\n",
       "        }}\n",
       "}});\n",
       "\n",
       "// Listen for the removal of the full notebook cells\n",
       "var notebookContainer = gd.closest('#notebook-container');\n",
       "if (notebookContainer) {{\n",
       "    x.observe(notebookContainer, {childList: true});\n",
       "}}\n",
       "\n",
       "// Listen for the clearing of the current output cell\n",
       "var outputEl = gd.closest('.output');\n",
       "if (outputEl) {{\n",
       "    x.observe(outputEl, {childList: true});\n",
       "}}\n",
       "\n",
       "                        })                };                });            </script>        </div>"
      ]
     },
     "metadata": {},
     "output_type": "display_data"
    }
   ],
   "source": [
    "R = [10, 20, 30, 40, 50]\n",
    "\n",
    "trace0 = go.Scatter(\n",
    "    x = R,\n",
    "    y = errorsH1,\n",
    "    mode = 'lines',\n",
    "    name = 'Heuristic1'\n",
    ")\n",
    "\n",
    "trace1 = go.Scatter(\n",
    "    x = R,\n",
    "    y = errorsH2,\n",
    "    mode = 'lines',\n",
    "    name = 'Heuristic2'\n",
    ")\n",
    "\n",
    "data = [trace0, trace1]\n",
    "\n",
    "iplot(data)"
   ]
  },
  {
   "cell_type": "markdown",
   "id": "8c4dc6de",
   "metadata": {},
   "source": [
    "### Анализа на radio range error и просечната грешка на локализација (plot 3)"
   ]
  },
  {
   "cell_type": "code",
   "execution_count": 30,
   "id": "1247012f",
   "metadata": {},
   "outputs": [
    {
     "name": "stdout",
     "output_type": "stream",
     "text": [
      "[2.049828119375046, 2.7230939664113163, 3.4666915251452353, 4.0178188388009906, 4.872829546685984, 5.150951797750979, 5.825042559281676, 6.107623422681664, 6.854724214808012]\n"
     ]
    }
   ],
   "source": [
    "N = 100\n",
    "L = 100\n",
    "f = 25\n",
    "R = 35\n",
    "# r = {10...50}\n",
    "\n",
    "heuristic = 1\n",
    "errorsH1 = []\n",
    "\n",
    "nodes = None\n",
    "for r in range(10, 51, 5):\n",
    "    error = 0\n",
    "    for i in range(0, 15):\n",
    "        nodes = generateNodes(N, L, R, r, f)\n",
    "        nodes = findNeighbours(nodes, R)\n",
    "        nodes = estimateLocations(nodes, heuristic, r)\n",
    "        error = error + calculateError(nodes, N, f)\n",
    "    errorsH1.append(error/15)\n",
    "\n",
    "print(errorsH1)"
   ]
  },
  {
   "cell_type": "code",
   "execution_count": 31,
   "id": "077bf7d8",
   "metadata": {},
   "outputs": [
    {
     "name": "stdout",
     "output_type": "stream",
     "text": [
      "[4.276401129821391, 6.434073653753532, 7.460782202210351, 9.23291852442841, 10.349398506772872, 11.706530292305702, 12.755082470738333, 13.749291519755682, 15.046580839920775]\n"
     ]
    }
   ],
   "source": [
    "heuristic = 2\n",
    "errorsH2 = []\n",
    "\n",
    "nodes = None\n",
    "for r in range(10, 51, 5):\n",
    "    error = 0\n",
    "    for i in range(0, 15):\n",
    "        nodes = generateNodes(N, L, R, r, f)\n",
    "        nodes = findNeighbours(nodes, R)\n",
    "        nodes = estimateLocations(nodes, heuristic, r)\n",
    "        error = error + calculateError(nodes, N, f)\n",
    "    errorsH2.append(error/15)\n",
    "\n",
    "print(errorsH2)"
   ]
  },
  {
   "cell_type": "code",
   "execution_count": 32,
   "id": "b0138271",
   "metadata": {},
   "outputs": [
    {
     "data": {
      "application/vnd.plotly.v1+json": {
       "config": {
        "linkText": "Export to plot.ly",
        "plotlyServerURL": "https://plot.ly",
        "showLink": false
       },
       "data": [
        {
         "mode": "lines",
         "name": "Heuristic1",
         "type": "scatter",
         "x": [
          10,
          15,
          20,
          25,
          30,
          35,
          40,
          45,
          50
         ],
         "y": [
          2.049828119375046,
          2.7230939664113163,
          3.4666915251452353,
          4.0178188388009906,
          4.872829546685984,
          5.150951797750979,
          5.825042559281676,
          6.107623422681664,
          6.854724214808012
         ]
        },
        {
         "mode": "lines",
         "name": "Heuristic2",
         "type": "scatter",
         "x": [
          10,
          15,
          20,
          25,
          30,
          35,
          40,
          45,
          50
         ],
         "y": [
          4.276401129821391,
          6.434073653753532,
          7.460782202210351,
          9.23291852442841,
          10.349398506772872,
          11.706530292305702,
          12.755082470738333,
          13.749291519755682,
          15.046580839920775
         ]
        }
       ],
       "layout": {
        "template": {
         "data": {
          "bar": [
           {
            "error_x": {
             "color": "#2a3f5f"
            },
            "error_y": {
             "color": "#2a3f5f"
            },
            "marker": {
             "line": {
              "color": "#E5ECF6",
              "width": 0.5
             }
            },
            "type": "bar"
           }
          ],
          "barpolar": [
           {
            "marker": {
             "line": {
              "color": "#E5ECF6",
              "width": 0.5
             }
            },
            "type": "barpolar"
           }
          ],
          "carpet": [
           {
            "aaxis": {
             "endlinecolor": "#2a3f5f",
             "gridcolor": "white",
             "linecolor": "white",
             "minorgridcolor": "white",
             "startlinecolor": "#2a3f5f"
            },
            "baxis": {
             "endlinecolor": "#2a3f5f",
             "gridcolor": "white",
             "linecolor": "white",
             "minorgridcolor": "white",
             "startlinecolor": "#2a3f5f"
            },
            "type": "carpet"
           }
          ],
          "choropleth": [
           {
            "colorbar": {
             "outlinewidth": 0,
             "ticks": ""
            },
            "type": "choropleth"
           }
          ],
          "contour": [
           {
            "colorbar": {
             "outlinewidth": 0,
             "ticks": ""
            },
            "colorscale": [
             [
              0,
              "#0d0887"
             ],
             [
              0.1111111111111111,
              "#46039f"
             ],
             [
              0.2222222222222222,
              "#7201a8"
             ],
             [
              0.3333333333333333,
              "#9c179e"
             ],
             [
              0.4444444444444444,
              "#bd3786"
             ],
             [
              0.5555555555555556,
              "#d8576b"
             ],
             [
              0.6666666666666666,
              "#ed7953"
             ],
             [
              0.7777777777777778,
              "#fb9f3a"
             ],
             [
              0.8888888888888888,
              "#fdca26"
             ],
             [
              1,
              "#f0f921"
             ]
            ],
            "type": "contour"
           }
          ],
          "contourcarpet": [
           {
            "colorbar": {
             "outlinewidth": 0,
             "ticks": ""
            },
            "type": "contourcarpet"
           }
          ],
          "heatmap": [
           {
            "colorbar": {
             "outlinewidth": 0,
             "ticks": ""
            },
            "colorscale": [
             [
              0,
              "#0d0887"
             ],
             [
              0.1111111111111111,
              "#46039f"
             ],
             [
              0.2222222222222222,
              "#7201a8"
             ],
             [
              0.3333333333333333,
              "#9c179e"
             ],
             [
              0.4444444444444444,
              "#bd3786"
             ],
             [
              0.5555555555555556,
              "#d8576b"
             ],
             [
              0.6666666666666666,
              "#ed7953"
             ],
             [
              0.7777777777777778,
              "#fb9f3a"
             ],
             [
              0.8888888888888888,
              "#fdca26"
             ],
             [
              1,
              "#f0f921"
             ]
            ],
            "type": "heatmap"
           }
          ],
          "heatmapgl": [
           {
            "colorbar": {
             "outlinewidth": 0,
             "ticks": ""
            },
            "colorscale": [
             [
              0,
              "#0d0887"
             ],
             [
              0.1111111111111111,
              "#46039f"
             ],
             [
              0.2222222222222222,
              "#7201a8"
             ],
             [
              0.3333333333333333,
              "#9c179e"
             ],
             [
              0.4444444444444444,
              "#bd3786"
             ],
             [
              0.5555555555555556,
              "#d8576b"
             ],
             [
              0.6666666666666666,
              "#ed7953"
             ],
             [
              0.7777777777777778,
              "#fb9f3a"
             ],
             [
              0.8888888888888888,
              "#fdca26"
             ],
             [
              1,
              "#f0f921"
             ]
            ],
            "type": "heatmapgl"
           }
          ],
          "histogram": [
           {
            "marker": {
             "colorbar": {
              "outlinewidth": 0,
              "ticks": ""
             }
            },
            "type": "histogram"
           }
          ],
          "histogram2d": [
           {
            "colorbar": {
             "outlinewidth": 0,
             "ticks": ""
            },
            "colorscale": [
             [
              0,
              "#0d0887"
             ],
             [
              0.1111111111111111,
              "#46039f"
             ],
             [
              0.2222222222222222,
              "#7201a8"
             ],
             [
              0.3333333333333333,
              "#9c179e"
             ],
             [
              0.4444444444444444,
              "#bd3786"
             ],
             [
              0.5555555555555556,
              "#d8576b"
             ],
             [
              0.6666666666666666,
              "#ed7953"
             ],
             [
              0.7777777777777778,
              "#fb9f3a"
             ],
             [
              0.8888888888888888,
              "#fdca26"
             ],
             [
              1,
              "#f0f921"
             ]
            ],
            "type": "histogram2d"
           }
          ],
          "histogram2dcontour": [
           {
            "colorbar": {
             "outlinewidth": 0,
             "ticks": ""
            },
            "colorscale": [
             [
              0,
              "#0d0887"
             ],
             [
              0.1111111111111111,
              "#46039f"
             ],
             [
              0.2222222222222222,
              "#7201a8"
             ],
             [
              0.3333333333333333,
              "#9c179e"
             ],
             [
              0.4444444444444444,
              "#bd3786"
             ],
             [
              0.5555555555555556,
              "#d8576b"
             ],
             [
              0.6666666666666666,
              "#ed7953"
             ],
             [
              0.7777777777777778,
              "#fb9f3a"
             ],
             [
              0.8888888888888888,
              "#fdca26"
             ],
             [
              1,
              "#f0f921"
             ]
            ],
            "type": "histogram2dcontour"
           }
          ],
          "mesh3d": [
           {
            "colorbar": {
             "outlinewidth": 0,
             "ticks": ""
            },
            "type": "mesh3d"
           }
          ],
          "parcoords": [
           {
            "line": {
             "colorbar": {
              "outlinewidth": 0,
              "ticks": ""
             }
            },
            "type": "parcoords"
           }
          ],
          "pie": [
           {
            "automargin": true,
            "type": "pie"
           }
          ],
          "scatter": [
           {
            "marker": {
             "colorbar": {
              "outlinewidth": 0,
              "ticks": ""
             }
            },
            "type": "scatter"
           }
          ],
          "scatter3d": [
           {
            "line": {
             "colorbar": {
              "outlinewidth": 0,
              "ticks": ""
             }
            },
            "marker": {
             "colorbar": {
              "outlinewidth": 0,
              "ticks": ""
             }
            },
            "type": "scatter3d"
           }
          ],
          "scattercarpet": [
           {
            "marker": {
             "colorbar": {
              "outlinewidth": 0,
              "ticks": ""
             }
            },
            "type": "scattercarpet"
           }
          ],
          "scattergeo": [
           {
            "marker": {
             "colorbar": {
              "outlinewidth": 0,
              "ticks": ""
             }
            },
            "type": "scattergeo"
           }
          ],
          "scattergl": [
           {
            "marker": {
             "colorbar": {
              "outlinewidth": 0,
              "ticks": ""
             }
            },
            "type": "scattergl"
           }
          ],
          "scattermapbox": [
           {
            "marker": {
             "colorbar": {
              "outlinewidth": 0,
              "ticks": ""
             }
            },
            "type": "scattermapbox"
           }
          ],
          "scatterpolar": [
           {
            "marker": {
             "colorbar": {
              "outlinewidth": 0,
              "ticks": ""
             }
            },
            "type": "scatterpolar"
           }
          ],
          "scatterpolargl": [
           {
            "marker": {
             "colorbar": {
              "outlinewidth": 0,
              "ticks": ""
             }
            },
            "type": "scatterpolargl"
           }
          ],
          "scatterternary": [
           {
            "marker": {
             "colorbar": {
              "outlinewidth": 0,
              "ticks": ""
             }
            },
            "type": "scatterternary"
           }
          ],
          "surface": [
           {
            "colorbar": {
             "outlinewidth": 0,
             "ticks": ""
            },
            "colorscale": [
             [
              0,
              "#0d0887"
             ],
             [
              0.1111111111111111,
              "#46039f"
             ],
             [
              0.2222222222222222,
              "#7201a8"
             ],
             [
              0.3333333333333333,
              "#9c179e"
             ],
             [
              0.4444444444444444,
              "#bd3786"
             ],
             [
              0.5555555555555556,
              "#d8576b"
             ],
             [
              0.6666666666666666,
              "#ed7953"
             ],
             [
              0.7777777777777778,
              "#fb9f3a"
             ],
             [
              0.8888888888888888,
              "#fdca26"
             ],
             [
              1,
              "#f0f921"
             ]
            ],
            "type": "surface"
           }
          ],
          "table": [
           {
            "cells": {
             "fill": {
              "color": "#EBF0F8"
             },
             "line": {
              "color": "white"
             }
            },
            "header": {
             "fill": {
              "color": "#C8D4E3"
             },
             "line": {
              "color": "white"
             }
            },
            "type": "table"
           }
          ]
         },
         "layout": {
          "annotationdefaults": {
           "arrowcolor": "#2a3f5f",
           "arrowhead": 0,
           "arrowwidth": 1
          },
          "autotypenumbers": "strict",
          "coloraxis": {
           "colorbar": {
            "outlinewidth": 0,
            "ticks": ""
           }
          },
          "colorscale": {
           "diverging": [
            [
             0,
             "#8e0152"
            ],
            [
             0.1,
             "#c51b7d"
            ],
            [
             0.2,
             "#de77ae"
            ],
            [
             0.3,
             "#f1b6da"
            ],
            [
             0.4,
             "#fde0ef"
            ],
            [
             0.5,
             "#f7f7f7"
            ],
            [
             0.6,
             "#e6f5d0"
            ],
            [
             0.7,
             "#b8e186"
            ],
            [
             0.8,
             "#7fbc41"
            ],
            [
             0.9,
             "#4d9221"
            ],
            [
             1,
             "#276419"
            ]
           ],
           "sequential": [
            [
             0,
             "#0d0887"
            ],
            [
             0.1111111111111111,
             "#46039f"
            ],
            [
             0.2222222222222222,
             "#7201a8"
            ],
            [
             0.3333333333333333,
             "#9c179e"
            ],
            [
             0.4444444444444444,
             "#bd3786"
            ],
            [
             0.5555555555555556,
             "#d8576b"
            ],
            [
             0.6666666666666666,
             "#ed7953"
            ],
            [
             0.7777777777777778,
             "#fb9f3a"
            ],
            [
             0.8888888888888888,
             "#fdca26"
            ],
            [
             1,
             "#f0f921"
            ]
           ],
           "sequentialminus": [
            [
             0,
             "#0d0887"
            ],
            [
             0.1111111111111111,
             "#46039f"
            ],
            [
             0.2222222222222222,
             "#7201a8"
            ],
            [
             0.3333333333333333,
             "#9c179e"
            ],
            [
             0.4444444444444444,
             "#bd3786"
            ],
            [
             0.5555555555555556,
             "#d8576b"
            ],
            [
             0.6666666666666666,
             "#ed7953"
            ],
            [
             0.7777777777777778,
             "#fb9f3a"
            ],
            [
             0.8888888888888888,
             "#fdca26"
            ],
            [
             1,
             "#f0f921"
            ]
           ]
          },
          "colorway": [
           "#636efa",
           "#EF553B",
           "#00cc96",
           "#ab63fa",
           "#FFA15A",
           "#19d3f3",
           "#FF6692",
           "#B6E880",
           "#FF97FF",
           "#FECB52"
          ],
          "font": {
           "color": "#2a3f5f"
          },
          "geo": {
           "bgcolor": "white",
           "lakecolor": "white",
           "landcolor": "#E5ECF6",
           "showlakes": true,
           "showland": true,
           "subunitcolor": "white"
          },
          "hoverlabel": {
           "align": "left"
          },
          "hovermode": "closest",
          "mapbox": {
           "style": "light"
          },
          "paper_bgcolor": "white",
          "plot_bgcolor": "#E5ECF6",
          "polar": {
           "angularaxis": {
            "gridcolor": "white",
            "linecolor": "white",
            "ticks": ""
           },
           "bgcolor": "#E5ECF6",
           "radialaxis": {
            "gridcolor": "white",
            "linecolor": "white",
            "ticks": ""
           }
          },
          "scene": {
           "xaxis": {
            "backgroundcolor": "#E5ECF6",
            "gridcolor": "white",
            "gridwidth": 2,
            "linecolor": "white",
            "showbackground": true,
            "ticks": "",
            "zerolinecolor": "white"
           },
           "yaxis": {
            "backgroundcolor": "#E5ECF6",
            "gridcolor": "white",
            "gridwidth": 2,
            "linecolor": "white",
            "showbackground": true,
            "ticks": "",
            "zerolinecolor": "white"
           },
           "zaxis": {
            "backgroundcolor": "#E5ECF6",
            "gridcolor": "white",
            "gridwidth": 2,
            "linecolor": "white",
            "showbackground": true,
            "ticks": "",
            "zerolinecolor": "white"
           }
          },
          "shapedefaults": {
           "line": {
            "color": "#2a3f5f"
           }
          },
          "ternary": {
           "aaxis": {
            "gridcolor": "white",
            "linecolor": "white",
            "ticks": ""
           },
           "baxis": {
            "gridcolor": "white",
            "linecolor": "white",
            "ticks": ""
           },
           "bgcolor": "#E5ECF6",
           "caxis": {
            "gridcolor": "white",
            "linecolor": "white",
            "ticks": ""
           }
          },
          "title": {
           "x": 0.05
          },
          "xaxis": {
           "automargin": true,
           "gridcolor": "white",
           "linecolor": "white",
           "ticks": "",
           "title": {
            "standoff": 15
           },
           "zerolinecolor": "white",
           "zerolinewidth": 2
          },
          "yaxis": {
           "automargin": true,
           "gridcolor": "white",
           "linecolor": "white",
           "ticks": "",
           "title": {
            "standoff": 15
           },
           "zerolinecolor": "white",
           "zerolinewidth": 2
          }
         }
        }
       }
      },
      "text/html": [
       "<div>                            <div id=\"468c82cf-5f9c-4507-b623-97e9a63d3278\" class=\"plotly-graph-div\" style=\"height:525px; width:100%;\"></div>            <script type=\"text/javascript\">                require([\"plotly\"], function(Plotly) {                    window.PLOTLYENV=window.PLOTLYENV || {};                                    if (document.getElementById(\"468c82cf-5f9c-4507-b623-97e9a63d3278\")) {                    Plotly.newPlot(                        \"468c82cf-5f9c-4507-b623-97e9a63d3278\",                        [{\"mode\": \"lines\", \"name\": \"Heuristic1\", \"type\": \"scatter\", \"x\": [10, 15, 20, 25, 30, 35, 40, 45, 50], \"y\": [2.049828119375046, 2.7230939664113163, 3.4666915251452353, 4.0178188388009906, 4.872829546685984, 5.150951797750979, 5.825042559281676, 6.107623422681664, 6.854724214808012]}, {\"mode\": \"lines\", \"name\": \"Heuristic2\", \"type\": \"scatter\", \"x\": [10, 15, 20, 25, 30, 35, 40, 45, 50], \"y\": [4.276401129821391, 6.434073653753532, 7.460782202210351, 9.23291852442841, 10.349398506772872, 11.706530292305702, 12.755082470738333, 13.749291519755682, 15.046580839920775]}],                        {\"template\": {\"data\": {\"bar\": [{\"error_x\": {\"color\": \"#2a3f5f\"}, \"error_y\": {\"color\": \"#2a3f5f\"}, \"marker\": {\"line\": {\"color\": \"#E5ECF6\", \"width\": 0.5}}, \"type\": \"bar\"}], \"barpolar\": [{\"marker\": {\"line\": {\"color\": \"#E5ECF6\", \"width\": 0.5}}, \"type\": \"barpolar\"}], \"carpet\": [{\"aaxis\": {\"endlinecolor\": \"#2a3f5f\", \"gridcolor\": \"white\", \"linecolor\": \"white\", \"minorgridcolor\": \"white\", \"startlinecolor\": \"#2a3f5f\"}, \"baxis\": {\"endlinecolor\": \"#2a3f5f\", \"gridcolor\": \"white\", \"linecolor\": \"white\", \"minorgridcolor\": \"white\", \"startlinecolor\": \"#2a3f5f\"}, \"type\": \"carpet\"}], \"choropleth\": [{\"colorbar\": {\"outlinewidth\": 0, \"ticks\": \"\"}, \"type\": \"choropleth\"}], \"contour\": [{\"colorbar\": {\"outlinewidth\": 0, \"ticks\": \"\"}, \"colorscale\": [[0.0, \"#0d0887\"], [0.1111111111111111, \"#46039f\"], [0.2222222222222222, \"#7201a8\"], [0.3333333333333333, \"#9c179e\"], [0.4444444444444444, \"#bd3786\"], [0.5555555555555556, \"#d8576b\"], [0.6666666666666666, \"#ed7953\"], [0.7777777777777778, \"#fb9f3a\"], [0.8888888888888888, \"#fdca26\"], [1.0, \"#f0f921\"]], \"type\": \"contour\"}], \"contourcarpet\": [{\"colorbar\": {\"outlinewidth\": 0, \"ticks\": \"\"}, \"type\": \"contourcarpet\"}], \"heatmap\": [{\"colorbar\": {\"outlinewidth\": 0, \"ticks\": \"\"}, \"colorscale\": [[0.0, \"#0d0887\"], [0.1111111111111111, \"#46039f\"], [0.2222222222222222, \"#7201a8\"], [0.3333333333333333, \"#9c179e\"], [0.4444444444444444, \"#bd3786\"], [0.5555555555555556, \"#d8576b\"], [0.6666666666666666, \"#ed7953\"], [0.7777777777777778, \"#fb9f3a\"], [0.8888888888888888, \"#fdca26\"], [1.0, \"#f0f921\"]], \"type\": \"heatmap\"}], \"heatmapgl\": [{\"colorbar\": {\"outlinewidth\": 0, \"ticks\": \"\"}, \"colorscale\": [[0.0, \"#0d0887\"], [0.1111111111111111, \"#46039f\"], [0.2222222222222222, \"#7201a8\"], [0.3333333333333333, \"#9c179e\"], [0.4444444444444444, \"#bd3786\"], [0.5555555555555556, \"#d8576b\"], [0.6666666666666666, \"#ed7953\"], [0.7777777777777778, \"#fb9f3a\"], [0.8888888888888888, \"#fdca26\"], [1.0, \"#f0f921\"]], \"type\": \"heatmapgl\"}], \"histogram\": [{\"marker\": {\"colorbar\": {\"outlinewidth\": 0, \"ticks\": \"\"}}, \"type\": \"histogram\"}], \"histogram2d\": [{\"colorbar\": {\"outlinewidth\": 0, \"ticks\": \"\"}, \"colorscale\": [[0.0, \"#0d0887\"], [0.1111111111111111, \"#46039f\"], [0.2222222222222222, \"#7201a8\"], [0.3333333333333333, \"#9c179e\"], [0.4444444444444444, \"#bd3786\"], [0.5555555555555556, \"#d8576b\"], [0.6666666666666666, \"#ed7953\"], [0.7777777777777778, \"#fb9f3a\"], [0.8888888888888888, \"#fdca26\"], [1.0, \"#f0f921\"]], \"type\": \"histogram2d\"}], \"histogram2dcontour\": [{\"colorbar\": {\"outlinewidth\": 0, \"ticks\": \"\"}, \"colorscale\": [[0.0, \"#0d0887\"], [0.1111111111111111, \"#46039f\"], [0.2222222222222222, \"#7201a8\"], [0.3333333333333333, \"#9c179e\"], [0.4444444444444444, \"#bd3786\"], [0.5555555555555556, \"#d8576b\"], [0.6666666666666666, \"#ed7953\"], [0.7777777777777778, \"#fb9f3a\"], [0.8888888888888888, \"#fdca26\"], [1.0, \"#f0f921\"]], \"type\": \"histogram2dcontour\"}], \"mesh3d\": [{\"colorbar\": {\"outlinewidth\": 0, \"ticks\": \"\"}, \"type\": \"mesh3d\"}], \"parcoords\": [{\"line\": {\"colorbar\": {\"outlinewidth\": 0, \"ticks\": \"\"}}, \"type\": \"parcoords\"}], \"pie\": [{\"automargin\": true, \"type\": \"pie\"}], \"scatter\": [{\"marker\": {\"colorbar\": {\"outlinewidth\": 0, \"ticks\": \"\"}}, \"type\": \"scatter\"}], \"scatter3d\": [{\"line\": {\"colorbar\": {\"outlinewidth\": 0, \"ticks\": \"\"}}, \"marker\": {\"colorbar\": {\"outlinewidth\": 0, \"ticks\": \"\"}}, \"type\": \"scatter3d\"}], \"scattercarpet\": [{\"marker\": {\"colorbar\": {\"outlinewidth\": 0, \"ticks\": \"\"}}, \"type\": \"scattercarpet\"}], \"scattergeo\": [{\"marker\": {\"colorbar\": {\"outlinewidth\": 0, \"ticks\": \"\"}}, \"type\": \"scattergeo\"}], \"scattergl\": [{\"marker\": {\"colorbar\": {\"outlinewidth\": 0, \"ticks\": \"\"}}, \"type\": \"scattergl\"}], \"scattermapbox\": [{\"marker\": {\"colorbar\": {\"outlinewidth\": 0, \"ticks\": \"\"}}, \"type\": \"scattermapbox\"}], \"scatterpolar\": [{\"marker\": {\"colorbar\": {\"outlinewidth\": 0, \"ticks\": \"\"}}, \"type\": \"scatterpolar\"}], \"scatterpolargl\": [{\"marker\": {\"colorbar\": {\"outlinewidth\": 0, \"ticks\": \"\"}}, \"type\": \"scatterpolargl\"}], \"scatterternary\": [{\"marker\": {\"colorbar\": {\"outlinewidth\": 0, \"ticks\": \"\"}}, \"type\": \"scatterternary\"}], \"surface\": [{\"colorbar\": {\"outlinewidth\": 0, \"ticks\": \"\"}, \"colorscale\": [[0.0, \"#0d0887\"], [0.1111111111111111, \"#46039f\"], [0.2222222222222222, \"#7201a8\"], [0.3333333333333333, \"#9c179e\"], [0.4444444444444444, \"#bd3786\"], [0.5555555555555556, \"#d8576b\"], [0.6666666666666666, \"#ed7953\"], [0.7777777777777778, \"#fb9f3a\"], [0.8888888888888888, \"#fdca26\"], [1.0, \"#f0f921\"]], \"type\": \"surface\"}], \"table\": [{\"cells\": {\"fill\": {\"color\": \"#EBF0F8\"}, \"line\": {\"color\": \"white\"}}, \"header\": {\"fill\": {\"color\": \"#C8D4E3\"}, \"line\": {\"color\": \"white\"}}, \"type\": \"table\"}]}, \"layout\": {\"annotationdefaults\": {\"arrowcolor\": \"#2a3f5f\", \"arrowhead\": 0, \"arrowwidth\": 1}, \"autotypenumbers\": \"strict\", \"coloraxis\": {\"colorbar\": {\"outlinewidth\": 0, \"ticks\": \"\"}}, \"colorscale\": {\"diverging\": [[0, \"#8e0152\"], [0.1, \"#c51b7d\"], [0.2, \"#de77ae\"], [0.3, \"#f1b6da\"], [0.4, \"#fde0ef\"], [0.5, \"#f7f7f7\"], [0.6, \"#e6f5d0\"], [0.7, \"#b8e186\"], [0.8, \"#7fbc41\"], [0.9, \"#4d9221\"], [1, \"#276419\"]], \"sequential\": [[0.0, \"#0d0887\"], [0.1111111111111111, \"#46039f\"], [0.2222222222222222, \"#7201a8\"], [0.3333333333333333, \"#9c179e\"], [0.4444444444444444, \"#bd3786\"], [0.5555555555555556, \"#d8576b\"], [0.6666666666666666, \"#ed7953\"], [0.7777777777777778, \"#fb9f3a\"], [0.8888888888888888, \"#fdca26\"], [1.0, \"#f0f921\"]], \"sequentialminus\": [[0.0, \"#0d0887\"], [0.1111111111111111, \"#46039f\"], [0.2222222222222222, \"#7201a8\"], [0.3333333333333333, \"#9c179e\"], [0.4444444444444444, \"#bd3786\"], [0.5555555555555556, \"#d8576b\"], [0.6666666666666666, \"#ed7953\"], [0.7777777777777778, \"#fb9f3a\"], [0.8888888888888888, \"#fdca26\"], [1.0, \"#f0f921\"]]}, \"colorway\": [\"#636efa\", \"#EF553B\", \"#00cc96\", \"#ab63fa\", \"#FFA15A\", \"#19d3f3\", \"#FF6692\", \"#B6E880\", \"#FF97FF\", \"#FECB52\"], \"font\": {\"color\": \"#2a3f5f\"}, \"geo\": {\"bgcolor\": \"white\", \"lakecolor\": \"white\", \"landcolor\": \"#E5ECF6\", \"showlakes\": true, \"showland\": true, \"subunitcolor\": \"white\"}, \"hoverlabel\": {\"align\": \"left\"}, \"hovermode\": \"closest\", \"mapbox\": {\"style\": \"light\"}, \"paper_bgcolor\": \"white\", \"plot_bgcolor\": \"#E5ECF6\", \"polar\": {\"angularaxis\": {\"gridcolor\": \"white\", \"linecolor\": \"white\", \"ticks\": \"\"}, \"bgcolor\": \"#E5ECF6\", \"radialaxis\": {\"gridcolor\": \"white\", \"linecolor\": \"white\", \"ticks\": \"\"}}, \"scene\": {\"xaxis\": {\"backgroundcolor\": \"#E5ECF6\", \"gridcolor\": \"white\", \"gridwidth\": 2, \"linecolor\": \"white\", \"showbackground\": true, \"ticks\": \"\", \"zerolinecolor\": \"white\"}, \"yaxis\": {\"backgroundcolor\": \"#E5ECF6\", \"gridcolor\": \"white\", \"gridwidth\": 2, \"linecolor\": \"white\", \"showbackground\": true, \"ticks\": \"\", \"zerolinecolor\": \"white\"}, \"zaxis\": {\"backgroundcolor\": \"#E5ECF6\", \"gridcolor\": \"white\", \"gridwidth\": 2, \"linecolor\": \"white\", \"showbackground\": true, \"ticks\": \"\", \"zerolinecolor\": \"white\"}}, \"shapedefaults\": {\"line\": {\"color\": \"#2a3f5f\"}}, \"ternary\": {\"aaxis\": {\"gridcolor\": \"white\", \"linecolor\": \"white\", \"ticks\": \"\"}, \"baxis\": {\"gridcolor\": \"white\", \"linecolor\": \"white\", \"ticks\": \"\"}, \"bgcolor\": \"#E5ECF6\", \"caxis\": {\"gridcolor\": \"white\", \"linecolor\": \"white\", \"ticks\": \"\"}}, \"title\": {\"x\": 0.05}, \"xaxis\": {\"automargin\": true, \"gridcolor\": \"white\", \"linecolor\": \"white\", \"ticks\": \"\", \"title\": {\"standoff\": 15}, \"zerolinecolor\": \"white\", \"zerolinewidth\": 2}, \"yaxis\": {\"automargin\": true, \"gridcolor\": \"white\", \"linecolor\": \"white\", \"ticks\": \"\", \"title\": {\"standoff\": 15}, \"zerolinecolor\": \"white\", \"zerolinewidth\": 2}}}},                        {\"responsive\": true}                    ).then(function(){\n",
       "                            \n",
       "var gd = document.getElementById('468c82cf-5f9c-4507-b623-97e9a63d3278');\n",
       "var x = new MutationObserver(function (mutations, observer) {{\n",
       "        var display = window.getComputedStyle(gd).display;\n",
       "        if (!display || display === 'none') {{\n",
       "            console.log([gd, 'removed!']);\n",
       "            Plotly.purge(gd);\n",
       "            observer.disconnect();\n",
       "        }}\n",
       "}});\n",
       "\n",
       "// Listen for the removal of the full notebook cells\n",
       "var notebookContainer = gd.closest('#notebook-container');\n",
       "if (notebookContainer) {{\n",
       "    x.observe(notebookContainer, {childList: true});\n",
       "}}\n",
       "\n",
       "// Listen for the clearing of the current output cell\n",
       "var outputEl = gd.closest('.output');\n",
       "if (outputEl) {{\n",
       "    x.observe(outputEl, {childList: true});\n",
       "}}\n",
       "\n",
       "                        })                };                });            </script>        </div>"
      ]
     },
     "metadata": {},
     "output_type": "display_data"
    }
   ],
   "source": [
    "r = [10, 15, 20, 25, 30, 35, 40, 45, 50]\n",
    "\n",
    "trace0 = go.Scatter(\n",
    "    x = r,\n",
    "    y = errorsH1,\n",
    "    mode = 'lines',\n",
    "    name = 'Heuristic1'\n",
    ")\n",
    "\n",
    "trace1 = go.Scatter(\n",
    "    x = r,\n",
    "    y = errorsH2,\n",
    "    mode = 'lines',\n",
    "    name = 'Heuristic2'\n",
    ")\n",
    "\n",
    "data = [trace0, trace1]\n",
    "\n",
    "iplot(data)"
   ]
  }
 ],
 "metadata": {
  "kernelspec": {
   "display_name": "Python 3",
   "language": "python",
   "name": "python3"
  },
  "language_info": {
   "codemirror_mode": {
    "name": "ipython",
    "version": 3
   },
   "file_extension": ".py",
   "mimetype": "text/x-python",
   "name": "python",
   "nbconvert_exporter": "python",
   "pygments_lexer": "ipython3",
   "version": "3.9.4"
  }
 },
 "nbformat": 4,
 "nbformat_minor": 5
}
